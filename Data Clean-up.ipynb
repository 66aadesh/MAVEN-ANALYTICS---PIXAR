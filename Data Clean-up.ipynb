{
 "cells": [
  {
   "cell_type": "markdown",
   "metadata": {},
   "source": [
    "# Import Libraries"
   ]
  },
  {
   "cell_type": "code",
   "execution_count": 22,
   "metadata": {},
   "outputs": [],
   "source": [
    "# Import Libraries\n",
    "\n",
    "import pandas as pd\n",
    "import numpy as np"
   ]
  },
  {
   "cell_type": "markdown",
   "metadata": {},
   "source": [
    "# Import the Data"
   ]
  },
  {
   "cell_type": "code",
   "execution_count": 23,
   "metadata": {},
   "outputs": [],
   "source": [
    "# Import the data\n",
    "\n",
    "academy_df = pd.read_csv(r\"D:\\Power BI Projects\\MAVEN ANALYTICS - PIXAR\\Pixar+Films\\academy.csv\")\n",
    "\n",
    "box_office_df = pd.read_csv(r\"D:\\Power BI Projects\\MAVEN ANALYTICS - PIXAR\\Pixar+Films\\box_office.csv\")\n",
    "\n",
    "genres_df = pd.read_csv(r\"D:\\Power BI Projects\\MAVEN ANALYTICS - PIXAR\\Pixar+Films\\genres.csv\")\n",
    "\n",
    "pixar_data_dict_df = pd.read_csv(r\"D:\\Power BI Projects\\MAVEN ANALYTICS - PIXAR\\Pixar+Films\\pixar_data_dictionary.csv\")\n",
    "\n",
    "pixar_films_df = pd.read_csv(r\"D:\\Power BI Projects\\MAVEN ANALYTICS - PIXAR\\Pixar+Films\\pixar_films.csv\")\n",
    "\n",
    "pixar_people_df = pd.read_csv(r\"D:\\Power BI Projects\\MAVEN ANALYTICS - PIXAR\\Pixar+Films\\pixar_people.csv\")\n",
    "\n",
    "public_response_df = pd.read_csv(r\"D:\\Power BI Projects\\MAVEN ANALYTICS - PIXAR\\Pixar+Films\\public_response.csv\")"
   ]
  },
  {
   "cell_type": "markdown",
   "metadata": {},
   "source": [
    "# academy_df"
   ]
  },
  {
   "cell_type": "code",
   "execution_count": 24,
   "metadata": {},
   "outputs": [],
   "source": [
    "# academy_df"
   ]
  },
  {
   "cell_type": "code",
   "execution_count": 25,
   "metadata": {},
   "outputs": [],
   "source": [
    "# academy_df.info()"
   ]
  },
  {
   "cell_type": "code",
   "execution_count": 26,
   "metadata": {},
   "outputs": [],
   "source": [
    "# academy_df.describe()"
   ]
  },
  {
   "cell_type": "code",
   "execution_count": 27,
   "metadata": {},
   "outputs": [],
   "source": [
    "# status_df\n",
    "\n",
    "status_df = pd.DataFrame({\n",
    "    'status':academy_df['status'].unique()\n",
    "}).reset_index().rename(columns={'index':'status_id'})\n",
    "\n",
    "# status_df"
   ]
  },
  {
   "cell_type": "code",
   "execution_count": 28,
   "metadata": {},
   "outputs": [
    {
     "data": {
      "application/vnd.microsoft.datawrangler.viewer.v0+json": {
       "columns": [
        {
         "name": "index",
         "rawType": "int64",
         "type": "integer"
        },
        {
         "name": "status_id",
         "rawType": "int64",
         "type": "integer"
        },
        {
         "name": "status",
         "rawType": "object",
         "type": "string"
        }
       ],
       "ref": "1e94bade-4084-4e1b-9deb-a884cd7c6642",
       "rows": [
        [
         "0",
         "0",
         "Award not yet introduced"
        ],
        [
         "1",
         "1",
         "Nominated"
        ],
        [
         "2",
         "2",
         "Ineligible"
        ],
        [
         "3",
         "3",
         "Won Special Achievement"
        ],
        [
         "4",
         "4",
         "Won"
        ]
       ],
       "shape": {
        "columns": 2,
        "rows": 5
       }
      },
      "text/html": [
       "<div>\n",
       "<style scoped>\n",
       "    .dataframe tbody tr th:only-of-type {\n",
       "        vertical-align: middle;\n",
       "    }\n",
       "\n",
       "    .dataframe tbody tr th {\n",
       "        vertical-align: top;\n",
       "    }\n",
       "\n",
       "    .dataframe thead th {\n",
       "        text-align: right;\n",
       "    }\n",
       "</style>\n",
       "<table border=\"1\" class=\"dataframe\">\n",
       "  <thead>\n",
       "    <tr style=\"text-align: right;\">\n",
       "      <th></th>\n",
       "      <th>status_id</th>\n",
       "      <th>status</th>\n",
       "    </tr>\n",
       "  </thead>\n",
       "  <tbody>\n",
       "    <tr>\n",
       "      <th>0</th>\n",
       "      <td>0</td>\n",
       "      <td>Award not yet introduced</td>\n",
       "    </tr>\n",
       "    <tr>\n",
       "      <th>1</th>\n",
       "      <td>1</td>\n",
       "      <td>Nominated</td>\n",
       "    </tr>\n",
       "    <tr>\n",
       "      <th>2</th>\n",
       "      <td>2</td>\n",
       "      <td>Ineligible</td>\n",
       "    </tr>\n",
       "    <tr>\n",
       "      <th>3</th>\n",
       "      <td>3</td>\n",
       "      <td>Won Special Achievement</td>\n",
       "    </tr>\n",
       "    <tr>\n",
       "      <th>4</th>\n",
       "      <td>4</td>\n",
       "      <td>Won</td>\n",
       "    </tr>\n",
       "  </tbody>\n",
       "</table>\n",
       "</div>"
      ],
      "text/plain": [
       "   status_id                    status\n",
       "0          0  Award not yet introduced\n",
       "1          1                 Nominated\n",
       "2          2                Ineligible\n",
       "3          3   Won Special Achievement\n",
       "4          4                       Won"
      ]
     },
     "execution_count": 28,
     "metadata": {},
     "output_type": "execute_result"
    }
   ],
   "source": [
    "status_df"
   ]
  },
  {
   "cell_type": "code",
   "execution_count": 29,
   "metadata": {},
   "outputs": [],
   "source": [
    "# award_type_df\n",
    "\n",
    "award_type_df = pd.DataFrame({\n",
    "    'award_type' : academy_df['award_type'].unique()\n",
    "}).reset_index().rename(columns={'index':'award_type_id'})\n",
    "\n",
    "# award_type_df"
   ]
  },
  {
   "cell_type": "code",
   "execution_count": 30,
   "metadata": {},
   "outputs": [],
   "source": [
    "merged_df_10 = academy_df.merge(status_df, on='status', how='inner')\n",
    "\n",
    "academy_df = merged_df_10.drop(columns=['status'])\n",
    "\n",
    "# academy_df"
   ]
  },
  {
   "cell_type": "code",
   "execution_count": 31,
   "metadata": {},
   "outputs": [],
   "source": [
    "merged_df_11 = academy_df.merge(award_type_df, on='award_type', how='inner')\n",
    "\n",
    "academy_df = merged_df_11.drop(columns=['award_type'])\n",
    "\n",
    "# academy_df"
   ]
  },
  {
   "cell_type": "code",
   "execution_count": 32,
   "metadata": {},
   "outputs": [
    {
     "data": {
      "application/vnd.microsoft.datawrangler.viewer.v0+json": {
       "columns": [
        {
         "name": "index",
         "rawType": "int64",
         "type": "integer"
        },
        {
         "name": "film",
         "rawType": "object",
         "type": "string"
        },
        {
         "name": "status_id",
         "rawType": "int64",
         "type": "integer"
        },
        {
         "name": "award_type_id",
         "rawType": "int64",
         "type": "integer"
        }
       ],
       "ref": "8ffdd624-329d-4c9f-86bb-6ab1cc5246fe",
       "rows": [
        [
         "0",
         "Toy Story",
         "0",
         "0"
        ],
        [
         "1",
         "A Bug's Life",
         "0",
         "0"
        ],
        [
         "2",
         "Toy Story 2",
         "0",
         "0"
        ],
        [
         "3",
         "Monsters, Inc.",
         "1",
         "0"
        ],
        [
         "4",
         "Cars",
         "1",
         "0"
        ],
        [
         "5",
         "Incredibles 2",
         "1",
         "0"
        ],
        [
         "6",
         "Onward",
         "1",
         "0"
        ],
        [
         "7",
         "Luca",
         "1",
         "0"
        ],
        [
         "8",
         "Turning Red",
         "1",
         "0"
        ],
        [
         "9",
         "Elemental",
         "1",
         "0"
        ],
        [
         "10",
         "Inside Out 2",
         "1",
         "0"
        ],
        [
         "11",
         "Finding Nemo",
         "4",
         "0"
        ],
        [
         "12",
         "The Incredibles",
         "4",
         "0"
        ],
        [
         "13",
         "Ratatouille",
         "4",
         "0"
        ],
        [
         "14",
         "WALL-E",
         "4",
         "0"
        ],
        [
         "15",
         "Up",
         "4",
         "0"
        ],
        [
         "16",
         "Toy Story 3",
         "4",
         "0"
        ],
        [
         "17",
         "Brave",
         "4",
         "0"
        ],
        [
         "18",
         "Inside Out",
         "4",
         "0"
        ],
        [
         "19",
         "Coco",
         "4",
         "0"
        ],
        [
         "20",
         "Toy Story 4",
         "4",
         "0"
        ],
        [
         "21",
         "Soul",
         "4",
         "0"
        ],
        [
         "22",
         "Toy Story",
         "1",
         "1"
        ],
        [
         "23",
         "Finding Nemo",
         "1",
         "1"
        ],
        [
         "24",
         "The Incredibles",
         "1",
         "1"
        ],
        [
         "25",
         "Ratatouille",
         "1",
         "1"
        ],
        [
         "26",
         "WALL-E",
         "1",
         "1"
        ],
        [
         "27",
         "Up",
         "1",
         "1"
        ],
        [
         "28",
         "Inside Out",
         "1",
         "1"
        ],
        [
         "29",
         "Toy Story 2",
         "2",
         "1"
        ],
        [
         "30",
         "Toy Story 3",
         "2",
         "1"
        ],
        [
         "31",
         "Cars 2",
         "2",
         "1"
        ],
        [
         "32",
         "Monsters University",
         "2",
         "1"
        ],
        [
         "33",
         "Finding Dory",
         "2",
         "1"
        ],
        [
         "34",
         "Cars 3",
         "2",
         "1"
        ],
        [
         "35",
         "Incredibles 2",
         "2",
         "1"
        ],
        [
         "36",
         "Toy Story 4",
         "2",
         "1"
        ],
        [
         "37",
         "Lightyear",
         "2",
         "1"
        ],
        [
         "38",
         "Inside Out 2",
         "2",
         "1"
        ],
        [
         "39",
         "Toy Story",
         "1",
         "3"
        ],
        [
         "40",
         "A Bug's Life",
         "1",
         "3"
        ],
        [
         "41",
         "Monsters, Inc.",
         "1",
         "3"
        ],
        [
         "42",
         "Finding Nemo",
         "1",
         "3"
        ],
        [
         "43",
         "Ratatouille",
         "1",
         "3"
        ],
        [
         "44",
         "WALL-E",
         "1",
         "3"
        ],
        [
         "45",
         "Up",
         "4",
         "3"
        ],
        [
         "46",
         "Soul",
         "4",
         "3"
        ],
        [
         "47",
         "Toy Story",
         "1",
         "4"
        ],
        [
         "48",
         "Toy Story 2",
         "1",
         "4"
        ],
        [
         "49",
         "Cars",
         "1",
         "4"
        ]
       ],
       "shape": {
        "columns": 3,
        "rows": 89
       }
      },
      "text/html": [
       "<div>\n",
       "<style scoped>\n",
       "    .dataframe tbody tr th:only-of-type {\n",
       "        vertical-align: middle;\n",
       "    }\n",
       "\n",
       "    .dataframe tbody tr th {\n",
       "        vertical-align: top;\n",
       "    }\n",
       "\n",
       "    .dataframe thead th {\n",
       "        text-align: right;\n",
       "    }\n",
       "</style>\n",
       "<table border=\"1\" class=\"dataframe\">\n",
       "  <thead>\n",
       "    <tr style=\"text-align: right;\">\n",
       "      <th></th>\n",
       "      <th>film</th>\n",
       "      <th>status_id</th>\n",
       "      <th>award_type_id</th>\n",
       "    </tr>\n",
       "  </thead>\n",
       "  <tbody>\n",
       "    <tr>\n",
       "      <th>0</th>\n",
       "      <td>Toy Story</td>\n",
       "      <td>0</td>\n",
       "      <td>0</td>\n",
       "    </tr>\n",
       "    <tr>\n",
       "      <th>1</th>\n",
       "      <td>A Bug's Life</td>\n",
       "      <td>0</td>\n",
       "      <td>0</td>\n",
       "    </tr>\n",
       "    <tr>\n",
       "      <th>2</th>\n",
       "      <td>Toy Story 2</td>\n",
       "      <td>0</td>\n",
       "      <td>0</td>\n",
       "    </tr>\n",
       "    <tr>\n",
       "      <th>3</th>\n",
       "      <td>Monsters, Inc.</td>\n",
       "      <td>1</td>\n",
       "      <td>0</td>\n",
       "    </tr>\n",
       "    <tr>\n",
       "      <th>4</th>\n",
       "      <td>Cars</td>\n",
       "      <td>1</td>\n",
       "      <td>0</td>\n",
       "    </tr>\n",
       "    <tr>\n",
       "      <th>...</th>\n",
       "      <td>...</td>\n",
       "      <td>...</td>\n",
       "      <td>...</td>\n",
       "    </tr>\n",
       "    <tr>\n",
       "      <th>84</th>\n",
       "      <td>Soul</td>\n",
       "      <td>2</td>\n",
       "      <td>2</td>\n",
       "    </tr>\n",
       "    <tr>\n",
       "      <th>85</th>\n",
       "      <td>Luca</td>\n",
       "      <td>2</td>\n",
       "      <td>2</td>\n",
       "    </tr>\n",
       "    <tr>\n",
       "      <th>86</th>\n",
       "      <td>Turning Red</td>\n",
       "      <td>2</td>\n",
       "      <td>2</td>\n",
       "    </tr>\n",
       "    <tr>\n",
       "      <th>87</th>\n",
       "      <td>Elemental</td>\n",
       "      <td>2</td>\n",
       "      <td>2</td>\n",
       "    </tr>\n",
       "    <tr>\n",
       "      <th>88</th>\n",
       "      <td>Toy Story</td>\n",
       "      <td>3</td>\n",
       "      <td>5</td>\n",
       "    </tr>\n",
       "  </tbody>\n",
       "</table>\n",
       "<p>89 rows × 3 columns</p>\n",
       "</div>"
      ],
      "text/plain": [
       "              film  status_id  award_type_id\n",
       "0        Toy Story          0              0\n",
       "1     A Bug's Life          0              0\n",
       "2      Toy Story 2          0              0\n",
       "3   Monsters, Inc.          1              0\n",
       "4             Cars          1              0\n",
       "..             ...        ...            ...\n",
       "84            Soul          2              2\n",
       "85            Luca          2              2\n",
       "86     Turning Red          2              2\n",
       "87       Elemental          2              2\n",
       "88       Toy Story          3              5\n",
       "\n",
       "[89 rows x 3 columns]"
      ]
     },
     "execution_count": 32,
     "metadata": {},
     "output_type": "execute_result"
    }
   ],
   "source": [
    "academy_df"
   ]
  },
  {
   "cell_type": "code",
   "execution_count": 33,
   "metadata": {},
   "outputs": [
    {
     "data": {
      "application/vnd.microsoft.datawrangler.viewer.v0+json": {
       "columns": [
        {
         "name": "index",
         "rawType": "int64",
         "type": "integer"
        },
        {
         "name": "number",
         "rawType": "int64",
         "type": "integer"
        },
        {
         "name": "film",
         "rawType": "object",
         "type": "string"
        },
        {
         "name": "release_date",
         "rawType": "object",
         "type": "string"
        },
        {
         "name": "run_time",
         "rawType": "int64",
         "type": "integer"
        },
        {
         "name": "film_rating",
         "rawType": "object",
         "type": "string"
        },
        {
         "name": "plot",
         "rawType": "object",
         "type": "string"
        }
       ],
       "ref": "602ca259-59f9-40b1-b1ad-f23a50dd6c17",
       "rows": [
        [
         "0",
         "1",
         "Toy Story",
         "1995-11-22",
         "81",
         "G",
         "A cowboy doll is profoundly threatened and jealous when a new spaceman action figure supplants him as top toy in a boy's bedroom."
        ],
        [
         "1",
         "2",
         "A Bug's Life",
         "1998-11-25",
         "95",
         "G",
         "A misfit ant, looking for \"warriors\" to save his colony from greedy grasshoppers, recruits a group of bugs that turn out to be an inept circus troupe."
        ],
        [
         "2",
         "3",
         "Toy Story 2",
         "1999-11-24",
         "92",
         "G",
         "When Woody is stolen by a toy collector, Buzz and his friends set out on a rescue mission to save Woody before he becomes a museum toy property with his roundup gang Jessie, Prospector, and Bullseye."
        ],
        [
         "3",
         "4",
         "Monsters, Inc.",
         "2001-11-02",
         "92",
         "G",
         "In order to power the city, monsters have to scare children so that they scream. However, the children are toxic to the monsters, and after a child gets through, two monsters realize things may not be what they think."
        ],
        [
         "4",
         "5",
         "Finding Nemo",
         "2003-05-30",
         "100",
         "G",
         "After his son is captured in the Great Barrier Reef and taken to Sydney, a timid clownfish sets out on a journey to bring him home."
        ],
        [
         "5",
         "6",
         "The Incredibles",
         "2004-11-05",
         "115",
         "PG",
         "While trying to lead a quiet suburban life, a family of undercover superheroes are forced into action to save the world."
        ],
        [
         "6",
         "7",
         "Cars",
         "2006-06-09",
         "116",
         "G",
         "On the way to the biggest race of his life, a hotshot rookie race car gets stranded in a rundown town and learns that winning isn't everything in life."
        ],
        [
         "7",
         "8",
         "Ratatouille",
         "2007-06-29",
         "111",
         "G",
         "A rat who can cook makes an unusual alliance with a young kitchen worker at a famous Paris restaurant."
        ],
        [
         "8",
         "9",
         "WALL-E",
         "2008-06-27",
         "98",
         "G",
         "A robot who is responsible for cleaning a waste-covered Earth meets another robot and falls in love with her. Together, they set out on a journey that will alter the fate of mankind."
        ],
        [
         "9",
         "10",
         "Up",
         "2009-05-29",
         "96",
         "PG",
         "78-year-old Carl Fredricksen travels to South America in his house equipped with balloons, inadvertently taking a young stowaway."
        ],
        [
         "10",
         "11",
         "Toy Story 3",
         "2010-06-18",
         "103",
         "G",
         "The toys are mistakenly delivered to a day-care center instead of the attic right before Andy leaves for college, and it's up to Woody to convince the other toys that they weren't abandoned and to return home."
        ],
        [
         "11",
         "12",
         "Cars 2",
         "2011-06-24",
         "106",
         "G",
         "Star race car Lightning McQueen and his pal Mater head overseas to compete in the World Grand Prix race. But the road to the championship becomes rocky as Mater gets caught up in an intriguing adventure of his own: international e..."
        ],
        [
         "12",
         "13",
         "Brave",
         "2012-06-22",
         "93",
         "PG",
         "Determined to make her own path in life, Princess Merida defies a custom that brings chaos to her kingdom. Granted one wish, Merida must rely on her bravery and her archery skills to undo a beastly curse."
        ],
        [
         "13",
         "14",
         "Monsters University",
         "2013-06-21",
         "104",
         "G",
         "A look at the relationship between Mike Wazowski and James P. \"Sully\" Sullivan during their days at Monsters University, when they weren't necessarily the best of friends."
        ],
        [
         "14",
         "15",
         "Inside Out",
         "2015-06-19",
         "95",
         "PG",
         "After young Riley is uprooted from her Midwest life and moved to San Francisco, her emotions - Joy, Fear, Anger, Disgust and Sadness - conflict on how best to navigate a new city, house, and school."
        ],
        [
         "15",
         "16",
         "The Good Dinosaur",
         "2015-11-25",
         "93",
         "PG",
         "In a world where dinosaurs and humans live side-by-side, an Apatosaurus named Arlo makes an unlikely human friend."
        ],
        [
         "16",
         "17",
         "Finding Dory",
         "2016-06-17",
         "97",
         "PG",
         "Friendly but forgetful blue tang Dory begins a search for her long-lost parents and everyone learns a few things about the real meaning of family along the way."
        ],
        [
         "17",
         "18",
         "Cars 3",
         "2017-06-16",
         "102",
         "G",
         "Lightning McQueen sets out to prove to a new generation of racers that he's still the best race car in the world."
        ],
        [
         "18",
         "19",
         "Coco",
         "2017-11-22",
         "105",
         "PG",
         "Aspiring musician Miguel, confronted with his family's ancestral ban on music, enters the Land of the Dead to find his great-great-grandfather, a legendary singer."
        ],
        [
         "19",
         "20",
         "Incredibles 2",
         "2018-06-15",
         "118",
         "PG",
         "The Incredibles family takes on a new mission which involves a change in family roles: Bob Parr (Mr. Incredible) must manage the house while his wife Helen (Elastigirl) goes out to save the world."
        ],
        [
         "20",
         "21",
         "Toy Story 4",
         "2019-06-21",
         "100",
         "G",
         "When a new toy called \"Forky\" joins Woody and the gang, a road trip alongside old and new friends reveals how big the world can be for a toy."
        ],
        [
         "21",
         "22",
         "Onward",
         "2020-03-06",
         "102",
         "PG",
         "Teenage elf brothers Ian and Barley embark on a magical quest to spend one more day with their late father. Like any good adventure, their journey is filled with cryptic maps, impossible obstacles and unimaginable discoveries."
        ],
        [
         "22",
         "23",
         "Soul",
         "2020-12-25",
         "100",
         "PG",
         "Joe is a middle-school band teacher whose life hasn't quite gone the way he expected. His true passion is jazz. But when he travels to another realm to help someone find their passion, he soon discovers what it means to have soul."
        ],
        [
         "23",
         "24",
         "Luca",
         "2021-06-18",
         "95",
         "PG",
         "On the Italian Riviera, an unlikely but strong friendship grows between a human being and a sea monster disguised as a human."
        ],
        [
         "24",
         "25",
         "Turning Red",
         "2022-03-11",
         "100",
         "PG",
         "A thirteen-year-old girl named Mei Lee is torn between staying her mother's dutiful daughter and the changes of adolescence. And as if the challenges were not enough, whenever she gets overly excited she transforms into a giant re..."
        ],
        [
         "25",
         "26",
         "Lightyear",
         "2022-06-17",
         "105",
         "PG",
         "While spending years attempting to return home, marooned Space Ranger Buzz Lightyear encounters an army of ruthless robots commanded by Zurg who are attempting to steal his fuel source."
        ],
        [
         "26",
         "27",
         "Elemental",
         "2023-06-16",
         "101",
         "PG",
         "Follows Ember and Wade, in a city where fire-, water-, earth- and air-residents live together."
        ],
        [
         "27",
         "28",
         "Inside Out 2",
         "2024-06-14",
         "96",
         "PG",
         "A sequel that features Riley entering puberty and experiencing brand new, more complex emotions as a result. As Riley tries to adapt to her teenage years, her old emotions try to adapt to the possibility of being replaced."
        ]
       ],
       "shape": {
        "columns": 6,
        "rows": 28
       }
      },
      "text/html": [
       "<div>\n",
       "<style scoped>\n",
       "    .dataframe tbody tr th:only-of-type {\n",
       "        vertical-align: middle;\n",
       "    }\n",
       "\n",
       "    .dataframe tbody tr th {\n",
       "        vertical-align: top;\n",
       "    }\n",
       "\n",
       "    .dataframe thead th {\n",
       "        text-align: right;\n",
       "    }\n",
       "</style>\n",
       "<table border=\"1\" class=\"dataframe\">\n",
       "  <thead>\n",
       "    <tr style=\"text-align: right;\">\n",
       "      <th></th>\n",
       "      <th>number</th>\n",
       "      <th>film</th>\n",
       "      <th>release_date</th>\n",
       "      <th>run_time</th>\n",
       "      <th>film_rating</th>\n",
       "      <th>plot</th>\n",
       "    </tr>\n",
       "  </thead>\n",
       "  <tbody>\n",
       "    <tr>\n",
       "      <th>0</th>\n",
       "      <td>1</td>\n",
       "      <td>Toy Story</td>\n",
       "      <td>1995-11-22</td>\n",
       "      <td>81</td>\n",
       "      <td>G</td>\n",
       "      <td>A cowboy doll is profoundly threatened and jea...</td>\n",
       "    </tr>\n",
       "    <tr>\n",
       "      <th>1</th>\n",
       "      <td>2</td>\n",
       "      <td>A Bug's Life</td>\n",
       "      <td>1998-11-25</td>\n",
       "      <td>95</td>\n",
       "      <td>G</td>\n",
       "      <td>A misfit ant, looking for \"warriors\" to save h...</td>\n",
       "    </tr>\n",
       "    <tr>\n",
       "      <th>2</th>\n",
       "      <td>3</td>\n",
       "      <td>Toy Story 2</td>\n",
       "      <td>1999-11-24</td>\n",
       "      <td>92</td>\n",
       "      <td>G</td>\n",
       "      <td>When Woody is stolen by a toy collector, Buzz ...</td>\n",
       "    </tr>\n",
       "    <tr>\n",
       "      <th>3</th>\n",
       "      <td>4</td>\n",
       "      <td>Monsters, Inc.</td>\n",
       "      <td>2001-11-02</td>\n",
       "      <td>92</td>\n",
       "      <td>G</td>\n",
       "      <td>In order to power the city, monsters have to s...</td>\n",
       "    </tr>\n",
       "    <tr>\n",
       "      <th>4</th>\n",
       "      <td>5</td>\n",
       "      <td>Finding Nemo</td>\n",
       "      <td>2003-05-30</td>\n",
       "      <td>100</td>\n",
       "      <td>G</td>\n",
       "      <td>After his son is captured in the Great Barrier...</td>\n",
       "    </tr>\n",
       "    <tr>\n",
       "      <th>5</th>\n",
       "      <td>6</td>\n",
       "      <td>The Incredibles</td>\n",
       "      <td>2004-11-05</td>\n",
       "      <td>115</td>\n",
       "      <td>PG</td>\n",
       "      <td>While trying to lead a quiet suburban life, a ...</td>\n",
       "    </tr>\n",
       "    <tr>\n",
       "      <th>6</th>\n",
       "      <td>7</td>\n",
       "      <td>Cars</td>\n",
       "      <td>2006-06-09</td>\n",
       "      <td>116</td>\n",
       "      <td>G</td>\n",
       "      <td>On the way to the biggest race of his life, a ...</td>\n",
       "    </tr>\n",
       "    <tr>\n",
       "      <th>7</th>\n",
       "      <td>8</td>\n",
       "      <td>Ratatouille</td>\n",
       "      <td>2007-06-29</td>\n",
       "      <td>111</td>\n",
       "      <td>G</td>\n",
       "      <td>A rat who can cook makes an unusual alliance w...</td>\n",
       "    </tr>\n",
       "    <tr>\n",
       "      <th>8</th>\n",
       "      <td>9</td>\n",
       "      <td>WALL-E</td>\n",
       "      <td>2008-06-27</td>\n",
       "      <td>98</td>\n",
       "      <td>G</td>\n",
       "      <td>A robot who is responsible for cleaning a wast...</td>\n",
       "    </tr>\n",
       "    <tr>\n",
       "      <th>9</th>\n",
       "      <td>10</td>\n",
       "      <td>Up</td>\n",
       "      <td>2009-05-29</td>\n",
       "      <td>96</td>\n",
       "      <td>PG</td>\n",
       "      <td>78-year-old Carl Fredricksen travels to South ...</td>\n",
       "    </tr>\n",
       "    <tr>\n",
       "      <th>10</th>\n",
       "      <td>11</td>\n",
       "      <td>Toy Story 3</td>\n",
       "      <td>2010-06-18</td>\n",
       "      <td>103</td>\n",
       "      <td>G</td>\n",
       "      <td>The toys are mistakenly delivered to a day-car...</td>\n",
       "    </tr>\n",
       "    <tr>\n",
       "      <th>11</th>\n",
       "      <td>12</td>\n",
       "      <td>Cars 2</td>\n",
       "      <td>2011-06-24</td>\n",
       "      <td>106</td>\n",
       "      <td>G</td>\n",
       "      <td>Star race car Lightning McQueen and his pal Ma...</td>\n",
       "    </tr>\n",
       "    <tr>\n",
       "      <th>12</th>\n",
       "      <td>13</td>\n",
       "      <td>Brave</td>\n",
       "      <td>2012-06-22</td>\n",
       "      <td>93</td>\n",
       "      <td>PG</td>\n",
       "      <td>Determined to make her own path in life, Princ...</td>\n",
       "    </tr>\n",
       "    <tr>\n",
       "      <th>13</th>\n",
       "      <td>14</td>\n",
       "      <td>Monsters University</td>\n",
       "      <td>2013-06-21</td>\n",
       "      <td>104</td>\n",
       "      <td>G</td>\n",
       "      <td>A look at the relationship between Mike Wazows...</td>\n",
       "    </tr>\n",
       "    <tr>\n",
       "      <th>14</th>\n",
       "      <td>15</td>\n",
       "      <td>Inside Out</td>\n",
       "      <td>2015-06-19</td>\n",
       "      <td>95</td>\n",
       "      <td>PG</td>\n",
       "      <td>After young Riley is uprooted from her Midwest...</td>\n",
       "    </tr>\n",
       "    <tr>\n",
       "      <th>15</th>\n",
       "      <td>16</td>\n",
       "      <td>The Good Dinosaur</td>\n",
       "      <td>2015-11-25</td>\n",
       "      <td>93</td>\n",
       "      <td>PG</td>\n",
       "      <td>In a world where dinosaurs and humans live sid...</td>\n",
       "    </tr>\n",
       "    <tr>\n",
       "      <th>16</th>\n",
       "      <td>17</td>\n",
       "      <td>Finding Dory</td>\n",
       "      <td>2016-06-17</td>\n",
       "      <td>97</td>\n",
       "      <td>PG</td>\n",
       "      <td>Friendly but forgetful blue tang Dory begins a...</td>\n",
       "    </tr>\n",
       "    <tr>\n",
       "      <th>17</th>\n",
       "      <td>18</td>\n",
       "      <td>Cars 3</td>\n",
       "      <td>2017-06-16</td>\n",
       "      <td>102</td>\n",
       "      <td>G</td>\n",
       "      <td>Lightning McQueen sets out to prove to a new g...</td>\n",
       "    </tr>\n",
       "    <tr>\n",
       "      <th>18</th>\n",
       "      <td>19</td>\n",
       "      <td>Coco</td>\n",
       "      <td>2017-11-22</td>\n",
       "      <td>105</td>\n",
       "      <td>PG</td>\n",
       "      <td>Aspiring musician Miguel, confronted with his ...</td>\n",
       "    </tr>\n",
       "    <tr>\n",
       "      <th>19</th>\n",
       "      <td>20</td>\n",
       "      <td>Incredibles 2</td>\n",
       "      <td>2018-06-15</td>\n",
       "      <td>118</td>\n",
       "      <td>PG</td>\n",
       "      <td>The Incredibles family takes on a new mission ...</td>\n",
       "    </tr>\n",
       "    <tr>\n",
       "      <th>20</th>\n",
       "      <td>21</td>\n",
       "      <td>Toy Story 4</td>\n",
       "      <td>2019-06-21</td>\n",
       "      <td>100</td>\n",
       "      <td>G</td>\n",
       "      <td>When a new toy called \"Forky\" joins Woody and ...</td>\n",
       "    </tr>\n",
       "    <tr>\n",
       "      <th>21</th>\n",
       "      <td>22</td>\n",
       "      <td>Onward</td>\n",
       "      <td>2020-03-06</td>\n",
       "      <td>102</td>\n",
       "      <td>PG</td>\n",
       "      <td>Teenage elf brothers Ian and Barley embark on ...</td>\n",
       "    </tr>\n",
       "    <tr>\n",
       "      <th>22</th>\n",
       "      <td>23</td>\n",
       "      <td>Soul</td>\n",
       "      <td>2020-12-25</td>\n",
       "      <td>100</td>\n",
       "      <td>PG</td>\n",
       "      <td>Joe is a middle-school band teacher whose life...</td>\n",
       "    </tr>\n",
       "    <tr>\n",
       "      <th>23</th>\n",
       "      <td>24</td>\n",
       "      <td>Luca</td>\n",
       "      <td>2021-06-18</td>\n",
       "      <td>95</td>\n",
       "      <td>PG</td>\n",
       "      <td>On the Italian Riviera, an unlikely but strong...</td>\n",
       "    </tr>\n",
       "    <tr>\n",
       "      <th>24</th>\n",
       "      <td>25</td>\n",
       "      <td>Turning Red</td>\n",
       "      <td>2022-03-11</td>\n",
       "      <td>100</td>\n",
       "      <td>PG</td>\n",
       "      <td>A thirteen-year-old girl named Mei Lee is torn...</td>\n",
       "    </tr>\n",
       "    <tr>\n",
       "      <th>25</th>\n",
       "      <td>26</td>\n",
       "      <td>Lightyear</td>\n",
       "      <td>2022-06-17</td>\n",
       "      <td>105</td>\n",
       "      <td>PG</td>\n",
       "      <td>While spending years attempting to return home...</td>\n",
       "    </tr>\n",
       "    <tr>\n",
       "      <th>26</th>\n",
       "      <td>27</td>\n",
       "      <td>Elemental</td>\n",
       "      <td>2023-06-16</td>\n",
       "      <td>101</td>\n",
       "      <td>PG</td>\n",
       "      <td>Follows Ember and Wade, in a city where fire-,...</td>\n",
       "    </tr>\n",
       "    <tr>\n",
       "      <th>27</th>\n",
       "      <td>28</td>\n",
       "      <td>Inside Out 2</td>\n",
       "      <td>2024-06-14</td>\n",
       "      <td>96</td>\n",
       "      <td>PG</td>\n",
       "      <td>A sequel that features Riley entering puberty ...</td>\n",
       "    </tr>\n",
       "  </tbody>\n",
       "</table>\n",
       "</div>"
      ],
      "text/plain": [
       "    number                 film release_date  run_time film_rating  \\\n",
       "0        1            Toy Story   1995-11-22        81           G   \n",
       "1        2         A Bug's Life   1998-11-25        95           G   \n",
       "2        3          Toy Story 2   1999-11-24        92           G   \n",
       "3        4       Monsters, Inc.   2001-11-02        92           G   \n",
       "4        5         Finding Nemo   2003-05-30       100           G   \n",
       "5        6      The Incredibles   2004-11-05       115          PG   \n",
       "6        7                 Cars   2006-06-09       116           G   \n",
       "7        8          Ratatouille   2007-06-29       111           G   \n",
       "8        9               WALL-E   2008-06-27        98           G   \n",
       "9       10                   Up   2009-05-29        96          PG   \n",
       "10      11          Toy Story 3   2010-06-18       103           G   \n",
       "11      12               Cars 2   2011-06-24       106           G   \n",
       "12      13                Brave   2012-06-22        93          PG   \n",
       "13      14  Monsters University   2013-06-21       104           G   \n",
       "14      15           Inside Out   2015-06-19        95          PG   \n",
       "15      16    The Good Dinosaur   2015-11-25        93          PG   \n",
       "16      17         Finding Dory   2016-06-17        97          PG   \n",
       "17      18               Cars 3   2017-06-16       102           G   \n",
       "18      19                 Coco   2017-11-22       105          PG   \n",
       "19      20        Incredibles 2   2018-06-15       118          PG   \n",
       "20      21          Toy Story 4   2019-06-21       100           G   \n",
       "21      22               Onward   2020-03-06       102          PG   \n",
       "22      23                 Soul   2020-12-25       100          PG   \n",
       "23      24                 Luca   2021-06-18        95          PG   \n",
       "24      25          Turning Red   2022-03-11       100          PG   \n",
       "25      26            Lightyear   2022-06-17       105          PG   \n",
       "26      27            Elemental   2023-06-16       101          PG   \n",
       "27      28         Inside Out 2   2024-06-14        96          PG   \n",
       "\n",
       "                                                 plot  \n",
       "0   A cowboy doll is profoundly threatened and jea...  \n",
       "1   A misfit ant, looking for \"warriors\" to save h...  \n",
       "2   When Woody is stolen by a toy collector, Buzz ...  \n",
       "3   In order to power the city, monsters have to s...  \n",
       "4   After his son is captured in the Great Barrier...  \n",
       "5   While trying to lead a quiet suburban life, a ...  \n",
       "6   On the way to the biggest race of his life, a ...  \n",
       "7   A rat who can cook makes an unusual alliance w...  \n",
       "8   A robot who is responsible for cleaning a wast...  \n",
       "9   78-year-old Carl Fredricksen travels to South ...  \n",
       "10  The toys are mistakenly delivered to a day-car...  \n",
       "11  Star race car Lightning McQueen and his pal Ma...  \n",
       "12  Determined to make her own path in life, Princ...  \n",
       "13  A look at the relationship between Mike Wazows...  \n",
       "14  After young Riley is uprooted from her Midwest...  \n",
       "15  In a world where dinosaurs and humans live sid...  \n",
       "16  Friendly but forgetful blue tang Dory begins a...  \n",
       "17  Lightning McQueen sets out to prove to a new g...  \n",
       "18  Aspiring musician Miguel, confronted with his ...  \n",
       "19  The Incredibles family takes on a new mission ...  \n",
       "20  When a new toy called \"Forky\" joins Woody and ...  \n",
       "21  Teenage elf brothers Ian and Barley embark on ...  \n",
       "22  Joe is a middle-school band teacher whose life...  \n",
       "23  On the Italian Riviera, an unlikely but strong...  \n",
       "24  A thirteen-year-old girl named Mei Lee is torn...  \n",
       "25  While spending years attempting to return home...  \n",
       "26  Follows Ember and Wade, in a city where fire-,...  \n",
       "27  A sequel that features Riley entering puberty ...  "
      ]
     },
     "execution_count": 33,
     "metadata": {},
     "output_type": "execute_result"
    }
   ],
   "source": [
    "pixar_films_df"
   ]
  },
  {
   "cell_type": "code",
   "execution_count": 39,
   "metadata": {},
   "outputs": [],
   "source": [
    "merged_df_12 = academy_df.merge(pixar_films_df, on='film', how='inner')\n",
    "\n",
    "academy_df = merged_df_12.drop(columns=['film', 'release_date', 'run_time', 'plot', 'film_rating_id'])\n",
    "\n",
    "# academy_df"
   ]
  },
  {
   "cell_type": "code",
   "execution_count": null,
   "metadata": {},
   "outputs": [],
   "source": [
    "# academy_df.to_csv(\"academy.csv\", index=False)\n",
    "\n",
    "# status_df.to_csv(\"academy_status.csv\", index=False)\n",
    "\n",
    "# award_type_df.to_csv(\"academy_type.csv\", index=False)"
   ]
  },
  {
   "cell_type": "markdown",
   "metadata": {},
   "source": [
    "# box_office_df"
   ]
  },
  {
   "cell_type": "code",
   "execution_count": 40,
   "metadata": {},
   "outputs": [],
   "source": [
    "# box_office_df"
   ]
  },
  {
   "cell_type": "code",
   "execution_count": 41,
   "metadata": {},
   "outputs": [],
   "source": [
    "# box_office_df.info()"
   ]
  },
  {
   "cell_type": "code",
   "execution_count": 42,
   "metadata": {},
   "outputs": [],
   "source": [
    "# box_office_df.describe()"
   ]
  },
  {
   "cell_type": "code",
   "execution_count": 43,
   "metadata": {},
   "outputs": [],
   "source": [
    "# Fill the NaN value with the mean of the column\n",
    "\n",
    "box_office_df['budget'] = box_office_df['budget'].fillna(box_office_df['budget'].mean())"
   ]
  },
  {
   "cell_type": "code",
   "execution_count": 44,
   "metadata": {},
   "outputs": [],
   "source": [
    "# Fixing the Datatype\n",
    "\n",
    "box_office_df['box_office_us_canada'] = box_office_df['box_office_us_canada'].astype('float64')\n",
    "\n",
    "box_office_df['box_office_other'] = box_office_df['box_office_other'].astype('float64')\n",
    "\n",
    "box_office_df['box_office_worldwide'] = box_office_df['box_office_worldwide'].astype('float64')"
   ]
  },
  {
   "cell_type": "code",
   "execution_count": 45,
   "metadata": {},
   "outputs": [],
   "source": [
    "# box_office_df"
   ]
  },
  {
   "cell_type": "code",
   "execution_count": 46,
   "metadata": {},
   "outputs": [],
   "source": [
    "merged_df_7 = box_office_df.merge(pixar_films_df, on='film', how='inner')\n",
    "\n",
    "box_office_df = merged_df_7.drop(columns=['film', 'release_date', 'run_time', 'plot', 'film_rating_id'])\n",
    "\n",
    "# box_office_df"
   ]
  },
  {
   "cell_type": "code",
   "execution_count": 47,
   "metadata": {},
   "outputs": [],
   "source": [
    "# box_office_df.to_csv(\"box_office.csv\", index=False)"
   ]
  },
  {
   "cell_type": "markdown",
   "metadata": {},
   "source": [
    "# genres_df"
   ]
  },
  {
   "cell_type": "code",
   "execution_count": 48,
   "metadata": {},
   "outputs": [],
   "source": [
    "# genres_df"
   ]
  },
  {
   "cell_type": "code",
   "execution_count": 49,
   "metadata": {},
   "outputs": [],
   "source": [
    "# genres_df.info()"
   ]
  },
  {
   "cell_type": "code",
   "execution_count": 50,
   "metadata": {},
   "outputs": [],
   "source": [
    "# genres_df.describe()"
   ]
  },
  {
   "cell_type": "code",
   "execution_count": 51,
   "metadata": {},
   "outputs": [],
   "source": [
    "genre_category = pd.DataFrame({\n",
    "    'category':genres_df['category'].unique()\n",
    "}).reset_index().rename(columns={'index':'category_id'})\n",
    "\n",
    "# genre_category"
   ]
  },
  {
   "cell_type": "code",
   "execution_count": 55,
   "metadata": {},
   "outputs": [
    {
     "data": {
      "application/vnd.microsoft.datawrangler.viewer.v0+json": {
       "columns": [
        {
         "name": "index",
         "rawType": "int64",
         "type": "integer"
        },
        {
         "name": "value",
         "rawType": "object",
         "type": "string"
        },
        {
         "name": "category",
         "rawType": "object",
         "type": "string"
        },
        {
         "name": "genre_value_id",
         "rawType": "int64",
         "type": "integer"
        }
       ],
       "ref": "81ed6779-cca1-4578-a0dc-2337da924905",
       "rows": [
        [
         "0",
         "Adventure",
         "Genre",
         "0"
        ],
        [
         "1",
         "Animation",
         "Genre",
         "1"
        ],
        [
         "2",
         "Comedy",
         "Genre",
         "2"
        ],
        [
         "3",
         "Buddy Comedy",
         "Subgenre",
         "3"
        ],
        [
         "4",
         "Computer Animation",
         "Subgenre",
         "4"
        ],
        [
         "5",
         "Fantasy",
         "Subgenre",
         "5"
        ],
        [
         "6",
         "Supernatural Fantasy",
         "Subgenre",
         "6"
        ],
        [
         "7",
         "Urban Adventure",
         "Subgenre",
         "7"
        ],
        [
         "8",
         "Animal Adventure",
         "Subgenre",
         "8"
        ],
        [
         "9",
         "Quest",
         "Subgenre",
         "9"
        ],
        [
         "10",
         "Sea Adventure",
         "Subgenre",
         "10"
        ],
        [
         "11",
         "Action",
         "Genre",
         "11"
        ],
        [
         "12",
         "Superhero",
         "Subgenre",
         "12"
        ],
        [
         "13",
         "Motorsport",
         "Subgenre",
         "13"
        ],
        [
         "14",
         "Sport",
         "Subgenre",
         "14"
        ],
        [
         "15",
         "Family",
         "Genre",
         "15"
        ],
        [
         "16",
         "Adventure Epic",
         "Subgenre",
         "16"
        ],
        [
         "17",
         "Artificial Intelligence",
         "Subgenre",
         "17"
        ],
        [
         "18",
         "Dystopian Sci-Fi",
         "Subgenre",
         "18"
        ],
        [
         "19",
         "Sci-Fi",
         "Subgenre",
         "19"
        ],
        [
         "20",
         "Space Sci-Fi",
         "Subgenre",
         "20"
        ],
        [
         "21",
         "Coming-of-Age",
         "Subgenre",
         "21"
        ],
        [
         "22",
         "Globetrotting Adventure",
         "Subgenre",
         "22"
        ],
        [
         "23",
         "Car Action",
         "Subgenre",
         "23"
        ],
        [
         "24",
         "Crime",
         "Subgenre",
         "24"
        ],
        [
         "25",
         "Spy",
         "Subgenre",
         "25"
        ],
        [
         "26",
         "Fairy Tale",
         "Subgenre",
         "26"
        ],
        [
         "27",
         "Sword & Sorcery",
         "Subgenre",
         "27"
        ],
        [
         "28",
         "Teen Adventure",
         "Subgenre",
         "28"
        ],
        [
         "29",
         "Dinosaur Adventure",
         "Subgenre",
         "29"
        ],
        [
         "30",
         "Drama",
         "Genre",
         "30"
        ],
        [
         "31",
         "Music",
         "Subgenre",
         "31"
        ],
        [
         "32",
         "Mystery",
         "Subgenre",
         "32"
        ],
        [
         "33",
         "Road Trip",
         "Subgenre",
         "33"
        ],
        [
         "34",
         "Fantasy Epic",
         "Subgenre",
         "34"
        ],
        [
         "35",
         "Teen Comedy",
         "Subgenre",
         "35"
        ],
        [
         "36",
         "Time Travel",
         "Subgenre",
         "36"
        ],
        [
         "37",
         "Romance",
         "Subgenre",
         "37"
        ],
        [
         "38",
         "Teen Drama",
         "Subgenre",
         "38"
        ]
       ],
       "shape": {
        "columns": 3,
        "rows": 39
       }
      },
      "text/html": [
       "<div>\n",
       "<style scoped>\n",
       "    .dataframe tbody tr th:only-of-type {\n",
       "        vertical-align: middle;\n",
       "    }\n",
       "\n",
       "    .dataframe tbody tr th {\n",
       "        vertical-align: top;\n",
       "    }\n",
       "\n",
       "    .dataframe thead th {\n",
       "        text-align: right;\n",
       "    }\n",
       "</style>\n",
       "<table border=\"1\" class=\"dataframe\">\n",
       "  <thead>\n",
       "    <tr style=\"text-align: right;\">\n",
       "      <th></th>\n",
       "      <th>value</th>\n",
       "      <th>category</th>\n",
       "      <th>genre_value_id</th>\n",
       "    </tr>\n",
       "  </thead>\n",
       "  <tbody>\n",
       "    <tr>\n",
       "      <th>0</th>\n",
       "      <td>Adventure</td>\n",
       "      <td>Genre</td>\n",
       "      <td>0</td>\n",
       "    </tr>\n",
       "    <tr>\n",
       "      <th>1</th>\n",
       "      <td>Animation</td>\n",
       "      <td>Genre</td>\n",
       "      <td>1</td>\n",
       "    </tr>\n",
       "    <tr>\n",
       "      <th>2</th>\n",
       "      <td>Comedy</td>\n",
       "      <td>Genre</td>\n",
       "      <td>2</td>\n",
       "    </tr>\n",
       "    <tr>\n",
       "      <th>3</th>\n",
       "      <td>Buddy Comedy</td>\n",
       "      <td>Subgenre</td>\n",
       "      <td>3</td>\n",
       "    </tr>\n",
       "    <tr>\n",
       "      <th>4</th>\n",
       "      <td>Computer Animation</td>\n",
       "      <td>Subgenre</td>\n",
       "      <td>4</td>\n",
       "    </tr>\n",
       "    <tr>\n",
       "      <th>5</th>\n",
       "      <td>Fantasy</td>\n",
       "      <td>Subgenre</td>\n",
       "      <td>5</td>\n",
       "    </tr>\n",
       "    <tr>\n",
       "      <th>6</th>\n",
       "      <td>Supernatural Fantasy</td>\n",
       "      <td>Subgenre</td>\n",
       "      <td>6</td>\n",
       "    </tr>\n",
       "    <tr>\n",
       "      <th>7</th>\n",
       "      <td>Urban Adventure</td>\n",
       "      <td>Subgenre</td>\n",
       "      <td>7</td>\n",
       "    </tr>\n",
       "    <tr>\n",
       "      <th>8</th>\n",
       "      <td>Animal Adventure</td>\n",
       "      <td>Subgenre</td>\n",
       "      <td>8</td>\n",
       "    </tr>\n",
       "    <tr>\n",
       "      <th>9</th>\n",
       "      <td>Quest</td>\n",
       "      <td>Subgenre</td>\n",
       "      <td>9</td>\n",
       "    </tr>\n",
       "    <tr>\n",
       "      <th>10</th>\n",
       "      <td>Sea Adventure</td>\n",
       "      <td>Subgenre</td>\n",
       "      <td>10</td>\n",
       "    </tr>\n",
       "    <tr>\n",
       "      <th>11</th>\n",
       "      <td>Action</td>\n",
       "      <td>Genre</td>\n",
       "      <td>11</td>\n",
       "    </tr>\n",
       "    <tr>\n",
       "      <th>12</th>\n",
       "      <td>Superhero</td>\n",
       "      <td>Subgenre</td>\n",
       "      <td>12</td>\n",
       "    </tr>\n",
       "    <tr>\n",
       "      <th>13</th>\n",
       "      <td>Motorsport</td>\n",
       "      <td>Subgenre</td>\n",
       "      <td>13</td>\n",
       "    </tr>\n",
       "    <tr>\n",
       "      <th>14</th>\n",
       "      <td>Sport</td>\n",
       "      <td>Subgenre</td>\n",
       "      <td>14</td>\n",
       "    </tr>\n",
       "    <tr>\n",
       "      <th>15</th>\n",
       "      <td>Family</td>\n",
       "      <td>Genre</td>\n",
       "      <td>15</td>\n",
       "    </tr>\n",
       "    <tr>\n",
       "      <th>16</th>\n",
       "      <td>Adventure Epic</td>\n",
       "      <td>Subgenre</td>\n",
       "      <td>16</td>\n",
       "    </tr>\n",
       "    <tr>\n",
       "      <th>17</th>\n",
       "      <td>Artificial Intelligence</td>\n",
       "      <td>Subgenre</td>\n",
       "      <td>17</td>\n",
       "    </tr>\n",
       "    <tr>\n",
       "      <th>18</th>\n",
       "      <td>Dystopian Sci-Fi</td>\n",
       "      <td>Subgenre</td>\n",
       "      <td>18</td>\n",
       "    </tr>\n",
       "    <tr>\n",
       "      <th>19</th>\n",
       "      <td>Sci-Fi</td>\n",
       "      <td>Subgenre</td>\n",
       "      <td>19</td>\n",
       "    </tr>\n",
       "    <tr>\n",
       "      <th>20</th>\n",
       "      <td>Space Sci-Fi</td>\n",
       "      <td>Subgenre</td>\n",
       "      <td>20</td>\n",
       "    </tr>\n",
       "    <tr>\n",
       "      <th>21</th>\n",
       "      <td>Coming-of-Age</td>\n",
       "      <td>Subgenre</td>\n",
       "      <td>21</td>\n",
       "    </tr>\n",
       "    <tr>\n",
       "      <th>22</th>\n",
       "      <td>Globetrotting Adventure</td>\n",
       "      <td>Subgenre</td>\n",
       "      <td>22</td>\n",
       "    </tr>\n",
       "    <tr>\n",
       "      <th>23</th>\n",
       "      <td>Car Action</td>\n",
       "      <td>Subgenre</td>\n",
       "      <td>23</td>\n",
       "    </tr>\n",
       "    <tr>\n",
       "      <th>24</th>\n",
       "      <td>Crime</td>\n",
       "      <td>Subgenre</td>\n",
       "      <td>24</td>\n",
       "    </tr>\n",
       "    <tr>\n",
       "      <th>25</th>\n",
       "      <td>Spy</td>\n",
       "      <td>Subgenre</td>\n",
       "      <td>25</td>\n",
       "    </tr>\n",
       "    <tr>\n",
       "      <th>26</th>\n",
       "      <td>Fairy Tale</td>\n",
       "      <td>Subgenre</td>\n",
       "      <td>26</td>\n",
       "    </tr>\n",
       "    <tr>\n",
       "      <th>27</th>\n",
       "      <td>Sword &amp; Sorcery</td>\n",
       "      <td>Subgenre</td>\n",
       "      <td>27</td>\n",
       "    </tr>\n",
       "    <tr>\n",
       "      <th>28</th>\n",
       "      <td>Teen Adventure</td>\n",
       "      <td>Subgenre</td>\n",
       "      <td>28</td>\n",
       "    </tr>\n",
       "    <tr>\n",
       "      <th>29</th>\n",
       "      <td>Dinosaur Adventure</td>\n",
       "      <td>Subgenre</td>\n",
       "      <td>29</td>\n",
       "    </tr>\n",
       "    <tr>\n",
       "      <th>30</th>\n",
       "      <td>Drama</td>\n",
       "      <td>Genre</td>\n",
       "      <td>30</td>\n",
       "    </tr>\n",
       "    <tr>\n",
       "      <th>31</th>\n",
       "      <td>Music</td>\n",
       "      <td>Subgenre</td>\n",
       "      <td>31</td>\n",
       "    </tr>\n",
       "    <tr>\n",
       "      <th>32</th>\n",
       "      <td>Mystery</td>\n",
       "      <td>Subgenre</td>\n",
       "      <td>32</td>\n",
       "    </tr>\n",
       "    <tr>\n",
       "      <th>33</th>\n",
       "      <td>Road Trip</td>\n",
       "      <td>Subgenre</td>\n",
       "      <td>33</td>\n",
       "    </tr>\n",
       "    <tr>\n",
       "      <th>34</th>\n",
       "      <td>Fantasy Epic</td>\n",
       "      <td>Subgenre</td>\n",
       "      <td>34</td>\n",
       "    </tr>\n",
       "    <tr>\n",
       "      <th>35</th>\n",
       "      <td>Teen Comedy</td>\n",
       "      <td>Subgenre</td>\n",
       "      <td>35</td>\n",
       "    </tr>\n",
       "    <tr>\n",
       "      <th>36</th>\n",
       "      <td>Time Travel</td>\n",
       "      <td>Subgenre</td>\n",
       "      <td>36</td>\n",
       "    </tr>\n",
       "    <tr>\n",
       "      <th>37</th>\n",
       "      <td>Romance</td>\n",
       "      <td>Subgenre</td>\n",
       "      <td>37</td>\n",
       "    </tr>\n",
       "    <tr>\n",
       "      <th>38</th>\n",
       "      <td>Teen Drama</td>\n",
       "      <td>Subgenre</td>\n",
       "      <td>38</td>\n",
       "    </tr>\n",
       "  </tbody>\n",
       "</table>\n",
       "</div>"
      ],
      "text/plain": [
       "                      value  category  genre_value_id\n",
       "0                 Adventure     Genre               0\n",
       "1                 Animation     Genre               1\n",
       "2                    Comedy     Genre               2\n",
       "3              Buddy Comedy  Subgenre               3\n",
       "4        Computer Animation  Subgenre               4\n",
       "5                   Fantasy  Subgenre               5\n",
       "6      Supernatural Fantasy  Subgenre               6\n",
       "7           Urban Adventure  Subgenre               7\n",
       "8          Animal Adventure  Subgenre               8\n",
       "9                     Quest  Subgenre               9\n",
       "10            Sea Adventure  Subgenre              10\n",
       "11                   Action     Genre              11\n",
       "12                Superhero  Subgenre              12\n",
       "13               Motorsport  Subgenre              13\n",
       "14                    Sport  Subgenre              14\n",
       "15                   Family     Genre              15\n",
       "16           Adventure Epic  Subgenre              16\n",
       "17  Artificial Intelligence  Subgenre              17\n",
       "18         Dystopian Sci-Fi  Subgenre              18\n",
       "19                   Sci-Fi  Subgenre              19\n",
       "20             Space Sci-Fi  Subgenre              20\n",
       "21            Coming-of-Age  Subgenre              21\n",
       "22  Globetrotting Adventure  Subgenre              22\n",
       "23               Car Action  Subgenre              23\n",
       "24                    Crime  Subgenre              24\n",
       "25                      Spy  Subgenre              25\n",
       "26               Fairy Tale  Subgenre              26\n",
       "27          Sword & Sorcery  Subgenre              27\n",
       "28           Teen Adventure  Subgenre              28\n",
       "29       Dinosaur Adventure  Subgenre              29\n",
       "30                    Drama     Genre              30\n",
       "31                    Music  Subgenre              31\n",
       "32                  Mystery  Subgenre              32\n",
       "33                Road Trip  Subgenre              33\n",
       "34             Fantasy Epic  Subgenre              34\n",
       "35              Teen Comedy  Subgenre              35\n",
       "36              Time Travel  Subgenre              36\n",
       "37                  Romance  Subgenre              37\n",
       "38               Teen Drama  Subgenre              38"
      ]
     },
     "execution_count": 55,
     "metadata": {},
     "output_type": "execute_result"
    }
   ],
   "source": [
    "genre_values = genres_df[['value', 'category']].drop_duplicates().reset_index(drop=True)\n",
    "genre_values['genre_value_id'] = genre_values.index\n",
    "\n",
    "genre_values"
   ]
  },
  {
   "cell_type": "code",
   "execution_count": 57,
   "metadata": {},
   "outputs": [
    {
     "data": {
      "application/vnd.microsoft.datawrangler.viewer.v0+json": {
       "columns": [
        {
         "name": "index",
         "rawType": "int64",
         "type": "integer"
        },
        {
         "name": "value",
         "rawType": "object",
         "type": "string"
        },
        {
         "name": "category",
         "rawType": "object",
         "type": "string"
        },
        {
         "name": "category_id",
         "rawType": "int64",
         "type": "integer"
        },
        {
         "name": "genre_value_id",
         "rawType": "int64",
         "type": "integer"
        }
       ],
       "ref": "0b5c5f27-a93f-49b9-be7b-49a6658d2a67",
       "rows": [
        [
         "0",
         "Adventure",
         "Genre",
         "0",
         "0"
        ],
        [
         "1",
         "Animation",
         "Genre",
         "0",
         "1"
        ],
        [
         "2",
         "Comedy",
         "Genre",
         "0",
         "2"
        ],
        [
         "3",
         "Buddy Comedy",
         "Subgenre",
         "1",
         "3"
        ],
        [
         "4",
         "Computer Animation",
         "Subgenre",
         "1",
         "4"
        ],
        [
         "5",
         "Fantasy",
         "Subgenre",
         "1",
         "5"
        ],
        [
         "6",
         "Supernatural Fantasy",
         "Subgenre",
         "1",
         "6"
        ],
        [
         "7",
         "Urban Adventure",
         "Subgenre",
         "1",
         "7"
        ],
        [
         "8",
         "Animal Adventure",
         "Subgenre",
         "1",
         "8"
        ],
        [
         "9",
         "Quest",
         "Subgenre",
         "1",
         "9"
        ],
        [
         "10",
         "Sea Adventure",
         "Subgenre",
         "1",
         "10"
        ],
        [
         "11",
         "Action",
         "Genre",
         "0",
         "11"
        ],
        [
         "12",
         "Superhero",
         "Subgenre",
         "1",
         "12"
        ],
        [
         "13",
         "Motorsport",
         "Subgenre",
         "1",
         "13"
        ],
        [
         "14",
         "Sport",
         "Subgenre",
         "1",
         "14"
        ],
        [
         "15",
         "Family",
         "Genre",
         "0",
         "15"
        ],
        [
         "16",
         "Adventure Epic",
         "Subgenre",
         "1",
         "16"
        ],
        [
         "17",
         "Artificial Intelligence",
         "Subgenre",
         "1",
         "17"
        ],
        [
         "18",
         "Dystopian Sci-Fi",
         "Subgenre",
         "1",
         "18"
        ],
        [
         "19",
         "Sci-Fi",
         "Subgenre",
         "1",
         "19"
        ],
        [
         "20",
         "Space Sci-Fi",
         "Subgenre",
         "1",
         "20"
        ],
        [
         "21",
         "Coming-of-Age",
         "Subgenre",
         "1",
         "21"
        ],
        [
         "22",
         "Globetrotting Adventure",
         "Subgenre",
         "1",
         "22"
        ],
        [
         "23",
         "Car Action",
         "Subgenre",
         "1",
         "23"
        ],
        [
         "24",
         "Crime",
         "Subgenre",
         "1",
         "24"
        ],
        [
         "25",
         "Spy",
         "Subgenre",
         "1",
         "25"
        ],
        [
         "26",
         "Fairy Tale",
         "Subgenre",
         "1",
         "26"
        ],
        [
         "27",
         "Sword & Sorcery",
         "Subgenre",
         "1",
         "27"
        ],
        [
         "28",
         "Teen Adventure",
         "Subgenre",
         "1",
         "28"
        ],
        [
         "29",
         "Dinosaur Adventure",
         "Subgenre",
         "1",
         "29"
        ],
        [
         "30",
         "Drama",
         "Genre",
         "0",
         "30"
        ],
        [
         "31",
         "Music",
         "Subgenre",
         "1",
         "31"
        ],
        [
         "32",
         "Mystery",
         "Subgenre",
         "1",
         "32"
        ],
        [
         "33",
         "Road Trip",
         "Subgenre",
         "1",
         "33"
        ],
        [
         "34",
         "Fantasy Epic",
         "Subgenre",
         "1",
         "34"
        ],
        [
         "35",
         "Teen Comedy",
         "Subgenre",
         "1",
         "35"
        ],
        [
         "36",
         "Time Travel",
         "Subgenre",
         "1",
         "36"
        ],
        [
         "37",
         "Romance",
         "Subgenre",
         "1",
         "37"
        ],
        [
         "38",
         "Teen Drama",
         "Subgenre",
         "1",
         "38"
        ]
       ],
       "shape": {
        "columns": 4,
        "rows": 39
       }
      },
      "text/html": [
       "<div>\n",
       "<style scoped>\n",
       "    .dataframe tbody tr th:only-of-type {\n",
       "        vertical-align: middle;\n",
       "    }\n",
       "\n",
       "    .dataframe tbody tr th {\n",
       "        vertical-align: top;\n",
       "    }\n",
       "\n",
       "    .dataframe thead th {\n",
       "        text-align: right;\n",
       "    }\n",
       "</style>\n",
       "<table border=\"1\" class=\"dataframe\">\n",
       "  <thead>\n",
       "    <tr style=\"text-align: right;\">\n",
       "      <th></th>\n",
       "      <th>value</th>\n",
       "      <th>category</th>\n",
       "      <th>category_id</th>\n",
       "      <th>genre_value_id</th>\n",
       "    </tr>\n",
       "  </thead>\n",
       "  <tbody>\n",
       "    <tr>\n",
       "      <th>0</th>\n",
       "      <td>Adventure</td>\n",
       "      <td>Genre</td>\n",
       "      <td>0</td>\n",
       "      <td>0</td>\n",
       "    </tr>\n",
       "    <tr>\n",
       "      <th>1</th>\n",
       "      <td>Animation</td>\n",
       "      <td>Genre</td>\n",
       "      <td>0</td>\n",
       "      <td>1</td>\n",
       "    </tr>\n",
       "    <tr>\n",
       "      <th>2</th>\n",
       "      <td>Comedy</td>\n",
       "      <td>Genre</td>\n",
       "      <td>0</td>\n",
       "      <td>2</td>\n",
       "    </tr>\n",
       "    <tr>\n",
       "      <th>3</th>\n",
       "      <td>Buddy Comedy</td>\n",
       "      <td>Subgenre</td>\n",
       "      <td>1</td>\n",
       "      <td>3</td>\n",
       "    </tr>\n",
       "    <tr>\n",
       "      <th>4</th>\n",
       "      <td>Computer Animation</td>\n",
       "      <td>Subgenre</td>\n",
       "      <td>1</td>\n",
       "      <td>4</td>\n",
       "    </tr>\n",
       "    <tr>\n",
       "      <th>5</th>\n",
       "      <td>Fantasy</td>\n",
       "      <td>Subgenre</td>\n",
       "      <td>1</td>\n",
       "      <td>5</td>\n",
       "    </tr>\n",
       "    <tr>\n",
       "      <th>6</th>\n",
       "      <td>Supernatural Fantasy</td>\n",
       "      <td>Subgenre</td>\n",
       "      <td>1</td>\n",
       "      <td>6</td>\n",
       "    </tr>\n",
       "    <tr>\n",
       "      <th>7</th>\n",
       "      <td>Urban Adventure</td>\n",
       "      <td>Subgenre</td>\n",
       "      <td>1</td>\n",
       "      <td>7</td>\n",
       "    </tr>\n",
       "    <tr>\n",
       "      <th>8</th>\n",
       "      <td>Animal Adventure</td>\n",
       "      <td>Subgenre</td>\n",
       "      <td>1</td>\n",
       "      <td>8</td>\n",
       "    </tr>\n",
       "    <tr>\n",
       "      <th>9</th>\n",
       "      <td>Quest</td>\n",
       "      <td>Subgenre</td>\n",
       "      <td>1</td>\n",
       "      <td>9</td>\n",
       "    </tr>\n",
       "    <tr>\n",
       "      <th>10</th>\n",
       "      <td>Sea Adventure</td>\n",
       "      <td>Subgenre</td>\n",
       "      <td>1</td>\n",
       "      <td>10</td>\n",
       "    </tr>\n",
       "    <tr>\n",
       "      <th>11</th>\n",
       "      <td>Action</td>\n",
       "      <td>Genre</td>\n",
       "      <td>0</td>\n",
       "      <td>11</td>\n",
       "    </tr>\n",
       "    <tr>\n",
       "      <th>12</th>\n",
       "      <td>Superhero</td>\n",
       "      <td>Subgenre</td>\n",
       "      <td>1</td>\n",
       "      <td>12</td>\n",
       "    </tr>\n",
       "    <tr>\n",
       "      <th>13</th>\n",
       "      <td>Motorsport</td>\n",
       "      <td>Subgenre</td>\n",
       "      <td>1</td>\n",
       "      <td>13</td>\n",
       "    </tr>\n",
       "    <tr>\n",
       "      <th>14</th>\n",
       "      <td>Sport</td>\n",
       "      <td>Subgenre</td>\n",
       "      <td>1</td>\n",
       "      <td>14</td>\n",
       "    </tr>\n",
       "    <tr>\n",
       "      <th>15</th>\n",
       "      <td>Family</td>\n",
       "      <td>Genre</td>\n",
       "      <td>0</td>\n",
       "      <td>15</td>\n",
       "    </tr>\n",
       "    <tr>\n",
       "      <th>16</th>\n",
       "      <td>Adventure Epic</td>\n",
       "      <td>Subgenre</td>\n",
       "      <td>1</td>\n",
       "      <td>16</td>\n",
       "    </tr>\n",
       "    <tr>\n",
       "      <th>17</th>\n",
       "      <td>Artificial Intelligence</td>\n",
       "      <td>Subgenre</td>\n",
       "      <td>1</td>\n",
       "      <td>17</td>\n",
       "    </tr>\n",
       "    <tr>\n",
       "      <th>18</th>\n",
       "      <td>Dystopian Sci-Fi</td>\n",
       "      <td>Subgenre</td>\n",
       "      <td>1</td>\n",
       "      <td>18</td>\n",
       "    </tr>\n",
       "    <tr>\n",
       "      <th>19</th>\n",
       "      <td>Sci-Fi</td>\n",
       "      <td>Subgenre</td>\n",
       "      <td>1</td>\n",
       "      <td>19</td>\n",
       "    </tr>\n",
       "    <tr>\n",
       "      <th>20</th>\n",
       "      <td>Space Sci-Fi</td>\n",
       "      <td>Subgenre</td>\n",
       "      <td>1</td>\n",
       "      <td>20</td>\n",
       "    </tr>\n",
       "    <tr>\n",
       "      <th>21</th>\n",
       "      <td>Coming-of-Age</td>\n",
       "      <td>Subgenre</td>\n",
       "      <td>1</td>\n",
       "      <td>21</td>\n",
       "    </tr>\n",
       "    <tr>\n",
       "      <th>22</th>\n",
       "      <td>Globetrotting Adventure</td>\n",
       "      <td>Subgenre</td>\n",
       "      <td>1</td>\n",
       "      <td>22</td>\n",
       "    </tr>\n",
       "    <tr>\n",
       "      <th>23</th>\n",
       "      <td>Car Action</td>\n",
       "      <td>Subgenre</td>\n",
       "      <td>1</td>\n",
       "      <td>23</td>\n",
       "    </tr>\n",
       "    <tr>\n",
       "      <th>24</th>\n",
       "      <td>Crime</td>\n",
       "      <td>Subgenre</td>\n",
       "      <td>1</td>\n",
       "      <td>24</td>\n",
       "    </tr>\n",
       "    <tr>\n",
       "      <th>25</th>\n",
       "      <td>Spy</td>\n",
       "      <td>Subgenre</td>\n",
       "      <td>1</td>\n",
       "      <td>25</td>\n",
       "    </tr>\n",
       "    <tr>\n",
       "      <th>26</th>\n",
       "      <td>Fairy Tale</td>\n",
       "      <td>Subgenre</td>\n",
       "      <td>1</td>\n",
       "      <td>26</td>\n",
       "    </tr>\n",
       "    <tr>\n",
       "      <th>27</th>\n",
       "      <td>Sword &amp; Sorcery</td>\n",
       "      <td>Subgenre</td>\n",
       "      <td>1</td>\n",
       "      <td>27</td>\n",
       "    </tr>\n",
       "    <tr>\n",
       "      <th>28</th>\n",
       "      <td>Teen Adventure</td>\n",
       "      <td>Subgenre</td>\n",
       "      <td>1</td>\n",
       "      <td>28</td>\n",
       "    </tr>\n",
       "    <tr>\n",
       "      <th>29</th>\n",
       "      <td>Dinosaur Adventure</td>\n",
       "      <td>Subgenre</td>\n",
       "      <td>1</td>\n",
       "      <td>29</td>\n",
       "    </tr>\n",
       "    <tr>\n",
       "      <th>30</th>\n",
       "      <td>Drama</td>\n",
       "      <td>Genre</td>\n",
       "      <td>0</td>\n",
       "      <td>30</td>\n",
       "    </tr>\n",
       "    <tr>\n",
       "      <th>31</th>\n",
       "      <td>Music</td>\n",
       "      <td>Subgenre</td>\n",
       "      <td>1</td>\n",
       "      <td>31</td>\n",
       "    </tr>\n",
       "    <tr>\n",
       "      <th>32</th>\n",
       "      <td>Mystery</td>\n",
       "      <td>Subgenre</td>\n",
       "      <td>1</td>\n",
       "      <td>32</td>\n",
       "    </tr>\n",
       "    <tr>\n",
       "      <th>33</th>\n",
       "      <td>Road Trip</td>\n",
       "      <td>Subgenre</td>\n",
       "      <td>1</td>\n",
       "      <td>33</td>\n",
       "    </tr>\n",
       "    <tr>\n",
       "      <th>34</th>\n",
       "      <td>Fantasy Epic</td>\n",
       "      <td>Subgenre</td>\n",
       "      <td>1</td>\n",
       "      <td>34</td>\n",
       "    </tr>\n",
       "    <tr>\n",
       "      <th>35</th>\n",
       "      <td>Teen Comedy</td>\n",
       "      <td>Subgenre</td>\n",
       "      <td>1</td>\n",
       "      <td>35</td>\n",
       "    </tr>\n",
       "    <tr>\n",
       "      <th>36</th>\n",
       "      <td>Time Travel</td>\n",
       "      <td>Subgenre</td>\n",
       "      <td>1</td>\n",
       "      <td>36</td>\n",
       "    </tr>\n",
       "    <tr>\n",
       "      <th>37</th>\n",
       "      <td>Romance</td>\n",
       "      <td>Subgenre</td>\n",
       "      <td>1</td>\n",
       "      <td>37</td>\n",
       "    </tr>\n",
       "    <tr>\n",
       "      <th>38</th>\n",
       "      <td>Teen Drama</td>\n",
       "      <td>Subgenre</td>\n",
       "      <td>1</td>\n",
       "      <td>38</td>\n",
       "    </tr>\n",
       "  </tbody>\n",
       "</table>\n",
       "</div>"
      ],
      "text/plain": [
       "                      value  category  category_id  genre_value_id\n",
       "0                 Adventure     Genre            0               0\n",
       "1                 Animation     Genre            0               1\n",
       "2                    Comedy     Genre            0               2\n",
       "3              Buddy Comedy  Subgenre            1               3\n",
       "4        Computer Animation  Subgenre            1               4\n",
       "5                   Fantasy  Subgenre            1               5\n",
       "6      Supernatural Fantasy  Subgenre            1               6\n",
       "7           Urban Adventure  Subgenre            1               7\n",
       "8          Animal Adventure  Subgenre            1               8\n",
       "9                     Quest  Subgenre            1               9\n",
       "10            Sea Adventure  Subgenre            1              10\n",
       "11                   Action     Genre            0              11\n",
       "12                Superhero  Subgenre            1              12\n",
       "13               Motorsport  Subgenre            1              13\n",
       "14                    Sport  Subgenre            1              14\n",
       "15                   Family     Genre            0              15\n",
       "16           Adventure Epic  Subgenre            1              16\n",
       "17  Artificial Intelligence  Subgenre            1              17\n",
       "18         Dystopian Sci-Fi  Subgenre            1              18\n",
       "19                   Sci-Fi  Subgenre            1              19\n",
       "20             Space Sci-Fi  Subgenre            1              20\n",
       "21            Coming-of-Age  Subgenre            1              21\n",
       "22  Globetrotting Adventure  Subgenre            1              22\n",
       "23               Car Action  Subgenre            1              23\n",
       "24                    Crime  Subgenre            1              24\n",
       "25                      Spy  Subgenre            1              25\n",
       "26               Fairy Tale  Subgenre            1              26\n",
       "27          Sword & Sorcery  Subgenre            1              27\n",
       "28           Teen Adventure  Subgenre            1              28\n",
       "29       Dinosaur Adventure  Subgenre            1              29\n",
       "30                    Drama     Genre            0              30\n",
       "31                    Music  Subgenre            1              31\n",
       "32                  Mystery  Subgenre            1              32\n",
       "33                Road Trip  Subgenre            1              33\n",
       "34             Fantasy Epic  Subgenre            1              34\n",
       "35              Teen Comedy  Subgenre            1              35\n",
       "36              Time Travel  Subgenre            1              36\n",
       "37                  Romance  Subgenre            1              37\n",
       "38               Teen Drama  Subgenre            1              38"
      ]
     },
     "execution_count": 57,
     "metadata": {},
     "output_type": "execute_result"
    }
   ],
   "source": [
    "# Clean genre_values\n",
    "genre_values = (\n",
    "    genres_df[['value', 'category']]\n",
    "    .drop_duplicates()\n",
    "    .reset_index(drop=True)\n",
    ")\n",
    "\n",
    "# Map 0 for Genre and 1 for Subgenre\n",
    "genre_values['category_id'] = genre_values['category'].map({'Genre': 0, 'Subgenre': 1})\n",
    "\n",
    "# Add genre_value_id for joins\n",
    "genre_values['genre_value_id'] = genre_values.index\n",
    "\n",
    "genre_values"
   ]
  },
  {
   "cell_type": "code",
   "execution_count": null,
   "metadata": {},
   "outputs": [
    {
     "data": {
      "application/vnd.microsoft.datawrangler.viewer.v0+json": {
       "columns": [
        {
         "name": "index",
         "rawType": "int64",
         "type": "integer"
        },
        {
         "name": "film",
         "rawType": "object",
         "type": "string"
        },
        {
         "name": "category_id",
         "rawType": "int64",
         "type": "integer"
        },
        {
         "name": "genre_value_id",
         "rawType": "int64",
         "type": "integer"
        }
       ],
       "conversionMethod": "pd.DataFrame",
       "ref": "8bb67033-6b33-47dd-a007-5125f7483628",
       "rows": [
        [
         "0",
         "Toy Story",
         "0",
         "0"
        ],
        [
         "1",
         "A Bug's Life",
         "0",
         "0"
        ],
        [
         "2",
         "Toy Story 2",
         "0",
         "0"
        ],
        [
         "3",
         "Monsters, Inc.",
         "0",
         "0"
        ],
        [
         "4",
         "Finding Nemo",
         "0",
         "0"
        ],
        [
         "5",
         "The Incredibles",
         "0",
         "0"
        ],
        [
         "6",
         "Cars",
         "0",
         "0"
        ],
        [
         "7",
         "Ratatouille",
         "0",
         "0"
        ],
        [
         "8",
         "WALL-E",
         "0",
         "0"
        ],
        [
         "9",
         "Up",
         "0",
         "0"
        ],
        [
         "10",
         "Toy Story 3",
         "0",
         "0"
        ],
        [
         "11",
         "Cars 2",
         "0",
         "0"
        ],
        [
         "12",
         "Brave",
         "0",
         "0"
        ],
        [
         "13",
         "Monsters University",
         "0",
         "0"
        ],
        [
         "14",
         "Inside Out",
         "0",
         "0"
        ],
        [
         "15",
         "The Good Dinosaur",
         "0",
         "0"
        ],
        [
         "16",
         "Finding Dory",
         "0",
         "0"
        ],
        [
         "17",
         "Cars 3",
         "0",
         "0"
        ],
        [
         "18",
         "Coco",
         "0",
         "0"
        ],
        [
         "19",
         "Incredibles 2",
         "0",
         "0"
        ],
        [
         "20",
         "Toy Story 4",
         "0",
         "0"
        ],
        [
         "21",
         "Onward",
         "0",
         "0"
        ],
        [
         "22",
         "Soul",
         "0",
         "0"
        ],
        [
         "23",
         "Luca",
         "0",
         "0"
        ],
        [
         "24",
         "Turning Red",
         "0",
         "0"
        ],
        [
         "25",
         "Lightyear",
         "0",
         "0"
        ],
        [
         "26",
         "Elemental",
         "0",
         "0"
        ],
        [
         "27",
         "Inside Out 2",
         "0",
         "0"
        ],
        [
         "28",
         "Toy Story",
         "0",
         "1"
        ],
        [
         "29",
         "A Bug's Life",
         "0",
         "1"
        ],
        [
         "30",
         "Toy Story 2",
         "0",
         "1"
        ],
        [
         "31",
         "Monsters, Inc.",
         "0",
         "1"
        ],
        [
         "32",
         "Finding Nemo",
         "0",
         "1"
        ],
        [
         "33",
         "The Incredibles",
         "0",
         "1"
        ],
        [
         "34",
         "Cars",
         "0",
         "1"
        ],
        [
         "35",
         "Ratatouille",
         "0",
         "1"
        ],
        [
         "36",
         "WALL-E",
         "0",
         "1"
        ],
        [
         "37",
         "Up",
         "0",
         "1"
        ],
        [
         "38",
         "Toy Story 3",
         "0",
         "1"
        ],
        [
         "39",
         "Cars 2",
         "0",
         "1"
        ],
        [
         "40",
         "Brave",
         "0",
         "1"
        ],
        [
         "41",
         "Monsters University",
         "0",
         "1"
        ],
        [
         "42",
         "Inside Out",
         "0",
         "1"
        ],
        [
         "43",
         "The Good Dinosaur",
         "0",
         "1"
        ],
        [
         "44",
         "Finding Dory",
         "0",
         "1"
        ],
        [
         "45",
         "Cars 3",
         "0",
         "1"
        ],
        [
         "46",
         "Coco",
         "0",
         "1"
        ],
        [
         "47",
         "Incredibles 2",
         "0",
         "1"
        ],
        [
         "48",
         "Toy Story 4",
         "0",
         "1"
        ],
        [
         "49",
         "Onward",
         "0",
         "1"
        ]
       ],
       "shape": {
        "columns": 3,
        "rows": 204
       }
      },
      "text/html": [
       "<div>\n",
       "<style scoped>\n",
       "    .dataframe tbody tr th:only-of-type {\n",
       "        vertical-align: middle;\n",
       "    }\n",
       "\n",
       "    .dataframe tbody tr th {\n",
       "        vertical-align: top;\n",
       "    }\n",
       "\n",
       "    .dataframe thead th {\n",
       "        text-align: right;\n",
       "    }\n",
       "</style>\n",
       "<table border=\"1\" class=\"dataframe\">\n",
       "  <thead>\n",
       "    <tr style=\"text-align: right;\">\n",
       "      <th></th>\n",
       "      <th>film</th>\n",
       "      <th>category_id</th>\n",
       "      <th>genre_value_id</th>\n",
       "    </tr>\n",
       "  </thead>\n",
       "  <tbody>\n",
       "    <tr>\n",
       "      <th>0</th>\n",
       "      <td>Toy Story</td>\n",
       "      <td>0</td>\n",
       "      <td>0</td>\n",
       "    </tr>\n",
       "    <tr>\n",
       "      <th>1</th>\n",
       "      <td>A Bug's Life</td>\n",
       "      <td>0</td>\n",
       "      <td>0</td>\n",
       "    </tr>\n",
       "    <tr>\n",
       "      <th>2</th>\n",
       "      <td>Toy Story 2</td>\n",
       "      <td>0</td>\n",
       "      <td>0</td>\n",
       "    </tr>\n",
       "    <tr>\n",
       "      <th>3</th>\n",
       "      <td>Monsters, Inc.</td>\n",
       "      <td>0</td>\n",
       "      <td>0</td>\n",
       "    </tr>\n",
       "    <tr>\n",
       "      <th>4</th>\n",
       "      <td>Finding Nemo</td>\n",
       "      <td>0</td>\n",
       "      <td>0</td>\n",
       "    </tr>\n",
       "    <tr>\n",
       "      <th>...</th>\n",
       "      <td>...</td>\n",
       "      <td>...</td>\n",
       "      <td>...</td>\n",
       "    </tr>\n",
       "    <tr>\n",
       "      <th>199</th>\n",
       "      <td>Turning Red</td>\n",
       "      <td>1</td>\n",
       "      <td>35</td>\n",
       "    </tr>\n",
       "    <tr>\n",
       "      <th>200</th>\n",
       "      <td>Inside Out 2</td>\n",
       "      <td>1</td>\n",
       "      <td>35</td>\n",
       "    </tr>\n",
       "    <tr>\n",
       "      <th>201</th>\n",
       "      <td>Lightyear</td>\n",
       "      <td>1</td>\n",
       "      <td>36</td>\n",
       "    </tr>\n",
       "    <tr>\n",
       "      <th>202</th>\n",
       "      <td>Elemental</td>\n",
       "      <td>1</td>\n",
       "      <td>37</td>\n",
       "    </tr>\n",
       "    <tr>\n",
       "      <th>203</th>\n",
       "      <td>Inside Out 2</td>\n",
       "      <td>1</td>\n",
       "      <td>38</td>\n",
       "    </tr>\n",
       "  </tbody>\n",
       "</table>\n",
       "<p>204 rows × 3 columns</p>\n",
       "</div>"
      ],
      "text/plain": [
       "               film  category_id  genre_value_id\n",
       "0         Toy Story            0               0\n",
       "1      A Bug's Life            0               0\n",
       "2       Toy Story 2            0               0\n",
       "3    Monsters, Inc.            0               0\n",
       "4      Finding Nemo            0               0\n",
       "..              ...          ...             ...\n",
       "199     Turning Red            1              35\n",
       "200    Inside Out 2            1              35\n",
       "201       Lightyear            1              36\n",
       "202       Elemental            1              37\n",
       "203    Inside Out 2            1              38\n",
       "\n",
       "[204 rows x 3 columns]"
      ]
     },
     "execution_count": 41,
     "metadata": {},
     "output_type": "execute_result"
    }
   ],
   "source": [
    "merged_df_5 = genres_df.merge(genre_values, on='value', how='inner')\n",
    "\n",
    "genres_df = merged_df_5.drop(columns='value')\n",
    "\n",
    "# genres_df"
   ]
  },
  {
   "cell_type": "code",
   "execution_count": null,
   "metadata": {},
   "outputs": [
    {
     "data": {
      "application/vnd.microsoft.datawrangler.viewer.v0+json": {
       "columns": [
        {
         "name": "index",
         "rawType": "int64",
         "type": "integer"
        },
        {
         "name": "category_id",
         "rawType": "int64",
         "type": "integer"
        },
        {
         "name": "genre_value_id",
         "rawType": "int64",
         "type": "integer"
        },
        {
         "name": "number",
         "rawType": "int64",
         "type": "integer"
        }
       ],
       "conversionMethod": "pd.DataFrame",
       "ref": "a036a45d-8742-4cd2-98ff-83e284bbade2",
       "rows": [
        [
         "0",
         "0",
         "0",
         "1"
        ],
        [
         "1",
         "0",
         "1",
         "1"
        ],
        [
         "2",
         "0",
         "2",
         "1"
        ],
        [
         "3",
         "1",
         "3",
         "1"
        ],
        [
         "4",
         "1",
         "4",
         "1"
        ],
        [
         "5",
         "1",
         "5",
         "1"
        ],
        [
         "6",
         "1",
         "6",
         "1"
        ],
        [
         "7",
         "1",
         "7",
         "1"
        ],
        [
         "8",
         "0",
         "0",
         "2"
        ],
        [
         "9",
         "0",
         "1",
         "2"
        ],
        [
         "10",
         "0",
         "2",
         "2"
        ],
        [
         "11",
         "1",
         "4",
         "2"
        ],
        [
         "12",
         "1",
         "8",
         "2"
        ],
        [
         "13",
         "1",
         "9",
         "2"
        ],
        [
         "14",
         "0",
         "0",
         "3"
        ],
        [
         "15",
         "0",
         "1",
         "3"
        ],
        [
         "16",
         "0",
         "2",
         "3"
        ],
        [
         "17",
         "1",
         "4",
         "3"
        ],
        [
         "18",
         "1",
         "5",
         "3"
        ],
        [
         "19",
         "1",
         "6",
         "3"
        ],
        [
         "20",
         "1",
         "7",
         "3"
        ],
        [
         "21",
         "1",
         "9",
         "3"
        ],
        [
         "22",
         "0",
         "0",
         "4"
        ],
        [
         "23",
         "0",
         "1",
         "4"
        ],
        [
         "24",
         "0",
         "2",
         "4"
        ],
        [
         "25",
         "1",
         "3",
         "4"
        ],
        [
         "26",
         "1",
         "4",
         "4"
        ],
        [
         "27",
         "1",
         "5",
         "4"
        ],
        [
         "28",
         "1",
         "6",
         "4"
        ],
        [
         "29",
         "1",
         "7",
         "4"
        ],
        [
         "30",
         "0",
         "0",
         "5"
        ],
        [
         "31",
         "0",
         "1",
         "5"
        ],
        [
         "32",
         "0",
         "2",
         "5"
        ],
        [
         "33",
         "1",
         "3",
         "5"
        ],
        [
         "34",
         "1",
         "4",
         "5"
        ],
        [
         "35",
         "1",
         "8",
         "5"
        ],
        [
         "36",
         "1",
         "9",
         "5"
        ],
        [
         "37",
         "1",
         "10",
         "5"
        ],
        [
         "38",
         "0",
         "0",
         "6"
        ],
        [
         "39",
         "0",
         "1",
         "6"
        ],
        [
         "40",
         "0",
         "11",
         "6"
        ],
        [
         "41",
         "1",
         "4",
         "6"
        ],
        [
         "42",
         "1",
         "7",
         "6"
        ],
        [
         "43",
         "1",
         "12",
         "6"
        ],
        [
         "44",
         "0",
         "0",
         "7"
        ],
        [
         "45",
         "0",
         "1",
         "7"
        ],
        [
         "46",
         "0",
         "2",
         "7"
        ],
        [
         "47",
         "1",
         "4",
         "7"
        ],
        [
         "48",
         "1",
         "13",
         "7"
        ],
        [
         "49",
         "1",
         "14",
         "7"
        ]
       ],
       "shape": {
        "columns": 3,
        "rows": 204
       }
      },
      "text/html": [
       "<div>\n",
       "<style scoped>\n",
       "    .dataframe tbody tr th:only-of-type {\n",
       "        vertical-align: middle;\n",
       "    }\n",
       "\n",
       "    .dataframe tbody tr th {\n",
       "        vertical-align: top;\n",
       "    }\n",
       "\n",
       "    .dataframe thead th {\n",
       "        text-align: right;\n",
       "    }\n",
       "</style>\n",
       "<table border=\"1\" class=\"dataframe\">\n",
       "  <thead>\n",
       "    <tr style=\"text-align: right;\">\n",
       "      <th></th>\n",
       "      <th>category_id</th>\n",
       "      <th>genre_value_id</th>\n",
       "      <th>number</th>\n",
       "    </tr>\n",
       "  </thead>\n",
       "  <tbody>\n",
       "    <tr>\n",
       "      <th>0</th>\n",
       "      <td>0</td>\n",
       "      <td>0</td>\n",
       "      <td>1</td>\n",
       "    </tr>\n",
       "    <tr>\n",
       "      <th>1</th>\n",
       "      <td>0</td>\n",
       "      <td>1</td>\n",
       "      <td>1</td>\n",
       "    </tr>\n",
       "    <tr>\n",
       "      <th>2</th>\n",
       "      <td>0</td>\n",
       "      <td>2</td>\n",
       "      <td>1</td>\n",
       "    </tr>\n",
       "    <tr>\n",
       "      <th>3</th>\n",
       "      <td>1</td>\n",
       "      <td>3</td>\n",
       "      <td>1</td>\n",
       "    </tr>\n",
       "    <tr>\n",
       "      <th>4</th>\n",
       "      <td>1</td>\n",
       "      <td>4</td>\n",
       "      <td>1</td>\n",
       "    </tr>\n",
       "    <tr>\n",
       "      <th>...</th>\n",
       "      <td>...</td>\n",
       "      <td>...</td>\n",
       "      <td>...</td>\n",
       "    </tr>\n",
       "    <tr>\n",
       "      <th>199</th>\n",
       "      <td>1</td>\n",
       "      <td>4</td>\n",
       "      <td>28</td>\n",
       "    </tr>\n",
       "    <tr>\n",
       "      <th>200</th>\n",
       "      <td>1</td>\n",
       "      <td>9</td>\n",
       "      <td>28</td>\n",
       "    </tr>\n",
       "    <tr>\n",
       "      <th>201</th>\n",
       "      <td>1</td>\n",
       "      <td>21</td>\n",
       "      <td>28</td>\n",
       "    </tr>\n",
       "    <tr>\n",
       "      <th>202</th>\n",
       "      <td>1</td>\n",
       "      <td>35</td>\n",
       "      <td>28</td>\n",
       "    </tr>\n",
       "    <tr>\n",
       "      <th>203</th>\n",
       "      <td>1</td>\n",
       "      <td>38</td>\n",
       "      <td>28</td>\n",
       "    </tr>\n",
       "  </tbody>\n",
       "</table>\n",
       "<p>204 rows × 3 columns</p>\n",
       "</div>"
      ],
      "text/plain": [
       "     category_id  genre_value_id  number\n",
       "0              0               0       1\n",
       "1              0               1       1\n",
       "2              0               2       1\n",
       "3              1               3       1\n",
       "4              1               4       1\n",
       "..           ...             ...     ...\n",
       "199            1               4      28\n",
       "200            1               9      28\n",
       "201            1              21      28\n",
       "202            1              35      28\n",
       "203            1              38      28\n",
       "\n",
       "[204 rows x 3 columns]"
      ]
     },
     "execution_count": 42,
     "metadata": {},
     "output_type": "execute_result"
    }
   ],
   "source": [
    "merged_df_6 = genres_df.merge(pixar_films_df, on='film', how='inner')\n",
    "\n",
    "genres_df = merged_df_6.drop(columns=['film', 'release_date', 'run_time', 'plot', 'film_rating_id'])\n",
    "\n",
    "# genres_df"
   ]
  },
  {
   "cell_type": "code",
   "execution_count": 58,
   "metadata": {},
   "outputs": [],
   "source": [
    "# genres_df.to_csv(\"genres.csv\", index=False)\n",
    "\n",
    "# genre_category.to_csv(\"genre_category.csv\", index=False)\n",
    "\n",
    "genre_values.to_csv(\"genre_values.csv\", index=False)"
   ]
  },
  {
   "cell_type": "markdown",
   "metadata": {},
   "source": [
    "# pixar_films_df"
   ]
  },
  {
   "cell_type": "code",
   "execution_count": null,
   "metadata": {},
   "outputs": [
    {
     "data": {
      "application/vnd.microsoft.datawrangler.viewer.v0+json": {
       "columns": [
        {
         "name": "index",
         "rawType": "int64",
         "type": "integer"
        },
        {
         "name": "number",
         "rawType": "int64",
         "type": "integer"
        },
        {
         "name": "film",
         "rawType": "object",
         "type": "string"
        },
        {
         "name": "release_date",
         "rawType": "object",
         "type": "string"
        },
        {
         "name": "run_time",
         "rawType": "int64",
         "type": "integer"
        },
        {
         "name": "film_rating",
         "rawType": "object",
         "type": "string"
        },
        {
         "name": "plot",
         "rawType": "object",
         "type": "string"
        }
       ],
       "conversionMethod": "pd.DataFrame",
       "ref": "ec1c1d16-495e-4899-85ab-de260d8ca16c",
       "rows": [
        [
         "0",
         "1",
         "Toy Story",
         "1995-11-22",
         "81",
         "G",
         "A cowboy doll is profoundly threatened and jealous when a new spaceman action figure supplants him as top toy in a boy's bedroom."
        ],
        [
         "1",
         "2",
         "A Bug's Life",
         "1998-11-25",
         "95",
         "G",
         "A misfit ant, looking for \"warriors\" to save his colony from greedy grasshoppers, recruits a group of bugs that turn out to be an inept circus troupe."
        ],
        [
         "2",
         "3",
         "Toy Story 2",
         "1999-11-24",
         "92",
         "G",
         "When Woody is stolen by a toy collector, Buzz and his friends set out on a rescue mission to save Woody before he becomes a museum toy property with his roundup gang Jessie, Prospector, and Bullseye."
        ],
        [
         "3",
         "4",
         "Monsters, Inc.",
         "2001-11-02",
         "92",
         "G",
         "In order to power the city, monsters have to scare children so that they scream. However, the children are toxic to the monsters, and after a child gets through, two monsters realize things may not be what they think."
        ],
        [
         "4",
         "5",
         "Finding Nemo",
         "2003-05-30",
         "100",
         "G",
         "After his son is captured in the Great Barrier Reef and taken to Sydney, a timid clownfish sets out on a journey to bring him home."
        ],
        [
         "5",
         "6",
         "The Incredibles",
         "2004-11-05",
         "115",
         "PG",
         "While trying to lead a quiet suburban life, a family of undercover superheroes are forced into action to save the world."
        ],
        [
         "6",
         "7",
         "Cars",
         "2006-06-09",
         "116",
         "G",
         "On the way to the biggest race of his life, a hotshot rookie race car gets stranded in a rundown town and learns that winning isn't everything in life."
        ],
        [
         "7",
         "8",
         "Ratatouille",
         "2007-06-29",
         "111",
         "G",
         "A rat who can cook makes an unusual alliance with a young kitchen worker at a famous Paris restaurant."
        ],
        [
         "8",
         "9",
         "WALL-E",
         "2008-06-27",
         "98",
         "G",
         "A robot who is responsible for cleaning a waste-covered Earth meets another robot and falls in love with her. Together, they set out on a journey that will alter the fate of mankind."
        ],
        [
         "9",
         "10",
         "Up",
         "2009-05-29",
         "96",
         "PG",
         "78-year-old Carl Fredricksen travels to South America in his house equipped with balloons, inadvertently taking a young stowaway."
        ],
        [
         "10",
         "11",
         "Toy Story 3",
         "2010-06-18",
         "103",
         "G",
         "The toys are mistakenly delivered to a day-care center instead of the attic right before Andy leaves for college, and it's up to Woody to convince the other toys that they weren't abandoned and to return home."
        ],
        [
         "11",
         "12",
         "Cars 2",
         "2011-06-24",
         "106",
         "G",
         "Star race car Lightning McQueen and his pal Mater head overseas to compete in the World Grand Prix race. But the road to the championship becomes rocky as Mater gets caught up in an intriguing adventure of his own: international e..."
        ],
        [
         "12",
         "13",
         "Brave",
         "2012-06-22",
         "93",
         "PG",
         "Determined to make her own path in life, Princess Merida defies a custom that brings chaos to her kingdom. Granted one wish, Merida must rely on her bravery and her archery skills to undo a beastly curse."
        ],
        [
         "13",
         "14",
         "Monsters University",
         "2013-06-21",
         "104",
         "G",
         "A look at the relationship between Mike Wazowski and James P. \"Sully\" Sullivan during their days at Monsters University, when they weren't necessarily the best of friends."
        ],
        [
         "14",
         "15",
         "Inside Out",
         "2015-06-19",
         "95",
         "PG",
         "After young Riley is uprooted from her Midwest life and moved to San Francisco, her emotions - Joy, Fear, Anger, Disgust and Sadness - conflict on how best to navigate a new city, house, and school."
        ],
        [
         "15",
         "16",
         "The Good Dinosaur",
         "2015-11-25",
         "93",
         "PG",
         "In a world where dinosaurs and humans live side-by-side, an Apatosaurus named Arlo makes an unlikely human friend."
        ],
        [
         "16",
         "17",
         "Finding Dory",
         "2016-06-17",
         "97",
         "PG",
         "Friendly but forgetful blue tang Dory begins a search for her long-lost parents and everyone learns a few things about the real meaning of family along the way."
        ],
        [
         "17",
         "18",
         "Cars 3",
         "2017-06-16",
         "102",
         "G",
         "Lightning McQueen sets out to prove to a new generation of racers that he's still the best race car in the world."
        ],
        [
         "18",
         "19",
         "Coco",
         "2017-11-22",
         "105",
         "PG",
         "Aspiring musician Miguel, confronted with his family's ancestral ban on music, enters the Land of the Dead to find his great-great-grandfather, a legendary singer."
        ],
        [
         "19",
         "20",
         "Incredibles 2",
         "2018-06-15",
         "118",
         "PG",
         "The Incredibles family takes on a new mission which involves a change in family roles: Bob Parr (Mr. Incredible) must manage the house while his wife Helen (Elastigirl) goes out to save the world."
        ],
        [
         "20",
         "21",
         "Toy Story 4",
         "2019-06-21",
         "100",
         "G",
         "When a new toy called \"Forky\" joins Woody and the gang, a road trip alongside old and new friends reveals how big the world can be for a toy."
        ],
        [
         "21",
         "22",
         "Onward",
         "2020-03-06",
         "102",
         "PG",
         "Teenage elf brothers Ian and Barley embark on a magical quest to spend one more day with their late father. Like any good adventure, their journey is filled with cryptic maps, impossible obstacles and unimaginable discoveries."
        ],
        [
         "22",
         "23",
         "Soul",
         "2020-12-25",
         "100",
         "PG",
         "Joe is a middle-school band teacher whose life hasn't quite gone the way he expected. His true passion is jazz. But when he travels to another realm to help someone find their passion, he soon discovers what it means to have soul."
        ],
        [
         "23",
         "24",
         "Luca",
         "2021-06-18",
         "95",
         "PG",
         "On the Italian Riviera, an unlikely but strong friendship grows between a human being and a sea monster disguised as a human."
        ],
        [
         "24",
         "25",
         "Turning Red",
         "2022-03-11",
         "100",
         "PG",
         "A thirteen-year-old girl named Mei Lee is torn between staying her mother's dutiful daughter and the changes of adolescence. And as if the challenges were not enough, whenever she gets overly excited she transforms into a giant re..."
        ],
        [
         "25",
         "26",
         "Lightyear",
         "2022-06-17",
         "105",
         "PG",
         "While spending years attempting to return home, marooned Space Ranger Buzz Lightyear encounters an army of ruthless robots commanded by Zurg who are attempting to steal his fuel source."
        ],
        [
         "26",
         "27",
         "Elemental",
         "2023-06-16",
         "101",
         "PG",
         "Follows Ember and Wade, in a city where fire-, water-, earth- and air-residents live together."
        ],
        [
         "27",
         "28",
         "Inside Out 2",
         "2024-06-14",
         "96",
         "PG",
         "A sequel that features Riley entering puberty and experiencing brand new, more complex emotions as a result. As Riley tries to adapt to her teenage years, her old emotions try to adapt to the possibility of being replaced."
        ]
       ],
       "shape": {
        "columns": 6,
        "rows": 28
       }
      },
      "text/html": [
       "<div>\n",
       "<style scoped>\n",
       "    .dataframe tbody tr th:only-of-type {\n",
       "        vertical-align: middle;\n",
       "    }\n",
       "\n",
       "    .dataframe tbody tr th {\n",
       "        vertical-align: top;\n",
       "    }\n",
       "\n",
       "    .dataframe thead th {\n",
       "        text-align: right;\n",
       "    }\n",
       "</style>\n",
       "<table border=\"1\" class=\"dataframe\">\n",
       "  <thead>\n",
       "    <tr style=\"text-align: right;\">\n",
       "      <th></th>\n",
       "      <th>number</th>\n",
       "      <th>film</th>\n",
       "      <th>release_date</th>\n",
       "      <th>run_time</th>\n",
       "      <th>film_rating</th>\n",
       "      <th>plot</th>\n",
       "    </tr>\n",
       "  </thead>\n",
       "  <tbody>\n",
       "    <tr>\n",
       "      <th>0</th>\n",
       "      <td>1</td>\n",
       "      <td>Toy Story</td>\n",
       "      <td>1995-11-22</td>\n",
       "      <td>81</td>\n",
       "      <td>G</td>\n",
       "      <td>A cowboy doll is profoundly threatened and jea...</td>\n",
       "    </tr>\n",
       "    <tr>\n",
       "      <th>1</th>\n",
       "      <td>2</td>\n",
       "      <td>A Bug's Life</td>\n",
       "      <td>1998-11-25</td>\n",
       "      <td>95</td>\n",
       "      <td>G</td>\n",
       "      <td>A misfit ant, looking for \"warriors\" to save h...</td>\n",
       "    </tr>\n",
       "    <tr>\n",
       "      <th>2</th>\n",
       "      <td>3</td>\n",
       "      <td>Toy Story 2</td>\n",
       "      <td>1999-11-24</td>\n",
       "      <td>92</td>\n",
       "      <td>G</td>\n",
       "      <td>When Woody is stolen by a toy collector, Buzz ...</td>\n",
       "    </tr>\n",
       "    <tr>\n",
       "      <th>3</th>\n",
       "      <td>4</td>\n",
       "      <td>Monsters, Inc.</td>\n",
       "      <td>2001-11-02</td>\n",
       "      <td>92</td>\n",
       "      <td>G</td>\n",
       "      <td>In order to power the city, monsters have to s...</td>\n",
       "    </tr>\n",
       "    <tr>\n",
       "      <th>4</th>\n",
       "      <td>5</td>\n",
       "      <td>Finding Nemo</td>\n",
       "      <td>2003-05-30</td>\n",
       "      <td>100</td>\n",
       "      <td>G</td>\n",
       "      <td>After his son is captured in the Great Barrier...</td>\n",
       "    </tr>\n",
       "    <tr>\n",
       "      <th>5</th>\n",
       "      <td>6</td>\n",
       "      <td>The Incredibles</td>\n",
       "      <td>2004-11-05</td>\n",
       "      <td>115</td>\n",
       "      <td>PG</td>\n",
       "      <td>While trying to lead a quiet suburban life, a ...</td>\n",
       "    </tr>\n",
       "    <tr>\n",
       "      <th>6</th>\n",
       "      <td>7</td>\n",
       "      <td>Cars</td>\n",
       "      <td>2006-06-09</td>\n",
       "      <td>116</td>\n",
       "      <td>G</td>\n",
       "      <td>On the way to the biggest race of his life, a ...</td>\n",
       "    </tr>\n",
       "    <tr>\n",
       "      <th>7</th>\n",
       "      <td>8</td>\n",
       "      <td>Ratatouille</td>\n",
       "      <td>2007-06-29</td>\n",
       "      <td>111</td>\n",
       "      <td>G</td>\n",
       "      <td>A rat who can cook makes an unusual alliance w...</td>\n",
       "    </tr>\n",
       "    <tr>\n",
       "      <th>8</th>\n",
       "      <td>9</td>\n",
       "      <td>WALL-E</td>\n",
       "      <td>2008-06-27</td>\n",
       "      <td>98</td>\n",
       "      <td>G</td>\n",
       "      <td>A robot who is responsible for cleaning a wast...</td>\n",
       "    </tr>\n",
       "    <tr>\n",
       "      <th>9</th>\n",
       "      <td>10</td>\n",
       "      <td>Up</td>\n",
       "      <td>2009-05-29</td>\n",
       "      <td>96</td>\n",
       "      <td>PG</td>\n",
       "      <td>78-year-old Carl Fredricksen travels to South ...</td>\n",
       "    </tr>\n",
       "    <tr>\n",
       "      <th>10</th>\n",
       "      <td>11</td>\n",
       "      <td>Toy Story 3</td>\n",
       "      <td>2010-06-18</td>\n",
       "      <td>103</td>\n",
       "      <td>G</td>\n",
       "      <td>The toys are mistakenly delivered to a day-car...</td>\n",
       "    </tr>\n",
       "    <tr>\n",
       "      <th>11</th>\n",
       "      <td>12</td>\n",
       "      <td>Cars 2</td>\n",
       "      <td>2011-06-24</td>\n",
       "      <td>106</td>\n",
       "      <td>G</td>\n",
       "      <td>Star race car Lightning McQueen and his pal Ma...</td>\n",
       "    </tr>\n",
       "    <tr>\n",
       "      <th>12</th>\n",
       "      <td>13</td>\n",
       "      <td>Brave</td>\n",
       "      <td>2012-06-22</td>\n",
       "      <td>93</td>\n",
       "      <td>PG</td>\n",
       "      <td>Determined to make her own path in life, Princ...</td>\n",
       "    </tr>\n",
       "    <tr>\n",
       "      <th>13</th>\n",
       "      <td>14</td>\n",
       "      <td>Monsters University</td>\n",
       "      <td>2013-06-21</td>\n",
       "      <td>104</td>\n",
       "      <td>G</td>\n",
       "      <td>A look at the relationship between Mike Wazows...</td>\n",
       "    </tr>\n",
       "    <tr>\n",
       "      <th>14</th>\n",
       "      <td>15</td>\n",
       "      <td>Inside Out</td>\n",
       "      <td>2015-06-19</td>\n",
       "      <td>95</td>\n",
       "      <td>PG</td>\n",
       "      <td>After young Riley is uprooted from her Midwest...</td>\n",
       "    </tr>\n",
       "    <tr>\n",
       "      <th>15</th>\n",
       "      <td>16</td>\n",
       "      <td>The Good Dinosaur</td>\n",
       "      <td>2015-11-25</td>\n",
       "      <td>93</td>\n",
       "      <td>PG</td>\n",
       "      <td>In a world where dinosaurs and humans live sid...</td>\n",
       "    </tr>\n",
       "    <tr>\n",
       "      <th>16</th>\n",
       "      <td>17</td>\n",
       "      <td>Finding Dory</td>\n",
       "      <td>2016-06-17</td>\n",
       "      <td>97</td>\n",
       "      <td>PG</td>\n",
       "      <td>Friendly but forgetful blue tang Dory begins a...</td>\n",
       "    </tr>\n",
       "    <tr>\n",
       "      <th>17</th>\n",
       "      <td>18</td>\n",
       "      <td>Cars 3</td>\n",
       "      <td>2017-06-16</td>\n",
       "      <td>102</td>\n",
       "      <td>G</td>\n",
       "      <td>Lightning McQueen sets out to prove to a new g...</td>\n",
       "    </tr>\n",
       "    <tr>\n",
       "      <th>18</th>\n",
       "      <td>19</td>\n",
       "      <td>Coco</td>\n",
       "      <td>2017-11-22</td>\n",
       "      <td>105</td>\n",
       "      <td>PG</td>\n",
       "      <td>Aspiring musician Miguel, confronted with his ...</td>\n",
       "    </tr>\n",
       "    <tr>\n",
       "      <th>19</th>\n",
       "      <td>20</td>\n",
       "      <td>Incredibles 2</td>\n",
       "      <td>2018-06-15</td>\n",
       "      <td>118</td>\n",
       "      <td>PG</td>\n",
       "      <td>The Incredibles family takes on a new mission ...</td>\n",
       "    </tr>\n",
       "    <tr>\n",
       "      <th>20</th>\n",
       "      <td>21</td>\n",
       "      <td>Toy Story 4</td>\n",
       "      <td>2019-06-21</td>\n",
       "      <td>100</td>\n",
       "      <td>G</td>\n",
       "      <td>When a new toy called \"Forky\" joins Woody and ...</td>\n",
       "    </tr>\n",
       "    <tr>\n",
       "      <th>21</th>\n",
       "      <td>22</td>\n",
       "      <td>Onward</td>\n",
       "      <td>2020-03-06</td>\n",
       "      <td>102</td>\n",
       "      <td>PG</td>\n",
       "      <td>Teenage elf brothers Ian and Barley embark on ...</td>\n",
       "    </tr>\n",
       "    <tr>\n",
       "      <th>22</th>\n",
       "      <td>23</td>\n",
       "      <td>Soul</td>\n",
       "      <td>2020-12-25</td>\n",
       "      <td>100</td>\n",
       "      <td>PG</td>\n",
       "      <td>Joe is a middle-school band teacher whose life...</td>\n",
       "    </tr>\n",
       "    <tr>\n",
       "      <th>23</th>\n",
       "      <td>24</td>\n",
       "      <td>Luca</td>\n",
       "      <td>2021-06-18</td>\n",
       "      <td>95</td>\n",
       "      <td>PG</td>\n",
       "      <td>On the Italian Riviera, an unlikely but strong...</td>\n",
       "    </tr>\n",
       "    <tr>\n",
       "      <th>24</th>\n",
       "      <td>25</td>\n",
       "      <td>Turning Red</td>\n",
       "      <td>2022-03-11</td>\n",
       "      <td>100</td>\n",
       "      <td>PG</td>\n",
       "      <td>A thirteen-year-old girl named Mei Lee is torn...</td>\n",
       "    </tr>\n",
       "    <tr>\n",
       "      <th>25</th>\n",
       "      <td>26</td>\n",
       "      <td>Lightyear</td>\n",
       "      <td>2022-06-17</td>\n",
       "      <td>105</td>\n",
       "      <td>PG</td>\n",
       "      <td>While spending years attempting to return home...</td>\n",
       "    </tr>\n",
       "    <tr>\n",
       "      <th>26</th>\n",
       "      <td>27</td>\n",
       "      <td>Elemental</td>\n",
       "      <td>2023-06-16</td>\n",
       "      <td>101</td>\n",
       "      <td>PG</td>\n",
       "      <td>Follows Ember and Wade, in a city where fire-,...</td>\n",
       "    </tr>\n",
       "    <tr>\n",
       "      <th>27</th>\n",
       "      <td>28</td>\n",
       "      <td>Inside Out 2</td>\n",
       "      <td>2024-06-14</td>\n",
       "      <td>96</td>\n",
       "      <td>PG</td>\n",
       "      <td>A sequel that features Riley entering puberty ...</td>\n",
       "    </tr>\n",
       "  </tbody>\n",
       "</table>\n",
       "</div>"
      ],
      "text/plain": [
       "    number                 film release_date  run_time film_rating  \\\n",
       "0        1            Toy Story   1995-11-22        81           G   \n",
       "1        2         A Bug's Life   1998-11-25        95           G   \n",
       "2        3          Toy Story 2   1999-11-24        92           G   \n",
       "3        4       Monsters, Inc.   2001-11-02        92           G   \n",
       "4        5         Finding Nemo   2003-05-30       100           G   \n",
       "5        6      The Incredibles   2004-11-05       115          PG   \n",
       "6        7                 Cars   2006-06-09       116           G   \n",
       "7        8          Ratatouille   2007-06-29       111           G   \n",
       "8        9               WALL-E   2008-06-27        98           G   \n",
       "9       10                   Up   2009-05-29        96          PG   \n",
       "10      11          Toy Story 3   2010-06-18       103           G   \n",
       "11      12               Cars 2   2011-06-24       106           G   \n",
       "12      13                Brave   2012-06-22        93          PG   \n",
       "13      14  Monsters University   2013-06-21       104           G   \n",
       "14      15           Inside Out   2015-06-19        95          PG   \n",
       "15      16    The Good Dinosaur   2015-11-25        93          PG   \n",
       "16      17         Finding Dory   2016-06-17        97          PG   \n",
       "17      18               Cars 3   2017-06-16       102           G   \n",
       "18      19                 Coco   2017-11-22       105          PG   \n",
       "19      20        Incredibles 2   2018-06-15       118          PG   \n",
       "20      21          Toy Story 4   2019-06-21       100           G   \n",
       "21      22               Onward   2020-03-06       102          PG   \n",
       "22      23                 Soul   2020-12-25       100          PG   \n",
       "23      24                 Luca   2021-06-18        95          PG   \n",
       "24      25          Turning Red   2022-03-11       100          PG   \n",
       "25      26            Lightyear   2022-06-17       105          PG   \n",
       "26      27            Elemental   2023-06-16       101          PG   \n",
       "27      28         Inside Out 2   2024-06-14        96          PG   \n",
       "\n",
       "                                                 plot  \n",
       "0   A cowboy doll is profoundly threatened and jea...  \n",
       "1   A misfit ant, looking for \"warriors\" to save h...  \n",
       "2   When Woody is stolen by a toy collector, Buzz ...  \n",
       "3   In order to power the city, monsters have to s...  \n",
       "4   After his son is captured in the Great Barrier...  \n",
       "5   While trying to lead a quiet suburban life, a ...  \n",
       "6   On the way to the biggest race of his life, a ...  \n",
       "7   A rat who can cook makes an unusual alliance w...  \n",
       "8   A robot who is responsible for cleaning a wast...  \n",
       "9   78-year-old Carl Fredricksen travels to South ...  \n",
       "10  The toys are mistakenly delivered to a day-car...  \n",
       "11  Star race car Lightning McQueen and his pal Ma...  \n",
       "12  Determined to make her own path in life, Princ...  \n",
       "13  A look at the relationship between Mike Wazows...  \n",
       "14  After young Riley is uprooted from her Midwest...  \n",
       "15  In a world where dinosaurs and humans live sid...  \n",
       "16  Friendly but forgetful blue tang Dory begins a...  \n",
       "17  Lightning McQueen sets out to prove to a new g...  \n",
       "18  Aspiring musician Miguel, confronted with his ...  \n",
       "19  The Incredibles family takes on a new mission ...  \n",
       "20  When a new toy called \"Forky\" joins Woody and ...  \n",
       "21  Teenage elf brothers Ian and Barley embark on ...  \n",
       "22  Joe is a middle-school band teacher whose life...  \n",
       "23  On the Italian Riviera, an unlikely but strong...  \n",
       "24  A thirteen-year-old girl named Mei Lee is torn...  \n",
       "25  While spending years attempting to return home...  \n",
       "26  Follows Ember and Wade, in a city where fire-,...  \n",
       "27  A sequel that features Riley entering puberty ...  "
      ]
     },
     "execution_count": 15,
     "metadata": {},
     "output_type": "execute_result"
    }
   ],
   "source": [
    "# pixar_films_df"
   ]
  },
  {
   "cell_type": "code",
   "execution_count": null,
   "metadata": {},
   "outputs": [
    {
     "name": "stdout",
     "output_type": "stream",
     "text": [
      "<class 'pandas.core.frame.DataFrame'>\n",
      "RangeIndex: 28 entries, 0 to 27\n",
      "Data columns (total 6 columns):\n",
      " #   Column        Non-Null Count  Dtype \n",
      "---  ------        --------------  ----- \n",
      " 0   number        28 non-null     int64 \n",
      " 1   film          28 non-null     object\n",
      " 2   release_date  28 non-null     object\n",
      " 3   run_time      28 non-null     int64 \n",
      " 4   film_rating   28 non-null     object\n",
      " 5   plot          28 non-null     object\n",
      "dtypes: int64(2), object(4)\n",
      "memory usage: 1.4+ KB\n"
     ]
    }
   ],
   "source": [
    "# pixar_films_df.info()"
   ]
  },
  {
   "cell_type": "code",
   "execution_count": null,
   "metadata": {},
   "outputs": [
    {
     "data": {
      "application/vnd.microsoft.datawrangler.viewer.v0+json": {
       "columns": [
        {
         "name": "index",
         "rawType": "object",
         "type": "string"
        },
        {
         "name": "number",
         "rawType": "float64",
         "type": "float"
        },
        {
         "name": "run_time",
         "rawType": "float64",
         "type": "float"
        }
       ],
       "conversionMethod": "pd.DataFrame",
       "ref": "65afe0e8-36bd-421b-8687-83c1661cb39f",
       "rows": [
        [
         "count",
         "28.0",
         "28.0"
        ],
        [
         "mean",
         "14.5",
         "100.39285714285714"
        ],
        [
         "std",
         "8.225975119502044",
         "8.04772471049259"
        ],
        [
         "min",
         "1.0",
         "81.0"
        ],
        [
         "25%",
         "7.75",
         "95.0"
        ],
        [
         "50%",
         "14.5",
         "100.0"
        ],
        [
         "75%",
         "21.25",
         "104.25"
        ],
        [
         "max",
         "28.0",
         "118.0"
        ]
       ],
       "shape": {
        "columns": 2,
        "rows": 8
       }
      },
      "text/html": [
       "<div>\n",
       "<style scoped>\n",
       "    .dataframe tbody tr th:only-of-type {\n",
       "        vertical-align: middle;\n",
       "    }\n",
       "\n",
       "    .dataframe tbody tr th {\n",
       "        vertical-align: top;\n",
       "    }\n",
       "\n",
       "    .dataframe thead th {\n",
       "        text-align: right;\n",
       "    }\n",
       "</style>\n",
       "<table border=\"1\" class=\"dataframe\">\n",
       "  <thead>\n",
       "    <tr style=\"text-align: right;\">\n",
       "      <th></th>\n",
       "      <th>number</th>\n",
       "      <th>run_time</th>\n",
       "    </tr>\n",
       "  </thead>\n",
       "  <tbody>\n",
       "    <tr>\n",
       "      <th>count</th>\n",
       "      <td>28.000000</td>\n",
       "      <td>28.000000</td>\n",
       "    </tr>\n",
       "    <tr>\n",
       "      <th>mean</th>\n",
       "      <td>14.500000</td>\n",
       "      <td>100.392857</td>\n",
       "    </tr>\n",
       "    <tr>\n",
       "      <th>std</th>\n",
       "      <td>8.225975</td>\n",
       "      <td>8.047725</td>\n",
       "    </tr>\n",
       "    <tr>\n",
       "      <th>min</th>\n",
       "      <td>1.000000</td>\n",
       "      <td>81.000000</td>\n",
       "    </tr>\n",
       "    <tr>\n",
       "      <th>25%</th>\n",
       "      <td>7.750000</td>\n",
       "      <td>95.000000</td>\n",
       "    </tr>\n",
       "    <tr>\n",
       "      <th>50%</th>\n",
       "      <td>14.500000</td>\n",
       "      <td>100.000000</td>\n",
       "    </tr>\n",
       "    <tr>\n",
       "      <th>75%</th>\n",
       "      <td>21.250000</td>\n",
       "      <td>104.250000</td>\n",
       "    </tr>\n",
       "    <tr>\n",
       "      <th>max</th>\n",
       "      <td>28.000000</td>\n",
       "      <td>118.000000</td>\n",
       "    </tr>\n",
       "  </tbody>\n",
       "</table>\n",
       "</div>"
      ],
      "text/plain": [
       "          number    run_time\n",
       "count  28.000000   28.000000\n",
       "mean   14.500000  100.392857\n",
       "std     8.225975    8.047725\n",
       "min     1.000000   81.000000\n",
       "25%     7.750000   95.000000\n",
       "50%    14.500000  100.000000\n",
       "75%    21.250000  104.250000\n",
       "max    28.000000  118.000000"
      ]
     },
     "execution_count": 17,
     "metadata": {},
     "output_type": "execute_result"
    }
   ],
   "source": [
    "# pixar_films_df.describe()"
   ]
  },
  {
   "cell_type": "code",
   "execution_count": 53,
   "metadata": {},
   "outputs": [
    {
     "name": "stderr",
     "output_type": "stream",
     "text": [
      "C:\\Users\\Aditya Dixit\\AppData\\Local\\Temp\\ipykernel_16860\\3909387763.py:1: UserWarning: Parsing dates in DD/MM/YYYY format when dayfirst=False (the default) was specified. This may lead to inconsistently parsed dates! Specify a format to ensure consistent parsing.\n",
      "  pixar_films_df['release_date'] = pd.to_datetime(pixar_films_df['release_date']).dt.strftime('%d-%m-%Y')\n"
     ]
    }
   ],
   "source": [
    "pixar_films_df['release_date'] = pd.to_datetime(pixar_films_df['release_date']).dt.strftime('%d-%m-%Y')\n",
    "\n",
    "# pixar_films_df.head()"
   ]
  },
  {
   "cell_type": "code",
   "execution_count": 36,
   "metadata": {},
   "outputs": [],
   "source": [
    "film_ratings_df = pd.DataFrame({\n",
    "    'film_rating': pixar_films_df['film_rating'].unique()\n",
    "}).reset_index().rename(columns={'index': 'film_rating_id'})\n",
    "\n",
    "# film_ratings_df"
   ]
  },
  {
   "cell_type": "code",
   "execution_count": 37,
   "metadata": {},
   "outputs": [],
   "source": [
    "merged_df = pixar_films_df.merge(film_ratings_df, how='inner', on='film_rating')\n",
    "\n",
    "pixar_films_df = merged_df.drop(columns=['film_rating'])\n",
    "\n",
    "# pixar_films_df"
   ]
  },
  {
   "cell_type": "code",
   "execution_count": 38,
   "metadata": {},
   "outputs": [
    {
     "data": {
      "application/vnd.microsoft.datawrangler.viewer.v0+json": {
       "columns": [
        {
         "name": "index",
         "rawType": "int64",
         "type": "integer"
        },
        {
         "name": "number",
         "rawType": "int64",
         "type": "integer"
        },
        {
         "name": "film",
         "rawType": "object",
         "type": "string"
        }
       ],
       "ref": "a32c8dd5-97b8-4640-9947-e30f536918c0",
       "rows": [
        [
         "0",
         "1",
         "Toy Story"
        ],
        [
         "1",
         "2",
         "A Bug's Life"
        ],
        [
         "2",
         "3",
         "Toy Story 2"
        ],
        [
         "3",
         "4",
         "Monsters, Inc."
        ],
        [
         "4",
         "5",
         "Finding Nemo"
        ]
       ],
       "shape": {
        "columns": 2,
        "rows": 5
       }
      },
      "text/html": [
       "<div>\n",
       "<style scoped>\n",
       "    .dataframe tbody tr th:only-of-type {\n",
       "        vertical-align: middle;\n",
       "    }\n",
       "\n",
       "    .dataframe tbody tr th {\n",
       "        vertical-align: top;\n",
       "    }\n",
       "\n",
       "    .dataframe thead th {\n",
       "        text-align: right;\n",
       "    }\n",
       "</style>\n",
       "<table border=\"1\" class=\"dataframe\">\n",
       "  <thead>\n",
       "    <tr style=\"text-align: right;\">\n",
       "      <th></th>\n",
       "      <th>number</th>\n",
       "      <th>film</th>\n",
       "    </tr>\n",
       "  </thead>\n",
       "  <tbody>\n",
       "    <tr>\n",
       "      <th>0</th>\n",
       "      <td>1</td>\n",
       "      <td>Toy Story</td>\n",
       "    </tr>\n",
       "    <tr>\n",
       "      <th>1</th>\n",
       "      <td>2</td>\n",
       "      <td>A Bug's Life</td>\n",
       "    </tr>\n",
       "    <tr>\n",
       "      <th>2</th>\n",
       "      <td>3</td>\n",
       "      <td>Toy Story 2</td>\n",
       "    </tr>\n",
       "    <tr>\n",
       "      <th>3</th>\n",
       "      <td>4</td>\n",
       "      <td>Monsters, Inc.</td>\n",
       "    </tr>\n",
       "    <tr>\n",
       "      <th>4</th>\n",
       "      <td>5</td>\n",
       "      <td>Finding Nemo</td>\n",
       "    </tr>\n",
       "  </tbody>\n",
       "</table>\n",
       "</div>"
      ],
      "text/plain": [
       "   number            film\n",
       "0       1       Toy Story\n",
       "1       2    A Bug's Life\n",
       "2       3     Toy Story 2\n",
       "3       4  Monsters, Inc.\n",
       "4       5    Finding Nemo"
      ]
     },
     "execution_count": 38,
     "metadata": {},
     "output_type": "execute_result"
    }
   ],
   "source": [
    "films_df = pixar_films_df[['number', 'film']]\n",
    "\n",
    "films_df.head()"
   ]
  },
  {
   "cell_type": "code",
   "execution_count": null,
   "metadata": {},
   "outputs": [
    {
     "data": {
      "text/plain": [
       "Index(['number', 'film', 'release_date', 'run_time', 'plot', 'film_rating_id'], dtype='object')"
      ]
     },
     "execution_count": 21,
     "metadata": {},
     "output_type": "execute_result"
    }
   ],
   "source": [
    "# pixar_films_df.columns"
   ]
  },
  {
   "cell_type": "code",
   "execution_count": null,
   "metadata": {},
   "outputs": [],
   "source": [
    "# film_ratings_df.to_csv(\"film_ratings.csv\", index=False)\n",
    "\n",
    "# pixar_films_df.to_csv(\"pixar_films.csv\", index=False)\n",
    "\n",
    "# films_df.to_csv(\"films_df.csv\", index=False)"
   ]
  },
  {
   "cell_type": "markdown",
   "metadata": {},
   "source": [
    "# pixar_people_df"
   ]
  },
  {
   "cell_type": "code",
   "execution_count": null,
   "metadata": {},
   "outputs": [
    {
     "data": {
      "application/vnd.microsoft.datawrangler.viewer.v0+json": {
       "columns": [
        {
         "name": "index",
         "rawType": "int64",
         "type": "integer"
        },
        {
         "name": "film",
         "rawType": "object",
         "type": "string"
        },
        {
         "name": "role_type",
         "rawType": "object",
         "type": "string"
        },
        {
         "name": "name",
         "rawType": "object",
         "type": "string"
        }
       ],
       "conversionMethod": "pd.DataFrame",
       "ref": "a175d336-efe8-408f-bc06-7dcc87419f76",
       "rows": [
        [
         "0",
         "Toy Story",
         "Director",
         "John Lasseter"
        ],
        [
         "1",
         "Toy Story",
         "Musician",
         "Randy Newman"
        ],
        [
         "2",
         "Toy Story",
         "Producer",
         "Bonnie Arnold"
        ],
        [
         "3",
         "Toy Story",
         "Producer",
         "Ralph Guggenheim"
        ],
        [
         "4",
         "Toy Story",
         "Screenwriter",
         "Joel Cohen"
        ],
        [
         "5",
         "Toy Story",
         "Screenwriter",
         "Alec Sokolow"
        ],
        [
         "6",
         "Toy Story",
         "Screenwriter",
         "Andrew Stanton"
        ],
        [
         "7",
         "Toy Story",
         "Screenwriter",
         "Joss Whedon"
        ],
        [
         "8",
         "Toy Story",
         "Storywriter",
         "Pete Docter"
        ],
        [
         "9",
         "Toy Story",
         "Storywriter",
         "John Lasseter"
        ],
        [
         "10",
         "Toy Story",
         "Storywriter",
         "Joe Ranft"
        ],
        [
         "11",
         "Toy Story",
         "Storywriter",
         "Andrew Stanton"
        ],
        [
         "12",
         "A Bug's Life",
         "Co-director",
         "Andrew Stanton"
        ],
        [
         "13",
         "A Bug's Life",
         "Director",
         "John Lasseter"
        ],
        [
         "14",
         "A Bug's Life",
         "Musician",
         "Randy Newman"
        ],
        [
         "15",
         "A Bug's Life",
         "Producer",
         "Darla K. Anderson"
        ],
        [
         "16",
         "A Bug's Life",
         "Producer",
         "Kevin Reher"
        ],
        [
         "17",
         "A Bug's Life",
         "Screenwriter",
         "Donald McEnery"
        ],
        [
         "18",
         "A Bug's Life",
         "Screenwriter",
         "Bob Shaw"
        ],
        [
         "19",
         "A Bug's Life",
         "Screenwriter",
         "Andrew Stanton"
        ],
        [
         "20",
         "A Bug's Life",
         "Storywriter",
         "John Lasseter"
        ],
        [
         "21",
         "A Bug's Life",
         "Storywriter",
         "Joe Ranft"
        ],
        [
         "22",
         "A Bug's Life",
         "Storywriter",
         "Andrew Stanton"
        ],
        [
         "23",
         "Toy Story 2",
         "Co-director",
         "Ash Brannon"
        ],
        [
         "24",
         "Toy Story 2",
         "Co-director",
         "Lee Unkrich"
        ],
        [
         "25",
         "Toy Story 2",
         "Director",
         "John Lasseter"
        ],
        [
         "26",
         "Toy Story 2",
         "Musician",
         "Randy Newman"
        ],
        [
         "27",
         "Toy Story 2",
         "Producer",
         "Karen Robert Jackson"
        ],
        [
         "28",
         "Toy Story 2",
         "Producer",
         "Helene Plotkin"
        ],
        [
         "29",
         "Toy Story 2",
         "Screenwriter",
         "Doug Chamberlin"
        ],
        [
         "30",
         "Toy Story 2",
         "Screenwriter",
         "Rita Hsiao"
        ],
        [
         "31",
         "Toy Story 2",
         "Screenwriter",
         "Andrew Stanton"
        ],
        [
         "32",
         "Toy Story 2",
         "Screenwriter",
         "Chris Webb"
        ],
        [
         "33",
         "Toy Story 2",
         "Storywriter",
         "Ash Brannon"
        ],
        [
         "34",
         "Toy Story 2",
         "Storywriter",
         "Pete Docter"
        ],
        [
         "35",
         "Toy Story 2",
         "Storywriter",
         "John Lasseter"
        ],
        [
         "36",
         "Toy Story 2",
         "Storywriter",
         "Andrew Stanton"
        ],
        [
         "37",
         "Monsters, Inc.",
         "Co-director",
         "David Silverman"
        ],
        [
         "38",
         "Monsters, Inc.",
         "Co-director",
         "Lee Unkrich"
        ],
        [
         "39",
         "Monsters, Inc.",
         "Director",
         "Pete Docter"
        ],
        [
         "40",
         "Monsters, Inc.",
         "Musician",
         "Randy Newman"
        ],
        [
         "41",
         "Monsters, Inc.",
         "Producer",
         "Darla K. Anderson"
        ],
        [
         "42",
         "Monsters, Inc.",
         "Screenwriter",
         "Dan Gerson"
        ],
        [
         "43",
         "Monsters, Inc.",
         "Screenwriter",
         "Andrew Stanton"
        ],
        [
         "44",
         "Monsters, Inc.",
         "Storywriter",
         "Jill Culton"
        ],
        [
         "45",
         "Monsters, Inc.",
         "Storywriter",
         "Pete Docter"
        ],
        [
         "46",
         "Monsters, Inc.",
         "Storywriter",
         "Ralph Eggleston"
        ],
        [
         "47",
         "Monsters, Inc.",
         "Storywriter",
         "Jeff Pidgeon"
        ],
        [
         "48",
         "Finding Nemo",
         "Co-director",
         "Lee Unkrich"
        ],
        [
         "49",
         "Finding Nemo",
         "Director",
         "Andrew Stanton"
        ]
       ],
       "shape": {
        "columns": 3,
        "rows": 260
       }
      },
      "text/html": [
       "<div>\n",
       "<style scoped>\n",
       "    .dataframe tbody tr th:only-of-type {\n",
       "        vertical-align: middle;\n",
       "    }\n",
       "\n",
       "    .dataframe tbody tr th {\n",
       "        vertical-align: top;\n",
       "    }\n",
       "\n",
       "    .dataframe thead th {\n",
       "        text-align: right;\n",
       "    }\n",
       "</style>\n",
       "<table border=\"1\" class=\"dataframe\">\n",
       "  <thead>\n",
       "    <tr style=\"text-align: right;\">\n",
       "      <th></th>\n",
       "      <th>film</th>\n",
       "      <th>role_type</th>\n",
       "      <th>name</th>\n",
       "    </tr>\n",
       "  </thead>\n",
       "  <tbody>\n",
       "    <tr>\n",
       "      <th>0</th>\n",
       "      <td>Toy Story</td>\n",
       "      <td>Director</td>\n",
       "      <td>John Lasseter</td>\n",
       "    </tr>\n",
       "    <tr>\n",
       "      <th>1</th>\n",
       "      <td>Toy Story</td>\n",
       "      <td>Musician</td>\n",
       "      <td>Randy Newman</td>\n",
       "    </tr>\n",
       "    <tr>\n",
       "      <th>2</th>\n",
       "      <td>Toy Story</td>\n",
       "      <td>Producer</td>\n",
       "      <td>Bonnie Arnold</td>\n",
       "    </tr>\n",
       "    <tr>\n",
       "      <th>3</th>\n",
       "      <td>Toy Story</td>\n",
       "      <td>Producer</td>\n",
       "      <td>Ralph Guggenheim</td>\n",
       "    </tr>\n",
       "    <tr>\n",
       "      <th>4</th>\n",
       "      <td>Toy Story</td>\n",
       "      <td>Screenwriter</td>\n",
       "      <td>Joel Cohen</td>\n",
       "    </tr>\n",
       "    <tr>\n",
       "      <th>...</th>\n",
       "      <td>...</td>\n",
       "      <td>...</td>\n",
       "      <td>...</td>\n",
       "    </tr>\n",
       "    <tr>\n",
       "      <th>255</th>\n",
       "      <td>Inside Out 2</td>\n",
       "      <td>Producer</td>\n",
       "      <td>Mark Nielsen</td>\n",
       "    </tr>\n",
       "    <tr>\n",
       "      <th>256</th>\n",
       "      <td>Inside Out 2</td>\n",
       "      <td>Screenwriter</td>\n",
       "      <td>Dave Holstein</td>\n",
       "    </tr>\n",
       "    <tr>\n",
       "      <th>257</th>\n",
       "      <td>Inside Out 2</td>\n",
       "      <td>Screenwriter</td>\n",
       "      <td>Meg LeFauve</td>\n",
       "    </tr>\n",
       "    <tr>\n",
       "      <th>258</th>\n",
       "      <td>Inside Out 2</td>\n",
       "      <td>Storywriter</td>\n",
       "      <td>Meg LeFauve</td>\n",
       "    </tr>\n",
       "    <tr>\n",
       "      <th>259</th>\n",
       "      <td>Inside Out 2</td>\n",
       "      <td>Storywriter</td>\n",
       "      <td>Kelsey Mann</td>\n",
       "    </tr>\n",
       "  </tbody>\n",
       "</table>\n",
       "<p>260 rows × 3 columns</p>\n",
       "</div>"
      ],
      "text/plain": [
       "             film     role_type              name\n",
       "0       Toy Story      Director     John Lasseter\n",
       "1       Toy Story      Musician      Randy Newman\n",
       "2       Toy Story      Producer     Bonnie Arnold\n",
       "3       Toy Story      Producer  Ralph Guggenheim\n",
       "4       Toy Story  Screenwriter        Joel Cohen\n",
       "..            ...           ...               ...\n",
       "255  Inside Out 2      Producer      Mark Nielsen\n",
       "256  Inside Out 2  Screenwriter     Dave Holstein\n",
       "257  Inside Out 2  Screenwriter       Meg LeFauve\n",
       "258  Inside Out 2   Storywriter       Meg LeFauve\n",
       "259  Inside Out 2   Storywriter       Kelsey Mann\n",
       "\n",
       "[260 rows x 3 columns]"
      ]
     },
     "execution_count": 23,
     "metadata": {},
     "output_type": "execute_result"
    }
   ],
   "source": [
    "# pixar_people_df"
   ]
  },
  {
   "cell_type": "code",
   "execution_count": null,
   "metadata": {},
   "outputs": [
    {
     "data": {
      "text/plain": [
       "Index(['film', 'role_type', 'name'], dtype='object')"
      ]
     },
     "execution_count": 24,
     "metadata": {},
     "output_type": "execute_result"
    }
   ],
   "source": [
    "pixar_people_df.columns"
   ]
  },
  {
   "cell_type": "code",
   "execution_count": null,
   "metadata": {},
   "outputs": [
    {
     "name": "stdout",
     "output_type": "stream",
     "text": [
      "<class 'pandas.core.frame.DataFrame'>\n",
      "RangeIndex: 260 entries, 0 to 259\n",
      "Data columns (total 3 columns):\n",
      " #   Column     Non-Null Count  Dtype \n",
      "---  ------     --------------  ----- \n",
      " 0   film       260 non-null    object\n",
      " 1   role_type  260 non-null    object\n",
      " 2   name       260 non-null    object\n",
      "dtypes: object(3)\n",
      "memory usage: 6.2+ KB\n"
     ]
    }
   ],
   "source": [
    "# pixar_people_df.info()"
   ]
  },
  {
   "cell_type": "code",
   "execution_count": null,
   "metadata": {},
   "outputs": [
    {
     "data": {
      "application/vnd.microsoft.datawrangler.viewer.v0+json": {
       "columns": [
        {
         "name": "index",
         "rawType": "object",
         "type": "string"
        },
        {
         "name": "film",
         "rawType": "object",
         "type": "string"
        },
        {
         "name": "role_type",
         "rawType": "object",
         "type": "string"
        },
        {
         "name": "name",
         "rawType": "object",
         "type": "string"
        }
       ],
       "conversionMethod": "pd.DataFrame",
       "ref": "bf74ff7a-26e9-4496-a57c-0fa8e3d4a30e",
       "rows": [
        [
         "count",
         "260",
         "260",
         "260"
        ],
        [
         "unique",
         "28",
         "6",
         "95"
        ],
        [
         "top",
         "Toy Story 2",
         "Storywriter",
         "Andrew Stanton"
        ],
        [
         "freq",
         "14",
         "84",
         "20"
        ]
       ],
       "shape": {
        "columns": 3,
        "rows": 4
       }
      },
      "text/html": [
       "<div>\n",
       "<style scoped>\n",
       "    .dataframe tbody tr th:only-of-type {\n",
       "        vertical-align: middle;\n",
       "    }\n",
       "\n",
       "    .dataframe tbody tr th {\n",
       "        vertical-align: top;\n",
       "    }\n",
       "\n",
       "    .dataframe thead th {\n",
       "        text-align: right;\n",
       "    }\n",
       "</style>\n",
       "<table border=\"1\" class=\"dataframe\">\n",
       "  <thead>\n",
       "    <tr style=\"text-align: right;\">\n",
       "      <th></th>\n",
       "      <th>film</th>\n",
       "      <th>role_type</th>\n",
       "      <th>name</th>\n",
       "    </tr>\n",
       "  </thead>\n",
       "  <tbody>\n",
       "    <tr>\n",
       "      <th>count</th>\n",
       "      <td>260</td>\n",
       "      <td>260</td>\n",
       "      <td>260</td>\n",
       "    </tr>\n",
       "    <tr>\n",
       "      <th>unique</th>\n",
       "      <td>28</td>\n",
       "      <td>6</td>\n",
       "      <td>95</td>\n",
       "    </tr>\n",
       "    <tr>\n",
       "      <th>top</th>\n",
       "      <td>Toy Story 2</td>\n",
       "      <td>Storywriter</td>\n",
       "      <td>Andrew Stanton</td>\n",
       "    </tr>\n",
       "    <tr>\n",
       "      <th>freq</th>\n",
       "      <td>14</td>\n",
       "      <td>84</td>\n",
       "      <td>20</td>\n",
       "    </tr>\n",
       "  </tbody>\n",
       "</table>\n",
       "</div>"
      ],
      "text/plain": [
       "               film    role_type            name\n",
       "count           260          260             260\n",
       "unique           28            6              95\n",
       "top     Toy Story 2  Storywriter  Andrew Stanton\n",
       "freq             14           84              20"
      ]
     },
     "execution_count": 26,
     "metadata": {},
     "output_type": "execute_result"
    }
   ],
   "source": [
    "# pixar_people_df.describe()"
   ]
  },
  {
   "cell_type": "code",
   "execution_count": null,
   "metadata": {},
   "outputs": [],
   "source": [
    "people_df = pd.DataFrame({\n",
    "\n",
    "    'name':pixar_people_df['name'].unique()\n",
    "}).reset_index().rename(columns={'index':'poeple_id'})\n",
    "\n",
    "# people_df"
   ]
  },
  {
   "cell_type": "code",
   "execution_count": null,
   "metadata": {},
   "outputs": [],
   "source": [
    "role_types_df = pd.DataFrame({\n",
    "    'role_type':pixar_people_df['role_type'].unique()\n",
    "}).reset_index().rename(columns={'index':'role_type_id'})\n",
    "\n",
    "# role_types_df"
   ]
  },
  {
   "cell_type": "code",
   "execution_count": null,
   "metadata": {},
   "outputs": [],
   "source": [
    "merged_df_1 = pixar_people_df.merge(people_df, how='inner', on='name')\n",
    "\n",
    "pixar_people_df = merged_df_1.drop(columns=['name'])"
   ]
  },
  {
   "cell_type": "code",
   "execution_count": null,
   "metadata": {},
   "outputs": [],
   "source": [
    "merged_df_2 = pixar_people_df.merge(role_types_df, how='inner', on='role_type')\n",
    "\n",
    "pixar_people_df = merged_df_2.drop(columns=['role_type'])"
   ]
  },
  {
   "cell_type": "code",
   "execution_count": null,
   "metadata": {},
   "outputs": [
    {
     "data": {
      "application/vnd.microsoft.datawrangler.viewer.v0+json": {
       "columns": [
        {
         "name": "index",
         "rawType": "int64",
         "type": "integer"
        },
        {
         "name": "poeple_id",
         "rawType": "int64",
         "type": "integer"
        },
        {
         "name": "role_type_id",
         "rawType": "int64",
         "type": "integer"
        },
        {
         "name": "number",
         "rawType": "int64",
         "type": "integer"
        }
       ],
       "conversionMethod": "pd.DataFrame",
       "ref": "5c44a075-81a0-4a5a-b26a-beb26f372d1a",
       "rows": [
        [
         "0",
         "0",
         "0",
         "1"
        ],
        [
         "1",
         "0",
         "4",
         "1"
        ],
        [
         "2",
         "6",
         "4",
         "1"
        ],
        [
         "3",
         "8",
         "4",
         "1"
        ],
        [
         "4",
         "9",
         "4",
         "1"
        ],
        [
         "5",
         "4",
         "3",
         "1"
        ],
        [
         "6",
         "5",
         "3",
         "1"
        ],
        [
         "7",
         "6",
         "3",
         "1"
        ],
        [
         "8",
         "7",
         "3",
         "1"
        ],
        [
         "9",
         "1",
         "1",
         "1"
        ],
        [
         "10",
         "2",
         "2",
         "1"
        ],
        [
         "11",
         "3",
         "2",
         "1"
        ],
        [
         "12",
         "0",
         "0",
         "2"
        ],
        [
         "13",
         "0",
         "4",
         "2"
        ],
        [
         "14",
         "6",
         "4",
         "2"
        ],
        [
         "15",
         "9",
         "4",
         "2"
        ],
        [
         "16",
         "6",
         "3",
         "2"
        ],
        [
         "17",
         "12",
         "3",
         "2"
        ],
        [
         "18",
         "13",
         "3",
         "2"
        ],
        [
         "19",
         "1",
         "1",
         "2"
        ],
        [
         "20",
         "10",
         "2",
         "2"
        ],
        [
         "21",
         "11",
         "2",
         "2"
        ],
        [
         "22",
         "6",
         "5",
         "2"
        ],
        [
         "23",
         "0",
         "0",
         "3"
        ],
        [
         "24",
         "0",
         "4",
         "3"
        ],
        [
         "25",
         "6",
         "4",
         "3"
        ],
        [
         "26",
         "8",
         "4",
         "3"
        ],
        [
         "27",
         "14",
         "4",
         "3"
        ],
        [
         "28",
         "6",
         "3",
         "3"
        ],
        [
         "29",
         "18",
         "3",
         "3"
        ],
        [
         "30",
         "19",
         "3",
         "3"
        ],
        [
         "31",
         "20",
         "3",
         "3"
        ],
        [
         "32",
         "1",
         "1",
         "3"
        ],
        [
         "33",
         "16",
         "2",
         "3"
        ],
        [
         "34",
         "17",
         "2",
         "3"
        ],
        [
         "35",
         "14",
         "5",
         "3"
        ],
        [
         "36",
         "15",
         "5",
         "3"
        ],
        [
         "37",
         "0",
         "0",
         "7"
        ],
        [
         "38",
         "0",
         "4",
         "7"
        ],
        [
         "39",
         "9",
         "4",
         "7"
        ],
        [
         "40",
         "34",
         "4",
         "7"
        ],
        [
         "41",
         "0",
         "3",
         "7"
        ],
        [
         "42",
         "9",
         "3",
         "7"
        ],
        [
         "43",
         "33",
         "3",
         "7"
        ],
        [
         "44",
         "34",
         "3",
         "7"
        ],
        [
         "45",
         "35",
         "3",
         "7"
        ],
        [
         "46",
         "36",
         "3",
         "7"
        ],
        [
         "47",
         "1",
         "1",
         "7"
        ],
        [
         "48",
         "10",
         "2",
         "7"
        ],
        [
         "49",
         "9",
         "5",
         "7"
        ]
       ],
       "shape": {
        "columns": 3,
        "rows": 260
       }
      },
      "text/html": [
       "<div>\n",
       "<style scoped>\n",
       "    .dataframe tbody tr th:only-of-type {\n",
       "        vertical-align: middle;\n",
       "    }\n",
       "\n",
       "    .dataframe tbody tr th {\n",
       "        vertical-align: top;\n",
       "    }\n",
       "\n",
       "    .dataframe thead th {\n",
       "        text-align: right;\n",
       "    }\n",
       "</style>\n",
       "<table border=\"1\" class=\"dataframe\">\n",
       "  <thead>\n",
       "    <tr style=\"text-align: right;\">\n",
       "      <th></th>\n",
       "      <th>poeple_id</th>\n",
       "      <th>role_type_id</th>\n",
       "      <th>number</th>\n",
       "    </tr>\n",
       "  </thead>\n",
       "  <tbody>\n",
       "    <tr>\n",
       "      <th>0</th>\n",
       "      <td>0</td>\n",
       "      <td>0</td>\n",
       "      <td>1</td>\n",
       "    </tr>\n",
       "    <tr>\n",
       "      <th>1</th>\n",
       "      <td>0</td>\n",
       "      <td>4</td>\n",
       "      <td>1</td>\n",
       "    </tr>\n",
       "    <tr>\n",
       "      <th>2</th>\n",
       "      <td>6</td>\n",
       "      <td>4</td>\n",
       "      <td>1</td>\n",
       "    </tr>\n",
       "    <tr>\n",
       "      <th>3</th>\n",
       "      <td>8</td>\n",
       "      <td>4</td>\n",
       "      <td>1</td>\n",
       "    </tr>\n",
       "    <tr>\n",
       "      <th>4</th>\n",
       "      <td>9</td>\n",
       "      <td>4</td>\n",
       "      <td>1</td>\n",
       "    </tr>\n",
       "    <tr>\n",
       "      <th>...</th>\n",
       "      <td>...</td>\n",
       "      <td>...</td>\n",
       "      <td>...</td>\n",
       "    </tr>\n",
       "    <tr>\n",
       "      <th>255</th>\n",
       "      <td>88</td>\n",
       "      <td>4</td>\n",
       "      <td>25</td>\n",
       "    </tr>\n",
       "    <tr>\n",
       "      <th>256</th>\n",
       "      <td>85</td>\n",
       "      <td>3</td>\n",
       "      <td>25</td>\n",
       "    </tr>\n",
       "    <tr>\n",
       "      <th>257</th>\n",
       "      <td>87</td>\n",
       "      <td>3</td>\n",
       "      <td>25</td>\n",
       "    </tr>\n",
       "    <tr>\n",
       "      <th>258</th>\n",
       "      <td>86</td>\n",
       "      <td>1</td>\n",
       "      <td>25</td>\n",
       "    </tr>\n",
       "    <tr>\n",
       "      <th>259</th>\n",
       "      <td>61</td>\n",
       "      <td>2</td>\n",
       "      <td>25</td>\n",
       "    </tr>\n",
       "  </tbody>\n",
       "</table>\n",
       "<p>260 rows × 3 columns</p>\n",
       "</div>"
      ],
      "text/plain": [
       "     poeple_id  role_type_id  number\n",
       "0            0             0       1\n",
       "1            0             4       1\n",
       "2            6             4       1\n",
       "3            8             4       1\n",
       "4            9             4       1\n",
       "..         ...           ...     ...\n",
       "255         88             4      25\n",
       "256         85             3      25\n",
       "257         87             3      25\n",
       "258         86             1      25\n",
       "259         61             2      25\n",
       "\n",
       "[260 rows x 3 columns]"
      ]
     },
     "execution_count": 32,
     "metadata": {},
     "output_type": "execute_result"
    }
   ],
   "source": [
    "merged_df_3 = pixar_people_df.merge(pixar_films_df, how='inner', on='film')\n",
    "\n",
    "pixar_people_df = merged_df_3.drop(columns=['film', 'release_date', 'run_time', 'plot', 'film_rating_id'])\n",
    "\n",
    "# pixar_people_df"
   ]
  },
  {
   "cell_type": "code",
   "execution_count": null,
   "metadata": {},
   "outputs": [],
   "source": [
    "# people_df.to_csv(\"people.csv\", index=False)\n",
    "# role_types_df.to_csv(\"role_types.csv\", index=False)\n",
    "# pixar_people_df.to_csv(\"pixar_people.csv\", index=False)\n"
   ]
  },
  {
   "cell_type": "markdown",
   "metadata": {},
   "source": [
    "# public_response_df"
   ]
  },
  {
   "cell_type": "code",
   "execution_count": null,
   "metadata": {},
   "outputs": [
    {
     "data": {
      "application/vnd.microsoft.datawrangler.viewer.v0+json": {
       "columns": [
        {
         "name": "index",
         "rawType": "int64",
         "type": "integer"
        },
        {
         "name": "film",
         "rawType": "object",
         "type": "string"
        },
        {
         "name": "rotten_tomatoes_score",
         "rawType": "int64",
         "type": "integer"
        },
        {
         "name": "rotten_tomatoes_counts",
         "rawType": "int64",
         "type": "integer"
        },
        {
         "name": "metacritic_score",
         "rawType": "int64",
         "type": "integer"
        },
        {
         "name": "metacritic_counts",
         "rawType": "int64",
         "type": "integer"
        },
        {
         "name": "cinema_score",
         "rawType": "object",
         "type": "string"
        },
        {
         "name": "imdb_score",
         "rawType": "float64",
         "type": "float"
        },
        {
         "name": "imdb_counts",
         "rawType": "int64",
         "type": "integer"
        }
       ],
       "conversionMethod": "pd.DataFrame",
       "ref": "ae9f6c22-5091-434a-b9cd-da39fb1d625f",
       "rows": [
        [
         "0",
         "Toy Story",
         "100",
         "96",
         "95",
         "26",
         "A",
         "8.3",
         "1089101"
        ],
        [
         "1",
         "A Bug's Life",
         "92",
         "91",
         "78",
         "23",
         "A",
         "7.2",
         "319596"
        ],
        [
         "2",
         "Toy Story 2",
         "100",
         "172",
         "88",
         "34",
         "A+",
         "7.9",
         "630573"
        ],
        [
         "3",
         "Monsters, Inc.",
         "96",
         "199",
         "79",
         "35",
         "A+",
         "8.1",
         "1000657"
        ],
        [
         "4",
         "Finding Nemo",
         "99",
         "270",
         "90",
         "38",
         "A+",
         "8.2",
         "1132877"
        ],
        [
         "5",
         "The Incredibles",
         "97",
         "250",
         "90",
         "41",
         "A+",
         "8.0",
         "828986"
        ],
        [
         "6",
         "Cars",
         "75",
         "204",
         "73",
         "39",
         "A",
         "7.2",
         "484034"
        ],
        [
         "7",
         "Ratatouille",
         "96",
         "253",
         "96",
         "37",
         "A",
         "8.1",
         "851229"
        ],
        [
         "8",
         "WALL-E",
         "95",
         "261",
         "95",
         "39",
         "A",
         "8.4",
         "1226415"
        ],
        [
         "9",
         "Up",
         "98",
         "297",
         "88",
         "37",
         "A+",
         "8.3",
         "1151249"
        ],
        [
         "10",
         "Toy Story 3",
         "98",
         "313",
         "92",
         "39",
         "A",
         "8.3",
         "908222"
        ],
        [
         "11",
         "Cars 2",
         "40",
         "220",
         "57",
         "38",
         "A-",
         "6.2",
         "225724"
        ],
        [
         "12",
         "Brave",
         "79",
         "256",
         "69",
         "37",
         "A",
         "7.1",
         "452012"
        ],
        [
         "13",
         "Monsters University",
         "80",
         "203",
         "65",
         "41",
         "A",
         "7.2",
         "398903"
        ],
        [
         "14",
         "Inside Out",
         "98",
         "387",
         "94",
         "55",
         "A",
         "8.1",
         "834268"
        ],
        [
         "15",
         "The Good Dinosaur",
         "75",
         "220",
         "66",
         "37",
         "A",
         "6.7",
         "130324"
        ],
        [
         "16",
         "Finding Dory",
         "94",
         "339",
         "77",
         "48",
         "A",
         "7.2",
         "311793"
        ],
        [
         "17",
         "Cars 3",
         "69",
         "234",
         "59",
         "41",
         "A",
         "6.7",
         "128849"
        ],
        [
         "18",
         "Coco",
         "97",
         "357",
         "81",
         "48",
         "A+",
         "8.4",
         "618005"
        ],
        [
         "19",
         "Incredibles 2",
         "93",
         "390",
         "80",
         "51",
         "A+",
         "7.5",
         "341353"
        ],
        [
         "20",
         "Toy Story 4",
         "97",
         "459",
         "84",
         "57",
         "A",
         "7.6",
         "288783"
        ],
        [
         "21",
         "Onward",
         "88",
         "350",
         "64",
         "56",
         "A-",
         "7.4",
         "174917"
        ],
        [
         "22",
         "Soul",
         "95",
         "360",
         "83",
         "55",
         null,
         "8.0",
         "392783"
        ],
        [
         "23",
         "Luca",
         "91",
         "303",
         "71",
         "52",
         null,
         "7.4",
         "202404"
        ],
        [
         "24",
         "Turning Red",
         "95",
         "289",
         "83",
         "52",
         null,
         "7.0",
         "158649"
        ],
        [
         "25",
         "Lightyear",
         "74",
         "319",
         "60",
         "57",
         "A-",
         "6.1",
         "127045"
        ],
        [
         "26",
         "Elemental",
         "73",
         "262",
         "58",
         "45",
         "A",
         "7.0",
         "140174"
        ],
        [
         "27",
         "Inside Out 2",
         "90",
         "313",
         "73",
         "59",
         "A",
         "7.6",
         "168090"
        ]
       ],
       "shape": {
        "columns": 8,
        "rows": 28
       }
      },
      "text/html": [
       "<div>\n",
       "<style scoped>\n",
       "    .dataframe tbody tr th:only-of-type {\n",
       "        vertical-align: middle;\n",
       "    }\n",
       "\n",
       "    .dataframe tbody tr th {\n",
       "        vertical-align: top;\n",
       "    }\n",
       "\n",
       "    .dataframe thead th {\n",
       "        text-align: right;\n",
       "    }\n",
       "</style>\n",
       "<table border=\"1\" class=\"dataframe\">\n",
       "  <thead>\n",
       "    <tr style=\"text-align: right;\">\n",
       "      <th></th>\n",
       "      <th>film</th>\n",
       "      <th>rotten_tomatoes_score</th>\n",
       "      <th>rotten_tomatoes_counts</th>\n",
       "      <th>metacritic_score</th>\n",
       "      <th>metacritic_counts</th>\n",
       "      <th>cinema_score</th>\n",
       "      <th>imdb_score</th>\n",
       "      <th>imdb_counts</th>\n",
       "    </tr>\n",
       "  </thead>\n",
       "  <tbody>\n",
       "    <tr>\n",
       "      <th>0</th>\n",
       "      <td>Toy Story</td>\n",
       "      <td>100</td>\n",
       "      <td>96</td>\n",
       "      <td>95</td>\n",
       "      <td>26</td>\n",
       "      <td>A</td>\n",
       "      <td>8.3</td>\n",
       "      <td>1089101</td>\n",
       "    </tr>\n",
       "    <tr>\n",
       "      <th>1</th>\n",
       "      <td>A Bug's Life</td>\n",
       "      <td>92</td>\n",
       "      <td>91</td>\n",
       "      <td>78</td>\n",
       "      <td>23</td>\n",
       "      <td>A</td>\n",
       "      <td>7.2</td>\n",
       "      <td>319596</td>\n",
       "    </tr>\n",
       "    <tr>\n",
       "      <th>2</th>\n",
       "      <td>Toy Story 2</td>\n",
       "      <td>100</td>\n",
       "      <td>172</td>\n",
       "      <td>88</td>\n",
       "      <td>34</td>\n",
       "      <td>A+</td>\n",
       "      <td>7.9</td>\n",
       "      <td>630573</td>\n",
       "    </tr>\n",
       "    <tr>\n",
       "      <th>3</th>\n",
       "      <td>Monsters, Inc.</td>\n",
       "      <td>96</td>\n",
       "      <td>199</td>\n",
       "      <td>79</td>\n",
       "      <td>35</td>\n",
       "      <td>A+</td>\n",
       "      <td>8.1</td>\n",
       "      <td>1000657</td>\n",
       "    </tr>\n",
       "    <tr>\n",
       "      <th>4</th>\n",
       "      <td>Finding Nemo</td>\n",
       "      <td>99</td>\n",
       "      <td>270</td>\n",
       "      <td>90</td>\n",
       "      <td>38</td>\n",
       "      <td>A+</td>\n",
       "      <td>8.2</td>\n",
       "      <td>1132877</td>\n",
       "    </tr>\n",
       "    <tr>\n",
       "      <th>5</th>\n",
       "      <td>The Incredibles</td>\n",
       "      <td>97</td>\n",
       "      <td>250</td>\n",
       "      <td>90</td>\n",
       "      <td>41</td>\n",
       "      <td>A+</td>\n",
       "      <td>8.0</td>\n",
       "      <td>828986</td>\n",
       "    </tr>\n",
       "    <tr>\n",
       "      <th>6</th>\n",
       "      <td>Cars</td>\n",
       "      <td>75</td>\n",
       "      <td>204</td>\n",
       "      <td>73</td>\n",
       "      <td>39</td>\n",
       "      <td>A</td>\n",
       "      <td>7.2</td>\n",
       "      <td>484034</td>\n",
       "    </tr>\n",
       "    <tr>\n",
       "      <th>7</th>\n",
       "      <td>Ratatouille</td>\n",
       "      <td>96</td>\n",
       "      <td>253</td>\n",
       "      <td>96</td>\n",
       "      <td>37</td>\n",
       "      <td>A</td>\n",
       "      <td>8.1</td>\n",
       "      <td>851229</td>\n",
       "    </tr>\n",
       "    <tr>\n",
       "      <th>8</th>\n",
       "      <td>WALL-E</td>\n",
       "      <td>95</td>\n",
       "      <td>261</td>\n",
       "      <td>95</td>\n",
       "      <td>39</td>\n",
       "      <td>A</td>\n",
       "      <td>8.4</td>\n",
       "      <td>1226415</td>\n",
       "    </tr>\n",
       "    <tr>\n",
       "      <th>9</th>\n",
       "      <td>Up</td>\n",
       "      <td>98</td>\n",
       "      <td>297</td>\n",
       "      <td>88</td>\n",
       "      <td>37</td>\n",
       "      <td>A+</td>\n",
       "      <td>8.3</td>\n",
       "      <td>1151249</td>\n",
       "    </tr>\n",
       "    <tr>\n",
       "      <th>10</th>\n",
       "      <td>Toy Story 3</td>\n",
       "      <td>98</td>\n",
       "      <td>313</td>\n",
       "      <td>92</td>\n",
       "      <td>39</td>\n",
       "      <td>A</td>\n",
       "      <td>8.3</td>\n",
       "      <td>908222</td>\n",
       "    </tr>\n",
       "    <tr>\n",
       "      <th>11</th>\n",
       "      <td>Cars 2</td>\n",
       "      <td>40</td>\n",
       "      <td>220</td>\n",
       "      <td>57</td>\n",
       "      <td>38</td>\n",
       "      <td>A-</td>\n",
       "      <td>6.2</td>\n",
       "      <td>225724</td>\n",
       "    </tr>\n",
       "    <tr>\n",
       "      <th>12</th>\n",
       "      <td>Brave</td>\n",
       "      <td>79</td>\n",
       "      <td>256</td>\n",
       "      <td>69</td>\n",
       "      <td>37</td>\n",
       "      <td>A</td>\n",
       "      <td>7.1</td>\n",
       "      <td>452012</td>\n",
       "    </tr>\n",
       "    <tr>\n",
       "      <th>13</th>\n",
       "      <td>Monsters University</td>\n",
       "      <td>80</td>\n",
       "      <td>203</td>\n",
       "      <td>65</td>\n",
       "      <td>41</td>\n",
       "      <td>A</td>\n",
       "      <td>7.2</td>\n",
       "      <td>398903</td>\n",
       "    </tr>\n",
       "    <tr>\n",
       "      <th>14</th>\n",
       "      <td>Inside Out</td>\n",
       "      <td>98</td>\n",
       "      <td>387</td>\n",
       "      <td>94</td>\n",
       "      <td>55</td>\n",
       "      <td>A</td>\n",
       "      <td>8.1</td>\n",
       "      <td>834268</td>\n",
       "    </tr>\n",
       "    <tr>\n",
       "      <th>15</th>\n",
       "      <td>The Good Dinosaur</td>\n",
       "      <td>75</td>\n",
       "      <td>220</td>\n",
       "      <td>66</td>\n",
       "      <td>37</td>\n",
       "      <td>A</td>\n",
       "      <td>6.7</td>\n",
       "      <td>130324</td>\n",
       "    </tr>\n",
       "    <tr>\n",
       "      <th>16</th>\n",
       "      <td>Finding Dory</td>\n",
       "      <td>94</td>\n",
       "      <td>339</td>\n",
       "      <td>77</td>\n",
       "      <td>48</td>\n",
       "      <td>A</td>\n",
       "      <td>7.2</td>\n",
       "      <td>311793</td>\n",
       "    </tr>\n",
       "    <tr>\n",
       "      <th>17</th>\n",
       "      <td>Cars 3</td>\n",
       "      <td>69</td>\n",
       "      <td>234</td>\n",
       "      <td>59</td>\n",
       "      <td>41</td>\n",
       "      <td>A</td>\n",
       "      <td>6.7</td>\n",
       "      <td>128849</td>\n",
       "    </tr>\n",
       "    <tr>\n",
       "      <th>18</th>\n",
       "      <td>Coco</td>\n",
       "      <td>97</td>\n",
       "      <td>357</td>\n",
       "      <td>81</td>\n",
       "      <td>48</td>\n",
       "      <td>A+</td>\n",
       "      <td>8.4</td>\n",
       "      <td>618005</td>\n",
       "    </tr>\n",
       "    <tr>\n",
       "      <th>19</th>\n",
       "      <td>Incredibles 2</td>\n",
       "      <td>93</td>\n",
       "      <td>390</td>\n",
       "      <td>80</td>\n",
       "      <td>51</td>\n",
       "      <td>A+</td>\n",
       "      <td>7.5</td>\n",
       "      <td>341353</td>\n",
       "    </tr>\n",
       "    <tr>\n",
       "      <th>20</th>\n",
       "      <td>Toy Story 4</td>\n",
       "      <td>97</td>\n",
       "      <td>459</td>\n",
       "      <td>84</td>\n",
       "      <td>57</td>\n",
       "      <td>A</td>\n",
       "      <td>7.6</td>\n",
       "      <td>288783</td>\n",
       "    </tr>\n",
       "    <tr>\n",
       "      <th>21</th>\n",
       "      <td>Onward</td>\n",
       "      <td>88</td>\n",
       "      <td>350</td>\n",
       "      <td>64</td>\n",
       "      <td>56</td>\n",
       "      <td>A-</td>\n",
       "      <td>7.4</td>\n",
       "      <td>174917</td>\n",
       "    </tr>\n",
       "    <tr>\n",
       "      <th>22</th>\n",
       "      <td>Soul</td>\n",
       "      <td>95</td>\n",
       "      <td>360</td>\n",
       "      <td>83</td>\n",
       "      <td>55</td>\n",
       "      <td>NaN</td>\n",
       "      <td>8.0</td>\n",
       "      <td>392783</td>\n",
       "    </tr>\n",
       "    <tr>\n",
       "      <th>23</th>\n",
       "      <td>Luca</td>\n",
       "      <td>91</td>\n",
       "      <td>303</td>\n",
       "      <td>71</td>\n",
       "      <td>52</td>\n",
       "      <td>NaN</td>\n",
       "      <td>7.4</td>\n",
       "      <td>202404</td>\n",
       "    </tr>\n",
       "    <tr>\n",
       "      <th>24</th>\n",
       "      <td>Turning Red</td>\n",
       "      <td>95</td>\n",
       "      <td>289</td>\n",
       "      <td>83</td>\n",
       "      <td>52</td>\n",
       "      <td>NaN</td>\n",
       "      <td>7.0</td>\n",
       "      <td>158649</td>\n",
       "    </tr>\n",
       "    <tr>\n",
       "      <th>25</th>\n",
       "      <td>Lightyear</td>\n",
       "      <td>74</td>\n",
       "      <td>319</td>\n",
       "      <td>60</td>\n",
       "      <td>57</td>\n",
       "      <td>A-</td>\n",
       "      <td>6.1</td>\n",
       "      <td>127045</td>\n",
       "    </tr>\n",
       "    <tr>\n",
       "      <th>26</th>\n",
       "      <td>Elemental</td>\n",
       "      <td>73</td>\n",
       "      <td>262</td>\n",
       "      <td>58</td>\n",
       "      <td>45</td>\n",
       "      <td>A</td>\n",
       "      <td>7.0</td>\n",
       "      <td>140174</td>\n",
       "    </tr>\n",
       "    <tr>\n",
       "      <th>27</th>\n",
       "      <td>Inside Out 2</td>\n",
       "      <td>90</td>\n",
       "      <td>313</td>\n",
       "      <td>73</td>\n",
       "      <td>59</td>\n",
       "      <td>A</td>\n",
       "      <td>7.6</td>\n",
       "      <td>168090</td>\n",
       "    </tr>\n",
       "  </tbody>\n",
       "</table>\n",
       "</div>"
      ],
      "text/plain": [
       "                   film  rotten_tomatoes_score  rotten_tomatoes_counts  \\\n",
       "0             Toy Story                    100                      96   \n",
       "1          A Bug's Life                     92                      91   \n",
       "2           Toy Story 2                    100                     172   \n",
       "3        Monsters, Inc.                     96                     199   \n",
       "4          Finding Nemo                     99                     270   \n",
       "5       The Incredibles                     97                     250   \n",
       "6                  Cars                     75                     204   \n",
       "7           Ratatouille                     96                     253   \n",
       "8                WALL-E                     95                     261   \n",
       "9                    Up                     98                     297   \n",
       "10          Toy Story 3                     98                     313   \n",
       "11               Cars 2                     40                     220   \n",
       "12                Brave                     79                     256   \n",
       "13  Monsters University                     80                     203   \n",
       "14           Inside Out                     98                     387   \n",
       "15    The Good Dinosaur                     75                     220   \n",
       "16         Finding Dory                     94                     339   \n",
       "17               Cars 3                     69                     234   \n",
       "18                 Coco                     97                     357   \n",
       "19        Incredibles 2                     93                     390   \n",
       "20          Toy Story 4                     97                     459   \n",
       "21               Onward                     88                     350   \n",
       "22                 Soul                     95                     360   \n",
       "23                 Luca                     91                     303   \n",
       "24          Turning Red                     95                     289   \n",
       "25            Lightyear                     74                     319   \n",
       "26            Elemental                     73                     262   \n",
       "27         Inside Out 2                     90                     313   \n",
       "\n",
       "    metacritic_score  metacritic_counts cinema_score  imdb_score  imdb_counts  \n",
       "0                 95                 26            A         8.3      1089101  \n",
       "1                 78                 23            A         7.2       319596  \n",
       "2                 88                 34           A+         7.9       630573  \n",
       "3                 79                 35           A+         8.1      1000657  \n",
       "4                 90                 38           A+         8.2      1132877  \n",
       "5                 90                 41           A+         8.0       828986  \n",
       "6                 73                 39            A         7.2       484034  \n",
       "7                 96                 37            A         8.1       851229  \n",
       "8                 95                 39            A         8.4      1226415  \n",
       "9                 88                 37           A+         8.3      1151249  \n",
       "10                92                 39            A         8.3       908222  \n",
       "11                57                 38           A-         6.2       225724  \n",
       "12                69                 37            A         7.1       452012  \n",
       "13                65                 41            A         7.2       398903  \n",
       "14                94                 55            A         8.1       834268  \n",
       "15                66                 37            A         6.7       130324  \n",
       "16                77                 48            A         7.2       311793  \n",
       "17                59                 41            A         6.7       128849  \n",
       "18                81                 48           A+         8.4       618005  \n",
       "19                80                 51           A+         7.5       341353  \n",
       "20                84                 57            A         7.6       288783  \n",
       "21                64                 56           A-         7.4       174917  \n",
       "22                83                 55          NaN         8.0       392783  \n",
       "23                71                 52          NaN         7.4       202404  \n",
       "24                83                 52          NaN         7.0       158649  \n",
       "25                60                 57           A-         6.1       127045  \n",
       "26                58                 45            A         7.0       140174  \n",
       "27                73                 59            A         7.6       168090  "
      ]
     },
     "execution_count": 34,
     "metadata": {},
     "output_type": "execute_result"
    }
   ],
   "source": [
    "# public_response_df"
   ]
  },
  {
   "cell_type": "code",
   "execution_count": null,
   "metadata": {},
   "outputs": [
    {
     "name": "stdout",
     "output_type": "stream",
     "text": [
      "<class 'pandas.core.frame.DataFrame'>\n",
      "RangeIndex: 28 entries, 0 to 27\n",
      "Data columns (total 8 columns):\n",
      " #   Column                  Non-Null Count  Dtype  \n",
      "---  ------                  --------------  -----  \n",
      " 0   film                    28 non-null     object \n",
      " 1   rotten_tomatoes_score   28 non-null     int64  \n",
      " 2   rotten_tomatoes_counts  28 non-null     int64  \n",
      " 3   metacritic_score        28 non-null     int64  \n",
      " 4   metacritic_counts       28 non-null     int64  \n",
      " 5   cinema_score            25 non-null     object \n",
      " 6   imdb_score              28 non-null     float64\n",
      " 7   imdb_counts             28 non-null     int64  \n",
      "dtypes: float64(1), int64(5), object(2)\n",
      "memory usage: 1.9+ KB\n"
     ]
    }
   ],
   "source": [
    "# public_response_df.info()"
   ]
  },
  {
   "cell_type": "code",
   "execution_count": null,
   "metadata": {},
   "outputs": [
    {
     "data": {
      "application/vnd.microsoft.datawrangler.viewer.v0+json": {
       "columns": [
        {
         "name": "index",
         "rawType": "object",
         "type": "string"
        },
        {
         "name": "rotten_tomatoes_score",
         "rawType": "float64",
         "type": "float"
        },
        {
         "name": "rotten_tomatoes_counts",
         "rawType": "float64",
         "type": "float"
        },
        {
         "name": "metacritic_score",
         "rawType": "float64",
         "type": "float"
        },
        {
         "name": "metacritic_counts",
         "rawType": "float64",
         "type": "float"
        },
        {
         "name": "imdb_score",
         "rawType": "float64",
         "type": "float"
        },
        {
         "name": "imdb_counts",
         "rawType": "float64",
         "type": "float"
        }
       ],
       "conversionMethod": "pd.DataFrame",
       "ref": "0a05a207-7907-445a-a81c-bec3fa78a07a",
       "rows": [
        [
         "count",
         "28.0",
         "28.0",
         "28.0",
         "28.0",
         "28.0",
         "28.0"
        ],
        [
         "mean",
         "88.35714285714286",
         "273.82142857142856",
         "78.14285714285714",
         "43.464285714285715",
         "7.542857142857143",
         "525607.6785714285"
        ],
        [
         "std",
         "13.447330137640252",
         "84.24877340416191",
         "12.408820893978444",
         "9.558715793402774",
         "0.6585216728785727",
         "368871.2938679043"
        ],
        [
         "min",
         "40.0",
         "91.0",
         "57.0",
         "23.0",
         "6.1",
         "127045.0"
        ],
        [
         "25%",
         "79.75",
         "220.0",
         "68.25",
         "37.0",
         "7.175",
         "195532.25"
        ],
        [
         "50%",
         "94.5",
         "266.0",
         "79.5",
         "41.0",
         "7.55",
         "395843.0"
        ],
        [
         "75%",
         "97.0",
         "324.0",
         "88.5",
         "52.0",
         "8.1",
         "838508.25"
        ],
        [
         "max",
         "100.0",
         "459.0",
         "96.0",
         "59.0",
         "8.4",
         "1226415.0"
        ]
       ],
       "shape": {
        "columns": 6,
        "rows": 8
       }
      },
      "text/html": [
       "<div>\n",
       "<style scoped>\n",
       "    .dataframe tbody tr th:only-of-type {\n",
       "        vertical-align: middle;\n",
       "    }\n",
       "\n",
       "    .dataframe tbody tr th {\n",
       "        vertical-align: top;\n",
       "    }\n",
       "\n",
       "    .dataframe thead th {\n",
       "        text-align: right;\n",
       "    }\n",
       "</style>\n",
       "<table border=\"1\" class=\"dataframe\">\n",
       "  <thead>\n",
       "    <tr style=\"text-align: right;\">\n",
       "      <th></th>\n",
       "      <th>rotten_tomatoes_score</th>\n",
       "      <th>rotten_tomatoes_counts</th>\n",
       "      <th>metacritic_score</th>\n",
       "      <th>metacritic_counts</th>\n",
       "      <th>imdb_score</th>\n",
       "      <th>imdb_counts</th>\n",
       "    </tr>\n",
       "  </thead>\n",
       "  <tbody>\n",
       "    <tr>\n",
       "      <th>count</th>\n",
       "      <td>28.000000</td>\n",
       "      <td>28.000000</td>\n",
       "      <td>28.000000</td>\n",
       "      <td>28.000000</td>\n",
       "      <td>28.000000</td>\n",
       "      <td>2.800000e+01</td>\n",
       "    </tr>\n",
       "    <tr>\n",
       "      <th>mean</th>\n",
       "      <td>88.357143</td>\n",
       "      <td>273.821429</td>\n",
       "      <td>78.142857</td>\n",
       "      <td>43.464286</td>\n",
       "      <td>7.542857</td>\n",
       "      <td>5.256077e+05</td>\n",
       "    </tr>\n",
       "    <tr>\n",
       "      <th>std</th>\n",
       "      <td>13.447330</td>\n",
       "      <td>84.248773</td>\n",
       "      <td>12.408821</td>\n",
       "      <td>9.558716</td>\n",
       "      <td>0.658522</td>\n",
       "      <td>3.688713e+05</td>\n",
       "    </tr>\n",
       "    <tr>\n",
       "      <th>min</th>\n",
       "      <td>40.000000</td>\n",
       "      <td>91.000000</td>\n",
       "      <td>57.000000</td>\n",
       "      <td>23.000000</td>\n",
       "      <td>6.100000</td>\n",
       "      <td>1.270450e+05</td>\n",
       "    </tr>\n",
       "    <tr>\n",
       "      <th>25%</th>\n",
       "      <td>79.750000</td>\n",
       "      <td>220.000000</td>\n",
       "      <td>68.250000</td>\n",
       "      <td>37.000000</td>\n",
       "      <td>7.175000</td>\n",
       "      <td>1.955322e+05</td>\n",
       "    </tr>\n",
       "    <tr>\n",
       "      <th>50%</th>\n",
       "      <td>94.500000</td>\n",
       "      <td>266.000000</td>\n",
       "      <td>79.500000</td>\n",
       "      <td>41.000000</td>\n",
       "      <td>7.550000</td>\n",
       "      <td>3.958430e+05</td>\n",
       "    </tr>\n",
       "    <tr>\n",
       "      <th>75%</th>\n",
       "      <td>97.000000</td>\n",
       "      <td>324.000000</td>\n",
       "      <td>88.500000</td>\n",
       "      <td>52.000000</td>\n",
       "      <td>8.100000</td>\n",
       "      <td>8.385082e+05</td>\n",
       "    </tr>\n",
       "    <tr>\n",
       "      <th>max</th>\n",
       "      <td>100.000000</td>\n",
       "      <td>459.000000</td>\n",
       "      <td>96.000000</td>\n",
       "      <td>59.000000</td>\n",
       "      <td>8.400000</td>\n",
       "      <td>1.226415e+06</td>\n",
       "    </tr>\n",
       "  </tbody>\n",
       "</table>\n",
       "</div>"
      ],
      "text/plain": [
       "       rotten_tomatoes_score  rotten_tomatoes_counts  metacritic_score  \\\n",
       "count              28.000000               28.000000         28.000000   \n",
       "mean               88.357143              273.821429         78.142857   \n",
       "std                13.447330               84.248773         12.408821   \n",
       "min                40.000000               91.000000         57.000000   \n",
       "25%                79.750000              220.000000         68.250000   \n",
       "50%                94.500000              266.000000         79.500000   \n",
       "75%                97.000000              324.000000         88.500000   \n",
       "max               100.000000              459.000000         96.000000   \n",
       "\n",
       "       metacritic_counts  imdb_score   imdb_counts  \n",
       "count          28.000000   28.000000  2.800000e+01  \n",
       "mean           43.464286    7.542857  5.256077e+05  \n",
       "std             9.558716    0.658522  3.688713e+05  \n",
       "min            23.000000    6.100000  1.270450e+05  \n",
       "25%            37.000000    7.175000  1.955322e+05  \n",
       "50%            41.000000    7.550000  3.958430e+05  \n",
       "75%            52.000000    8.100000  8.385082e+05  \n",
       "max            59.000000    8.400000  1.226415e+06  "
      ]
     },
     "execution_count": 36,
     "metadata": {},
     "output_type": "execute_result"
    }
   ],
   "source": [
    "# public_response_df.describe()"
   ]
  },
  {
   "cell_type": "code",
   "execution_count": null,
   "metadata": {},
   "outputs": [
    {
     "data": {
      "application/vnd.microsoft.datawrangler.viewer.v0+json": {
       "columns": [
        {
         "name": "index",
         "rawType": "int64",
         "type": "integer"
        },
        {
         "name": "cinema_score_id",
         "rawType": "int64",
         "type": "integer"
        },
        {
         "name": "cinema_score",
         "rawType": "object",
         "type": "string"
        }
       ],
       "conversionMethod": "pd.DataFrame",
       "ref": "88eee96a-478c-462d-9ab3-f243338c5b09",
       "rows": [
        [
         "0",
         "0",
         "A"
        ],
        [
         "1",
         "1",
         "A+"
        ],
        [
         "2",
         "2",
         "A-"
        ]
       ],
       "shape": {
        "columns": 2,
        "rows": 3
       }
      },
      "text/html": [
       "<div>\n",
       "<style scoped>\n",
       "    .dataframe tbody tr th:only-of-type {\n",
       "        vertical-align: middle;\n",
       "    }\n",
       "\n",
       "    .dataframe tbody tr th {\n",
       "        vertical-align: top;\n",
       "    }\n",
       "\n",
       "    .dataframe thead th {\n",
       "        text-align: right;\n",
       "    }\n",
       "</style>\n",
       "<table border=\"1\" class=\"dataframe\">\n",
       "  <thead>\n",
       "    <tr style=\"text-align: right;\">\n",
       "      <th></th>\n",
       "      <th>cinema_score_id</th>\n",
       "      <th>cinema_score</th>\n",
       "    </tr>\n",
       "  </thead>\n",
       "  <tbody>\n",
       "    <tr>\n",
       "      <th>0</th>\n",
       "      <td>0</td>\n",
       "      <td>A</td>\n",
       "    </tr>\n",
       "    <tr>\n",
       "      <th>1</th>\n",
       "      <td>1</td>\n",
       "      <td>A+</td>\n",
       "    </tr>\n",
       "    <tr>\n",
       "      <th>2</th>\n",
       "      <td>2</td>\n",
       "      <td>A-</td>\n",
       "    </tr>\n",
       "  </tbody>\n",
       "</table>\n",
       "</div>"
      ],
      "text/plain": [
       "   cinema_score_id cinema_score\n",
       "0                0            A\n",
       "1                1           A+\n",
       "2                2           A-"
      ]
     },
     "execution_count": 46,
     "metadata": {},
     "output_type": "execute_result"
    }
   ],
   "source": [
    "cinema_score_df = pd.DataFrame({\n",
    "    'cinema_score': public_response_df['cinema_score'].dropna().unique()\n",
    "}).reset_index().rename(columns={'index': 'cinema_score_id'})\n",
    "\n",
    "# cinema_score_df"
   ]
  },
  {
   "cell_type": "code",
   "execution_count": null,
   "metadata": {},
   "outputs": [
    {
     "data": {
      "application/vnd.microsoft.datawrangler.viewer.v0+json": {
       "columns": [
        {
         "name": "index",
         "rawType": "int64",
         "type": "integer"
        },
        {
         "name": "film",
         "rawType": "object",
         "type": "string"
        },
        {
         "name": "rotten_tomatoes_score",
         "rawType": "int64",
         "type": "integer"
        },
        {
         "name": "rotten_tomatoes_counts",
         "rawType": "int64",
         "type": "integer"
        },
        {
         "name": "metacritic_score",
         "rawType": "int64",
         "type": "integer"
        },
        {
         "name": "metacritic_counts",
         "rawType": "int64",
         "type": "integer"
        },
        {
         "name": "imdb_score",
         "rawType": "float64",
         "type": "float"
        },
        {
         "name": "imdb_counts",
         "rawType": "int64",
         "type": "integer"
        },
        {
         "name": "cinema_score_id",
         "rawType": "int64",
         "type": "integer"
        }
       ],
       "conversionMethod": "pd.DataFrame",
       "ref": "b2941fa7-f605-4b83-a7ab-4d24b27e25c3",
       "rows": [
        [
         "0",
         "Toy Story",
         "100",
         "96",
         "95",
         "26",
         "8.3",
         "1089101",
         "0"
        ],
        [
         "1",
         "A Bug's Life",
         "92",
         "91",
         "78",
         "23",
         "7.2",
         "319596",
         "0"
        ],
        [
         "2",
         "Cars",
         "75",
         "204",
         "73",
         "39",
         "7.2",
         "484034",
         "0"
        ],
        [
         "3",
         "Ratatouille",
         "96",
         "253",
         "96",
         "37",
         "8.1",
         "851229",
         "0"
        ],
        [
         "4",
         "WALL-E",
         "95",
         "261",
         "95",
         "39",
         "8.4",
         "1226415",
         "0"
        ],
        [
         "5",
         "Toy Story 3",
         "98",
         "313",
         "92",
         "39",
         "8.3",
         "908222",
         "0"
        ],
        [
         "6",
         "Brave",
         "79",
         "256",
         "69",
         "37",
         "7.1",
         "452012",
         "0"
        ],
        [
         "7",
         "Monsters University",
         "80",
         "203",
         "65",
         "41",
         "7.2",
         "398903",
         "0"
        ],
        [
         "8",
         "Inside Out",
         "98",
         "387",
         "94",
         "55",
         "8.1",
         "834268",
         "0"
        ],
        [
         "9",
         "The Good Dinosaur",
         "75",
         "220",
         "66",
         "37",
         "6.7",
         "130324",
         "0"
        ],
        [
         "10",
         "Finding Dory",
         "94",
         "339",
         "77",
         "48",
         "7.2",
         "311793",
         "0"
        ],
        [
         "11",
         "Cars 3",
         "69",
         "234",
         "59",
         "41",
         "6.7",
         "128849",
         "0"
        ],
        [
         "12",
         "Toy Story 4",
         "97",
         "459",
         "84",
         "57",
         "7.6",
         "288783",
         "0"
        ],
        [
         "13",
         "Elemental",
         "73",
         "262",
         "58",
         "45",
         "7.0",
         "140174",
         "0"
        ],
        [
         "14",
         "Inside Out 2",
         "90",
         "313",
         "73",
         "59",
         "7.6",
         "168090",
         "0"
        ],
        [
         "15",
         "Toy Story 2",
         "100",
         "172",
         "88",
         "34",
         "7.9",
         "630573",
         "1"
        ],
        [
         "16",
         "Monsters, Inc.",
         "96",
         "199",
         "79",
         "35",
         "8.1",
         "1000657",
         "1"
        ],
        [
         "17",
         "Finding Nemo",
         "99",
         "270",
         "90",
         "38",
         "8.2",
         "1132877",
         "1"
        ],
        [
         "18",
         "The Incredibles",
         "97",
         "250",
         "90",
         "41",
         "8.0",
         "828986",
         "1"
        ],
        [
         "19",
         "Up",
         "98",
         "297",
         "88",
         "37",
         "8.3",
         "1151249",
         "1"
        ],
        [
         "20",
         "Coco",
         "97",
         "357",
         "81",
         "48",
         "8.4",
         "618005",
         "1"
        ],
        [
         "21",
         "Incredibles 2",
         "93",
         "390",
         "80",
         "51",
         "7.5",
         "341353",
         "1"
        ],
        [
         "22",
         "Cars 2",
         "40",
         "220",
         "57",
         "38",
         "6.2",
         "225724",
         "2"
        ],
        [
         "23",
         "Onward",
         "88",
         "350",
         "64",
         "56",
         "7.4",
         "174917",
         "2"
        ],
        [
         "24",
         "Lightyear",
         "74",
         "319",
         "60",
         "57",
         "6.1",
         "127045",
         "2"
        ]
       ],
       "shape": {
        "columns": 8,
        "rows": 25
       }
      },
      "text/html": [
       "<div>\n",
       "<style scoped>\n",
       "    .dataframe tbody tr th:only-of-type {\n",
       "        vertical-align: middle;\n",
       "    }\n",
       "\n",
       "    .dataframe tbody tr th {\n",
       "        vertical-align: top;\n",
       "    }\n",
       "\n",
       "    .dataframe thead th {\n",
       "        text-align: right;\n",
       "    }\n",
       "</style>\n",
       "<table border=\"1\" class=\"dataframe\">\n",
       "  <thead>\n",
       "    <tr style=\"text-align: right;\">\n",
       "      <th></th>\n",
       "      <th>film</th>\n",
       "      <th>rotten_tomatoes_score</th>\n",
       "      <th>rotten_tomatoes_counts</th>\n",
       "      <th>metacritic_score</th>\n",
       "      <th>metacritic_counts</th>\n",
       "      <th>imdb_score</th>\n",
       "      <th>imdb_counts</th>\n",
       "      <th>cinema_score_id</th>\n",
       "    </tr>\n",
       "  </thead>\n",
       "  <tbody>\n",
       "    <tr>\n",
       "      <th>0</th>\n",
       "      <td>Toy Story</td>\n",
       "      <td>100</td>\n",
       "      <td>96</td>\n",
       "      <td>95</td>\n",
       "      <td>26</td>\n",
       "      <td>8.3</td>\n",
       "      <td>1089101</td>\n",
       "      <td>0</td>\n",
       "    </tr>\n",
       "    <tr>\n",
       "      <th>1</th>\n",
       "      <td>A Bug's Life</td>\n",
       "      <td>92</td>\n",
       "      <td>91</td>\n",
       "      <td>78</td>\n",
       "      <td>23</td>\n",
       "      <td>7.2</td>\n",
       "      <td>319596</td>\n",
       "      <td>0</td>\n",
       "    </tr>\n",
       "    <tr>\n",
       "      <th>2</th>\n",
       "      <td>Cars</td>\n",
       "      <td>75</td>\n",
       "      <td>204</td>\n",
       "      <td>73</td>\n",
       "      <td>39</td>\n",
       "      <td>7.2</td>\n",
       "      <td>484034</td>\n",
       "      <td>0</td>\n",
       "    </tr>\n",
       "    <tr>\n",
       "      <th>3</th>\n",
       "      <td>Ratatouille</td>\n",
       "      <td>96</td>\n",
       "      <td>253</td>\n",
       "      <td>96</td>\n",
       "      <td>37</td>\n",
       "      <td>8.1</td>\n",
       "      <td>851229</td>\n",
       "      <td>0</td>\n",
       "    </tr>\n",
       "    <tr>\n",
       "      <th>4</th>\n",
       "      <td>WALL-E</td>\n",
       "      <td>95</td>\n",
       "      <td>261</td>\n",
       "      <td>95</td>\n",
       "      <td>39</td>\n",
       "      <td>8.4</td>\n",
       "      <td>1226415</td>\n",
       "      <td>0</td>\n",
       "    </tr>\n",
       "    <tr>\n",
       "      <th>5</th>\n",
       "      <td>Toy Story 3</td>\n",
       "      <td>98</td>\n",
       "      <td>313</td>\n",
       "      <td>92</td>\n",
       "      <td>39</td>\n",
       "      <td>8.3</td>\n",
       "      <td>908222</td>\n",
       "      <td>0</td>\n",
       "    </tr>\n",
       "    <tr>\n",
       "      <th>6</th>\n",
       "      <td>Brave</td>\n",
       "      <td>79</td>\n",
       "      <td>256</td>\n",
       "      <td>69</td>\n",
       "      <td>37</td>\n",
       "      <td>7.1</td>\n",
       "      <td>452012</td>\n",
       "      <td>0</td>\n",
       "    </tr>\n",
       "    <tr>\n",
       "      <th>7</th>\n",
       "      <td>Monsters University</td>\n",
       "      <td>80</td>\n",
       "      <td>203</td>\n",
       "      <td>65</td>\n",
       "      <td>41</td>\n",
       "      <td>7.2</td>\n",
       "      <td>398903</td>\n",
       "      <td>0</td>\n",
       "    </tr>\n",
       "    <tr>\n",
       "      <th>8</th>\n",
       "      <td>Inside Out</td>\n",
       "      <td>98</td>\n",
       "      <td>387</td>\n",
       "      <td>94</td>\n",
       "      <td>55</td>\n",
       "      <td>8.1</td>\n",
       "      <td>834268</td>\n",
       "      <td>0</td>\n",
       "    </tr>\n",
       "    <tr>\n",
       "      <th>9</th>\n",
       "      <td>The Good Dinosaur</td>\n",
       "      <td>75</td>\n",
       "      <td>220</td>\n",
       "      <td>66</td>\n",
       "      <td>37</td>\n",
       "      <td>6.7</td>\n",
       "      <td>130324</td>\n",
       "      <td>0</td>\n",
       "    </tr>\n",
       "    <tr>\n",
       "      <th>10</th>\n",
       "      <td>Finding Dory</td>\n",
       "      <td>94</td>\n",
       "      <td>339</td>\n",
       "      <td>77</td>\n",
       "      <td>48</td>\n",
       "      <td>7.2</td>\n",
       "      <td>311793</td>\n",
       "      <td>0</td>\n",
       "    </tr>\n",
       "    <tr>\n",
       "      <th>11</th>\n",
       "      <td>Cars 3</td>\n",
       "      <td>69</td>\n",
       "      <td>234</td>\n",
       "      <td>59</td>\n",
       "      <td>41</td>\n",
       "      <td>6.7</td>\n",
       "      <td>128849</td>\n",
       "      <td>0</td>\n",
       "    </tr>\n",
       "    <tr>\n",
       "      <th>12</th>\n",
       "      <td>Toy Story 4</td>\n",
       "      <td>97</td>\n",
       "      <td>459</td>\n",
       "      <td>84</td>\n",
       "      <td>57</td>\n",
       "      <td>7.6</td>\n",
       "      <td>288783</td>\n",
       "      <td>0</td>\n",
       "    </tr>\n",
       "    <tr>\n",
       "      <th>13</th>\n",
       "      <td>Elemental</td>\n",
       "      <td>73</td>\n",
       "      <td>262</td>\n",
       "      <td>58</td>\n",
       "      <td>45</td>\n",
       "      <td>7.0</td>\n",
       "      <td>140174</td>\n",
       "      <td>0</td>\n",
       "    </tr>\n",
       "    <tr>\n",
       "      <th>14</th>\n",
       "      <td>Inside Out 2</td>\n",
       "      <td>90</td>\n",
       "      <td>313</td>\n",
       "      <td>73</td>\n",
       "      <td>59</td>\n",
       "      <td>7.6</td>\n",
       "      <td>168090</td>\n",
       "      <td>0</td>\n",
       "    </tr>\n",
       "    <tr>\n",
       "      <th>15</th>\n",
       "      <td>Toy Story 2</td>\n",
       "      <td>100</td>\n",
       "      <td>172</td>\n",
       "      <td>88</td>\n",
       "      <td>34</td>\n",
       "      <td>7.9</td>\n",
       "      <td>630573</td>\n",
       "      <td>1</td>\n",
       "    </tr>\n",
       "    <tr>\n",
       "      <th>16</th>\n",
       "      <td>Monsters, Inc.</td>\n",
       "      <td>96</td>\n",
       "      <td>199</td>\n",
       "      <td>79</td>\n",
       "      <td>35</td>\n",
       "      <td>8.1</td>\n",
       "      <td>1000657</td>\n",
       "      <td>1</td>\n",
       "    </tr>\n",
       "    <tr>\n",
       "      <th>17</th>\n",
       "      <td>Finding Nemo</td>\n",
       "      <td>99</td>\n",
       "      <td>270</td>\n",
       "      <td>90</td>\n",
       "      <td>38</td>\n",
       "      <td>8.2</td>\n",
       "      <td>1132877</td>\n",
       "      <td>1</td>\n",
       "    </tr>\n",
       "    <tr>\n",
       "      <th>18</th>\n",
       "      <td>The Incredibles</td>\n",
       "      <td>97</td>\n",
       "      <td>250</td>\n",
       "      <td>90</td>\n",
       "      <td>41</td>\n",
       "      <td>8.0</td>\n",
       "      <td>828986</td>\n",
       "      <td>1</td>\n",
       "    </tr>\n",
       "    <tr>\n",
       "      <th>19</th>\n",
       "      <td>Up</td>\n",
       "      <td>98</td>\n",
       "      <td>297</td>\n",
       "      <td>88</td>\n",
       "      <td>37</td>\n",
       "      <td>8.3</td>\n",
       "      <td>1151249</td>\n",
       "      <td>1</td>\n",
       "    </tr>\n",
       "    <tr>\n",
       "      <th>20</th>\n",
       "      <td>Coco</td>\n",
       "      <td>97</td>\n",
       "      <td>357</td>\n",
       "      <td>81</td>\n",
       "      <td>48</td>\n",
       "      <td>8.4</td>\n",
       "      <td>618005</td>\n",
       "      <td>1</td>\n",
       "    </tr>\n",
       "    <tr>\n",
       "      <th>21</th>\n",
       "      <td>Incredibles 2</td>\n",
       "      <td>93</td>\n",
       "      <td>390</td>\n",
       "      <td>80</td>\n",
       "      <td>51</td>\n",
       "      <td>7.5</td>\n",
       "      <td>341353</td>\n",
       "      <td>1</td>\n",
       "    </tr>\n",
       "    <tr>\n",
       "      <th>22</th>\n",
       "      <td>Cars 2</td>\n",
       "      <td>40</td>\n",
       "      <td>220</td>\n",
       "      <td>57</td>\n",
       "      <td>38</td>\n",
       "      <td>6.2</td>\n",
       "      <td>225724</td>\n",
       "      <td>2</td>\n",
       "    </tr>\n",
       "    <tr>\n",
       "      <th>23</th>\n",
       "      <td>Onward</td>\n",
       "      <td>88</td>\n",
       "      <td>350</td>\n",
       "      <td>64</td>\n",
       "      <td>56</td>\n",
       "      <td>7.4</td>\n",
       "      <td>174917</td>\n",
       "      <td>2</td>\n",
       "    </tr>\n",
       "    <tr>\n",
       "      <th>24</th>\n",
       "      <td>Lightyear</td>\n",
       "      <td>74</td>\n",
       "      <td>319</td>\n",
       "      <td>60</td>\n",
       "      <td>57</td>\n",
       "      <td>6.1</td>\n",
       "      <td>127045</td>\n",
       "      <td>2</td>\n",
       "    </tr>\n",
       "  </tbody>\n",
       "</table>\n",
       "</div>"
      ],
      "text/plain": [
       "                   film  rotten_tomatoes_score  rotten_tomatoes_counts  \\\n",
       "0             Toy Story                    100                      96   \n",
       "1          A Bug's Life                     92                      91   \n",
       "2                  Cars                     75                     204   \n",
       "3           Ratatouille                     96                     253   \n",
       "4                WALL-E                     95                     261   \n",
       "5           Toy Story 3                     98                     313   \n",
       "6                 Brave                     79                     256   \n",
       "7   Monsters University                     80                     203   \n",
       "8            Inside Out                     98                     387   \n",
       "9     The Good Dinosaur                     75                     220   \n",
       "10         Finding Dory                     94                     339   \n",
       "11               Cars 3                     69                     234   \n",
       "12          Toy Story 4                     97                     459   \n",
       "13            Elemental                     73                     262   \n",
       "14         Inside Out 2                     90                     313   \n",
       "15          Toy Story 2                    100                     172   \n",
       "16       Monsters, Inc.                     96                     199   \n",
       "17         Finding Nemo                     99                     270   \n",
       "18      The Incredibles                     97                     250   \n",
       "19                   Up                     98                     297   \n",
       "20                 Coco                     97                     357   \n",
       "21        Incredibles 2                     93                     390   \n",
       "22               Cars 2                     40                     220   \n",
       "23               Onward                     88                     350   \n",
       "24            Lightyear                     74                     319   \n",
       "\n",
       "    metacritic_score  metacritic_counts  imdb_score  imdb_counts  \\\n",
       "0                 95                 26         8.3      1089101   \n",
       "1                 78                 23         7.2       319596   \n",
       "2                 73                 39         7.2       484034   \n",
       "3                 96                 37         8.1       851229   \n",
       "4                 95                 39         8.4      1226415   \n",
       "5                 92                 39         8.3       908222   \n",
       "6                 69                 37         7.1       452012   \n",
       "7                 65                 41         7.2       398903   \n",
       "8                 94                 55         8.1       834268   \n",
       "9                 66                 37         6.7       130324   \n",
       "10                77                 48         7.2       311793   \n",
       "11                59                 41         6.7       128849   \n",
       "12                84                 57         7.6       288783   \n",
       "13                58                 45         7.0       140174   \n",
       "14                73                 59         7.6       168090   \n",
       "15                88                 34         7.9       630573   \n",
       "16                79                 35         8.1      1000657   \n",
       "17                90                 38         8.2      1132877   \n",
       "18                90                 41         8.0       828986   \n",
       "19                88                 37         8.3      1151249   \n",
       "20                81                 48         8.4       618005   \n",
       "21                80                 51         7.5       341353   \n",
       "22                57                 38         6.2       225724   \n",
       "23                64                 56         7.4       174917   \n",
       "24                60                 57         6.1       127045   \n",
       "\n",
       "    cinema_score_id  \n",
       "0                 0  \n",
       "1                 0  \n",
       "2                 0  \n",
       "3                 0  \n",
       "4                 0  \n",
       "5                 0  \n",
       "6                 0  \n",
       "7                 0  \n",
       "8                 0  \n",
       "9                 0  \n",
       "10                0  \n",
       "11                0  \n",
       "12                0  \n",
       "13                0  \n",
       "14                0  \n",
       "15                1  \n",
       "16                1  \n",
       "17                1  \n",
       "18                1  \n",
       "19                1  \n",
       "20                1  \n",
       "21                1  \n",
       "22                2  \n",
       "23                2  \n",
       "24                2  "
      ]
     },
     "execution_count": 47,
     "metadata": {},
     "output_type": "execute_result"
    }
   ],
   "source": [
    "merged_df_8 = public_response_df.merge(cinema_score_df, on='cinema_score', how='inner')\n",
    "\n",
    "public_response_df= merged_df_8.drop(columns=['cinema_score'])\n",
    "\n",
    "# public_response_df"
   ]
  },
  {
   "cell_type": "code",
   "execution_count": null,
   "metadata": {},
   "outputs": [
    {
     "data": {
      "application/vnd.microsoft.datawrangler.viewer.v0+json": {
       "columns": [
        {
         "name": "index",
         "rawType": "int64",
         "type": "integer"
        },
        {
         "name": "rotten_tomatoes_score",
         "rawType": "int64",
         "type": "integer"
        },
        {
         "name": "rotten_tomatoes_counts",
         "rawType": "int64",
         "type": "integer"
        },
        {
         "name": "metacritic_score",
         "rawType": "int64",
         "type": "integer"
        },
        {
         "name": "metacritic_counts",
         "rawType": "int64",
         "type": "integer"
        },
        {
         "name": "imdb_score",
         "rawType": "float64",
         "type": "float"
        },
        {
         "name": "imdb_counts",
         "rawType": "int64",
         "type": "integer"
        },
        {
         "name": "cinema_score_id",
         "rawType": "int64",
         "type": "integer"
        },
        {
         "name": "number",
         "rawType": "int64",
         "type": "integer"
        }
       ],
       "conversionMethod": "pd.DataFrame",
       "ref": "7c2c161f-4688-4a04-959f-230f99b7db9b",
       "rows": [
        [
         "0",
         "100",
         "96",
         "95",
         "26",
         "8.3",
         "1089101",
         "0",
         "1"
        ],
        [
         "1",
         "92",
         "91",
         "78",
         "23",
         "7.2",
         "319596",
         "0",
         "2"
        ],
        [
         "2",
         "75",
         "204",
         "73",
         "39",
         "7.2",
         "484034",
         "0",
         "7"
        ],
        [
         "3",
         "96",
         "253",
         "96",
         "37",
         "8.1",
         "851229",
         "0",
         "8"
        ],
        [
         "4",
         "95",
         "261",
         "95",
         "39",
         "8.4",
         "1226415",
         "0",
         "9"
        ],
        [
         "5",
         "98",
         "313",
         "92",
         "39",
         "8.3",
         "908222",
         "0",
         "11"
        ],
        [
         "6",
         "79",
         "256",
         "69",
         "37",
         "7.1",
         "452012",
         "0",
         "13"
        ],
        [
         "7",
         "80",
         "203",
         "65",
         "41",
         "7.2",
         "398903",
         "0",
         "14"
        ],
        [
         "8",
         "98",
         "387",
         "94",
         "55",
         "8.1",
         "834268",
         "0",
         "15"
        ],
        [
         "9",
         "75",
         "220",
         "66",
         "37",
         "6.7",
         "130324",
         "0",
         "16"
        ],
        [
         "10",
         "94",
         "339",
         "77",
         "48",
         "7.2",
         "311793",
         "0",
         "17"
        ],
        [
         "11",
         "69",
         "234",
         "59",
         "41",
         "6.7",
         "128849",
         "0",
         "18"
        ],
        [
         "12",
         "97",
         "459",
         "84",
         "57",
         "7.6",
         "288783",
         "0",
         "21"
        ],
        [
         "13",
         "73",
         "262",
         "58",
         "45",
         "7.0",
         "140174",
         "0",
         "27"
        ],
        [
         "14",
         "90",
         "313",
         "73",
         "59",
         "7.6",
         "168090",
         "0",
         "28"
        ],
        [
         "15",
         "100",
         "172",
         "88",
         "34",
         "7.9",
         "630573",
         "1",
         "3"
        ],
        [
         "16",
         "96",
         "199",
         "79",
         "35",
         "8.1",
         "1000657",
         "1",
         "4"
        ],
        [
         "17",
         "99",
         "270",
         "90",
         "38",
         "8.2",
         "1132877",
         "1",
         "5"
        ],
        [
         "18",
         "97",
         "250",
         "90",
         "41",
         "8.0",
         "828986",
         "1",
         "6"
        ],
        [
         "19",
         "98",
         "297",
         "88",
         "37",
         "8.3",
         "1151249",
         "1",
         "10"
        ],
        [
         "20",
         "97",
         "357",
         "81",
         "48",
         "8.4",
         "618005",
         "1",
         "19"
        ],
        [
         "21",
         "93",
         "390",
         "80",
         "51",
         "7.5",
         "341353",
         "1",
         "20"
        ],
        [
         "22",
         "40",
         "220",
         "57",
         "38",
         "6.2",
         "225724",
         "2",
         "12"
        ],
        [
         "23",
         "88",
         "350",
         "64",
         "56",
         "7.4",
         "174917",
         "2",
         "22"
        ],
        [
         "24",
         "74",
         "319",
         "60",
         "57",
         "6.1",
         "127045",
         "2",
         "26"
        ]
       ],
       "shape": {
        "columns": 8,
        "rows": 25
       }
      },
      "text/html": [
       "<div>\n",
       "<style scoped>\n",
       "    .dataframe tbody tr th:only-of-type {\n",
       "        vertical-align: middle;\n",
       "    }\n",
       "\n",
       "    .dataframe tbody tr th {\n",
       "        vertical-align: top;\n",
       "    }\n",
       "\n",
       "    .dataframe thead th {\n",
       "        text-align: right;\n",
       "    }\n",
       "</style>\n",
       "<table border=\"1\" class=\"dataframe\">\n",
       "  <thead>\n",
       "    <tr style=\"text-align: right;\">\n",
       "      <th></th>\n",
       "      <th>rotten_tomatoes_score</th>\n",
       "      <th>rotten_tomatoes_counts</th>\n",
       "      <th>metacritic_score</th>\n",
       "      <th>metacritic_counts</th>\n",
       "      <th>imdb_score</th>\n",
       "      <th>imdb_counts</th>\n",
       "      <th>cinema_score_id</th>\n",
       "      <th>number</th>\n",
       "    </tr>\n",
       "  </thead>\n",
       "  <tbody>\n",
       "    <tr>\n",
       "      <th>0</th>\n",
       "      <td>100</td>\n",
       "      <td>96</td>\n",
       "      <td>95</td>\n",
       "      <td>26</td>\n",
       "      <td>8.3</td>\n",
       "      <td>1089101</td>\n",
       "      <td>0</td>\n",
       "      <td>1</td>\n",
       "    </tr>\n",
       "    <tr>\n",
       "      <th>1</th>\n",
       "      <td>92</td>\n",
       "      <td>91</td>\n",
       "      <td>78</td>\n",
       "      <td>23</td>\n",
       "      <td>7.2</td>\n",
       "      <td>319596</td>\n",
       "      <td>0</td>\n",
       "      <td>2</td>\n",
       "    </tr>\n",
       "    <tr>\n",
       "      <th>2</th>\n",
       "      <td>75</td>\n",
       "      <td>204</td>\n",
       "      <td>73</td>\n",
       "      <td>39</td>\n",
       "      <td>7.2</td>\n",
       "      <td>484034</td>\n",
       "      <td>0</td>\n",
       "      <td>7</td>\n",
       "    </tr>\n",
       "    <tr>\n",
       "      <th>3</th>\n",
       "      <td>96</td>\n",
       "      <td>253</td>\n",
       "      <td>96</td>\n",
       "      <td>37</td>\n",
       "      <td>8.1</td>\n",
       "      <td>851229</td>\n",
       "      <td>0</td>\n",
       "      <td>8</td>\n",
       "    </tr>\n",
       "    <tr>\n",
       "      <th>4</th>\n",
       "      <td>95</td>\n",
       "      <td>261</td>\n",
       "      <td>95</td>\n",
       "      <td>39</td>\n",
       "      <td>8.4</td>\n",
       "      <td>1226415</td>\n",
       "      <td>0</td>\n",
       "      <td>9</td>\n",
       "    </tr>\n",
       "    <tr>\n",
       "      <th>5</th>\n",
       "      <td>98</td>\n",
       "      <td>313</td>\n",
       "      <td>92</td>\n",
       "      <td>39</td>\n",
       "      <td>8.3</td>\n",
       "      <td>908222</td>\n",
       "      <td>0</td>\n",
       "      <td>11</td>\n",
       "    </tr>\n",
       "    <tr>\n",
       "      <th>6</th>\n",
       "      <td>79</td>\n",
       "      <td>256</td>\n",
       "      <td>69</td>\n",
       "      <td>37</td>\n",
       "      <td>7.1</td>\n",
       "      <td>452012</td>\n",
       "      <td>0</td>\n",
       "      <td>13</td>\n",
       "    </tr>\n",
       "    <tr>\n",
       "      <th>7</th>\n",
       "      <td>80</td>\n",
       "      <td>203</td>\n",
       "      <td>65</td>\n",
       "      <td>41</td>\n",
       "      <td>7.2</td>\n",
       "      <td>398903</td>\n",
       "      <td>0</td>\n",
       "      <td>14</td>\n",
       "    </tr>\n",
       "    <tr>\n",
       "      <th>8</th>\n",
       "      <td>98</td>\n",
       "      <td>387</td>\n",
       "      <td>94</td>\n",
       "      <td>55</td>\n",
       "      <td>8.1</td>\n",
       "      <td>834268</td>\n",
       "      <td>0</td>\n",
       "      <td>15</td>\n",
       "    </tr>\n",
       "    <tr>\n",
       "      <th>9</th>\n",
       "      <td>75</td>\n",
       "      <td>220</td>\n",
       "      <td>66</td>\n",
       "      <td>37</td>\n",
       "      <td>6.7</td>\n",
       "      <td>130324</td>\n",
       "      <td>0</td>\n",
       "      <td>16</td>\n",
       "    </tr>\n",
       "    <tr>\n",
       "      <th>10</th>\n",
       "      <td>94</td>\n",
       "      <td>339</td>\n",
       "      <td>77</td>\n",
       "      <td>48</td>\n",
       "      <td>7.2</td>\n",
       "      <td>311793</td>\n",
       "      <td>0</td>\n",
       "      <td>17</td>\n",
       "    </tr>\n",
       "    <tr>\n",
       "      <th>11</th>\n",
       "      <td>69</td>\n",
       "      <td>234</td>\n",
       "      <td>59</td>\n",
       "      <td>41</td>\n",
       "      <td>6.7</td>\n",
       "      <td>128849</td>\n",
       "      <td>0</td>\n",
       "      <td>18</td>\n",
       "    </tr>\n",
       "    <tr>\n",
       "      <th>12</th>\n",
       "      <td>97</td>\n",
       "      <td>459</td>\n",
       "      <td>84</td>\n",
       "      <td>57</td>\n",
       "      <td>7.6</td>\n",
       "      <td>288783</td>\n",
       "      <td>0</td>\n",
       "      <td>21</td>\n",
       "    </tr>\n",
       "    <tr>\n",
       "      <th>13</th>\n",
       "      <td>73</td>\n",
       "      <td>262</td>\n",
       "      <td>58</td>\n",
       "      <td>45</td>\n",
       "      <td>7.0</td>\n",
       "      <td>140174</td>\n",
       "      <td>0</td>\n",
       "      <td>27</td>\n",
       "    </tr>\n",
       "    <tr>\n",
       "      <th>14</th>\n",
       "      <td>90</td>\n",
       "      <td>313</td>\n",
       "      <td>73</td>\n",
       "      <td>59</td>\n",
       "      <td>7.6</td>\n",
       "      <td>168090</td>\n",
       "      <td>0</td>\n",
       "      <td>28</td>\n",
       "    </tr>\n",
       "    <tr>\n",
       "      <th>15</th>\n",
       "      <td>100</td>\n",
       "      <td>172</td>\n",
       "      <td>88</td>\n",
       "      <td>34</td>\n",
       "      <td>7.9</td>\n",
       "      <td>630573</td>\n",
       "      <td>1</td>\n",
       "      <td>3</td>\n",
       "    </tr>\n",
       "    <tr>\n",
       "      <th>16</th>\n",
       "      <td>96</td>\n",
       "      <td>199</td>\n",
       "      <td>79</td>\n",
       "      <td>35</td>\n",
       "      <td>8.1</td>\n",
       "      <td>1000657</td>\n",
       "      <td>1</td>\n",
       "      <td>4</td>\n",
       "    </tr>\n",
       "    <tr>\n",
       "      <th>17</th>\n",
       "      <td>99</td>\n",
       "      <td>270</td>\n",
       "      <td>90</td>\n",
       "      <td>38</td>\n",
       "      <td>8.2</td>\n",
       "      <td>1132877</td>\n",
       "      <td>1</td>\n",
       "      <td>5</td>\n",
       "    </tr>\n",
       "    <tr>\n",
       "      <th>18</th>\n",
       "      <td>97</td>\n",
       "      <td>250</td>\n",
       "      <td>90</td>\n",
       "      <td>41</td>\n",
       "      <td>8.0</td>\n",
       "      <td>828986</td>\n",
       "      <td>1</td>\n",
       "      <td>6</td>\n",
       "    </tr>\n",
       "    <tr>\n",
       "      <th>19</th>\n",
       "      <td>98</td>\n",
       "      <td>297</td>\n",
       "      <td>88</td>\n",
       "      <td>37</td>\n",
       "      <td>8.3</td>\n",
       "      <td>1151249</td>\n",
       "      <td>1</td>\n",
       "      <td>10</td>\n",
       "    </tr>\n",
       "    <tr>\n",
       "      <th>20</th>\n",
       "      <td>97</td>\n",
       "      <td>357</td>\n",
       "      <td>81</td>\n",
       "      <td>48</td>\n",
       "      <td>8.4</td>\n",
       "      <td>618005</td>\n",
       "      <td>1</td>\n",
       "      <td>19</td>\n",
       "    </tr>\n",
       "    <tr>\n",
       "      <th>21</th>\n",
       "      <td>93</td>\n",
       "      <td>390</td>\n",
       "      <td>80</td>\n",
       "      <td>51</td>\n",
       "      <td>7.5</td>\n",
       "      <td>341353</td>\n",
       "      <td>1</td>\n",
       "      <td>20</td>\n",
       "    </tr>\n",
       "    <tr>\n",
       "      <th>22</th>\n",
       "      <td>40</td>\n",
       "      <td>220</td>\n",
       "      <td>57</td>\n",
       "      <td>38</td>\n",
       "      <td>6.2</td>\n",
       "      <td>225724</td>\n",
       "      <td>2</td>\n",
       "      <td>12</td>\n",
       "    </tr>\n",
       "    <tr>\n",
       "      <th>23</th>\n",
       "      <td>88</td>\n",
       "      <td>350</td>\n",
       "      <td>64</td>\n",
       "      <td>56</td>\n",
       "      <td>7.4</td>\n",
       "      <td>174917</td>\n",
       "      <td>2</td>\n",
       "      <td>22</td>\n",
       "    </tr>\n",
       "    <tr>\n",
       "      <th>24</th>\n",
       "      <td>74</td>\n",
       "      <td>319</td>\n",
       "      <td>60</td>\n",
       "      <td>57</td>\n",
       "      <td>6.1</td>\n",
       "      <td>127045</td>\n",
       "      <td>2</td>\n",
       "      <td>26</td>\n",
       "    </tr>\n",
       "  </tbody>\n",
       "</table>\n",
       "</div>"
      ],
      "text/plain": [
       "    rotten_tomatoes_score  rotten_tomatoes_counts  metacritic_score  \\\n",
       "0                     100                      96                95   \n",
       "1                      92                      91                78   \n",
       "2                      75                     204                73   \n",
       "3                      96                     253                96   \n",
       "4                      95                     261                95   \n",
       "5                      98                     313                92   \n",
       "6                      79                     256                69   \n",
       "7                      80                     203                65   \n",
       "8                      98                     387                94   \n",
       "9                      75                     220                66   \n",
       "10                     94                     339                77   \n",
       "11                     69                     234                59   \n",
       "12                     97                     459                84   \n",
       "13                     73                     262                58   \n",
       "14                     90                     313                73   \n",
       "15                    100                     172                88   \n",
       "16                     96                     199                79   \n",
       "17                     99                     270                90   \n",
       "18                     97                     250                90   \n",
       "19                     98                     297                88   \n",
       "20                     97                     357                81   \n",
       "21                     93                     390                80   \n",
       "22                     40                     220                57   \n",
       "23                     88                     350                64   \n",
       "24                     74                     319                60   \n",
       "\n",
       "    metacritic_counts  imdb_score  imdb_counts  cinema_score_id  number  \n",
       "0                  26         8.3      1089101                0       1  \n",
       "1                  23         7.2       319596                0       2  \n",
       "2                  39         7.2       484034                0       7  \n",
       "3                  37         8.1       851229                0       8  \n",
       "4                  39         8.4      1226415                0       9  \n",
       "5                  39         8.3       908222                0      11  \n",
       "6                  37         7.1       452012                0      13  \n",
       "7                  41         7.2       398903                0      14  \n",
       "8                  55         8.1       834268                0      15  \n",
       "9                  37         6.7       130324                0      16  \n",
       "10                 48         7.2       311793                0      17  \n",
       "11                 41         6.7       128849                0      18  \n",
       "12                 57         7.6       288783                0      21  \n",
       "13                 45         7.0       140174                0      27  \n",
       "14                 59         7.6       168090                0      28  \n",
       "15                 34         7.9       630573                1       3  \n",
       "16                 35         8.1      1000657                1       4  \n",
       "17                 38         8.2      1132877                1       5  \n",
       "18                 41         8.0       828986                1       6  \n",
       "19                 37         8.3      1151249                1      10  \n",
       "20                 48         8.4       618005                1      19  \n",
       "21                 51         7.5       341353                1      20  \n",
       "22                 38         6.2       225724                2      12  \n",
       "23                 56         7.4       174917                2      22  \n",
       "24                 57         6.1       127045                2      26  "
      ]
     },
     "execution_count": 48,
     "metadata": {},
     "output_type": "execute_result"
    }
   ],
   "source": [
    "merged_df_9 = public_response_df.merge(pixar_films_df, on='film', how='inner')\n",
    "\n",
    "public_response_df = merged_df_9.drop(columns=['film', 'release_date', 'run_time', 'plot', 'film_rating_id'])\n",
    "\n",
    "# public_response_df"
   ]
  },
  {
   "cell_type": "code",
   "execution_count": null,
   "metadata": {},
   "outputs": [],
   "source": [
    "# public_response_df.to_csv(\"public_response.csv\", index=False)\n",
    "\n",
    "# cinema_score_df.to_csv(\"cinema_score.csv\", index=False)"
   ]
  }
 ],
 "metadata": {
  "kernelspec": {
   "display_name": "base",
   "language": "python",
   "name": "python3"
  },
  "language_info": {
   "codemirror_mode": {
    "name": "ipython",
    "version": 3
   },
   "file_extension": ".py",
   "mimetype": "text/x-python",
   "name": "python",
   "nbconvert_exporter": "python",
   "pygments_lexer": "ipython3",
   "version": "3.11.4"
  }
 },
 "nbformat": 4,
 "nbformat_minor": 2
}
