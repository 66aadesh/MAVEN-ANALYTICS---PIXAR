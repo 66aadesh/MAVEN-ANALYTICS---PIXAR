{
 "cells": [
  {
   "cell_type": "markdown",
   "metadata": {},
   "source": [
    "# Import Libraries"
   ]
  },
  {
   "cell_type": "code",
   "execution_count": 3,
   "metadata": {},
   "outputs": [],
   "source": [
    "# Import Libraries\n",
    "\n",
    "import pandas as pd\n",
    "import numpy as np"
   ]
  },
  {
   "cell_type": "markdown",
   "metadata": {},
   "source": [
    "# Import the Data"
   ]
  },
  {
   "cell_type": "code",
   "execution_count": 4,
   "metadata": {},
   "outputs": [],
   "source": [
    "# Import the data\n",
    "\n",
    "academy_df = pd.read_csv(r\"D:\\Power BI Projects\\MAVEN ANALYTICS - PIXAR\\Pixar+Films\\academy.csv\")\n",
    "\n",
    "box_office_df = pd.read_csv(r\"D:\\Power BI Projects\\MAVEN ANALYTICS - PIXAR\\Pixar+Films\\box_office.csv\")\n",
    "\n",
    "genres_df = pd.read_csv(r\"D:\\Power BI Projects\\MAVEN ANALYTICS - PIXAR\\Pixar+Films\\genres.csv\")\n",
    "\n",
    "pixar_data_dict_df = pd.read_csv(r\"D:\\Power BI Projects\\MAVEN ANALYTICS - PIXAR\\Pixar+Films\\pixar_data_dictionary.csv\")\n",
    "\n",
    "pixar_films_df = pd.read_csv(r\"D:\\Power BI Projects\\MAVEN ANALYTICS - PIXAR\\Pixar+Films\\pixar_films.csv\")\n",
    "\n",
    "pixar_people_df = pd.read_csv(r\"D:\\Power BI Projects\\MAVEN ANALYTICS - PIXAR\\Pixar+Films\\pixar_people.csv\")\n",
    "\n",
    "public_response_df = pd.read_csv(r\"D:\\Power BI Projects\\MAVEN ANALYTICS - PIXAR\\Pixar+Films\\public_response.csv\")"
   ]
  },
  {
   "cell_type": "markdown",
   "metadata": {},
   "source": [
    "# academy_df"
   ]
  },
  {
   "cell_type": "code",
   "execution_count": 5,
   "metadata": {},
   "outputs": [],
   "source": [
    "# academy_df"
   ]
  },
  {
   "cell_type": "code",
   "execution_count": 6,
   "metadata": {},
   "outputs": [],
   "source": [
    "# academy_df.info()"
   ]
  },
  {
   "cell_type": "code",
   "execution_count": 7,
   "metadata": {},
   "outputs": [],
   "source": [
    "# academy_df.describe()"
   ]
  },
  {
   "cell_type": "code",
   "execution_count": 8,
   "metadata": {},
   "outputs": [],
   "source": [
    "# status_df\n",
    "\n",
    "status_df = pd.DataFrame({\n",
    "    'status':academy_df['status'].unique()\n",
    "}).reset_index().rename(columns={'index':'status_id'})\n",
    "\n",
    "# status_df"
   ]
  },
  {
   "cell_type": "code",
   "execution_count": 9,
   "metadata": {},
   "outputs": [],
   "source": [
    "# award_type_df\n",
    "\n",
    "award_type_df = pd.DataFrame({\n",
    "    'award_type' : academy_df['award_type'].unique()\n",
    "}).reset_index().rename(columns={'index':'award_type_id'})\n",
    "\n",
    "# award_type_df"
   ]
  },
  {
   "cell_type": "code",
   "execution_count": 10,
   "metadata": {},
   "outputs": [],
   "source": [
    "merged_df_10 = academy_df.merge(status_df, on='status', how='inner')\n",
    "\n",
    "academy_df = merged_df_10.drop(columns=['status'])\n",
    "\n",
    "# academy_df"
   ]
  },
  {
   "cell_type": "code",
   "execution_count": 11,
   "metadata": {},
   "outputs": [],
   "source": [
    "merged_df_11 = academy_df.merge(award_type_df, on='award_type', how='inner')\n",
    "\n",
    "academy_df = merged_df_11.drop(columns=['award_type'])\n",
    "\n",
    "# academy_df"
   ]
  },
  {
   "cell_type": "code",
   "execution_count": 12,
   "metadata": {},
   "outputs": [
    {
     "ename": "KeyError",
     "evalue": "\"['film_rating_id'] not found in axis\"",
     "output_type": "error",
     "traceback": [
      "\u001b[1;31m---------------------------------------------------------------------------\u001b[0m",
      "\u001b[1;31mKeyError\u001b[0m                                  Traceback (most recent call last)",
      "Cell \u001b[1;32mIn[12], line 3\u001b[0m\n\u001b[0;32m      1\u001b[0m merged_df_12 \u001b[38;5;241m=\u001b[39m academy_df\u001b[38;5;241m.\u001b[39mmerge(pixar_films_df, on\u001b[38;5;241m=\u001b[39m\u001b[38;5;124m'\u001b[39m\u001b[38;5;124mfilm\u001b[39m\u001b[38;5;124m'\u001b[39m, how\u001b[38;5;241m=\u001b[39m\u001b[38;5;124m'\u001b[39m\u001b[38;5;124minner\u001b[39m\u001b[38;5;124m'\u001b[39m)\n\u001b[1;32m----> 3\u001b[0m academy_df \u001b[38;5;241m=\u001b[39m \u001b[43mmerged_df_12\u001b[49m\u001b[38;5;241;43m.\u001b[39;49m\u001b[43mdrop\u001b[49m\u001b[43m(\u001b[49m\u001b[43mcolumns\u001b[49m\u001b[38;5;241;43m=\u001b[39;49m\u001b[43m[\u001b[49m\u001b[38;5;124;43m'\u001b[39;49m\u001b[38;5;124;43mfilm\u001b[39;49m\u001b[38;5;124;43m'\u001b[39;49m\u001b[43m,\u001b[49m\u001b[43m \u001b[49m\u001b[38;5;124;43m'\u001b[39;49m\u001b[38;5;124;43mrelease_date\u001b[39;49m\u001b[38;5;124;43m'\u001b[39;49m\u001b[43m,\u001b[49m\u001b[43m \u001b[49m\u001b[38;5;124;43m'\u001b[39;49m\u001b[38;5;124;43mrun_time\u001b[39;49m\u001b[38;5;124;43m'\u001b[39;49m\u001b[43m,\u001b[49m\u001b[43m \u001b[49m\u001b[38;5;124;43m'\u001b[39;49m\u001b[38;5;124;43mplot\u001b[39;49m\u001b[38;5;124;43m'\u001b[39;49m\u001b[43m,\u001b[49m\u001b[43m \u001b[49m\u001b[38;5;124;43m'\u001b[39;49m\u001b[38;5;124;43mfilm_rating_id\u001b[39;49m\u001b[38;5;124;43m'\u001b[39;49m\u001b[43m]\u001b[49m\u001b[43m)\u001b[49m\n\u001b[0;32m      5\u001b[0m \u001b[38;5;66;03m# academy_df\u001b[39;00m\n",
      "File \u001b[1;32mc:\\Users\\Aditya Dixit\\anaconda3\\Lib\\site-packages\\pandas\\util\\_decorators.py:331\u001b[0m, in \u001b[0;36mdeprecate_nonkeyword_arguments.<locals>.decorate.<locals>.wrapper\u001b[1;34m(*args, **kwargs)\u001b[0m\n\u001b[0;32m    325\u001b[0m \u001b[38;5;28;01mif\u001b[39;00m \u001b[38;5;28mlen\u001b[39m(args) \u001b[38;5;241m>\u001b[39m num_allow_args:\n\u001b[0;32m    326\u001b[0m     warnings\u001b[38;5;241m.\u001b[39mwarn(\n\u001b[0;32m    327\u001b[0m         msg\u001b[38;5;241m.\u001b[39mformat(arguments\u001b[38;5;241m=\u001b[39m_format_argument_list(allow_args)),\n\u001b[0;32m    328\u001b[0m         \u001b[38;5;167;01mFutureWarning\u001b[39;00m,\n\u001b[0;32m    329\u001b[0m         stacklevel\u001b[38;5;241m=\u001b[39mfind_stack_level(),\n\u001b[0;32m    330\u001b[0m     )\n\u001b[1;32m--> 331\u001b[0m \u001b[38;5;28;01mreturn\u001b[39;00m \u001b[43mfunc\u001b[49m\u001b[43m(\u001b[49m\u001b[38;5;241;43m*\u001b[39;49m\u001b[43margs\u001b[49m\u001b[43m,\u001b[49m\u001b[43m \u001b[49m\u001b[38;5;241;43m*\u001b[39;49m\u001b[38;5;241;43m*\u001b[39;49m\u001b[43mkwargs\u001b[49m\u001b[43m)\u001b[49m\n",
      "File \u001b[1;32mc:\\Users\\Aditya Dixit\\anaconda3\\Lib\\site-packages\\pandas\\core\\frame.py:5399\u001b[0m, in \u001b[0;36mDataFrame.drop\u001b[1;34m(self, labels, axis, index, columns, level, inplace, errors)\u001b[0m\n\u001b[0;32m   5251\u001b[0m \u001b[38;5;129m@deprecate_nonkeyword_arguments\u001b[39m(version\u001b[38;5;241m=\u001b[39m\u001b[38;5;28;01mNone\u001b[39;00m, allowed_args\u001b[38;5;241m=\u001b[39m[\u001b[38;5;124m\"\u001b[39m\u001b[38;5;124mself\u001b[39m\u001b[38;5;124m\"\u001b[39m, \u001b[38;5;124m\"\u001b[39m\u001b[38;5;124mlabels\u001b[39m\u001b[38;5;124m\"\u001b[39m])\n\u001b[0;32m   5252\u001b[0m \u001b[38;5;28;01mdef\u001b[39;00m \u001b[38;5;21mdrop\u001b[39m(  \u001b[38;5;66;03m# type: ignore[override]\u001b[39;00m\n\u001b[0;32m   5253\u001b[0m     \u001b[38;5;28mself\u001b[39m,\n\u001b[1;32m   (...)\u001b[0m\n\u001b[0;32m   5260\u001b[0m     errors: IgnoreRaise \u001b[38;5;241m=\u001b[39m \u001b[38;5;124m\"\u001b[39m\u001b[38;5;124mraise\u001b[39m\u001b[38;5;124m\"\u001b[39m,\n\u001b[0;32m   5261\u001b[0m ) \u001b[38;5;241m-\u001b[39m\u001b[38;5;241m>\u001b[39m DataFrame \u001b[38;5;241m|\u001b[39m \u001b[38;5;28;01mNone\u001b[39;00m:\n\u001b[0;32m   5262\u001b[0m \u001b[38;5;250m    \u001b[39m\u001b[38;5;124;03m\"\"\"\u001b[39;00m\n\u001b[0;32m   5263\u001b[0m \u001b[38;5;124;03m    Drop specified labels from rows or columns.\u001b[39;00m\n\u001b[0;32m   5264\u001b[0m \n\u001b[1;32m   (...)\u001b[0m\n\u001b[0;32m   5397\u001b[0m \u001b[38;5;124;03m            weight  1.0     0.8\u001b[39;00m\n\u001b[0;32m   5398\u001b[0m \u001b[38;5;124;03m    \"\"\"\u001b[39;00m\n\u001b[1;32m-> 5399\u001b[0m     \u001b[38;5;28;01mreturn\u001b[39;00m \u001b[38;5;28;43msuper\u001b[39;49m\u001b[43m(\u001b[49m\u001b[43m)\u001b[49m\u001b[38;5;241;43m.\u001b[39;49m\u001b[43mdrop\u001b[49m\u001b[43m(\u001b[49m\n\u001b[0;32m   5400\u001b[0m \u001b[43m        \u001b[49m\u001b[43mlabels\u001b[49m\u001b[38;5;241;43m=\u001b[39;49m\u001b[43mlabels\u001b[49m\u001b[43m,\u001b[49m\n\u001b[0;32m   5401\u001b[0m \u001b[43m        \u001b[49m\u001b[43maxis\u001b[49m\u001b[38;5;241;43m=\u001b[39;49m\u001b[43maxis\u001b[49m\u001b[43m,\u001b[49m\n\u001b[0;32m   5402\u001b[0m \u001b[43m        \u001b[49m\u001b[43mindex\u001b[49m\u001b[38;5;241;43m=\u001b[39;49m\u001b[43mindex\u001b[49m\u001b[43m,\u001b[49m\n\u001b[0;32m   5403\u001b[0m \u001b[43m        \u001b[49m\u001b[43mcolumns\u001b[49m\u001b[38;5;241;43m=\u001b[39;49m\u001b[43mcolumns\u001b[49m\u001b[43m,\u001b[49m\n\u001b[0;32m   5404\u001b[0m \u001b[43m        \u001b[49m\u001b[43mlevel\u001b[49m\u001b[38;5;241;43m=\u001b[39;49m\u001b[43mlevel\u001b[49m\u001b[43m,\u001b[49m\n\u001b[0;32m   5405\u001b[0m \u001b[43m        \u001b[49m\u001b[43minplace\u001b[49m\u001b[38;5;241;43m=\u001b[39;49m\u001b[43minplace\u001b[49m\u001b[43m,\u001b[49m\n\u001b[0;32m   5406\u001b[0m \u001b[43m        \u001b[49m\u001b[43merrors\u001b[49m\u001b[38;5;241;43m=\u001b[39;49m\u001b[43merrors\u001b[49m\u001b[43m,\u001b[49m\n\u001b[0;32m   5407\u001b[0m \u001b[43m    \u001b[49m\u001b[43m)\u001b[49m\n",
      "File \u001b[1;32mc:\\Users\\Aditya Dixit\\anaconda3\\Lib\\site-packages\\pandas\\util\\_decorators.py:331\u001b[0m, in \u001b[0;36mdeprecate_nonkeyword_arguments.<locals>.decorate.<locals>.wrapper\u001b[1;34m(*args, **kwargs)\u001b[0m\n\u001b[0;32m    325\u001b[0m \u001b[38;5;28;01mif\u001b[39;00m \u001b[38;5;28mlen\u001b[39m(args) \u001b[38;5;241m>\u001b[39m num_allow_args:\n\u001b[0;32m    326\u001b[0m     warnings\u001b[38;5;241m.\u001b[39mwarn(\n\u001b[0;32m    327\u001b[0m         msg\u001b[38;5;241m.\u001b[39mformat(arguments\u001b[38;5;241m=\u001b[39m_format_argument_list(allow_args)),\n\u001b[0;32m    328\u001b[0m         \u001b[38;5;167;01mFutureWarning\u001b[39;00m,\n\u001b[0;32m    329\u001b[0m         stacklevel\u001b[38;5;241m=\u001b[39mfind_stack_level(),\n\u001b[0;32m    330\u001b[0m     )\n\u001b[1;32m--> 331\u001b[0m \u001b[38;5;28;01mreturn\u001b[39;00m \u001b[43mfunc\u001b[49m\u001b[43m(\u001b[49m\u001b[38;5;241;43m*\u001b[39;49m\u001b[43margs\u001b[49m\u001b[43m,\u001b[49m\u001b[43m \u001b[49m\u001b[38;5;241;43m*\u001b[39;49m\u001b[38;5;241;43m*\u001b[39;49m\u001b[43mkwargs\u001b[49m\u001b[43m)\u001b[49m\n",
      "File \u001b[1;32mc:\\Users\\Aditya Dixit\\anaconda3\\Lib\\site-packages\\pandas\\core\\generic.py:4505\u001b[0m, in \u001b[0;36mNDFrame.drop\u001b[1;34m(self, labels, axis, index, columns, level, inplace, errors)\u001b[0m\n\u001b[0;32m   4503\u001b[0m \u001b[38;5;28;01mfor\u001b[39;00m axis, labels \u001b[38;5;129;01min\u001b[39;00m axes\u001b[38;5;241m.\u001b[39mitems():\n\u001b[0;32m   4504\u001b[0m     \u001b[38;5;28;01mif\u001b[39;00m labels \u001b[38;5;129;01mis\u001b[39;00m \u001b[38;5;129;01mnot\u001b[39;00m \u001b[38;5;28;01mNone\u001b[39;00m:\n\u001b[1;32m-> 4505\u001b[0m         obj \u001b[38;5;241m=\u001b[39m \u001b[43mobj\u001b[49m\u001b[38;5;241;43m.\u001b[39;49m\u001b[43m_drop_axis\u001b[49m\u001b[43m(\u001b[49m\u001b[43mlabels\u001b[49m\u001b[43m,\u001b[49m\u001b[43m \u001b[49m\u001b[43maxis\u001b[49m\u001b[43m,\u001b[49m\u001b[43m \u001b[49m\u001b[43mlevel\u001b[49m\u001b[38;5;241;43m=\u001b[39;49m\u001b[43mlevel\u001b[49m\u001b[43m,\u001b[49m\u001b[43m \u001b[49m\u001b[43merrors\u001b[49m\u001b[38;5;241;43m=\u001b[39;49m\u001b[43merrors\u001b[49m\u001b[43m)\u001b[49m\n\u001b[0;32m   4507\u001b[0m \u001b[38;5;28;01mif\u001b[39;00m inplace:\n\u001b[0;32m   4508\u001b[0m     \u001b[38;5;28mself\u001b[39m\u001b[38;5;241m.\u001b[39m_update_inplace(obj)\n",
      "File \u001b[1;32mc:\\Users\\Aditya Dixit\\anaconda3\\Lib\\site-packages\\pandas\\core\\generic.py:4546\u001b[0m, in \u001b[0;36mNDFrame._drop_axis\u001b[1;34m(self, labels, axis, level, errors, only_slice)\u001b[0m\n\u001b[0;32m   4544\u001b[0m         new_axis \u001b[38;5;241m=\u001b[39m axis\u001b[38;5;241m.\u001b[39mdrop(labels, level\u001b[38;5;241m=\u001b[39mlevel, errors\u001b[38;5;241m=\u001b[39merrors)\n\u001b[0;32m   4545\u001b[0m     \u001b[38;5;28;01melse\u001b[39;00m:\n\u001b[1;32m-> 4546\u001b[0m         new_axis \u001b[38;5;241m=\u001b[39m \u001b[43maxis\u001b[49m\u001b[38;5;241;43m.\u001b[39;49m\u001b[43mdrop\u001b[49m\u001b[43m(\u001b[49m\u001b[43mlabels\u001b[49m\u001b[43m,\u001b[49m\u001b[43m \u001b[49m\u001b[43merrors\u001b[49m\u001b[38;5;241;43m=\u001b[39;49m\u001b[43merrors\u001b[49m\u001b[43m)\u001b[49m\n\u001b[0;32m   4547\u001b[0m     indexer \u001b[38;5;241m=\u001b[39m axis\u001b[38;5;241m.\u001b[39mget_indexer(new_axis)\n\u001b[0;32m   4549\u001b[0m \u001b[38;5;66;03m# Case for non-unique axis\u001b[39;00m\n\u001b[0;32m   4550\u001b[0m \u001b[38;5;28;01melse\u001b[39;00m:\n",
      "File \u001b[1;32mc:\\Users\\Aditya Dixit\\anaconda3\\Lib\\site-packages\\pandas\\core\\indexes\\base.py:6934\u001b[0m, in \u001b[0;36mIndex.drop\u001b[1;34m(self, labels, errors)\u001b[0m\n\u001b[0;32m   6932\u001b[0m \u001b[38;5;28;01mif\u001b[39;00m mask\u001b[38;5;241m.\u001b[39many():\n\u001b[0;32m   6933\u001b[0m     \u001b[38;5;28;01mif\u001b[39;00m errors \u001b[38;5;241m!=\u001b[39m \u001b[38;5;124m\"\u001b[39m\u001b[38;5;124mignore\u001b[39m\u001b[38;5;124m\"\u001b[39m:\n\u001b[1;32m-> 6934\u001b[0m         \u001b[38;5;28;01mraise\u001b[39;00m \u001b[38;5;167;01mKeyError\u001b[39;00m(\u001b[38;5;124mf\u001b[39m\u001b[38;5;124m\"\u001b[39m\u001b[38;5;132;01m{\u001b[39;00m\u001b[38;5;28mlist\u001b[39m(labels[mask])\u001b[38;5;132;01m}\u001b[39;00m\u001b[38;5;124m not found in axis\u001b[39m\u001b[38;5;124m\"\u001b[39m)\n\u001b[0;32m   6935\u001b[0m     indexer \u001b[38;5;241m=\u001b[39m indexer[\u001b[38;5;241m~\u001b[39mmask]\n\u001b[0;32m   6936\u001b[0m \u001b[38;5;28;01mreturn\u001b[39;00m \u001b[38;5;28mself\u001b[39m\u001b[38;5;241m.\u001b[39mdelete(indexer)\n",
      "\u001b[1;31mKeyError\u001b[0m: \"['film_rating_id'] not found in axis\""
     ]
    }
   ],
   "source": [
    "merged_df_12 = academy_df.merge(pixar_films_df, on='film', how='inner')\n",
    "\n",
    "academy_df = merged_df_12.drop(columns=['film', 'release_date', 'run_time', 'plot', 'film_rating_id'])\n",
    "\n",
    "# academy_df"
   ]
  },
  {
   "cell_type": "code",
   "execution_count": null,
   "metadata": {},
   "outputs": [],
   "source": [
    "# academy_df.to_csv(\"academy.csv\", index=False)\n",
    "\n",
    "# status_df.to_csv(\"academy_status.csv\", index=False)\n",
    "\n",
    "# award_type_df.to_csv(\"academy_type.csv\", index=False)"
   ]
  },
  {
   "cell_type": "markdown",
   "metadata": {},
   "source": [
    "# box_office_df"
   ]
  },
  {
   "cell_type": "code",
   "execution_count": null,
   "metadata": {},
   "outputs": [
    {
     "data": {
      "application/vnd.microsoft.datawrangler.viewer.v0+json": {
       "columns": [
        {
         "name": "index",
         "rawType": "int64",
         "type": "integer"
        },
        {
         "name": "film",
         "rawType": "object",
         "type": "string"
        },
        {
         "name": "budget",
         "rawType": "float64",
         "type": "float"
        },
        {
         "name": "box_office_us_canada",
         "rawType": "int64",
         "type": "integer"
        },
        {
         "name": "box_office_other",
         "rawType": "int64",
         "type": "integer"
        },
        {
         "name": "box_office_worldwide",
         "rawType": "int64",
         "type": "integer"
        }
       ],
       "conversionMethod": "pd.DataFrame",
       "ref": "99c350f4-3ed6-4a44-88b5-1548dd65dc68",
       "rows": [
        [
         "0",
         "Toy Story",
         "30000000.0",
         "223225679",
         "171210907",
         "394436586"
        ],
        [
         "1",
         "A Bug's Life",
         "120000000.0",
         "162798565",
         "200460294",
         "363258859"
        ],
        [
         "2",
         "Toy Story 2",
         "90000000.0",
         "245852179",
         "265506097",
         "511358276"
        ],
        [
         "3",
         "Monsters, Inc.",
         "115000000.0",
         "255873250",
         "272900000",
         "528773250"
        ],
        [
         "4",
         "Finding Nemo",
         "94000000.0",
         "339714978",
         "531300000",
         "871014978"
        ],
        [
         "5",
         "The Incredibles",
         "92000000.0",
         "261441092",
         "370001000",
         "631442092"
        ],
        [
         "6",
         "Cars",
         "120000000.0",
         "244082982",
         "217900167",
         "461983149"
        ],
        [
         "7",
         "Ratatouille",
         "150000000.0",
         "206445654",
         "417280431",
         "623726085"
        ],
        [
         "8",
         "WALL-E",
         "180000000.0",
         "223808164",
         "297503696",
         "521311860"
        ],
        [
         "9",
         "Up",
         "175000000.0",
         "293004164",
         "442094918",
         "735099082"
        ],
        [
         "10",
         "Toy Story 3",
         "200000000.0",
         "415004880",
         "651964823",
         "1066969703"
        ],
        [
         "11",
         "Cars 2",
         "200000000.0",
         "191452396",
         "368400000",
         "559852396"
        ],
        [
         "12",
         "Brave",
         "185000000.0",
         "237283207",
         "301700000",
         "538983207"
        ],
        [
         "13",
         "Monsters University",
         "200000000.0",
         "268492764",
         "475066843",
         "743559607"
        ],
        [
         "14",
         "Inside Out",
         "175000000.0",
         "356461711",
         "501149463",
         "857611174"
        ],
        [
         "15",
         "The Good Dinosaur",
         "175000000.0",
         "123087120",
         "209120551",
         "332207671"
        ],
        [
         "16",
         "Finding Dory",
         "200000000.0",
         "486295561",
         "542275328",
         "1028570889"
        ],
        [
         "17",
         "Cars 3",
         "175000000.0",
         "152901115",
         "231029541",
         "383930656"
        ],
        [
         "18",
         "Coco",
         "175000000.0",
         "210460015",
         "604181157",
         "814641172"
        ],
        [
         "19",
         "Incredibles 2",
         "200000000.0",
         "608581744",
         "634223615",
         "1242805359"
        ],
        [
         "20",
         "Toy Story 4",
         "200000000.0",
         "434038008",
         "639356585",
         "1073394593"
        ],
        [
         "21",
         "Onward",
         "175000000.0",
         "61555145",
         "80384897",
         "141940042"
        ],
        [
         "22",
         "Soul",
         "150000000.0",
         "946154",
         "120957731",
         "121903885"
        ],
        [
         "23",
         "Luca",
         null,
         "1324302",
         "49788012",
         "51112314"
        ],
        [
         "24",
         "Turning Red",
         "175000000.0",
         "1399001",
         "20414357",
         "21813358"
        ],
        [
         "25",
         "Lightyear",
         "200000000.0",
         "118307188",
         "108118232",
         "226425420"
        ],
        [
         "26",
         "Elemental",
         "200000000.0",
         "154426697",
         "342017611",
         "496444308"
        ],
        [
         "27",
         "Inside Out 2",
         "200000000.0",
         "652980194",
         "1045050771",
         "1698030965"
        ]
       ],
       "shape": {
        "columns": 5,
        "rows": 28
       }
      },
      "text/html": [
       "<div>\n",
       "<style scoped>\n",
       "    .dataframe tbody tr th:only-of-type {\n",
       "        vertical-align: middle;\n",
       "    }\n",
       "\n",
       "    .dataframe tbody tr th {\n",
       "        vertical-align: top;\n",
       "    }\n",
       "\n",
       "    .dataframe thead th {\n",
       "        text-align: right;\n",
       "    }\n",
       "</style>\n",
       "<table border=\"1\" class=\"dataframe\">\n",
       "  <thead>\n",
       "    <tr style=\"text-align: right;\">\n",
       "      <th></th>\n",
       "      <th>film</th>\n",
       "      <th>budget</th>\n",
       "      <th>box_office_us_canada</th>\n",
       "      <th>box_office_other</th>\n",
       "      <th>box_office_worldwide</th>\n",
       "    </tr>\n",
       "  </thead>\n",
       "  <tbody>\n",
       "    <tr>\n",
       "      <th>0</th>\n",
       "      <td>Toy Story</td>\n",
       "      <td>30000000.0</td>\n",
       "      <td>223225679</td>\n",
       "      <td>171210907</td>\n",
       "      <td>394436586</td>\n",
       "    </tr>\n",
       "    <tr>\n",
       "      <th>1</th>\n",
       "      <td>A Bug's Life</td>\n",
       "      <td>120000000.0</td>\n",
       "      <td>162798565</td>\n",
       "      <td>200460294</td>\n",
       "      <td>363258859</td>\n",
       "    </tr>\n",
       "    <tr>\n",
       "      <th>2</th>\n",
       "      <td>Toy Story 2</td>\n",
       "      <td>90000000.0</td>\n",
       "      <td>245852179</td>\n",
       "      <td>265506097</td>\n",
       "      <td>511358276</td>\n",
       "    </tr>\n",
       "    <tr>\n",
       "      <th>3</th>\n",
       "      <td>Monsters, Inc.</td>\n",
       "      <td>115000000.0</td>\n",
       "      <td>255873250</td>\n",
       "      <td>272900000</td>\n",
       "      <td>528773250</td>\n",
       "    </tr>\n",
       "    <tr>\n",
       "      <th>4</th>\n",
       "      <td>Finding Nemo</td>\n",
       "      <td>94000000.0</td>\n",
       "      <td>339714978</td>\n",
       "      <td>531300000</td>\n",
       "      <td>871014978</td>\n",
       "    </tr>\n",
       "    <tr>\n",
       "      <th>5</th>\n",
       "      <td>The Incredibles</td>\n",
       "      <td>92000000.0</td>\n",
       "      <td>261441092</td>\n",
       "      <td>370001000</td>\n",
       "      <td>631442092</td>\n",
       "    </tr>\n",
       "    <tr>\n",
       "      <th>6</th>\n",
       "      <td>Cars</td>\n",
       "      <td>120000000.0</td>\n",
       "      <td>244082982</td>\n",
       "      <td>217900167</td>\n",
       "      <td>461983149</td>\n",
       "    </tr>\n",
       "    <tr>\n",
       "      <th>7</th>\n",
       "      <td>Ratatouille</td>\n",
       "      <td>150000000.0</td>\n",
       "      <td>206445654</td>\n",
       "      <td>417280431</td>\n",
       "      <td>623726085</td>\n",
       "    </tr>\n",
       "    <tr>\n",
       "      <th>8</th>\n",
       "      <td>WALL-E</td>\n",
       "      <td>180000000.0</td>\n",
       "      <td>223808164</td>\n",
       "      <td>297503696</td>\n",
       "      <td>521311860</td>\n",
       "    </tr>\n",
       "    <tr>\n",
       "      <th>9</th>\n",
       "      <td>Up</td>\n",
       "      <td>175000000.0</td>\n",
       "      <td>293004164</td>\n",
       "      <td>442094918</td>\n",
       "      <td>735099082</td>\n",
       "    </tr>\n",
       "    <tr>\n",
       "      <th>10</th>\n",
       "      <td>Toy Story 3</td>\n",
       "      <td>200000000.0</td>\n",
       "      <td>415004880</td>\n",
       "      <td>651964823</td>\n",
       "      <td>1066969703</td>\n",
       "    </tr>\n",
       "    <tr>\n",
       "      <th>11</th>\n",
       "      <td>Cars 2</td>\n",
       "      <td>200000000.0</td>\n",
       "      <td>191452396</td>\n",
       "      <td>368400000</td>\n",
       "      <td>559852396</td>\n",
       "    </tr>\n",
       "    <tr>\n",
       "      <th>12</th>\n",
       "      <td>Brave</td>\n",
       "      <td>185000000.0</td>\n",
       "      <td>237283207</td>\n",
       "      <td>301700000</td>\n",
       "      <td>538983207</td>\n",
       "    </tr>\n",
       "    <tr>\n",
       "      <th>13</th>\n",
       "      <td>Monsters University</td>\n",
       "      <td>200000000.0</td>\n",
       "      <td>268492764</td>\n",
       "      <td>475066843</td>\n",
       "      <td>743559607</td>\n",
       "    </tr>\n",
       "    <tr>\n",
       "      <th>14</th>\n",
       "      <td>Inside Out</td>\n",
       "      <td>175000000.0</td>\n",
       "      <td>356461711</td>\n",
       "      <td>501149463</td>\n",
       "      <td>857611174</td>\n",
       "    </tr>\n",
       "    <tr>\n",
       "      <th>15</th>\n",
       "      <td>The Good Dinosaur</td>\n",
       "      <td>175000000.0</td>\n",
       "      <td>123087120</td>\n",
       "      <td>209120551</td>\n",
       "      <td>332207671</td>\n",
       "    </tr>\n",
       "    <tr>\n",
       "      <th>16</th>\n",
       "      <td>Finding Dory</td>\n",
       "      <td>200000000.0</td>\n",
       "      <td>486295561</td>\n",
       "      <td>542275328</td>\n",
       "      <td>1028570889</td>\n",
       "    </tr>\n",
       "    <tr>\n",
       "      <th>17</th>\n",
       "      <td>Cars 3</td>\n",
       "      <td>175000000.0</td>\n",
       "      <td>152901115</td>\n",
       "      <td>231029541</td>\n",
       "      <td>383930656</td>\n",
       "    </tr>\n",
       "    <tr>\n",
       "      <th>18</th>\n",
       "      <td>Coco</td>\n",
       "      <td>175000000.0</td>\n",
       "      <td>210460015</td>\n",
       "      <td>604181157</td>\n",
       "      <td>814641172</td>\n",
       "    </tr>\n",
       "    <tr>\n",
       "      <th>19</th>\n",
       "      <td>Incredibles 2</td>\n",
       "      <td>200000000.0</td>\n",
       "      <td>608581744</td>\n",
       "      <td>634223615</td>\n",
       "      <td>1242805359</td>\n",
       "    </tr>\n",
       "    <tr>\n",
       "      <th>20</th>\n",
       "      <td>Toy Story 4</td>\n",
       "      <td>200000000.0</td>\n",
       "      <td>434038008</td>\n",
       "      <td>639356585</td>\n",
       "      <td>1073394593</td>\n",
       "    </tr>\n",
       "    <tr>\n",
       "      <th>21</th>\n",
       "      <td>Onward</td>\n",
       "      <td>175000000.0</td>\n",
       "      <td>61555145</td>\n",
       "      <td>80384897</td>\n",
       "      <td>141940042</td>\n",
       "    </tr>\n",
       "    <tr>\n",
       "      <th>22</th>\n",
       "      <td>Soul</td>\n",
       "      <td>150000000.0</td>\n",
       "      <td>946154</td>\n",
       "      <td>120957731</td>\n",
       "      <td>121903885</td>\n",
       "    </tr>\n",
       "    <tr>\n",
       "      <th>23</th>\n",
       "      <td>Luca</td>\n",
       "      <td>NaN</td>\n",
       "      <td>1324302</td>\n",
       "      <td>49788012</td>\n",
       "      <td>51112314</td>\n",
       "    </tr>\n",
       "    <tr>\n",
       "      <th>24</th>\n",
       "      <td>Turning Red</td>\n",
       "      <td>175000000.0</td>\n",
       "      <td>1399001</td>\n",
       "      <td>20414357</td>\n",
       "      <td>21813358</td>\n",
       "    </tr>\n",
       "    <tr>\n",
       "      <th>25</th>\n",
       "      <td>Lightyear</td>\n",
       "      <td>200000000.0</td>\n",
       "      <td>118307188</td>\n",
       "      <td>108118232</td>\n",
       "      <td>226425420</td>\n",
       "    </tr>\n",
       "    <tr>\n",
       "      <th>26</th>\n",
       "      <td>Elemental</td>\n",
       "      <td>200000000.0</td>\n",
       "      <td>154426697</td>\n",
       "      <td>342017611</td>\n",
       "      <td>496444308</td>\n",
       "    </tr>\n",
       "    <tr>\n",
       "      <th>27</th>\n",
       "      <td>Inside Out 2</td>\n",
       "      <td>200000000.0</td>\n",
       "      <td>652980194</td>\n",
       "      <td>1045050771</td>\n",
       "      <td>1698030965</td>\n",
       "    </tr>\n",
       "  </tbody>\n",
       "</table>\n",
       "</div>"
      ],
      "text/plain": [
       "                   film       budget  box_office_us_canada  box_office_other  \\\n",
       "0             Toy Story   30000000.0             223225679         171210907   \n",
       "1          A Bug's Life  120000000.0             162798565         200460294   \n",
       "2           Toy Story 2   90000000.0             245852179         265506097   \n",
       "3        Monsters, Inc.  115000000.0             255873250         272900000   \n",
       "4          Finding Nemo   94000000.0             339714978         531300000   \n",
       "5       The Incredibles   92000000.0             261441092         370001000   \n",
       "6                  Cars  120000000.0             244082982         217900167   \n",
       "7           Ratatouille  150000000.0             206445654         417280431   \n",
       "8                WALL-E  180000000.0             223808164         297503696   \n",
       "9                    Up  175000000.0             293004164         442094918   \n",
       "10          Toy Story 3  200000000.0             415004880         651964823   \n",
       "11               Cars 2  200000000.0             191452396         368400000   \n",
       "12                Brave  185000000.0             237283207         301700000   \n",
       "13  Monsters University  200000000.0             268492764         475066843   \n",
       "14           Inside Out  175000000.0             356461711         501149463   \n",
       "15    The Good Dinosaur  175000000.0             123087120         209120551   \n",
       "16         Finding Dory  200000000.0             486295561         542275328   \n",
       "17               Cars 3  175000000.0             152901115         231029541   \n",
       "18                 Coco  175000000.0             210460015         604181157   \n",
       "19        Incredibles 2  200000000.0             608581744         634223615   \n",
       "20          Toy Story 4  200000000.0             434038008         639356585   \n",
       "21               Onward  175000000.0              61555145          80384897   \n",
       "22                 Soul  150000000.0                946154         120957731   \n",
       "23                 Luca          NaN               1324302          49788012   \n",
       "24          Turning Red  175000000.0               1399001          20414357   \n",
       "25            Lightyear  200000000.0             118307188         108118232   \n",
       "26            Elemental  200000000.0             154426697         342017611   \n",
       "27         Inside Out 2  200000000.0             652980194        1045050771   \n",
       "\n",
       "    box_office_worldwide  \n",
       "0              394436586  \n",
       "1              363258859  \n",
       "2              511358276  \n",
       "3              528773250  \n",
       "4              871014978  \n",
       "5              631442092  \n",
       "6              461983149  \n",
       "7              623726085  \n",
       "8              521311860  \n",
       "9              735099082  \n",
       "10            1066969703  \n",
       "11             559852396  \n",
       "12             538983207  \n",
       "13             743559607  \n",
       "14             857611174  \n",
       "15             332207671  \n",
       "16            1028570889  \n",
       "17             383930656  \n",
       "18             814641172  \n",
       "19            1242805359  \n",
       "20            1073394593  \n",
       "21             141940042  \n",
       "22             121903885  \n",
       "23              51112314  \n",
       "24              21813358  \n",
       "25             226425420  \n",
       "26             496444308  \n",
       "27            1698030965  "
      ]
     },
     "execution_count": 6,
     "metadata": {},
     "output_type": "execute_result"
    }
   ],
   "source": [
    "# box_office_df"
   ]
  },
  {
   "cell_type": "code",
   "execution_count": null,
   "metadata": {},
   "outputs": [
    {
     "name": "stdout",
     "output_type": "stream",
     "text": [
      "<class 'pandas.core.frame.DataFrame'>\n",
      "RangeIndex: 28 entries, 0 to 27\n",
      "Data columns (total 5 columns):\n",
      " #   Column                Non-Null Count  Dtype  \n",
      "---  ------                --------------  -----  \n",
      " 0   film                  28 non-null     object \n",
      " 1   budget                27 non-null     float64\n",
      " 2   box_office_us_canada  28 non-null     int64  \n",
      " 3   box_office_other      28 non-null     int64  \n",
      " 4   box_office_worldwide  28 non-null     int64  \n",
      "dtypes: float64(1), int64(3), object(1)\n",
      "memory usage: 1.2+ KB\n"
     ]
    }
   ],
   "source": [
    "# box_office_df.info()"
   ]
  },
  {
   "cell_type": "code",
   "execution_count": null,
   "metadata": {},
   "outputs": [
    {
     "data": {
      "application/vnd.microsoft.datawrangler.viewer.v0+json": {
       "columns": [
        {
         "name": "index",
         "rawType": "object",
         "type": "string"
        },
        {
         "name": "budget",
         "rawType": "float64",
         "type": "float"
        },
        {
         "name": "box_office_us_canada",
         "rawType": "float64",
         "type": "float"
        },
        {
         "name": "box_office_other",
         "rawType": "float64",
         "type": "float"
        },
        {
         "name": "box_office_worldwide",
         "rawType": "float64",
         "type": "float"
        }
       ],
       "conversionMethod": "pd.DataFrame",
       "ref": "1b2256e3-40ee-453c-93af-4517c20ec900",
       "rows": [
        [
         "count",
         "27.0",
         "28.0",
         "28.0",
         "28.0"
        ],
        [
         "mean",
         "161148148.14814815",
         "247544425.32142857",
         "361119893.8214286",
         "608664319.1428572"
        ],
        [
         "std",
         "45221424.21438322",
         "163160866.49363232",
         "230011032.99731863",
         "382649749.03631043"
        ],
        [
         "min",
         "30000000.0",
         "946154.0",
         "20414357.0",
         "21813358.0"
        ],
        [
         "25%",
         "135000000.0",
         "154045301.5",
         "206955486.75",
         "378762706.75"
        ],
        [
         "50%",
         "175000000.0",
         "230545685.5",
         "321858805.5",
         "533878228.5"
        ],
        [
         "75%",
         "200000000.0",
         "304681867.5",
         "508687097.25",
         "825383672.5"
        ],
        [
         "max",
         "200000000.0",
         "652980194.0",
         "1045050771.0",
         "1698030965.0"
        ]
       ],
       "shape": {
        "columns": 4,
        "rows": 8
       }
      },
      "text/html": [
       "<div>\n",
       "<style scoped>\n",
       "    .dataframe tbody tr th:only-of-type {\n",
       "        vertical-align: middle;\n",
       "    }\n",
       "\n",
       "    .dataframe tbody tr th {\n",
       "        vertical-align: top;\n",
       "    }\n",
       "\n",
       "    .dataframe thead th {\n",
       "        text-align: right;\n",
       "    }\n",
       "</style>\n",
       "<table border=\"1\" class=\"dataframe\">\n",
       "  <thead>\n",
       "    <tr style=\"text-align: right;\">\n",
       "      <th></th>\n",
       "      <th>budget</th>\n",
       "      <th>box_office_us_canada</th>\n",
       "      <th>box_office_other</th>\n",
       "      <th>box_office_worldwide</th>\n",
       "    </tr>\n",
       "  </thead>\n",
       "  <tbody>\n",
       "    <tr>\n",
       "      <th>count</th>\n",
       "      <td>2.700000e+01</td>\n",
       "      <td>2.800000e+01</td>\n",
       "      <td>2.800000e+01</td>\n",
       "      <td>2.800000e+01</td>\n",
       "    </tr>\n",
       "    <tr>\n",
       "      <th>mean</th>\n",
       "      <td>1.611481e+08</td>\n",
       "      <td>2.475444e+08</td>\n",
       "      <td>3.611199e+08</td>\n",
       "      <td>6.086643e+08</td>\n",
       "    </tr>\n",
       "    <tr>\n",
       "      <th>std</th>\n",
       "      <td>4.522142e+07</td>\n",
       "      <td>1.631609e+08</td>\n",
       "      <td>2.300110e+08</td>\n",
       "      <td>3.826497e+08</td>\n",
       "    </tr>\n",
       "    <tr>\n",
       "      <th>min</th>\n",
       "      <td>3.000000e+07</td>\n",
       "      <td>9.461540e+05</td>\n",
       "      <td>2.041436e+07</td>\n",
       "      <td>2.181336e+07</td>\n",
       "    </tr>\n",
       "    <tr>\n",
       "      <th>25%</th>\n",
       "      <td>1.350000e+08</td>\n",
       "      <td>1.540453e+08</td>\n",
       "      <td>2.069555e+08</td>\n",
       "      <td>3.787627e+08</td>\n",
       "    </tr>\n",
       "    <tr>\n",
       "      <th>50%</th>\n",
       "      <td>1.750000e+08</td>\n",
       "      <td>2.305457e+08</td>\n",
       "      <td>3.218588e+08</td>\n",
       "      <td>5.338782e+08</td>\n",
       "    </tr>\n",
       "    <tr>\n",
       "      <th>75%</th>\n",
       "      <td>2.000000e+08</td>\n",
       "      <td>3.046819e+08</td>\n",
       "      <td>5.086871e+08</td>\n",
       "      <td>8.253837e+08</td>\n",
       "    </tr>\n",
       "    <tr>\n",
       "      <th>max</th>\n",
       "      <td>2.000000e+08</td>\n",
       "      <td>6.529802e+08</td>\n",
       "      <td>1.045051e+09</td>\n",
       "      <td>1.698031e+09</td>\n",
       "    </tr>\n",
       "  </tbody>\n",
       "</table>\n",
       "</div>"
      ],
      "text/plain": [
       "             budget  box_office_us_canada  box_office_other  \\\n",
       "count  2.700000e+01          2.800000e+01      2.800000e+01   \n",
       "mean   1.611481e+08          2.475444e+08      3.611199e+08   \n",
       "std    4.522142e+07          1.631609e+08      2.300110e+08   \n",
       "min    3.000000e+07          9.461540e+05      2.041436e+07   \n",
       "25%    1.350000e+08          1.540453e+08      2.069555e+08   \n",
       "50%    1.750000e+08          2.305457e+08      3.218588e+08   \n",
       "75%    2.000000e+08          3.046819e+08      5.086871e+08   \n",
       "max    2.000000e+08          6.529802e+08      1.045051e+09   \n",
       "\n",
       "       box_office_worldwide  \n",
       "count          2.800000e+01  \n",
       "mean           6.086643e+08  \n",
       "std            3.826497e+08  \n",
       "min            2.181336e+07  \n",
       "25%            3.787627e+08  \n",
       "50%            5.338782e+08  \n",
       "75%            8.253837e+08  \n",
       "max            1.698031e+09  "
      ]
     },
     "execution_count": 8,
     "metadata": {},
     "output_type": "execute_result"
    }
   ],
   "source": [
    "# box_office_df.describe()"
   ]
  },
  {
   "cell_type": "code",
   "execution_count": null,
   "metadata": {},
   "outputs": [],
   "source": [
    "# Fill the NaN value with the mean of the column\n",
    "\n",
    "box_office_df['budget'] = box_office_df['budget'].fillna(box_office_df['budget'].mean())"
   ]
  },
  {
   "cell_type": "code",
   "execution_count": null,
   "metadata": {},
   "outputs": [],
   "source": [
    "# Fixing the Datatype\n",
    "\n",
    "box_office_df['box_office_us_canada'] = box_office_df['box_office_us_canada'].astype('float64')\n",
    "\n",
    "box_office_df['box_office_other'] = box_office_df['box_office_other'].astype('float64')\n",
    "\n",
    "box_office_df['box_office_worldwide'] = box_office_df['box_office_worldwide'].astype('float64')"
   ]
  },
  {
   "cell_type": "code",
   "execution_count": null,
   "metadata": {},
   "outputs": [
    {
     "data": {
      "application/vnd.microsoft.datawrangler.viewer.v0+json": {
       "columns": [
        {
         "name": "index",
         "rawType": "int64",
         "type": "integer"
        },
        {
         "name": "film",
         "rawType": "object",
         "type": "string"
        },
        {
         "name": "budget",
         "rawType": "float64",
         "type": "float"
        },
        {
         "name": "box_office_us_canada",
         "rawType": "float64",
         "type": "float"
        },
        {
         "name": "box_office_other",
         "rawType": "float64",
         "type": "float"
        },
        {
         "name": "box_office_worldwide",
         "rawType": "float64",
         "type": "float"
        }
       ],
       "conversionMethod": "pd.DataFrame",
       "ref": "99404b00-333a-4ee6-8160-ee68900a30b8",
       "rows": [
        [
         "0",
         "Toy Story",
         "30000000.0",
         "223225679.0",
         "171210907.0",
         "394436586.0"
        ],
        [
         "1",
         "A Bug's Life",
         "120000000.0",
         "162798565.0",
         "200460294.0",
         "363258859.0"
        ],
        [
         "2",
         "Toy Story 2",
         "90000000.0",
         "245852179.0",
         "265506097.0",
         "511358276.0"
        ],
        [
         "3",
         "Monsters, Inc.",
         "115000000.0",
         "255873250.0",
         "272900000.0",
         "528773250.0"
        ],
        [
         "4",
         "Finding Nemo",
         "94000000.0",
         "339714978.0",
         "531300000.0",
         "871014978.0"
        ],
        [
         "5",
         "The Incredibles",
         "92000000.0",
         "261441092.0",
         "370001000.0",
         "631442092.0"
        ],
        [
         "6",
         "Cars",
         "120000000.0",
         "244082982.0",
         "217900167.0",
         "461983149.0"
        ],
        [
         "7",
         "Ratatouille",
         "150000000.0",
         "206445654.0",
         "417280431.0",
         "623726085.0"
        ],
        [
         "8",
         "WALL-E",
         "180000000.0",
         "223808164.0",
         "297503696.0",
         "521311860.0"
        ],
        [
         "9",
         "Up",
         "175000000.0",
         "293004164.0",
         "442094918.0",
         "735099082.0"
        ],
        [
         "10",
         "Toy Story 3",
         "200000000.0",
         "415004880.0",
         "651964823.0",
         "1066969703.0"
        ],
        [
         "11",
         "Cars 2",
         "200000000.0",
         "191452396.0",
         "368400000.0",
         "559852396.0"
        ],
        [
         "12",
         "Brave",
         "185000000.0",
         "237283207.0",
         "301700000.0",
         "538983207.0"
        ],
        [
         "13",
         "Monsters University",
         "200000000.0",
         "268492764.0",
         "475066843.0",
         "743559607.0"
        ],
        [
         "14",
         "Inside Out",
         "175000000.0",
         "356461711.0",
         "501149463.0",
         "857611174.0"
        ],
        [
         "15",
         "The Good Dinosaur",
         "175000000.0",
         "123087120.0",
         "209120551.0",
         "332207671.0"
        ],
        [
         "16",
         "Finding Dory",
         "200000000.0",
         "486295561.0",
         "542275328.0",
         "1028570889.0"
        ],
        [
         "17",
         "Cars 3",
         "175000000.0",
         "152901115.0",
         "231029541.0",
         "383930656.0"
        ],
        [
         "18",
         "Coco",
         "175000000.0",
         "210460015.0",
         "604181157.0",
         "814641172.0"
        ],
        [
         "19",
         "Incredibles 2",
         "200000000.0",
         "608581744.0",
         "634223615.0",
         "1242805359.0"
        ],
        [
         "20",
         "Toy Story 4",
         "200000000.0",
         "434038008.0",
         "639356585.0",
         "1073394593.0"
        ],
        [
         "21",
         "Onward",
         "175000000.0",
         "61555145.0",
         "80384897.0",
         "141940042.0"
        ],
        [
         "22",
         "Soul",
         "150000000.0",
         "946154.0",
         "120957731.0",
         "121903885.0"
        ],
        [
         "23",
         "Luca",
         "161148148.14814815",
         "1324302.0",
         "49788012.0",
         "51112314.0"
        ],
        [
         "24",
         "Turning Red",
         "175000000.0",
         "1399001.0",
         "20414357.0",
         "21813358.0"
        ],
        [
         "25",
         "Lightyear",
         "200000000.0",
         "118307188.0",
         "108118232.0",
         "226425420.0"
        ],
        [
         "26",
         "Elemental",
         "200000000.0",
         "154426697.0",
         "342017611.0",
         "496444308.0"
        ],
        [
         "27",
         "Inside Out 2",
         "200000000.0",
         "652980194.0",
         "1045050771.0",
         "1698030965.0"
        ]
       ],
       "shape": {
        "columns": 5,
        "rows": 28
       }
      },
      "text/html": [
       "<div>\n",
       "<style scoped>\n",
       "    .dataframe tbody tr th:only-of-type {\n",
       "        vertical-align: middle;\n",
       "    }\n",
       "\n",
       "    .dataframe tbody tr th {\n",
       "        vertical-align: top;\n",
       "    }\n",
       "\n",
       "    .dataframe thead th {\n",
       "        text-align: right;\n",
       "    }\n",
       "</style>\n",
       "<table border=\"1\" class=\"dataframe\">\n",
       "  <thead>\n",
       "    <tr style=\"text-align: right;\">\n",
       "      <th></th>\n",
       "      <th>film</th>\n",
       "      <th>budget</th>\n",
       "      <th>box_office_us_canada</th>\n",
       "      <th>box_office_other</th>\n",
       "      <th>box_office_worldwide</th>\n",
       "    </tr>\n",
       "  </thead>\n",
       "  <tbody>\n",
       "    <tr>\n",
       "      <th>0</th>\n",
       "      <td>Toy Story</td>\n",
       "      <td>3.000000e+07</td>\n",
       "      <td>223225679.0</td>\n",
       "      <td>1.712109e+08</td>\n",
       "      <td>3.944366e+08</td>\n",
       "    </tr>\n",
       "    <tr>\n",
       "      <th>1</th>\n",
       "      <td>A Bug's Life</td>\n",
       "      <td>1.200000e+08</td>\n",
       "      <td>162798565.0</td>\n",
       "      <td>2.004603e+08</td>\n",
       "      <td>3.632589e+08</td>\n",
       "    </tr>\n",
       "    <tr>\n",
       "      <th>2</th>\n",
       "      <td>Toy Story 2</td>\n",
       "      <td>9.000000e+07</td>\n",
       "      <td>245852179.0</td>\n",
       "      <td>2.655061e+08</td>\n",
       "      <td>5.113583e+08</td>\n",
       "    </tr>\n",
       "    <tr>\n",
       "      <th>3</th>\n",
       "      <td>Monsters, Inc.</td>\n",
       "      <td>1.150000e+08</td>\n",
       "      <td>255873250.0</td>\n",
       "      <td>2.729000e+08</td>\n",
       "      <td>5.287732e+08</td>\n",
       "    </tr>\n",
       "    <tr>\n",
       "      <th>4</th>\n",
       "      <td>Finding Nemo</td>\n",
       "      <td>9.400000e+07</td>\n",
       "      <td>339714978.0</td>\n",
       "      <td>5.313000e+08</td>\n",
       "      <td>8.710150e+08</td>\n",
       "    </tr>\n",
       "    <tr>\n",
       "      <th>5</th>\n",
       "      <td>The Incredibles</td>\n",
       "      <td>9.200000e+07</td>\n",
       "      <td>261441092.0</td>\n",
       "      <td>3.700010e+08</td>\n",
       "      <td>6.314421e+08</td>\n",
       "    </tr>\n",
       "    <tr>\n",
       "      <th>6</th>\n",
       "      <td>Cars</td>\n",
       "      <td>1.200000e+08</td>\n",
       "      <td>244082982.0</td>\n",
       "      <td>2.179002e+08</td>\n",
       "      <td>4.619831e+08</td>\n",
       "    </tr>\n",
       "    <tr>\n",
       "      <th>7</th>\n",
       "      <td>Ratatouille</td>\n",
       "      <td>1.500000e+08</td>\n",
       "      <td>206445654.0</td>\n",
       "      <td>4.172804e+08</td>\n",
       "      <td>6.237261e+08</td>\n",
       "    </tr>\n",
       "    <tr>\n",
       "      <th>8</th>\n",
       "      <td>WALL-E</td>\n",
       "      <td>1.800000e+08</td>\n",
       "      <td>223808164.0</td>\n",
       "      <td>2.975037e+08</td>\n",
       "      <td>5.213119e+08</td>\n",
       "    </tr>\n",
       "    <tr>\n",
       "      <th>9</th>\n",
       "      <td>Up</td>\n",
       "      <td>1.750000e+08</td>\n",
       "      <td>293004164.0</td>\n",
       "      <td>4.420949e+08</td>\n",
       "      <td>7.350991e+08</td>\n",
       "    </tr>\n",
       "    <tr>\n",
       "      <th>10</th>\n",
       "      <td>Toy Story 3</td>\n",
       "      <td>2.000000e+08</td>\n",
       "      <td>415004880.0</td>\n",
       "      <td>6.519648e+08</td>\n",
       "      <td>1.066970e+09</td>\n",
       "    </tr>\n",
       "    <tr>\n",
       "      <th>11</th>\n",
       "      <td>Cars 2</td>\n",
       "      <td>2.000000e+08</td>\n",
       "      <td>191452396.0</td>\n",
       "      <td>3.684000e+08</td>\n",
       "      <td>5.598524e+08</td>\n",
       "    </tr>\n",
       "    <tr>\n",
       "      <th>12</th>\n",
       "      <td>Brave</td>\n",
       "      <td>1.850000e+08</td>\n",
       "      <td>237283207.0</td>\n",
       "      <td>3.017000e+08</td>\n",
       "      <td>5.389832e+08</td>\n",
       "    </tr>\n",
       "    <tr>\n",
       "      <th>13</th>\n",
       "      <td>Monsters University</td>\n",
       "      <td>2.000000e+08</td>\n",
       "      <td>268492764.0</td>\n",
       "      <td>4.750668e+08</td>\n",
       "      <td>7.435596e+08</td>\n",
       "    </tr>\n",
       "    <tr>\n",
       "      <th>14</th>\n",
       "      <td>Inside Out</td>\n",
       "      <td>1.750000e+08</td>\n",
       "      <td>356461711.0</td>\n",
       "      <td>5.011495e+08</td>\n",
       "      <td>8.576112e+08</td>\n",
       "    </tr>\n",
       "    <tr>\n",
       "      <th>15</th>\n",
       "      <td>The Good Dinosaur</td>\n",
       "      <td>1.750000e+08</td>\n",
       "      <td>123087120.0</td>\n",
       "      <td>2.091206e+08</td>\n",
       "      <td>3.322077e+08</td>\n",
       "    </tr>\n",
       "    <tr>\n",
       "      <th>16</th>\n",
       "      <td>Finding Dory</td>\n",
       "      <td>2.000000e+08</td>\n",
       "      <td>486295561.0</td>\n",
       "      <td>5.422753e+08</td>\n",
       "      <td>1.028571e+09</td>\n",
       "    </tr>\n",
       "    <tr>\n",
       "      <th>17</th>\n",
       "      <td>Cars 3</td>\n",
       "      <td>1.750000e+08</td>\n",
       "      <td>152901115.0</td>\n",
       "      <td>2.310295e+08</td>\n",
       "      <td>3.839307e+08</td>\n",
       "    </tr>\n",
       "    <tr>\n",
       "      <th>18</th>\n",
       "      <td>Coco</td>\n",
       "      <td>1.750000e+08</td>\n",
       "      <td>210460015.0</td>\n",
       "      <td>6.041812e+08</td>\n",
       "      <td>8.146412e+08</td>\n",
       "    </tr>\n",
       "    <tr>\n",
       "      <th>19</th>\n",
       "      <td>Incredibles 2</td>\n",
       "      <td>2.000000e+08</td>\n",
       "      <td>608581744.0</td>\n",
       "      <td>6.342236e+08</td>\n",
       "      <td>1.242805e+09</td>\n",
       "    </tr>\n",
       "    <tr>\n",
       "      <th>20</th>\n",
       "      <td>Toy Story 4</td>\n",
       "      <td>2.000000e+08</td>\n",
       "      <td>434038008.0</td>\n",
       "      <td>6.393566e+08</td>\n",
       "      <td>1.073395e+09</td>\n",
       "    </tr>\n",
       "    <tr>\n",
       "      <th>21</th>\n",
       "      <td>Onward</td>\n",
       "      <td>1.750000e+08</td>\n",
       "      <td>61555145.0</td>\n",
       "      <td>8.038490e+07</td>\n",
       "      <td>1.419400e+08</td>\n",
       "    </tr>\n",
       "    <tr>\n",
       "      <th>22</th>\n",
       "      <td>Soul</td>\n",
       "      <td>1.500000e+08</td>\n",
       "      <td>946154.0</td>\n",
       "      <td>1.209577e+08</td>\n",
       "      <td>1.219039e+08</td>\n",
       "    </tr>\n",
       "    <tr>\n",
       "      <th>23</th>\n",
       "      <td>Luca</td>\n",
       "      <td>1.611481e+08</td>\n",
       "      <td>1324302.0</td>\n",
       "      <td>4.978801e+07</td>\n",
       "      <td>5.111231e+07</td>\n",
       "    </tr>\n",
       "    <tr>\n",
       "      <th>24</th>\n",
       "      <td>Turning Red</td>\n",
       "      <td>1.750000e+08</td>\n",
       "      <td>1399001.0</td>\n",
       "      <td>2.041436e+07</td>\n",
       "      <td>2.181336e+07</td>\n",
       "    </tr>\n",
       "    <tr>\n",
       "      <th>25</th>\n",
       "      <td>Lightyear</td>\n",
       "      <td>2.000000e+08</td>\n",
       "      <td>118307188.0</td>\n",
       "      <td>1.081182e+08</td>\n",
       "      <td>2.264254e+08</td>\n",
       "    </tr>\n",
       "    <tr>\n",
       "      <th>26</th>\n",
       "      <td>Elemental</td>\n",
       "      <td>2.000000e+08</td>\n",
       "      <td>154426697.0</td>\n",
       "      <td>3.420176e+08</td>\n",
       "      <td>4.964443e+08</td>\n",
       "    </tr>\n",
       "    <tr>\n",
       "      <th>27</th>\n",
       "      <td>Inside Out 2</td>\n",
       "      <td>2.000000e+08</td>\n",
       "      <td>652980194.0</td>\n",
       "      <td>1.045051e+09</td>\n",
       "      <td>1.698031e+09</td>\n",
       "    </tr>\n",
       "  </tbody>\n",
       "</table>\n",
       "</div>"
      ],
      "text/plain": [
       "                   film        budget  box_office_us_canada  box_office_other  \\\n",
       "0             Toy Story  3.000000e+07           223225679.0      1.712109e+08   \n",
       "1          A Bug's Life  1.200000e+08           162798565.0      2.004603e+08   \n",
       "2           Toy Story 2  9.000000e+07           245852179.0      2.655061e+08   \n",
       "3        Monsters, Inc.  1.150000e+08           255873250.0      2.729000e+08   \n",
       "4          Finding Nemo  9.400000e+07           339714978.0      5.313000e+08   \n",
       "5       The Incredibles  9.200000e+07           261441092.0      3.700010e+08   \n",
       "6                  Cars  1.200000e+08           244082982.0      2.179002e+08   \n",
       "7           Ratatouille  1.500000e+08           206445654.0      4.172804e+08   \n",
       "8                WALL-E  1.800000e+08           223808164.0      2.975037e+08   \n",
       "9                    Up  1.750000e+08           293004164.0      4.420949e+08   \n",
       "10          Toy Story 3  2.000000e+08           415004880.0      6.519648e+08   \n",
       "11               Cars 2  2.000000e+08           191452396.0      3.684000e+08   \n",
       "12                Brave  1.850000e+08           237283207.0      3.017000e+08   \n",
       "13  Monsters University  2.000000e+08           268492764.0      4.750668e+08   \n",
       "14           Inside Out  1.750000e+08           356461711.0      5.011495e+08   \n",
       "15    The Good Dinosaur  1.750000e+08           123087120.0      2.091206e+08   \n",
       "16         Finding Dory  2.000000e+08           486295561.0      5.422753e+08   \n",
       "17               Cars 3  1.750000e+08           152901115.0      2.310295e+08   \n",
       "18                 Coco  1.750000e+08           210460015.0      6.041812e+08   \n",
       "19        Incredibles 2  2.000000e+08           608581744.0      6.342236e+08   \n",
       "20          Toy Story 4  2.000000e+08           434038008.0      6.393566e+08   \n",
       "21               Onward  1.750000e+08            61555145.0      8.038490e+07   \n",
       "22                 Soul  1.500000e+08              946154.0      1.209577e+08   \n",
       "23                 Luca  1.611481e+08             1324302.0      4.978801e+07   \n",
       "24          Turning Red  1.750000e+08             1399001.0      2.041436e+07   \n",
       "25            Lightyear  2.000000e+08           118307188.0      1.081182e+08   \n",
       "26            Elemental  2.000000e+08           154426697.0      3.420176e+08   \n",
       "27         Inside Out 2  2.000000e+08           652980194.0      1.045051e+09   \n",
       "\n",
       "    box_office_worldwide  \n",
       "0           3.944366e+08  \n",
       "1           3.632589e+08  \n",
       "2           5.113583e+08  \n",
       "3           5.287732e+08  \n",
       "4           8.710150e+08  \n",
       "5           6.314421e+08  \n",
       "6           4.619831e+08  \n",
       "7           6.237261e+08  \n",
       "8           5.213119e+08  \n",
       "9           7.350991e+08  \n",
       "10          1.066970e+09  \n",
       "11          5.598524e+08  \n",
       "12          5.389832e+08  \n",
       "13          7.435596e+08  \n",
       "14          8.576112e+08  \n",
       "15          3.322077e+08  \n",
       "16          1.028571e+09  \n",
       "17          3.839307e+08  \n",
       "18          8.146412e+08  \n",
       "19          1.242805e+09  \n",
       "20          1.073395e+09  \n",
       "21          1.419400e+08  \n",
       "22          1.219039e+08  \n",
       "23          5.111231e+07  \n",
       "24          2.181336e+07  \n",
       "25          2.264254e+08  \n",
       "26          4.964443e+08  \n",
       "27          1.698031e+09  "
      ]
     },
     "execution_count": 11,
     "metadata": {},
     "output_type": "execute_result"
    }
   ],
   "source": [
    "# box_office_df"
   ]
  },
  {
   "cell_type": "code",
   "execution_count": null,
   "metadata": {},
   "outputs": [
    {
     "data": {
      "application/vnd.microsoft.datawrangler.viewer.v0+json": {
       "columns": [
        {
         "name": "index",
         "rawType": "int64",
         "type": "integer"
        },
        {
         "name": "budget",
         "rawType": "float64",
         "type": "float"
        },
        {
         "name": "box_office_us_canada",
         "rawType": "float64",
         "type": "float"
        },
        {
         "name": "box_office_other",
         "rawType": "float64",
         "type": "float"
        },
        {
         "name": "box_office_worldwide",
         "rawType": "float64",
         "type": "float"
        },
        {
         "name": "number",
         "rawType": "int64",
         "type": "integer"
        }
       ],
       "conversionMethod": "pd.DataFrame",
       "ref": "ef52913b-dfd5-4cb9-abf1-835ec443a621",
       "rows": [
        [
         "0",
         "30000000.0",
         "223225679.0",
         "171210907.0",
         "394436586.0",
         "1"
        ],
        [
         "1",
         "120000000.0",
         "162798565.0",
         "200460294.0",
         "363258859.0",
         "2"
        ],
        [
         "2",
         "90000000.0",
         "245852179.0",
         "265506097.0",
         "511358276.0",
         "3"
        ],
        [
         "3",
         "115000000.0",
         "255873250.0",
         "272900000.0",
         "528773250.0",
         "4"
        ],
        [
         "4",
         "94000000.0",
         "339714978.0",
         "531300000.0",
         "871014978.0",
         "5"
        ],
        [
         "5",
         "92000000.0",
         "261441092.0",
         "370001000.0",
         "631442092.0",
         "6"
        ],
        [
         "6",
         "120000000.0",
         "244082982.0",
         "217900167.0",
         "461983149.0",
         "7"
        ],
        [
         "7",
         "150000000.0",
         "206445654.0",
         "417280431.0",
         "623726085.0",
         "8"
        ],
        [
         "8",
         "180000000.0",
         "223808164.0",
         "297503696.0",
         "521311860.0",
         "9"
        ],
        [
         "9",
         "175000000.0",
         "293004164.0",
         "442094918.0",
         "735099082.0",
         "10"
        ],
        [
         "10",
         "200000000.0",
         "415004880.0",
         "651964823.0",
         "1066969703.0",
         "11"
        ],
        [
         "11",
         "200000000.0",
         "191452396.0",
         "368400000.0",
         "559852396.0",
         "12"
        ],
        [
         "12",
         "185000000.0",
         "237283207.0",
         "301700000.0",
         "538983207.0",
         "13"
        ],
        [
         "13",
         "200000000.0",
         "268492764.0",
         "475066843.0",
         "743559607.0",
         "14"
        ],
        [
         "14",
         "175000000.0",
         "356461711.0",
         "501149463.0",
         "857611174.0",
         "15"
        ],
        [
         "15",
         "175000000.0",
         "123087120.0",
         "209120551.0",
         "332207671.0",
         "16"
        ],
        [
         "16",
         "200000000.0",
         "486295561.0",
         "542275328.0",
         "1028570889.0",
         "17"
        ],
        [
         "17",
         "175000000.0",
         "152901115.0",
         "231029541.0",
         "383930656.0",
         "18"
        ],
        [
         "18",
         "175000000.0",
         "210460015.0",
         "604181157.0",
         "814641172.0",
         "19"
        ],
        [
         "19",
         "200000000.0",
         "608581744.0",
         "634223615.0",
         "1242805359.0",
         "20"
        ],
        [
         "20",
         "200000000.0",
         "434038008.0",
         "639356585.0",
         "1073394593.0",
         "21"
        ],
        [
         "21",
         "175000000.0",
         "61555145.0",
         "80384897.0",
         "141940042.0",
         "22"
        ],
        [
         "22",
         "150000000.0",
         "946154.0",
         "120957731.0",
         "121903885.0",
         "23"
        ],
        [
         "23",
         "161148148.14814815",
         "1324302.0",
         "49788012.0",
         "51112314.0",
         "24"
        ],
        [
         "24",
         "175000000.0",
         "1399001.0",
         "20414357.0",
         "21813358.0",
         "25"
        ],
        [
         "25",
         "200000000.0",
         "118307188.0",
         "108118232.0",
         "226425420.0",
         "26"
        ],
        [
         "26",
         "200000000.0",
         "154426697.0",
         "342017611.0",
         "496444308.0",
         "27"
        ],
        [
         "27",
         "200000000.0",
         "652980194.0",
         "1045050771.0",
         "1698030965.0",
         "28"
        ]
       ],
       "shape": {
        "columns": 5,
        "rows": 28
       }
      },
      "text/html": [
       "<div>\n",
       "<style scoped>\n",
       "    .dataframe tbody tr th:only-of-type {\n",
       "        vertical-align: middle;\n",
       "    }\n",
       "\n",
       "    .dataframe tbody tr th {\n",
       "        vertical-align: top;\n",
       "    }\n",
       "\n",
       "    .dataframe thead th {\n",
       "        text-align: right;\n",
       "    }\n",
       "</style>\n",
       "<table border=\"1\" class=\"dataframe\">\n",
       "  <thead>\n",
       "    <tr style=\"text-align: right;\">\n",
       "      <th></th>\n",
       "      <th>budget</th>\n",
       "      <th>box_office_us_canada</th>\n",
       "      <th>box_office_other</th>\n",
       "      <th>box_office_worldwide</th>\n",
       "      <th>number</th>\n",
       "    </tr>\n",
       "  </thead>\n",
       "  <tbody>\n",
       "    <tr>\n",
       "      <th>0</th>\n",
       "      <td>3.000000e+07</td>\n",
       "      <td>223225679.0</td>\n",
       "      <td>1.712109e+08</td>\n",
       "      <td>3.944366e+08</td>\n",
       "      <td>1</td>\n",
       "    </tr>\n",
       "    <tr>\n",
       "      <th>1</th>\n",
       "      <td>1.200000e+08</td>\n",
       "      <td>162798565.0</td>\n",
       "      <td>2.004603e+08</td>\n",
       "      <td>3.632589e+08</td>\n",
       "      <td>2</td>\n",
       "    </tr>\n",
       "    <tr>\n",
       "      <th>2</th>\n",
       "      <td>9.000000e+07</td>\n",
       "      <td>245852179.0</td>\n",
       "      <td>2.655061e+08</td>\n",
       "      <td>5.113583e+08</td>\n",
       "      <td>3</td>\n",
       "    </tr>\n",
       "    <tr>\n",
       "      <th>3</th>\n",
       "      <td>1.150000e+08</td>\n",
       "      <td>255873250.0</td>\n",
       "      <td>2.729000e+08</td>\n",
       "      <td>5.287732e+08</td>\n",
       "      <td>4</td>\n",
       "    </tr>\n",
       "    <tr>\n",
       "      <th>4</th>\n",
       "      <td>9.400000e+07</td>\n",
       "      <td>339714978.0</td>\n",
       "      <td>5.313000e+08</td>\n",
       "      <td>8.710150e+08</td>\n",
       "      <td>5</td>\n",
       "    </tr>\n",
       "    <tr>\n",
       "      <th>5</th>\n",
       "      <td>9.200000e+07</td>\n",
       "      <td>261441092.0</td>\n",
       "      <td>3.700010e+08</td>\n",
       "      <td>6.314421e+08</td>\n",
       "      <td>6</td>\n",
       "    </tr>\n",
       "    <tr>\n",
       "      <th>6</th>\n",
       "      <td>1.200000e+08</td>\n",
       "      <td>244082982.0</td>\n",
       "      <td>2.179002e+08</td>\n",
       "      <td>4.619831e+08</td>\n",
       "      <td>7</td>\n",
       "    </tr>\n",
       "    <tr>\n",
       "      <th>7</th>\n",
       "      <td>1.500000e+08</td>\n",
       "      <td>206445654.0</td>\n",
       "      <td>4.172804e+08</td>\n",
       "      <td>6.237261e+08</td>\n",
       "      <td>8</td>\n",
       "    </tr>\n",
       "    <tr>\n",
       "      <th>8</th>\n",
       "      <td>1.800000e+08</td>\n",
       "      <td>223808164.0</td>\n",
       "      <td>2.975037e+08</td>\n",
       "      <td>5.213119e+08</td>\n",
       "      <td>9</td>\n",
       "    </tr>\n",
       "    <tr>\n",
       "      <th>9</th>\n",
       "      <td>1.750000e+08</td>\n",
       "      <td>293004164.0</td>\n",
       "      <td>4.420949e+08</td>\n",
       "      <td>7.350991e+08</td>\n",
       "      <td>10</td>\n",
       "    </tr>\n",
       "    <tr>\n",
       "      <th>10</th>\n",
       "      <td>2.000000e+08</td>\n",
       "      <td>415004880.0</td>\n",
       "      <td>6.519648e+08</td>\n",
       "      <td>1.066970e+09</td>\n",
       "      <td>11</td>\n",
       "    </tr>\n",
       "    <tr>\n",
       "      <th>11</th>\n",
       "      <td>2.000000e+08</td>\n",
       "      <td>191452396.0</td>\n",
       "      <td>3.684000e+08</td>\n",
       "      <td>5.598524e+08</td>\n",
       "      <td>12</td>\n",
       "    </tr>\n",
       "    <tr>\n",
       "      <th>12</th>\n",
       "      <td>1.850000e+08</td>\n",
       "      <td>237283207.0</td>\n",
       "      <td>3.017000e+08</td>\n",
       "      <td>5.389832e+08</td>\n",
       "      <td>13</td>\n",
       "    </tr>\n",
       "    <tr>\n",
       "      <th>13</th>\n",
       "      <td>2.000000e+08</td>\n",
       "      <td>268492764.0</td>\n",
       "      <td>4.750668e+08</td>\n",
       "      <td>7.435596e+08</td>\n",
       "      <td>14</td>\n",
       "    </tr>\n",
       "    <tr>\n",
       "      <th>14</th>\n",
       "      <td>1.750000e+08</td>\n",
       "      <td>356461711.0</td>\n",
       "      <td>5.011495e+08</td>\n",
       "      <td>8.576112e+08</td>\n",
       "      <td>15</td>\n",
       "    </tr>\n",
       "    <tr>\n",
       "      <th>15</th>\n",
       "      <td>1.750000e+08</td>\n",
       "      <td>123087120.0</td>\n",
       "      <td>2.091206e+08</td>\n",
       "      <td>3.322077e+08</td>\n",
       "      <td>16</td>\n",
       "    </tr>\n",
       "    <tr>\n",
       "      <th>16</th>\n",
       "      <td>2.000000e+08</td>\n",
       "      <td>486295561.0</td>\n",
       "      <td>5.422753e+08</td>\n",
       "      <td>1.028571e+09</td>\n",
       "      <td>17</td>\n",
       "    </tr>\n",
       "    <tr>\n",
       "      <th>17</th>\n",
       "      <td>1.750000e+08</td>\n",
       "      <td>152901115.0</td>\n",
       "      <td>2.310295e+08</td>\n",
       "      <td>3.839307e+08</td>\n",
       "      <td>18</td>\n",
       "    </tr>\n",
       "    <tr>\n",
       "      <th>18</th>\n",
       "      <td>1.750000e+08</td>\n",
       "      <td>210460015.0</td>\n",
       "      <td>6.041812e+08</td>\n",
       "      <td>8.146412e+08</td>\n",
       "      <td>19</td>\n",
       "    </tr>\n",
       "    <tr>\n",
       "      <th>19</th>\n",
       "      <td>2.000000e+08</td>\n",
       "      <td>608581744.0</td>\n",
       "      <td>6.342236e+08</td>\n",
       "      <td>1.242805e+09</td>\n",
       "      <td>20</td>\n",
       "    </tr>\n",
       "    <tr>\n",
       "      <th>20</th>\n",
       "      <td>2.000000e+08</td>\n",
       "      <td>434038008.0</td>\n",
       "      <td>6.393566e+08</td>\n",
       "      <td>1.073395e+09</td>\n",
       "      <td>21</td>\n",
       "    </tr>\n",
       "    <tr>\n",
       "      <th>21</th>\n",
       "      <td>1.750000e+08</td>\n",
       "      <td>61555145.0</td>\n",
       "      <td>8.038490e+07</td>\n",
       "      <td>1.419400e+08</td>\n",
       "      <td>22</td>\n",
       "    </tr>\n",
       "    <tr>\n",
       "      <th>22</th>\n",
       "      <td>1.500000e+08</td>\n",
       "      <td>946154.0</td>\n",
       "      <td>1.209577e+08</td>\n",
       "      <td>1.219039e+08</td>\n",
       "      <td>23</td>\n",
       "    </tr>\n",
       "    <tr>\n",
       "      <th>23</th>\n",
       "      <td>1.611481e+08</td>\n",
       "      <td>1324302.0</td>\n",
       "      <td>4.978801e+07</td>\n",
       "      <td>5.111231e+07</td>\n",
       "      <td>24</td>\n",
       "    </tr>\n",
       "    <tr>\n",
       "      <th>24</th>\n",
       "      <td>1.750000e+08</td>\n",
       "      <td>1399001.0</td>\n",
       "      <td>2.041436e+07</td>\n",
       "      <td>2.181336e+07</td>\n",
       "      <td>25</td>\n",
       "    </tr>\n",
       "    <tr>\n",
       "      <th>25</th>\n",
       "      <td>2.000000e+08</td>\n",
       "      <td>118307188.0</td>\n",
       "      <td>1.081182e+08</td>\n",
       "      <td>2.264254e+08</td>\n",
       "      <td>26</td>\n",
       "    </tr>\n",
       "    <tr>\n",
       "      <th>26</th>\n",
       "      <td>2.000000e+08</td>\n",
       "      <td>154426697.0</td>\n",
       "      <td>3.420176e+08</td>\n",
       "      <td>4.964443e+08</td>\n",
       "      <td>27</td>\n",
       "    </tr>\n",
       "    <tr>\n",
       "      <th>27</th>\n",
       "      <td>2.000000e+08</td>\n",
       "      <td>652980194.0</td>\n",
       "      <td>1.045051e+09</td>\n",
       "      <td>1.698031e+09</td>\n",
       "      <td>28</td>\n",
       "    </tr>\n",
       "  </tbody>\n",
       "</table>\n",
       "</div>"
      ],
      "text/plain": [
       "          budget  box_office_us_canada  box_office_other  \\\n",
       "0   3.000000e+07           223225679.0      1.712109e+08   \n",
       "1   1.200000e+08           162798565.0      2.004603e+08   \n",
       "2   9.000000e+07           245852179.0      2.655061e+08   \n",
       "3   1.150000e+08           255873250.0      2.729000e+08   \n",
       "4   9.400000e+07           339714978.0      5.313000e+08   \n",
       "5   9.200000e+07           261441092.0      3.700010e+08   \n",
       "6   1.200000e+08           244082982.0      2.179002e+08   \n",
       "7   1.500000e+08           206445654.0      4.172804e+08   \n",
       "8   1.800000e+08           223808164.0      2.975037e+08   \n",
       "9   1.750000e+08           293004164.0      4.420949e+08   \n",
       "10  2.000000e+08           415004880.0      6.519648e+08   \n",
       "11  2.000000e+08           191452396.0      3.684000e+08   \n",
       "12  1.850000e+08           237283207.0      3.017000e+08   \n",
       "13  2.000000e+08           268492764.0      4.750668e+08   \n",
       "14  1.750000e+08           356461711.0      5.011495e+08   \n",
       "15  1.750000e+08           123087120.0      2.091206e+08   \n",
       "16  2.000000e+08           486295561.0      5.422753e+08   \n",
       "17  1.750000e+08           152901115.0      2.310295e+08   \n",
       "18  1.750000e+08           210460015.0      6.041812e+08   \n",
       "19  2.000000e+08           608581744.0      6.342236e+08   \n",
       "20  2.000000e+08           434038008.0      6.393566e+08   \n",
       "21  1.750000e+08            61555145.0      8.038490e+07   \n",
       "22  1.500000e+08              946154.0      1.209577e+08   \n",
       "23  1.611481e+08             1324302.0      4.978801e+07   \n",
       "24  1.750000e+08             1399001.0      2.041436e+07   \n",
       "25  2.000000e+08           118307188.0      1.081182e+08   \n",
       "26  2.000000e+08           154426697.0      3.420176e+08   \n",
       "27  2.000000e+08           652980194.0      1.045051e+09   \n",
       "\n",
       "    box_office_worldwide  number  \n",
       "0           3.944366e+08       1  \n",
       "1           3.632589e+08       2  \n",
       "2           5.113583e+08       3  \n",
       "3           5.287732e+08       4  \n",
       "4           8.710150e+08       5  \n",
       "5           6.314421e+08       6  \n",
       "6           4.619831e+08       7  \n",
       "7           6.237261e+08       8  \n",
       "8           5.213119e+08       9  \n",
       "9           7.350991e+08      10  \n",
       "10          1.066970e+09      11  \n",
       "11          5.598524e+08      12  \n",
       "12          5.389832e+08      13  \n",
       "13          7.435596e+08      14  \n",
       "14          8.576112e+08      15  \n",
       "15          3.322077e+08      16  \n",
       "16          1.028571e+09      17  \n",
       "17          3.839307e+08      18  \n",
       "18          8.146412e+08      19  \n",
       "19          1.242805e+09      20  \n",
       "20          1.073395e+09      21  \n",
       "21          1.419400e+08      22  \n",
       "22          1.219039e+08      23  \n",
       "23          5.111231e+07      24  \n",
       "24          2.181336e+07      25  \n",
       "25          2.264254e+08      26  \n",
       "26          4.964443e+08      27  \n",
       "27          1.698031e+09      28  "
      ]
     },
     "execution_count": 44,
     "metadata": {},
     "output_type": "execute_result"
    }
   ],
   "source": [
    "merged_df_7 = box_office_df.merge(pixar_films_df, on='film', how='inner')\n",
    "\n",
    "box_office_df = merged_df_7.drop(columns=['film', 'release_date', 'run_time', 'plot', 'film_rating_id'])\n",
    "\n",
    "# box_office_df"
   ]
  },
  {
   "cell_type": "code",
   "execution_count": null,
   "metadata": {},
   "outputs": [],
   "source": [
    "# box_office_df.to_csv(\"box_office.csv\", index=False)"
   ]
  },
  {
   "cell_type": "markdown",
   "metadata": {},
   "source": [
    "# genres_df"
   ]
  },
  {
   "cell_type": "code",
   "execution_count": null,
   "metadata": {},
   "outputs": [
    {
     "data": {
      "application/vnd.microsoft.datawrangler.viewer.v0+json": {
       "columns": [
        {
         "name": "index",
         "rawType": "int64",
         "type": "integer"
        },
        {
         "name": "film",
         "rawType": "object",
         "type": "string"
        },
        {
         "name": "category",
         "rawType": "object",
         "type": "string"
        },
        {
         "name": "value",
         "rawType": "object",
         "type": "string"
        }
       ],
       "conversionMethod": "pd.DataFrame",
       "ref": "628257d8-0a36-4eeb-97b0-fa172486cbae",
       "rows": [
        [
         "0",
         "Toy Story",
         "Genre",
         "Adventure"
        ],
        [
         "1",
         "Toy Story",
         "Genre",
         "Animation"
        ],
        [
         "2",
         "Toy Story",
         "Genre",
         "Comedy"
        ],
        [
         "3",
         "Toy Story",
         "Subgenre",
         "Buddy Comedy"
        ],
        [
         "4",
         "Toy Story",
         "Subgenre",
         "Computer Animation"
        ],
        [
         "5",
         "Toy Story",
         "Subgenre",
         "Fantasy"
        ],
        [
         "6",
         "Toy Story",
         "Subgenre",
         "Supernatural Fantasy"
        ],
        [
         "7",
         "Toy Story",
         "Subgenre",
         "Urban Adventure"
        ],
        [
         "8",
         "A Bug's Life",
         "Genre",
         "Adventure"
        ],
        [
         "9",
         "A Bug's Life",
         "Genre",
         "Animation"
        ],
        [
         "10",
         "A Bug's Life",
         "Genre",
         "Comedy"
        ],
        [
         "11",
         "A Bug's Life",
         "Subgenre",
         "Animal Adventure"
        ],
        [
         "12",
         "A Bug's Life",
         "Subgenre",
         "Computer Animation"
        ],
        [
         "13",
         "A Bug's Life",
         "Subgenre",
         "Quest"
        ],
        [
         "14",
         "Toy Story 2",
         "Genre",
         "Adventure"
        ],
        [
         "15",
         "Toy Story 2",
         "Genre",
         "Animation"
        ],
        [
         "16",
         "Toy Story 2",
         "Genre",
         "Comedy"
        ],
        [
         "17",
         "Toy Story 2",
         "Subgenre",
         "Computer Animation"
        ],
        [
         "18",
         "Toy Story 2",
         "Subgenre",
         "Fantasy"
        ],
        [
         "19",
         "Toy Story 2",
         "Subgenre",
         "Quest"
        ],
        [
         "20",
         "Toy Story 2",
         "Subgenre",
         "Supernatural Fantasy"
        ],
        [
         "21",
         "Toy Story 2",
         "Subgenre",
         "Urban Adventure"
        ],
        [
         "22",
         "Monsters, Inc.",
         "Genre",
         "Adventure"
        ],
        [
         "23",
         "Monsters, Inc.",
         "Genre",
         "Animation"
        ],
        [
         "24",
         "Monsters, Inc.",
         "Genre",
         "Comedy"
        ],
        [
         "25",
         "Monsters, Inc.",
         "Subgenre",
         "Buddy Comedy"
        ],
        [
         "26",
         "Monsters, Inc.",
         "Subgenre",
         "Computer Animation"
        ],
        [
         "27",
         "Monsters, Inc.",
         "Subgenre",
         "Fantasy"
        ],
        [
         "28",
         "Monsters, Inc.",
         "Subgenre",
         "Supernatural Fantasy"
        ],
        [
         "29",
         "Monsters, Inc.",
         "Subgenre",
         "Urban Adventure"
        ],
        [
         "30",
         "Finding Nemo",
         "Genre",
         "Adventure"
        ],
        [
         "31",
         "Finding Nemo",
         "Genre",
         "Animation"
        ],
        [
         "32",
         "Finding Nemo",
         "Genre",
         "Comedy"
        ],
        [
         "33",
         "Finding Nemo",
         "Subgenre",
         "Animal Adventure"
        ],
        [
         "34",
         "Finding Nemo",
         "Subgenre",
         "Buddy Comedy"
        ],
        [
         "35",
         "Finding Nemo",
         "Subgenre",
         "Computer Animation"
        ],
        [
         "36",
         "Finding Nemo",
         "Subgenre",
         "Quest"
        ],
        [
         "37",
         "Finding Nemo",
         "Subgenre",
         "Sea Adventure"
        ],
        [
         "38",
         "The Incredibles",
         "Genre",
         "Action"
        ],
        [
         "39",
         "The Incredibles",
         "Genre",
         "Adventure"
        ],
        [
         "40",
         "The Incredibles",
         "Genre",
         "Animation"
        ],
        [
         "41",
         "The Incredibles",
         "Subgenre",
         "Computer Animation"
        ],
        [
         "42",
         "The Incredibles",
         "Subgenre",
         "Superhero"
        ],
        [
         "43",
         "The Incredibles",
         "Subgenre",
         "Urban Adventure"
        ],
        [
         "44",
         "Cars",
         "Genre",
         "Adventure"
        ],
        [
         "45",
         "Cars",
         "Genre",
         "Animation"
        ],
        [
         "46",
         "Cars",
         "Genre",
         "Comedy"
        ],
        [
         "47",
         "Cars",
         "Subgenre",
         "Computer Animation"
        ],
        [
         "48",
         "Cars",
         "Subgenre",
         "Motorsport"
        ],
        [
         "49",
         "Cars",
         "Subgenre",
         "Sport"
        ]
       ],
       "shape": {
        "columns": 3,
        "rows": 204
       }
      },
      "text/html": [
       "<div>\n",
       "<style scoped>\n",
       "    .dataframe tbody tr th:only-of-type {\n",
       "        vertical-align: middle;\n",
       "    }\n",
       "\n",
       "    .dataframe tbody tr th {\n",
       "        vertical-align: top;\n",
       "    }\n",
       "\n",
       "    .dataframe thead th {\n",
       "        text-align: right;\n",
       "    }\n",
       "</style>\n",
       "<table border=\"1\" class=\"dataframe\">\n",
       "  <thead>\n",
       "    <tr style=\"text-align: right;\">\n",
       "      <th></th>\n",
       "      <th>film</th>\n",
       "      <th>category</th>\n",
       "      <th>value</th>\n",
       "    </tr>\n",
       "  </thead>\n",
       "  <tbody>\n",
       "    <tr>\n",
       "      <th>0</th>\n",
       "      <td>Toy Story</td>\n",
       "      <td>Genre</td>\n",
       "      <td>Adventure</td>\n",
       "    </tr>\n",
       "    <tr>\n",
       "      <th>1</th>\n",
       "      <td>Toy Story</td>\n",
       "      <td>Genre</td>\n",
       "      <td>Animation</td>\n",
       "    </tr>\n",
       "    <tr>\n",
       "      <th>2</th>\n",
       "      <td>Toy Story</td>\n",
       "      <td>Genre</td>\n",
       "      <td>Comedy</td>\n",
       "    </tr>\n",
       "    <tr>\n",
       "      <th>3</th>\n",
       "      <td>Toy Story</td>\n",
       "      <td>Subgenre</td>\n",
       "      <td>Buddy Comedy</td>\n",
       "    </tr>\n",
       "    <tr>\n",
       "      <th>4</th>\n",
       "      <td>Toy Story</td>\n",
       "      <td>Subgenre</td>\n",
       "      <td>Computer Animation</td>\n",
       "    </tr>\n",
       "    <tr>\n",
       "      <th>...</th>\n",
       "      <td>...</td>\n",
       "      <td>...</td>\n",
       "      <td>...</td>\n",
       "    </tr>\n",
       "    <tr>\n",
       "      <th>199</th>\n",
       "      <td>Inside Out 2</td>\n",
       "      <td>Subgenre</td>\n",
       "      <td>Coming-of-Age</td>\n",
       "    </tr>\n",
       "    <tr>\n",
       "      <th>200</th>\n",
       "      <td>Inside Out 2</td>\n",
       "      <td>Subgenre</td>\n",
       "      <td>Computer Animation</td>\n",
       "    </tr>\n",
       "    <tr>\n",
       "      <th>201</th>\n",
       "      <td>Inside Out 2</td>\n",
       "      <td>Subgenre</td>\n",
       "      <td>Quest</td>\n",
       "    </tr>\n",
       "    <tr>\n",
       "      <th>202</th>\n",
       "      <td>Inside Out 2</td>\n",
       "      <td>Subgenre</td>\n",
       "      <td>Teen Comedy</td>\n",
       "    </tr>\n",
       "    <tr>\n",
       "      <th>203</th>\n",
       "      <td>Inside Out 2</td>\n",
       "      <td>Subgenre</td>\n",
       "      <td>Teen Drama</td>\n",
       "    </tr>\n",
       "  </tbody>\n",
       "</table>\n",
       "<p>204 rows × 3 columns</p>\n",
       "</div>"
      ],
      "text/plain": [
       "             film  category               value\n",
       "0       Toy Story     Genre           Adventure\n",
       "1       Toy Story     Genre           Animation\n",
       "2       Toy Story     Genre              Comedy\n",
       "3       Toy Story  Subgenre        Buddy Comedy\n",
       "4       Toy Story  Subgenre  Computer Animation\n",
       "..            ...       ...                 ...\n",
       "199  Inside Out 2  Subgenre       Coming-of-Age\n",
       "200  Inside Out 2  Subgenre  Computer Animation\n",
       "201  Inside Out 2  Subgenre               Quest\n",
       "202  Inside Out 2  Subgenre         Teen Comedy\n",
       "203  Inside Out 2  Subgenre          Teen Drama\n",
       "\n",
       "[204 rows x 3 columns]"
      ]
     },
     "execution_count": 37,
     "metadata": {},
     "output_type": "execute_result"
    }
   ],
   "source": [
    "# genres_df"
   ]
  },
  {
   "cell_type": "code",
   "execution_count": null,
   "metadata": {},
   "outputs": [
    {
     "name": "stdout",
     "output_type": "stream",
     "text": [
      "<class 'pandas.core.frame.DataFrame'>\n",
      "RangeIndex: 204 entries, 0 to 203\n",
      "Data columns (total 3 columns):\n",
      " #   Column    Non-Null Count  Dtype \n",
      "---  ------    --------------  ----- \n",
      " 0   film      204 non-null    object\n",
      " 1   category  204 non-null    object\n",
      " 2   value     204 non-null    object\n",
      "dtypes: object(3)\n",
      "memory usage: 4.9+ KB\n"
     ]
    }
   ],
   "source": [
    "# genres_df.info()"
   ]
  },
  {
   "cell_type": "code",
   "execution_count": null,
   "metadata": {},
   "outputs": [
    {
     "data": {
      "application/vnd.microsoft.datawrangler.viewer.v0+json": {
       "columns": [
        {
         "name": "index",
         "rawType": "object",
         "type": "string"
        },
        {
         "name": "film",
         "rawType": "object",
         "type": "string"
        },
        {
         "name": "category",
         "rawType": "object",
         "type": "string"
        },
        {
         "name": "value",
         "rawType": "object",
         "type": "string"
        }
       ],
       "conversionMethod": "pd.DataFrame",
       "ref": "3320e8e4-b368-429e-85db-f5c8820e99fb",
       "rows": [
        [
         "count",
         "204",
         "204",
         "204"
        ],
        [
         "unique",
         "28",
         "2",
         "39"
        ],
        [
         "top",
         "Cars 2",
         "Subgenre",
         "Adventure"
        ],
        [
         "freq",
         "9",
         "120",
         "28"
        ]
       ],
       "shape": {
        "columns": 3,
        "rows": 4
       }
      },
      "text/html": [
       "<div>\n",
       "<style scoped>\n",
       "    .dataframe tbody tr th:only-of-type {\n",
       "        vertical-align: middle;\n",
       "    }\n",
       "\n",
       "    .dataframe tbody tr th {\n",
       "        vertical-align: top;\n",
       "    }\n",
       "\n",
       "    .dataframe thead th {\n",
       "        text-align: right;\n",
       "    }\n",
       "</style>\n",
       "<table border=\"1\" class=\"dataframe\">\n",
       "  <thead>\n",
       "    <tr style=\"text-align: right;\">\n",
       "      <th></th>\n",
       "      <th>film</th>\n",
       "      <th>category</th>\n",
       "      <th>value</th>\n",
       "    </tr>\n",
       "  </thead>\n",
       "  <tbody>\n",
       "    <tr>\n",
       "      <th>count</th>\n",
       "      <td>204</td>\n",
       "      <td>204</td>\n",
       "      <td>204</td>\n",
       "    </tr>\n",
       "    <tr>\n",
       "      <th>unique</th>\n",
       "      <td>28</td>\n",
       "      <td>2</td>\n",
       "      <td>39</td>\n",
       "    </tr>\n",
       "    <tr>\n",
       "      <th>top</th>\n",
       "      <td>Cars 2</td>\n",
       "      <td>Subgenre</td>\n",
       "      <td>Adventure</td>\n",
       "    </tr>\n",
       "    <tr>\n",
       "      <th>freq</th>\n",
       "      <td>9</td>\n",
       "      <td>120</td>\n",
       "      <td>28</td>\n",
       "    </tr>\n",
       "  </tbody>\n",
       "</table>\n",
       "</div>"
      ],
      "text/plain": [
       "          film  category      value\n",
       "count      204       204        204\n",
       "unique      28         2         39\n",
       "top     Cars 2  Subgenre  Adventure\n",
       "freq         9       120         28"
      ]
     },
     "execution_count": 14,
     "metadata": {},
     "output_type": "execute_result"
    }
   ],
   "source": [
    "# genres_df.describe()"
   ]
  },
  {
   "cell_type": "code",
   "execution_count": null,
   "metadata": {},
   "outputs": [
    {
     "data": {
      "application/vnd.microsoft.datawrangler.viewer.v0+json": {
       "columns": [
        {
         "name": "index",
         "rawType": "int64",
         "type": "integer"
        },
        {
         "name": "category_id",
         "rawType": "int64",
         "type": "integer"
        },
        {
         "name": "category",
         "rawType": "object",
         "type": "string"
        }
       ],
       "conversionMethod": "pd.DataFrame",
       "ref": "22ff5f15-450b-4113-93e8-17dbaa180e3c",
       "rows": [
        [
         "0",
         "0",
         "Genre"
        ],
        [
         "1",
         "1",
         "Subgenre"
        ]
       ],
       "shape": {
        "columns": 2,
        "rows": 2
       }
      },
      "text/html": [
       "<div>\n",
       "<style scoped>\n",
       "    .dataframe tbody tr th:only-of-type {\n",
       "        vertical-align: middle;\n",
       "    }\n",
       "\n",
       "    .dataframe tbody tr th {\n",
       "        vertical-align: top;\n",
       "    }\n",
       "\n",
       "    .dataframe thead th {\n",
       "        text-align: right;\n",
       "    }\n",
       "</style>\n",
       "<table border=\"1\" class=\"dataframe\">\n",
       "  <thead>\n",
       "    <tr style=\"text-align: right;\">\n",
       "      <th></th>\n",
       "      <th>category_id</th>\n",
       "      <th>category</th>\n",
       "    </tr>\n",
       "  </thead>\n",
       "  <tbody>\n",
       "    <tr>\n",
       "      <th>0</th>\n",
       "      <td>0</td>\n",
       "      <td>Genre</td>\n",
       "    </tr>\n",
       "    <tr>\n",
       "      <th>1</th>\n",
       "      <td>1</td>\n",
       "      <td>Subgenre</td>\n",
       "    </tr>\n",
       "  </tbody>\n",
       "</table>\n",
       "</div>"
      ],
      "text/plain": [
       "   category_id  category\n",
       "0            0     Genre\n",
       "1            1  Subgenre"
      ]
     },
     "execution_count": 38,
     "metadata": {},
     "output_type": "execute_result"
    }
   ],
   "source": [
    "genre_category = pd.DataFrame({\n",
    "    'category':genres_df['category'].unique()\n",
    "}).reset_index().rename(columns={'index':'category_id'})\n",
    "\n",
    "# genre_category"
   ]
  },
  {
   "cell_type": "code",
   "execution_count": null,
   "metadata": {},
   "outputs": [
    {
     "data": {
      "application/vnd.microsoft.datawrangler.viewer.v0+json": {
       "columns": [
        {
         "name": "index",
         "rawType": "int64",
         "type": "integer"
        },
        {
         "name": "genre_value_id",
         "rawType": "int64",
         "type": "integer"
        },
        {
         "name": "value",
         "rawType": "object",
         "type": "string"
        }
       ],
       "conversionMethod": "pd.DataFrame",
       "ref": "37e99641-7743-43a2-9d1d-bf24147debb9",
       "rows": [
        [
         "0",
         "0",
         "Adventure"
        ],
        [
         "1",
         "1",
         "Animation"
        ],
        [
         "2",
         "2",
         "Comedy"
        ],
        [
         "3",
         "3",
         "Buddy Comedy"
        ],
        [
         "4",
         "4",
         "Computer Animation"
        ],
        [
         "5",
         "5",
         "Fantasy"
        ],
        [
         "6",
         "6",
         "Supernatural Fantasy"
        ],
        [
         "7",
         "7",
         "Urban Adventure"
        ],
        [
         "8",
         "8",
         "Animal Adventure"
        ],
        [
         "9",
         "9",
         "Quest"
        ],
        [
         "10",
         "10",
         "Sea Adventure"
        ],
        [
         "11",
         "11",
         "Action"
        ],
        [
         "12",
         "12",
         "Superhero"
        ],
        [
         "13",
         "13",
         "Motorsport"
        ],
        [
         "14",
         "14",
         "Sport"
        ],
        [
         "15",
         "15",
         "Family"
        ],
        [
         "16",
         "16",
         "Adventure Epic"
        ],
        [
         "17",
         "17",
         "Artificial Intelligence"
        ],
        [
         "18",
         "18",
         "Dystopian Sci-Fi"
        ],
        [
         "19",
         "19",
         "Sci-Fi"
        ],
        [
         "20",
         "20",
         "Space Sci-Fi"
        ],
        [
         "21",
         "21",
         "Coming-of-Age"
        ],
        [
         "22",
         "22",
         "Globetrotting Adventure"
        ],
        [
         "23",
         "23",
         "Car Action"
        ],
        [
         "24",
         "24",
         "Crime"
        ],
        [
         "25",
         "25",
         "Spy"
        ],
        [
         "26",
         "26",
         "Fairy Tale"
        ],
        [
         "27",
         "27",
         "Sword & Sorcery"
        ],
        [
         "28",
         "28",
         "Teen Adventure"
        ],
        [
         "29",
         "29",
         "Dinosaur Adventure"
        ],
        [
         "30",
         "30",
         "Drama"
        ],
        [
         "31",
         "31",
         "Music"
        ],
        [
         "32",
         "32",
         "Mystery"
        ],
        [
         "33",
         "33",
         "Road Trip"
        ],
        [
         "34",
         "34",
         "Fantasy Epic"
        ],
        [
         "35",
         "35",
         "Teen Comedy"
        ],
        [
         "36",
         "36",
         "Time Travel"
        ],
        [
         "37",
         "37",
         "Romance"
        ],
        [
         "38",
         "38",
         "Teen Drama"
        ]
       ],
       "shape": {
        "columns": 2,
        "rows": 39
       }
      },
      "text/html": [
       "<div>\n",
       "<style scoped>\n",
       "    .dataframe tbody tr th:only-of-type {\n",
       "        vertical-align: middle;\n",
       "    }\n",
       "\n",
       "    .dataframe tbody tr th {\n",
       "        vertical-align: top;\n",
       "    }\n",
       "\n",
       "    .dataframe thead th {\n",
       "        text-align: right;\n",
       "    }\n",
       "</style>\n",
       "<table border=\"1\" class=\"dataframe\">\n",
       "  <thead>\n",
       "    <tr style=\"text-align: right;\">\n",
       "      <th></th>\n",
       "      <th>genre_value_id</th>\n",
       "      <th>value</th>\n",
       "    </tr>\n",
       "  </thead>\n",
       "  <tbody>\n",
       "    <tr>\n",
       "      <th>0</th>\n",
       "      <td>0</td>\n",
       "      <td>Adventure</td>\n",
       "    </tr>\n",
       "    <tr>\n",
       "      <th>1</th>\n",
       "      <td>1</td>\n",
       "      <td>Animation</td>\n",
       "    </tr>\n",
       "    <tr>\n",
       "      <th>2</th>\n",
       "      <td>2</td>\n",
       "      <td>Comedy</td>\n",
       "    </tr>\n",
       "    <tr>\n",
       "      <th>3</th>\n",
       "      <td>3</td>\n",
       "      <td>Buddy Comedy</td>\n",
       "    </tr>\n",
       "    <tr>\n",
       "      <th>4</th>\n",
       "      <td>4</td>\n",
       "      <td>Computer Animation</td>\n",
       "    </tr>\n",
       "    <tr>\n",
       "      <th>5</th>\n",
       "      <td>5</td>\n",
       "      <td>Fantasy</td>\n",
       "    </tr>\n",
       "    <tr>\n",
       "      <th>6</th>\n",
       "      <td>6</td>\n",
       "      <td>Supernatural Fantasy</td>\n",
       "    </tr>\n",
       "    <tr>\n",
       "      <th>7</th>\n",
       "      <td>7</td>\n",
       "      <td>Urban Adventure</td>\n",
       "    </tr>\n",
       "    <tr>\n",
       "      <th>8</th>\n",
       "      <td>8</td>\n",
       "      <td>Animal Adventure</td>\n",
       "    </tr>\n",
       "    <tr>\n",
       "      <th>9</th>\n",
       "      <td>9</td>\n",
       "      <td>Quest</td>\n",
       "    </tr>\n",
       "    <tr>\n",
       "      <th>10</th>\n",
       "      <td>10</td>\n",
       "      <td>Sea Adventure</td>\n",
       "    </tr>\n",
       "    <tr>\n",
       "      <th>11</th>\n",
       "      <td>11</td>\n",
       "      <td>Action</td>\n",
       "    </tr>\n",
       "    <tr>\n",
       "      <th>12</th>\n",
       "      <td>12</td>\n",
       "      <td>Superhero</td>\n",
       "    </tr>\n",
       "    <tr>\n",
       "      <th>13</th>\n",
       "      <td>13</td>\n",
       "      <td>Motorsport</td>\n",
       "    </tr>\n",
       "    <tr>\n",
       "      <th>14</th>\n",
       "      <td>14</td>\n",
       "      <td>Sport</td>\n",
       "    </tr>\n",
       "    <tr>\n",
       "      <th>15</th>\n",
       "      <td>15</td>\n",
       "      <td>Family</td>\n",
       "    </tr>\n",
       "    <tr>\n",
       "      <th>16</th>\n",
       "      <td>16</td>\n",
       "      <td>Adventure Epic</td>\n",
       "    </tr>\n",
       "    <tr>\n",
       "      <th>17</th>\n",
       "      <td>17</td>\n",
       "      <td>Artificial Intelligence</td>\n",
       "    </tr>\n",
       "    <tr>\n",
       "      <th>18</th>\n",
       "      <td>18</td>\n",
       "      <td>Dystopian Sci-Fi</td>\n",
       "    </tr>\n",
       "    <tr>\n",
       "      <th>19</th>\n",
       "      <td>19</td>\n",
       "      <td>Sci-Fi</td>\n",
       "    </tr>\n",
       "    <tr>\n",
       "      <th>20</th>\n",
       "      <td>20</td>\n",
       "      <td>Space Sci-Fi</td>\n",
       "    </tr>\n",
       "    <tr>\n",
       "      <th>21</th>\n",
       "      <td>21</td>\n",
       "      <td>Coming-of-Age</td>\n",
       "    </tr>\n",
       "    <tr>\n",
       "      <th>22</th>\n",
       "      <td>22</td>\n",
       "      <td>Globetrotting Adventure</td>\n",
       "    </tr>\n",
       "    <tr>\n",
       "      <th>23</th>\n",
       "      <td>23</td>\n",
       "      <td>Car Action</td>\n",
       "    </tr>\n",
       "    <tr>\n",
       "      <th>24</th>\n",
       "      <td>24</td>\n",
       "      <td>Crime</td>\n",
       "    </tr>\n",
       "    <tr>\n",
       "      <th>25</th>\n",
       "      <td>25</td>\n",
       "      <td>Spy</td>\n",
       "    </tr>\n",
       "    <tr>\n",
       "      <th>26</th>\n",
       "      <td>26</td>\n",
       "      <td>Fairy Tale</td>\n",
       "    </tr>\n",
       "    <tr>\n",
       "      <th>27</th>\n",
       "      <td>27</td>\n",
       "      <td>Sword &amp; Sorcery</td>\n",
       "    </tr>\n",
       "    <tr>\n",
       "      <th>28</th>\n",
       "      <td>28</td>\n",
       "      <td>Teen Adventure</td>\n",
       "    </tr>\n",
       "    <tr>\n",
       "      <th>29</th>\n",
       "      <td>29</td>\n",
       "      <td>Dinosaur Adventure</td>\n",
       "    </tr>\n",
       "    <tr>\n",
       "      <th>30</th>\n",
       "      <td>30</td>\n",
       "      <td>Drama</td>\n",
       "    </tr>\n",
       "    <tr>\n",
       "      <th>31</th>\n",
       "      <td>31</td>\n",
       "      <td>Music</td>\n",
       "    </tr>\n",
       "    <tr>\n",
       "      <th>32</th>\n",
       "      <td>32</td>\n",
       "      <td>Mystery</td>\n",
       "    </tr>\n",
       "    <tr>\n",
       "      <th>33</th>\n",
       "      <td>33</td>\n",
       "      <td>Road Trip</td>\n",
       "    </tr>\n",
       "    <tr>\n",
       "      <th>34</th>\n",
       "      <td>34</td>\n",
       "      <td>Fantasy Epic</td>\n",
       "    </tr>\n",
       "    <tr>\n",
       "      <th>35</th>\n",
       "      <td>35</td>\n",
       "      <td>Teen Comedy</td>\n",
       "    </tr>\n",
       "    <tr>\n",
       "      <th>36</th>\n",
       "      <td>36</td>\n",
       "      <td>Time Travel</td>\n",
       "    </tr>\n",
       "    <tr>\n",
       "      <th>37</th>\n",
       "      <td>37</td>\n",
       "      <td>Romance</td>\n",
       "    </tr>\n",
       "    <tr>\n",
       "      <th>38</th>\n",
       "      <td>38</td>\n",
       "      <td>Teen Drama</td>\n",
       "    </tr>\n",
       "  </tbody>\n",
       "</table>\n",
       "</div>"
      ],
      "text/plain": [
       "    genre_value_id                    value\n",
       "0                0                Adventure\n",
       "1                1                Animation\n",
       "2                2                   Comedy\n",
       "3                3             Buddy Comedy\n",
       "4                4       Computer Animation\n",
       "5                5                  Fantasy\n",
       "6                6     Supernatural Fantasy\n",
       "7                7          Urban Adventure\n",
       "8                8         Animal Adventure\n",
       "9                9                    Quest\n",
       "10              10            Sea Adventure\n",
       "11              11                   Action\n",
       "12              12                Superhero\n",
       "13              13               Motorsport\n",
       "14              14                    Sport\n",
       "15              15                   Family\n",
       "16              16           Adventure Epic\n",
       "17              17  Artificial Intelligence\n",
       "18              18         Dystopian Sci-Fi\n",
       "19              19                   Sci-Fi\n",
       "20              20             Space Sci-Fi\n",
       "21              21            Coming-of-Age\n",
       "22              22  Globetrotting Adventure\n",
       "23              23               Car Action\n",
       "24              24                    Crime\n",
       "25              25                      Spy\n",
       "26              26               Fairy Tale\n",
       "27              27          Sword & Sorcery\n",
       "28              28           Teen Adventure\n",
       "29              29       Dinosaur Adventure\n",
       "30              30                    Drama\n",
       "31              31                    Music\n",
       "32              32                  Mystery\n",
       "33              33                Road Trip\n",
       "34              34             Fantasy Epic\n",
       "35              35              Teen Comedy\n",
       "36              36              Time Travel\n",
       "37              37                  Romance\n",
       "38              38               Teen Drama"
      ]
     },
     "execution_count": 39,
     "metadata": {},
     "output_type": "execute_result"
    }
   ],
   "source": [
    "genre_values = pd.DataFrame({\n",
    "    'value': genres_df['value'].unique()\n",
    "}).reset_index().rename(columns={'index':'genre_value_id'})\n",
    "\n",
    "# genre_values"
   ]
  },
  {
   "cell_type": "code",
   "execution_count": null,
   "metadata": {},
   "outputs": [
    {
     "data": {
      "application/vnd.microsoft.datawrangler.viewer.v0+json": {
       "columns": [
        {
         "name": "index",
         "rawType": "int64",
         "type": "integer"
        },
        {
         "name": "film",
         "rawType": "object",
         "type": "string"
        },
        {
         "name": "value",
         "rawType": "object",
         "type": "string"
        },
        {
         "name": "category_id",
         "rawType": "int64",
         "type": "integer"
        }
       ],
       "conversionMethod": "pd.DataFrame",
       "ref": "eca3cc82-cee3-4e5e-99eb-9fe626693426",
       "rows": [
        [
         "0",
         "Toy Story",
         "Adventure",
         "0"
        ],
        [
         "1",
         "Toy Story",
         "Animation",
         "0"
        ],
        [
         "2",
         "Toy Story",
         "Comedy",
         "0"
        ],
        [
         "3",
         "A Bug's Life",
         "Adventure",
         "0"
        ],
        [
         "4",
         "A Bug's Life",
         "Animation",
         "0"
        ],
        [
         "5",
         "A Bug's Life",
         "Comedy",
         "0"
        ],
        [
         "6",
         "Toy Story 2",
         "Adventure",
         "0"
        ],
        [
         "7",
         "Toy Story 2",
         "Animation",
         "0"
        ],
        [
         "8",
         "Toy Story 2",
         "Comedy",
         "0"
        ],
        [
         "9",
         "Monsters, Inc.",
         "Adventure",
         "0"
        ],
        [
         "10",
         "Monsters, Inc.",
         "Animation",
         "0"
        ],
        [
         "11",
         "Monsters, Inc.",
         "Comedy",
         "0"
        ],
        [
         "12",
         "Finding Nemo",
         "Adventure",
         "0"
        ],
        [
         "13",
         "Finding Nemo",
         "Animation",
         "0"
        ],
        [
         "14",
         "Finding Nemo",
         "Comedy",
         "0"
        ],
        [
         "15",
         "The Incredibles",
         "Action",
         "0"
        ],
        [
         "16",
         "The Incredibles",
         "Adventure",
         "0"
        ],
        [
         "17",
         "The Incredibles",
         "Animation",
         "0"
        ],
        [
         "18",
         "Cars",
         "Adventure",
         "0"
        ],
        [
         "19",
         "Cars",
         "Animation",
         "0"
        ],
        [
         "20",
         "Cars",
         "Comedy",
         "0"
        ],
        [
         "21",
         "Ratatouille",
         "Adventure",
         "0"
        ],
        [
         "22",
         "Ratatouille",
         "Animation",
         "0"
        ],
        [
         "23",
         "Ratatouille",
         "Comedy",
         "0"
        ],
        [
         "24",
         "WALL-E",
         "Adventure",
         "0"
        ],
        [
         "25",
         "WALL-E",
         "Animation",
         "0"
        ],
        [
         "26",
         "WALL-E",
         "Family",
         "0"
        ],
        [
         "27",
         "Up",
         "Adventure",
         "0"
        ],
        [
         "28",
         "Up",
         "Animation",
         "0"
        ],
        [
         "29",
         "Up",
         "Comedy",
         "0"
        ],
        [
         "30",
         "Toy Story 3",
         "Adventure",
         "0"
        ],
        [
         "31",
         "Toy Story 3",
         "Animation",
         "0"
        ],
        [
         "32",
         "Toy Story 3",
         "Comedy",
         "0"
        ],
        [
         "33",
         "Cars 2",
         "Adventure",
         "0"
        ],
        [
         "34",
         "Cars 2",
         "Animation",
         "0"
        ],
        [
         "35",
         "Cars 2",
         "Comedy",
         "0"
        ],
        [
         "36",
         "Brave",
         "Action",
         "0"
        ],
        [
         "37",
         "Brave",
         "Adventure",
         "0"
        ],
        [
         "38",
         "Brave",
         "Animation",
         "0"
        ],
        [
         "39",
         "Monsters University",
         "Adventure",
         "0"
        ],
        [
         "40",
         "Monsters University",
         "Animation",
         "0"
        ],
        [
         "41",
         "Monsters University",
         "Comedy",
         "0"
        ],
        [
         "42",
         "Inside Out",
         "Adventure",
         "0"
        ],
        [
         "43",
         "Inside Out",
         "Animation",
         "0"
        ],
        [
         "44",
         "Inside Out",
         "Comedy",
         "0"
        ],
        [
         "45",
         "The Good Dinosaur",
         "Action",
         "0"
        ],
        [
         "46",
         "The Good Dinosaur",
         "Adventure",
         "0"
        ],
        [
         "47",
         "The Good Dinosaur",
         "Animation",
         "0"
        ],
        [
         "48",
         "Finding Dory",
         "Adventure",
         "0"
        ],
        [
         "49",
         "Finding Dory",
         "Animation",
         "0"
        ]
       ],
       "shape": {
        "columns": 3,
        "rows": 204
       }
      },
      "text/html": [
       "<div>\n",
       "<style scoped>\n",
       "    .dataframe tbody tr th:only-of-type {\n",
       "        vertical-align: middle;\n",
       "    }\n",
       "\n",
       "    .dataframe tbody tr th {\n",
       "        vertical-align: top;\n",
       "    }\n",
       "\n",
       "    .dataframe thead th {\n",
       "        text-align: right;\n",
       "    }\n",
       "</style>\n",
       "<table border=\"1\" class=\"dataframe\">\n",
       "  <thead>\n",
       "    <tr style=\"text-align: right;\">\n",
       "      <th></th>\n",
       "      <th>film</th>\n",
       "      <th>value</th>\n",
       "      <th>category_id</th>\n",
       "    </tr>\n",
       "  </thead>\n",
       "  <tbody>\n",
       "    <tr>\n",
       "      <th>0</th>\n",
       "      <td>Toy Story</td>\n",
       "      <td>Adventure</td>\n",
       "      <td>0</td>\n",
       "    </tr>\n",
       "    <tr>\n",
       "      <th>1</th>\n",
       "      <td>Toy Story</td>\n",
       "      <td>Animation</td>\n",
       "      <td>0</td>\n",
       "    </tr>\n",
       "    <tr>\n",
       "      <th>2</th>\n",
       "      <td>Toy Story</td>\n",
       "      <td>Comedy</td>\n",
       "      <td>0</td>\n",
       "    </tr>\n",
       "    <tr>\n",
       "      <th>3</th>\n",
       "      <td>A Bug's Life</td>\n",
       "      <td>Adventure</td>\n",
       "      <td>0</td>\n",
       "    </tr>\n",
       "    <tr>\n",
       "      <th>4</th>\n",
       "      <td>A Bug's Life</td>\n",
       "      <td>Animation</td>\n",
       "      <td>0</td>\n",
       "    </tr>\n",
       "    <tr>\n",
       "      <th>...</th>\n",
       "      <td>...</td>\n",
       "      <td>...</td>\n",
       "      <td>...</td>\n",
       "    </tr>\n",
       "    <tr>\n",
       "      <th>199</th>\n",
       "      <td>Inside Out 2</td>\n",
       "      <td>Coming-of-Age</td>\n",
       "      <td>1</td>\n",
       "    </tr>\n",
       "    <tr>\n",
       "      <th>200</th>\n",
       "      <td>Inside Out 2</td>\n",
       "      <td>Computer Animation</td>\n",
       "      <td>1</td>\n",
       "    </tr>\n",
       "    <tr>\n",
       "      <th>201</th>\n",
       "      <td>Inside Out 2</td>\n",
       "      <td>Quest</td>\n",
       "      <td>1</td>\n",
       "    </tr>\n",
       "    <tr>\n",
       "      <th>202</th>\n",
       "      <td>Inside Out 2</td>\n",
       "      <td>Teen Comedy</td>\n",
       "      <td>1</td>\n",
       "    </tr>\n",
       "    <tr>\n",
       "      <th>203</th>\n",
       "      <td>Inside Out 2</td>\n",
       "      <td>Teen Drama</td>\n",
       "      <td>1</td>\n",
       "    </tr>\n",
       "  </tbody>\n",
       "</table>\n",
       "<p>204 rows × 3 columns</p>\n",
       "</div>"
      ],
      "text/plain": [
       "             film               value  category_id\n",
       "0       Toy Story           Adventure            0\n",
       "1       Toy Story           Animation            0\n",
       "2       Toy Story              Comedy            0\n",
       "3    A Bug's Life           Adventure            0\n",
       "4    A Bug's Life           Animation            0\n",
       "..            ...                 ...          ...\n",
       "199  Inside Out 2       Coming-of-Age            1\n",
       "200  Inside Out 2  Computer Animation            1\n",
       "201  Inside Out 2               Quest            1\n",
       "202  Inside Out 2         Teen Comedy            1\n",
       "203  Inside Out 2          Teen Drama            1\n",
       "\n",
       "[204 rows x 3 columns]"
      ]
     },
     "execution_count": 40,
     "metadata": {},
     "output_type": "execute_result"
    }
   ],
   "source": [
    "merged_df_4 = genres_df.merge(genre_category, on='category', how='inner')\n",
    "\n",
    "genres_df = merged_df_4.drop(columns=['category'])\n",
    "\n",
    "# genres_df"
   ]
  },
  {
   "cell_type": "code",
   "execution_count": null,
   "metadata": {},
   "outputs": [
    {
     "data": {
      "application/vnd.microsoft.datawrangler.viewer.v0+json": {
       "columns": [
        {
         "name": "index",
         "rawType": "int64",
         "type": "integer"
        },
        {
         "name": "film",
         "rawType": "object",
         "type": "string"
        },
        {
         "name": "category_id",
         "rawType": "int64",
         "type": "integer"
        },
        {
         "name": "genre_value_id",
         "rawType": "int64",
         "type": "integer"
        }
       ],
       "conversionMethod": "pd.DataFrame",
       "ref": "8bb67033-6b33-47dd-a007-5125f7483628",
       "rows": [
        [
         "0",
         "Toy Story",
         "0",
         "0"
        ],
        [
         "1",
         "A Bug's Life",
         "0",
         "0"
        ],
        [
         "2",
         "Toy Story 2",
         "0",
         "0"
        ],
        [
         "3",
         "Monsters, Inc.",
         "0",
         "0"
        ],
        [
         "4",
         "Finding Nemo",
         "0",
         "0"
        ],
        [
         "5",
         "The Incredibles",
         "0",
         "0"
        ],
        [
         "6",
         "Cars",
         "0",
         "0"
        ],
        [
         "7",
         "Ratatouille",
         "0",
         "0"
        ],
        [
         "8",
         "WALL-E",
         "0",
         "0"
        ],
        [
         "9",
         "Up",
         "0",
         "0"
        ],
        [
         "10",
         "Toy Story 3",
         "0",
         "0"
        ],
        [
         "11",
         "Cars 2",
         "0",
         "0"
        ],
        [
         "12",
         "Brave",
         "0",
         "0"
        ],
        [
         "13",
         "Monsters University",
         "0",
         "0"
        ],
        [
         "14",
         "Inside Out",
         "0",
         "0"
        ],
        [
         "15",
         "The Good Dinosaur",
         "0",
         "0"
        ],
        [
         "16",
         "Finding Dory",
         "0",
         "0"
        ],
        [
         "17",
         "Cars 3",
         "0",
         "0"
        ],
        [
         "18",
         "Coco",
         "0",
         "0"
        ],
        [
         "19",
         "Incredibles 2",
         "0",
         "0"
        ],
        [
         "20",
         "Toy Story 4",
         "0",
         "0"
        ],
        [
         "21",
         "Onward",
         "0",
         "0"
        ],
        [
         "22",
         "Soul",
         "0",
         "0"
        ],
        [
         "23",
         "Luca",
         "0",
         "0"
        ],
        [
         "24",
         "Turning Red",
         "0",
         "0"
        ],
        [
         "25",
         "Lightyear",
         "0",
         "0"
        ],
        [
         "26",
         "Elemental",
         "0",
         "0"
        ],
        [
         "27",
         "Inside Out 2",
         "0",
         "0"
        ],
        [
         "28",
         "Toy Story",
         "0",
         "1"
        ],
        [
         "29",
         "A Bug's Life",
         "0",
         "1"
        ],
        [
         "30",
         "Toy Story 2",
         "0",
         "1"
        ],
        [
         "31",
         "Monsters, Inc.",
         "0",
         "1"
        ],
        [
         "32",
         "Finding Nemo",
         "0",
         "1"
        ],
        [
         "33",
         "The Incredibles",
         "0",
         "1"
        ],
        [
         "34",
         "Cars",
         "0",
         "1"
        ],
        [
         "35",
         "Ratatouille",
         "0",
         "1"
        ],
        [
         "36",
         "WALL-E",
         "0",
         "1"
        ],
        [
         "37",
         "Up",
         "0",
         "1"
        ],
        [
         "38",
         "Toy Story 3",
         "0",
         "1"
        ],
        [
         "39",
         "Cars 2",
         "0",
         "1"
        ],
        [
         "40",
         "Brave",
         "0",
         "1"
        ],
        [
         "41",
         "Monsters University",
         "0",
         "1"
        ],
        [
         "42",
         "Inside Out",
         "0",
         "1"
        ],
        [
         "43",
         "The Good Dinosaur",
         "0",
         "1"
        ],
        [
         "44",
         "Finding Dory",
         "0",
         "1"
        ],
        [
         "45",
         "Cars 3",
         "0",
         "1"
        ],
        [
         "46",
         "Coco",
         "0",
         "1"
        ],
        [
         "47",
         "Incredibles 2",
         "0",
         "1"
        ],
        [
         "48",
         "Toy Story 4",
         "0",
         "1"
        ],
        [
         "49",
         "Onward",
         "0",
         "1"
        ]
       ],
       "shape": {
        "columns": 3,
        "rows": 204
       }
      },
      "text/html": [
       "<div>\n",
       "<style scoped>\n",
       "    .dataframe tbody tr th:only-of-type {\n",
       "        vertical-align: middle;\n",
       "    }\n",
       "\n",
       "    .dataframe tbody tr th {\n",
       "        vertical-align: top;\n",
       "    }\n",
       "\n",
       "    .dataframe thead th {\n",
       "        text-align: right;\n",
       "    }\n",
       "</style>\n",
       "<table border=\"1\" class=\"dataframe\">\n",
       "  <thead>\n",
       "    <tr style=\"text-align: right;\">\n",
       "      <th></th>\n",
       "      <th>film</th>\n",
       "      <th>category_id</th>\n",
       "      <th>genre_value_id</th>\n",
       "    </tr>\n",
       "  </thead>\n",
       "  <tbody>\n",
       "    <tr>\n",
       "      <th>0</th>\n",
       "      <td>Toy Story</td>\n",
       "      <td>0</td>\n",
       "      <td>0</td>\n",
       "    </tr>\n",
       "    <tr>\n",
       "      <th>1</th>\n",
       "      <td>A Bug's Life</td>\n",
       "      <td>0</td>\n",
       "      <td>0</td>\n",
       "    </tr>\n",
       "    <tr>\n",
       "      <th>2</th>\n",
       "      <td>Toy Story 2</td>\n",
       "      <td>0</td>\n",
       "      <td>0</td>\n",
       "    </tr>\n",
       "    <tr>\n",
       "      <th>3</th>\n",
       "      <td>Monsters, Inc.</td>\n",
       "      <td>0</td>\n",
       "      <td>0</td>\n",
       "    </tr>\n",
       "    <tr>\n",
       "      <th>4</th>\n",
       "      <td>Finding Nemo</td>\n",
       "      <td>0</td>\n",
       "      <td>0</td>\n",
       "    </tr>\n",
       "    <tr>\n",
       "      <th>...</th>\n",
       "      <td>...</td>\n",
       "      <td>...</td>\n",
       "      <td>...</td>\n",
       "    </tr>\n",
       "    <tr>\n",
       "      <th>199</th>\n",
       "      <td>Turning Red</td>\n",
       "      <td>1</td>\n",
       "      <td>35</td>\n",
       "    </tr>\n",
       "    <tr>\n",
       "      <th>200</th>\n",
       "      <td>Inside Out 2</td>\n",
       "      <td>1</td>\n",
       "      <td>35</td>\n",
       "    </tr>\n",
       "    <tr>\n",
       "      <th>201</th>\n",
       "      <td>Lightyear</td>\n",
       "      <td>1</td>\n",
       "      <td>36</td>\n",
       "    </tr>\n",
       "    <tr>\n",
       "      <th>202</th>\n",
       "      <td>Elemental</td>\n",
       "      <td>1</td>\n",
       "      <td>37</td>\n",
       "    </tr>\n",
       "    <tr>\n",
       "      <th>203</th>\n",
       "      <td>Inside Out 2</td>\n",
       "      <td>1</td>\n",
       "      <td>38</td>\n",
       "    </tr>\n",
       "  </tbody>\n",
       "</table>\n",
       "<p>204 rows × 3 columns</p>\n",
       "</div>"
      ],
      "text/plain": [
       "               film  category_id  genre_value_id\n",
       "0         Toy Story            0               0\n",
       "1      A Bug's Life            0               0\n",
       "2       Toy Story 2            0               0\n",
       "3    Monsters, Inc.            0               0\n",
       "4      Finding Nemo            0               0\n",
       "..              ...          ...             ...\n",
       "199     Turning Red            1              35\n",
       "200    Inside Out 2            1              35\n",
       "201       Lightyear            1              36\n",
       "202       Elemental            1              37\n",
       "203    Inside Out 2            1              38\n",
       "\n",
       "[204 rows x 3 columns]"
      ]
     },
     "execution_count": 41,
     "metadata": {},
     "output_type": "execute_result"
    }
   ],
   "source": [
    "merged_df_5 = genres_df.merge(genre_values, on='value', how='inner')\n",
    "\n",
    "genres_df = merged_df_5.drop(columns='value')\n",
    "\n",
    "# genres_df"
   ]
  },
  {
   "cell_type": "code",
   "execution_count": null,
   "metadata": {},
   "outputs": [
    {
     "data": {
      "application/vnd.microsoft.datawrangler.viewer.v0+json": {
       "columns": [
        {
         "name": "index",
         "rawType": "int64",
         "type": "integer"
        },
        {
         "name": "category_id",
         "rawType": "int64",
         "type": "integer"
        },
        {
         "name": "genre_value_id",
         "rawType": "int64",
         "type": "integer"
        },
        {
         "name": "number",
         "rawType": "int64",
         "type": "integer"
        }
       ],
       "conversionMethod": "pd.DataFrame",
       "ref": "a036a45d-8742-4cd2-98ff-83e284bbade2",
       "rows": [
        [
         "0",
         "0",
         "0",
         "1"
        ],
        [
         "1",
         "0",
         "1",
         "1"
        ],
        [
         "2",
         "0",
         "2",
         "1"
        ],
        [
         "3",
         "1",
         "3",
         "1"
        ],
        [
         "4",
         "1",
         "4",
         "1"
        ],
        [
         "5",
         "1",
         "5",
         "1"
        ],
        [
         "6",
         "1",
         "6",
         "1"
        ],
        [
         "7",
         "1",
         "7",
         "1"
        ],
        [
         "8",
         "0",
         "0",
         "2"
        ],
        [
         "9",
         "0",
         "1",
         "2"
        ],
        [
         "10",
         "0",
         "2",
         "2"
        ],
        [
         "11",
         "1",
         "4",
         "2"
        ],
        [
         "12",
         "1",
         "8",
         "2"
        ],
        [
         "13",
         "1",
         "9",
         "2"
        ],
        [
         "14",
         "0",
         "0",
         "3"
        ],
        [
         "15",
         "0",
         "1",
         "3"
        ],
        [
         "16",
         "0",
         "2",
         "3"
        ],
        [
         "17",
         "1",
         "4",
         "3"
        ],
        [
         "18",
         "1",
         "5",
         "3"
        ],
        [
         "19",
         "1",
         "6",
         "3"
        ],
        [
         "20",
         "1",
         "7",
         "3"
        ],
        [
         "21",
         "1",
         "9",
         "3"
        ],
        [
         "22",
         "0",
         "0",
         "4"
        ],
        [
         "23",
         "0",
         "1",
         "4"
        ],
        [
         "24",
         "0",
         "2",
         "4"
        ],
        [
         "25",
         "1",
         "3",
         "4"
        ],
        [
         "26",
         "1",
         "4",
         "4"
        ],
        [
         "27",
         "1",
         "5",
         "4"
        ],
        [
         "28",
         "1",
         "6",
         "4"
        ],
        [
         "29",
         "1",
         "7",
         "4"
        ],
        [
         "30",
         "0",
         "0",
         "5"
        ],
        [
         "31",
         "0",
         "1",
         "5"
        ],
        [
         "32",
         "0",
         "2",
         "5"
        ],
        [
         "33",
         "1",
         "3",
         "5"
        ],
        [
         "34",
         "1",
         "4",
         "5"
        ],
        [
         "35",
         "1",
         "8",
         "5"
        ],
        [
         "36",
         "1",
         "9",
         "5"
        ],
        [
         "37",
         "1",
         "10",
         "5"
        ],
        [
         "38",
         "0",
         "0",
         "6"
        ],
        [
         "39",
         "0",
         "1",
         "6"
        ],
        [
         "40",
         "0",
         "11",
         "6"
        ],
        [
         "41",
         "1",
         "4",
         "6"
        ],
        [
         "42",
         "1",
         "7",
         "6"
        ],
        [
         "43",
         "1",
         "12",
         "6"
        ],
        [
         "44",
         "0",
         "0",
         "7"
        ],
        [
         "45",
         "0",
         "1",
         "7"
        ],
        [
         "46",
         "0",
         "2",
         "7"
        ],
        [
         "47",
         "1",
         "4",
         "7"
        ],
        [
         "48",
         "1",
         "13",
         "7"
        ],
        [
         "49",
         "1",
         "14",
         "7"
        ]
       ],
       "shape": {
        "columns": 3,
        "rows": 204
       }
      },
      "text/html": [
       "<div>\n",
       "<style scoped>\n",
       "    .dataframe tbody tr th:only-of-type {\n",
       "        vertical-align: middle;\n",
       "    }\n",
       "\n",
       "    .dataframe tbody tr th {\n",
       "        vertical-align: top;\n",
       "    }\n",
       "\n",
       "    .dataframe thead th {\n",
       "        text-align: right;\n",
       "    }\n",
       "</style>\n",
       "<table border=\"1\" class=\"dataframe\">\n",
       "  <thead>\n",
       "    <tr style=\"text-align: right;\">\n",
       "      <th></th>\n",
       "      <th>category_id</th>\n",
       "      <th>genre_value_id</th>\n",
       "      <th>number</th>\n",
       "    </tr>\n",
       "  </thead>\n",
       "  <tbody>\n",
       "    <tr>\n",
       "      <th>0</th>\n",
       "      <td>0</td>\n",
       "      <td>0</td>\n",
       "      <td>1</td>\n",
       "    </tr>\n",
       "    <tr>\n",
       "      <th>1</th>\n",
       "      <td>0</td>\n",
       "      <td>1</td>\n",
       "      <td>1</td>\n",
       "    </tr>\n",
       "    <tr>\n",
       "      <th>2</th>\n",
       "      <td>0</td>\n",
       "      <td>2</td>\n",
       "      <td>1</td>\n",
       "    </tr>\n",
       "    <tr>\n",
       "      <th>3</th>\n",
       "      <td>1</td>\n",
       "      <td>3</td>\n",
       "      <td>1</td>\n",
       "    </tr>\n",
       "    <tr>\n",
       "      <th>4</th>\n",
       "      <td>1</td>\n",
       "      <td>4</td>\n",
       "      <td>1</td>\n",
       "    </tr>\n",
       "    <tr>\n",
       "      <th>...</th>\n",
       "      <td>...</td>\n",
       "      <td>...</td>\n",
       "      <td>...</td>\n",
       "    </tr>\n",
       "    <tr>\n",
       "      <th>199</th>\n",
       "      <td>1</td>\n",
       "      <td>4</td>\n",
       "      <td>28</td>\n",
       "    </tr>\n",
       "    <tr>\n",
       "      <th>200</th>\n",
       "      <td>1</td>\n",
       "      <td>9</td>\n",
       "      <td>28</td>\n",
       "    </tr>\n",
       "    <tr>\n",
       "      <th>201</th>\n",
       "      <td>1</td>\n",
       "      <td>21</td>\n",
       "      <td>28</td>\n",
       "    </tr>\n",
       "    <tr>\n",
       "      <th>202</th>\n",
       "      <td>1</td>\n",
       "      <td>35</td>\n",
       "      <td>28</td>\n",
       "    </tr>\n",
       "    <tr>\n",
       "      <th>203</th>\n",
       "      <td>1</td>\n",
       "      <td>38</td>\n",
       "      <td>28</td>\n",
       "    </tr>\n",
       "  </tbody>\n",
       "</table>\n",
       "<p>204 rows × 3 columns</p>\n",
       "</div>"
      ],
      "text/plain": [
       "     category_id  genre_value_id  number\n",
       "0              0               0       1\n",
       "1              0               1       1\n",
       "2              0               2       1\n",
       "3              1               3       1\n",
       "4              1               4       1\n",
       "..           ...             ...     ...\n",
       "199            1               4      28\n",
       "200            1               9      28\n",
       "201            1              21      28\n",
       "202            1              35      28\n",
       "203            1              38      28\n",
       "\n",
       "[204 rows x 3 columns]"
      ]
     },
     "execution_count": 42,
     "metadata": {},
     "output_type": "execute_result"
    }
   ],
   "source": [
    "merged_df_6 = genres_df.merge(pixar_films_df, on='film', how='inner')\n",
    "\n",
    "genres_df = merged_df_6.drop(columns=['film', 'release_date', 'run_time', 'plot', 'film_rating_id'])\n",
    "\n",
    "# genres_df"
   ]
  },
  {
   "cell_type": "code",
   "execution_count": null,
   "metadata": {},
   "outputs": [],
   "source": [
    "# genres_df.to_csv(\"genres.csv\", index=False)\n",
    "\n",
    "# genre_category.to_csv(\"genre_category.csv\", index=False)\n",
    "\n",
    "# genre_values.to_csv(\"genre_values.csv\", index=False)"
   ]
  },
  {
   "cell_type": "markdown",
   "metadata": {},
   "source": [
    "# pixar_films_df"
   ]
  },
  {
   "cell_type": "code",
   "execution_count": null,
   "metadata": {},
   "outputs": [
    {
     "data": {
      "application/vnd.microsoft.datawrangler.viewer.v0+json": {
       "columns": [
        {
         "name": "index",
         "rawType": "int64",
         "type": "integer"
        },
        {
         "name": "number",
         "rawType": "int64",
         "type": "integer"
        },
        {
         "name": "film",
         "rawType": "object",
         "type": "string"
        },
        {
         "name": "release_date",
         "rawType": "object",
         "type": "string"
        },
        {
         "name": "run_time",
         "rawType": "int64",
         "type": "integer"
        },
        {
         "name": "film_rating",
         "rawType": "object",
         "type": "string"
        },
        {
         "name": "plot",
         "rawType": "object",
         "type": "string"
        }
       ],
       "conversionMethod": "pd.DataFrame",
       "ref": "ec1c1d16-495e-4899-85ab-de260d8ca16c",
       "rows": [
        [
         "0",
         "1",
         "Toy Story",
         "1995-11-22",
         "81",
         "G",
         "A cowboy doll is profoundly threatened and jealous when a new spaceman action figure supplants him as top toy in a boy's bedroom."
        ],
        [
         "1",
         "2",
         "A Bug's Life",
         "1998-11-25",
         "95",
         "G",
         "A misfit ant, looking for \"warriors\" to save his colony from greedy grasshoppers, recruits a group of bugs that turn out to be an inept circus troupe."
        ],
        [
         "2",
         "3",
         "Toy Story 2",
         "1999-11-24",
         "92",
         "G",
         "When Woody is stolen by a toy collector, Buzz and his friends set out on a rescue mission to save Woody before he becomes a museum toy property with his roundup gang Jessie, Prospector, and Bullseye."
        ],
        [
         "3",
         "4",
         "Monsters, Inc.",
         "2001-11-02",
         "92",
         "G",
         "In order to power the city, monsters have to scare children so that they scream. However, the children are toxic to the monsters, and after a child gets through, two monsters realize things may not be what they think."
        ],
        [
         "4",
         "5",
         "Finding Nemo",
         "2003-05-30",
         "100",
         "G",
         "After his son is captured in the Great Barrier Reef and taken to Sydney, a timid clownfish sets out on a journey to bring him home."
        ],
        [
         "5",
         "6",
         "The Incredibles",
         "2004-11-05",
         "115",
         "PG",
         "While trying to lead a quiet suburban life, a family of undercover superheroes are forced into action to save the world."
        ],
        [
         "6",
         "7",
         "Cars",
         "2006-06-09",
         "116",
         "G",
         "On the way to the biggest race of his life, a hotshot rookie race car gets stranded in a rundown town and learns that winning isn't everything in life."
        ],
        [
         "7",
         "8",
         "Ratatouille",
         "2007-06-29",
         "111",
         "G",
         "A rat who can cook makes an unusual alliance with a young kitchen worker at a famous Paris restaurant."
        ],
        [
         "8",
         "9",
         "WALL-E",
         "2008-06-27",
         "98",
         "G",
         "A robot who is responsible for cleaning a waste-covered Earth meets another robot and falls in love with her. Together, they set out on a journey that will alter the fate of mankind."
        ],
        [
         "9",
         "10",
         "Up",
         "2009-05-29",
         "96",
         "PG",
         "78-year-old Carl Fredricksen travels to South America in his house equipped with balloons, inadvertently taking a young stowaway."
        ],
        [
         "10",
         "11",
         "Toy Story 3",
         "2010-06-18",
         "103",
         "G",
         "The toys are mistakenly delivered to a day-care center instead of the attic right before Andy leaves for college, and it's up to Woody to convince the other toys that they weren't abandoned and to return home."
        ],
        [
         "11",
         "12",
         "Cars 2",
         "2011-06-24",
         "106",
         "G",
         "Star race car Lightning McQueen and his pal Mater head overseas to compete in the World Grand Prix race. But the road to the championship becomes rocky as Mater gets caught up in an intriguing adventure of his own: international e..."
        ],
        [
         "12",
         "13",
         "Brave",
         "2012-06-22",
         "93",
         "PG",
         "Determined to make her own path in life, Princess Merida defies a custom that brings chaos to her kingdom. Granted one wish, Merida must rely on her bravery and her archery skills to undo a beastly curse."
        ],
        [
         "13",
         "14",
         "Monsters University",
         "2013-06-21",
         "104",
         "G",
         "A look at the relationship between Mike Wazowski and James P. \"Sully\" Sullivan during their days at Monsters University, when they weren't necessarily the best of friends."
        ],
        [
         "14",
         "15",
         "Inside Out",
         "2015-06-19",
         "95",
         "PG",
         "After young Riley is uprooted from her Midwest life and moved to San Francisco, her emotions - Joy, Fear, Anger, Disgust and Sadness - conflict on how best to navigate a new city, house, and school."
        ],
        [
         "15",
         "16",
         "The Good Dinosaur",
         "2015-11-25",
         "93",
         "PG",
         "In a world where dinosaurs and humans live side-by-side, an Apatosaurus named Arlo makes an unlikely human friend."
        ],
        [
         "16",
         "17",
         "Finding Dory",
         "2016-06-17",
         "97",
         "PG",
         "Friendly but forgetful blue tang Dory begins a search for her long-lost parents and everyone learns a few things about the real meaning of family along the way."
        ],
        [
         "17",
         "18",
         "Cars 3",
         "2017-06-16",
         "102",
         "G",
         "Lightning McQueen sets out to prove to a new generation of racers that he's still the best race car in the world."
        ],
        [
         "18",
         "19",
         "Coco",
         "2017-11-22",
         "105",
         "PG",
         "Aspiring musician Miguel, confronted with his family's ancestral ban on music, enters the Land of the Dead to find his great-great-grandfather, a legendary singer."
        ],
        [
         "19",
         "20",
         "Incredibles 2",
         "2018-06-15",
         "118",
         "PG",
         "The Incredibles family takes on a new mission which involves a change in family roles: Bob Parr (Mr. Incredible) must manage the house while his wife Helen (Elastigirl) goes out to save the world."
        ],
        [
         "20",
         "21",
         "Toy Story 4",
         "2019-06-21",
         "100",
         "G",
         "When a new toy called \"Forky\" joins Woody and the gang, a road trip alongside old and new friends reveals how big the world can be for a toy."
        ],
        [
         "21",
         "22",
         "Onward",
         "2020-03-06",
         "102",
         "PG",
         "Teenage elf brothers Ian and Barley embark on a magical quest to spend one more day with their late father. Like any good adventure, their journey is filled with cryptic maps, impossible obstacles and unimaginable discoveries."
        ],
        [
         "22",
         "23",
         "Soul",
         "2020-12-25",
         "100",
         "PG",
         "Joe is a middle-school band teacher whose life hasn't quite gone the way he expected. His true passion is jazz. But when he travels to another realm to help someone find their passion, he soon discovers what it means to have soul."
        ],
        [
         "23",
         "24",
         "Luca",
         "2021-06-18",
         "95",
         "PG",
         "On the Italian Riviera, an unlikely but strong friendship grows between a human being and a sea monster disguised as a human."
        ],
        [
         "24",
         "25",
         "Turning Red",
         "2022-03-11",
         "100",
         "PG",
         "A thirteen-year-old girl named Mei Lee is torn between staying her mother's dutiful daughter and the changes of adolescence. And as if the challenges were not enough, whenever she gets overly excited she transforms into a giant re..."
        ],
        [
         "25",
         "26",
         "Lightyear",
         "2022-06-17",
         "105",
         "PG",
         "While spending years attempting to return home, marooned Space Ranger Buzz Lightyear encounters an army of ruthless robots commanded by Zurg who are attempting to steal his fuel source."
        ],
        [
         "26",
         "27",
         "Elemental",
         "2023-06-16",
         "101",
         "PG",
         "Follows Ember and Wade, in a city where fire-, water-, earth- and air-residents live together."
        ],
        [
         "27",
         "28",
         "Inside Out 2",
         "2024-06-14",
         "96",
         "PG",
         "A sequel that features Riley entering puberty and experiencing brand new, more complex emotions as a result. As Riley tries to adapt to her teenage years, her old emotions try to adapt to the possibility of being replaced."
        ]
       ],
       "shape": {
        "columns": 6,
        "rows": 28
       }
      },
      "text/html": [
       "<div>\n",
       "<style scoped>\n",
       "    .dataframe tbody tr th:only-of-type {\n",
       "        vertical-align: middle;\n",
       "    }\n",
       "\n",
       "    .dataframe tbody tr th {\n",
       "        vertical-align: top;\n",
       "    }\n",
       "\n",
       "    .dataframe thead th {\n",
       "        text-align: right;\n",
       "    }\n",
       "</style>\n",
       "<table border=\"1\" class=\"dataframe\">\n",
       "  <thead>\n",
       "    <tr style=\"text-align: right;\">\n",
       "      <th></th>\n",
       "      <th>number</th>\n",
       "      <th>film</th>\n",
       "      <th>release_date</th>\n",
       "      <th>run_time</th>\n",
       "      <th>film_rating</th>\n",
       "      <th>plot</th>\n",
       "    </tr>\n",
       "  </thead>\n",
       "  <tbody>\n",
       "    <tr>\n",
       "      <th>0</th>\n",
       "      <td>1</td>\n",
       "      <td>Toy Story</td>\n",
       "      <td>1995-11-22</td>\n",
       "      <td>81</td>\n",
       "      <td>G</td>\n",
       "      <td>A cowboy doll is profoundly threatened and jea...</td>\n",
       "    </tr>\n",
       "    <tr>\n",
       "      <th>1</th>\n",
       "      <td>2</td>\n",
       "      <td>A Bug's Life</td>\n",
       "      <td>1998-11-25</td>\n",
       "      <td>95</td>\n",
       "      <td>G</td>\n",
       "      <td>A misfit ant, looking for \"warriors\" to save h...</td>\n",
       "    </tr>\n",
       "    <tr>\n",
       "      <th>2</th>\n",
       "      <td>3</td>\n",
       "      <td>Toy Story 2</td>\n",
       "      <td>1999-11-24</td>\n",
       "      <td>92</td>\n",
       "      <td>G</td>\n",
       "      <td>When Woody is stolen by a toy collector, Buzz ...</td>\n",
       "    </tr>\n",
       "    <tr>\n",
       "      <th>3</th>\n",
       "      <td>4</td>\n",
       "      <td>Monsters, Inc.</td>\n",
       "      <td>2001-11-02</td>\n",
       "      <td>92</td>\n",
       "      <td>G</td>\n",
       "      <td>In order to power the city, monsters have to s...</td>\n",
       "    </tr>\n",
       "    <tr>\n",
       "      <th>4</th>\n",
       "      <td>5</td>\n",
       "      <td>Finding Nemo</td>\n",
       "      <td>2003-05-30</td>\n",
       "      <td>100</td>\n",
       "      <td>G</td>\n",
       "      <td>After his son is captured in the Great Barrier...</td>\n",
       "    </tr>\n",
       "    <tr>\n",
       "      <th>5</th>\n",
       "      <td>6</td>\n",
       "      <td>The Incredibles</td>\n",
       "      <td>2004-11-05</td>\n",
       "      <td>115</td>\n",
       "      <td>PG</td>\n",
       "      <td>While trying to lead a quiet suburban life, a ...</td>\n",
       "    </tr>\n",
       "    <tr>\n",
       "      <th>6</th>\n",
       "      <td>7</td>\n",
       "      <td>Cars</td>\n",
       "      <td>2006-06-09</td>\n",
       "      <td>116</td>\n",
       "      <td>G</td>\n",
       "      <td>On the way to the biggest race of his life, a ...</td>\n",
       "    </tr>\n",
       "    <tr>\n",
       "      <th>7</th>\n",
       "      <td>8</td>\n",
       "      <td>Ratatouille</td>\n",
       "      <td>2007-06-29</td>\n",
       "      <td>111</td>\n",
       "      <td>G</td>\n",
       "      <td>A rat who can cook makes an unusual alliance w...</td>\n",
       "    </tr>\n",
       "    <tr>\n",
       "      <th>8</th>\n",
       "      <td>9</td>\n",
       "      <td>WALL-E</td>\n",
       "      <td>2008-06-27</td>\n",
       "      <td>98</td>\n",
       "      <td>G</td>\n",
       "      <td>A robot who is responsible for cleaning a wast...</td>\n",
       "    </tr>\n",
       "    <tr>\n",
       "      <th>9</th>\n",
       "      <td>10</td>\n",
       "      <td>Up</td>\n",
       "      <td>2009-05-29</td>\n",
       "      <td>96</td>\n",
       "      <td>PG</td>\n",
       "      <td>78-year-old Carl Fredricksen travels to South ...</td>\n",
       "    </tr>\n",
       "    <tr>\n",
       "      <th>10</th>\n",
       "      <td>11</td>\n",
       "      <td>Toy Story 3</td>\n",
       "      <td>2010-06-18</td>\n",
       "      <td>103</td>\n",
       "      <td>G</td>\n",
       "      <td>The toys are mistakenly delivered to a day-car...</td>\n",
       "    </tr>\n",
       "    <tr>\n",
       "      <th>11</th>\n",
       "      <td>12</td>\n",
       "      <td>Cars 2</td>\n",
       "      <td>2011-06-24</td>\n",
       "      <td>106</td>\n",
       "      <td>G</td>\n",
       "      <td>Star race car Lightning McQueen and his pal Ma...</td>\n",
       "    </tr>\n",
       "    <tr>\n",
       "      <th>12</th>\n",
       "      <td>13</td>\n",
       "      <td>Brave</td>\n",
       "      <td>2012-06-22</td>\n",
       "      <td>93</td>\n",
       "      <td>PG</td>\n",
       "      <td>Determined to make her own path in life, Princ...</td>\n",
       "    </tr>\n",
       "    <tr>\n",
       "      <th>13</th>\n",
       "      <td>14</td>\n",
       "      <td>Monsters University</td>\n",
       "      <td>2013-06-21</td>\n",
       "      <td>104</td>\n",
       "      <td>G</td>\n",
       "      <td>A look at the relationship between Mike Wazows...</td>\n",
       "    </tr>\n",
       "    <tr>\n",
       "      <th>14</th>\n",
       "      <td>15</td>\n",
       "      <td>Inside Out</td>\n",
       "      <td>2015-06-19</td>\n",
       "      <td>95</td>\n",
       "      <td>PG</td>\n",
       "      <td>After young Riley is uprooted from her Midwest...</td>\n",
       "    </tr>\n",
       "    <tr>\n",
       "      <th>15</th>\n",
       "      <td>16</td>\n",
       "      <td>The Good Dinosaur</td>\n",
       "      <td>2015-11-25</td>\n",
       "      <td>93</td>\n",
       "      <td>PG</td>\n",
       "      <td>In a world where dinosaurs and humans live sid...</td>\n",
       "    </tr>\n",
       "    <tr>\n",
       "      <th>16</th>\n",
       "      <td>17</td>\n",
       "      <td>Finding Dory</td>\n",
       "      <td>2016-06-17</td>\n",
       "      <td>97</td>\n",
       "      <td>PG</td>\n",
       "      <td>Friendly but forgetful blue tang Dory begins a...</td>\n",
       "    </tr>\n",
       "    <tr>\n",
       "      <th>17</th>\n",
       "      <td>18</td>\n",
       "      <td>Cars 3</td>\n",
       "      <td>2017-06-16</td>\n",
       "      <td>102</td>\n",
       "      <td>G</td>\n",
       "      <td>Lightning McQueen sets out to prove to a new g...</td>\n",
       "    </tr>\n",
       "    <tr>\n",
       "      <th>18</th>\n",
       "      <td>19</td>\n",
       "      <td>Coco</td>\n",
       "      <td>2017-11-22</td>\n",
       "      <td>105</td>\n",
       "      <td>PG</td>\n",
       "      <td>Aspiring musician Miguel, confronted with his ...</td>\n",
       "    </tr>\n",
       "    <tr>\n",
       "      <th>19</th>\n",
       "      <td>20</td>\n",
       "      <td>Incredibles 2</td>\n",
       "      <td>2018-06-15</td>\n",
       "      <td>118</td>\n",
       "      <td>PG</td>\n",
       "      <td>The Incredibles family takes on a new mission ...</td>\n",
       "    </tr>\n",
       "    <tr>\n",
       "      <th>20</th>\n",
       "      <td>21</td>\n",
       "      <td>Toy Story 4</td>\n",
       "      <td>2019-06-21</td>\n",
       "      <td>100</td>\n",
       "      <td>G</td>\n",
       "      <td>When a new toy called \"Forky\" joins Woody and ...</td>\n",
       "    </tr>\n",
       "    <tr>\n",
       "      <th>21</th>\n",
       "      <td>22</td>\n",
       "      <td>Onward</td>\n",
       "      <td>2020-03-06</td>\n",
       "      <td>102</td>\n",
       "      <td>PG</td>\n",
       "      <td>Teenage elf brothers Ian and Barley embark on ...</td>\n",
       "    </tr>\n",
       "    <tr>\n",
       "      <th>22</th>\n",
       "      <td>23</td>\n",
       "      <td>Soul</td>\n",
       "      <td>2020-12-25</td>\n",
       "      <td>100</td>\n",
       "      <td>PG</td>\n",
       "      <td>Joe is a middle-school band teacher whose life...</td>\n",
       "    </tr>\n",
       "    <tr>\n",
       "      <th>23</th>\n",
       "      <td>24</td>\n",
       "      <td>Luca</td>\n",
       "      <td>2021-06-18</td>\n",
       "      <td>95</td>\n",
       "      <td>PG</td>\n",
       "      <td>On the Italian Riviera, an unlikely but strong...</td>\n",
       "    </tr>\n",
       "    <tr>\n",
       "      <th>24</th>\n",
       "      <td>25</td>\n",
       "      <td>Turning Red</td>\n",
       "      <td>2022-03-11</td>\n",
       "      <td>100</td>\n",
       "      <td>PG</td>\n",
       "      <td>A thirteen-year-old girl named Mei Lee is torn...</td>\n",
       "    </tr>\n",
       "    <tr>\n",
       "      <th>25</th>\n",
       "      <td>26</td>\n",
       "      <td>Lightyear</td>\n",
       "      <td>2022-06-17</td>\n",
       "      <td>105</td>\n",
       "      <td>PG</td>\n",
       "      <td>While spending years attempting to return home...</td>\n",
       "    </tr>\n",
       "    <tr>\n",
       "      <th>26</th>\n",
       "      <td>27</td>\n",
       "      <td>Elemental</td>\n",
       "      <td>2023-06-16</td>\n",
       "      <td>101</td>\n",
       "      <td>PG</td>\n",
       "      <td>Follows Ember and Wade, in a city where fire-,...</td>\n",
       "    </tr>\n",
       "    <tr>\n",
       "      <th>27</th>\n",
       "      <td>28</td>\n",
       "      <td>Inside Out 2</td>\n",
       "      <td>2024-06-14</td>\n",
       "      <td>96</td>\n",
       "      <td>PG</td>\n",
       "      <td>A sequel that features Riley entering puberty ...</td>\n",
       "    </tr>\n",
       "  </tbody>\n",
       "</table>\n",
       "</div>"
      ],
      "text/plain": [
       "    number                 film release_date  run_time film_rating  \\\n",
       "0        1            Toy Story   1995-11-22        81           G   \n",
       "1        2         A Bug's Life   1998-11-25        95           G   \n",
       "2        3          Toy Story 2   1999-11-24        92           G   \n",
       "3        4       Monsters, Inc.   2001-11-02        92           G   \n",
       "4        5         Finding Nemo   2003-05-30       100           G   \n",
       "5        6      The Incredibles   2004-11-05       115          PG   \n",
       "6        7                 Cars   2006-06-09       116           G   \n",
       "7        8          Ratatouille   2007-06-29       111           G   \n",
       "8        9               WALL-E   2008-06-27        98           G   \n",
       "9       10                   Up   2009-05-29        96          PG   \n",
       "10      11          Toy Story 3   2010-06-18       103           G   \n",
       "11      12               Cars 2   2011-06-24       106           G   \n",
       "12      13                Brave   2012-06-22        93          PG   \n",
       "13      14  Monsters University   2013-06-21       104           G   \n",
       "14      15           Inside Out   2015-06-19        95          PG   \n",
       "15      16    The Good Dinosaur   2015-11-25        93          PG   \n",
       "16      17         Finding Dory   2016-06-17        97          PG   \n",
       "17      18               Cars 3   2017-06-16       102           G   \n",
       "18      19                 Coco   2017-11-22       105          PG   \n",
       "19      20        Incredibles 2   2018-06-15       118          PG   \n",
       "20      21          Toy Story 4   2019-06-21       100           G   \n",
       "21      22               Onward   2020-03-06       102          PG   \n",
       "22      23                 Soul   2020-12-25       100          PG   \n",
       "23      24                 Luca   2021-06-18        95          PG   \n",
       "24      25          Turning Red   2022-03-11       100          PG   \n",
       "25      26            Lightyear   2022-06-17       105          PG   \n",
       "26      27            Elemental   2023-06-16       101          PG   \n",
       "27      28         Inside Out 2   2024-06-14        96          PG   \n",
       "\n",
       "                                                 plot  \n",
       "0   A cowboy doll is profoundly threatened and jea...  \n",
       "1   A misfit ant, looking for \"warriors\" to save h...  \n",
       "2   When Woody is stolen by a toy collector, Buzz ...  \n",
       "3   In order to power the city, monsters have to s...  \n",
       "4   After his son is captured in the Great Barrier...  \n",
       "5   While trying to lead a quiet suburban life, a ...  \n",
       "6   On the way to the biggest race of his life, a ...  \n",
       "7   A rat who can cook makes an unusual alliance w...  \n",
       "8   A robot who is responsible for cleaning a wast...  \n",
       "9   78-year-old Carl Fredricksen travels to South ...  \n",
       "10  The toys are mistakenly delivered to a day-car...  \n",
       "11  Star race car Lightning McQueen and his pal Ma...  \n",
       "12  Determined to make her own path in life, Princ...  \n",
       "13  A look at the relationship between Mike Wazows...  \n",
       "14  After young Riley is uprooted from her Midwest...  \n",
       "15  In a world where dinosaurs and humans live sid...  \n",
       "16  Friendly but forgetful blue tang Dory begins a...  \n",
       "17  Lightning McQueen sets out to prove to a new g...  \n",
       "18  Aspiring musician Miguel, confronted with his ...  \n",
       "19  The Incredibles family takes on a new mission ...  \n",
       "20  When a new toy called \"Forky\" joins Woody and ...  \n",
       "21  Teenage elf brothers Ian and Barley embark on ...  \n",
       "22  Joe is a middle-school band teacher whose life...  \n",
       "23  On the Italian Riviera, an unlikely but strong...  \n",
       "24  A thirteen-year-old girl named Mei Lee is torn...  \n",
       "25  While spending years attempting to return home...  \n",
       "26  Follows Ember and Wade, in a city where fire-,...  \n",
       "27  A sequel that features Riley entering puberty ...  "
      ]
     },
     "execution_count": 15,
     "metadata": {},
     "output_type": "execute_result"
    }
   ],
   "source": [
    "# pixar_films_df"
   ]
  },
  {
   "cell_type": "code",
   "execution_count": null,
   "metadata": {},
   "outputs": [
    {
     "name": "stdout",
     "output_type": "stream",
     "text": [
      "<class 'pandas.core.frame.DataFrame'>\n",
      "RangeIndex: 28 entries, 0 to 27\n",
      "Data columns (total 6 columns):\n",
      " #   Column        Non-Null Count  Dtype \n",
      "---  ------        --------------  ----- \n",
      " 0   number        28 non-null     int64 \n",
      " 1   film          28 non-null     object\n",
      " 2   release_date  28 non-null     object\n",
      " 3   run_time      28 non-null     int64 \n",
      " 4   film_rating   28 non-null     object\n",
      " 5   plot          28 non-null     object\n",
      "dtypes: int64(2), object(4)\n",
      "memory usage: 1.4+ KB\n"
     ]
    }
   ],
   "source": [
    "# pixar_films_df.info()"
   ]
  },
  {
   "cell_type": "code",
   "execution_count": null,
   "metadata": {},
   "outputs": [
    {
     "data": {
      "application/vnd.microsoft.datawrangler.viewer.v0+json": {
       "columns": [
        {
         "name": "index",
         "rawType": "object",
         "type": "string"
        },
        {
         "name": "number",
         "rawType": "float64",
         "type": "float"
        },
        {
         "name": "run_time",
         "rawType": "float64",
         "type": "float"
        }
       ],
       "conversionMethod": "pd.DataFrame",
       "ref": "65afe0e8-36bd-421b-8687-83c1661cb39f",
       "rows": [
        [
         "count",
         "28.0",
         "28.0"
        ],
        [
         "mean",
         "14.5",
         "100.39285714285714"
        ],
        [
         "std",
         "8.225975119502044",
         "8.04772471049259"
        ],
        [
         "min",
         "1.0",
         "81.0"
        ],
        [
         "25%",
         "7.75",
         "95.0"
        ],
        [
         "50%",
         "14.5",
         "100.0"
        ],
        [
         "75%",
         "21.25",
         "104.25"
        ],
        [
         "max",
         "28.0",
         "118.0"
        ]
       ],
       "shape": {
        "columns": 2,
        "rows": 8
       }
      },
      "text/html": [
       "<div>\n",
       "<style scoped>\n",
       "    .dataframe tbody tr th:only-of-type {\n",
       "        vertical-align: middle;\n",
       "    }\n",
       "\n",
       "    .dataframe tbody tr th {\n",
       "        vertical-align: top;\n",
       "    }\n",
       "\n",
       "    .dataframe thead th {\n",
       "        text-align: right;\n",
       "    }\n",
       "</style>\n",
       "<table border=\"1\" class=\"dataframe\">\n",
       "  <thead>\n",
       "    <tr style=\"text-align: right;\">\n",
       "      <th></th>\n",
       "      <th>number</th>\n",
       "      <th>run_time</th>\n",
       "    </tr>\n",
       "  </thead>\n",
       "  <tbody>\n",
       "    <tr>\n",
       "      <th>count</th>\n",
       "      <td>28.000000</td>\n",
       "      <td>28.000000</td>\n",
       "    </tr>\n",
       "    <tr>\n",
       "      <th>mean</th>\n",
       "      <td>14.500000</td>\n",
       "      <td>100.392857</td>\n",
       "    </tr>\n",
       "    <tr>\n",
       "      <th>std</th>\n",
       "      <td>8.225975</td>\n",
       "      <td>8.047725</td>\n",
       "    </tr>\n",
       "    <tr>\n",
       "      <th>min</th>\n",
       "      <td>1.000000</td>\n",
       "      <td>81.000000</td>\n",
       "    </tr>\n",
       "    <tr>\n",
       "      <th>25%</th>\n",
       "      <td>7.750000</td>\n",
       "      <td>95.000000</td>\n",
       "    </tr>\n",
       "    <tr>\n",
       "      <th>50%</th>\n",
       "      <td>14.500000</td>\n",
       "      <td>100.000000</td>\n",
       "    </tr>\n",
       "    <tr>\n",
       "      <th>75%</th>\n",
       "      <td>21.250000</td>\n",
       "      <td>104.250000</td>\n",
       "    </tr>\n",
       "    <tr>\n",
       "      <th>max</th>\n",
       "      <td>28.000000</td>\n",
       "      <td>118.000000</td>\n",
       "    </tr>\n",
       "  </tbody>\n",
       "</table>\n",
       "</div>"
      ],
      "text/plain": [
       "          number    run_time\n",
       "count  28.000000   28.000000\n",
       "mean   14.500000  100.392857\n",
       "std     8.225975    8.047725\n",
       "min     1.000000   81.000000\n",
       "25%     7.750000   95.000000\n",
       "50%    14.500000  100.000000\n",
       "75%    21.250000  104.250000\n",
       "max    28.000000  118.000000"
      ]
     },
     "execution_count": 17,
     "metadata": {},
     "output_type": "execute_result"
    }
   ],
   "source": [
    "# pixar_films_df.describe()"
   ]
  },
  {
   "cell_type": "code",
   "execution_count": 13,
   "metadata": {},
   "outputs": [],
   "source": [
    "pixar_films_df['release_date'] = pd.to_datetime(pixar_films_df['release_date']).dt.strftime('%d-%m-%Y')\n",
    "\n",
    "# pixar_films_df.head()"
   ]
  },
  {
   "cell_type": "code",
   "execution_count": 14,
   "metadata": {},
   "outputs": [],
   "source": [
    "film_ratings_df = pd.DataFrame({\n",
    "    'film_rating': pixar_films_df['film_rating'].unique()\n",
    "}).reset_index().rename(columns={'index': 'film_rating_id'})\n",
    "\n",
    "# film_ratings_df"
   ]
  },
  {
   "cell_type": "code",
   "execution_count": 15,
   "metadata": {},
   "outputs": [],
   "source": [
    "merged_df = pixar_films_df.merge(film_ratings_df, how='inner', on='film_rating')\n",
    "\n",
    "pixar_films_df = merged_df.drop(columns=['film_rating'])\n",
    "\n",
    "# pixar_films_df"
   ]
  },
  {
   "cell_type": "code",
   "execution_count": 17,
   "metadata": {},
   "outputs": [
    {
     "data": {
      "application/vnd.microsoft.datawrangler.viewer.v0+json": {
       "columns": [
        {
         "name": "index",
         "rawType": "int64",
         "type": "integer"
        },
        {
         "name": "number",
         "rawType": "int64",
         "type": "integer"
        },
        {
         "name": "film",
         "rawType": "object",
         "type": "string"
        }
       ],
       "conversionMethod": "pd.DataFrame",
       "ref": "78e39b08-e08d-4f59-af10-90ad7619f9bf",
       "rows": [
        [
         "0",
         "1",
         "Toy Story"
        ],
        [
         "1",
         "2",
         "A Bug's Life"
        ],
        [
         "2",
         "3",
         "Toy Story 2"
        ],
        [
         "3",
         "4",
         "Monsters, Inc."
        ],
        [
         "4",
         "5",
         "Finding Nemo"
        ]
       ],
       "shape": {
        "columns": 2,
        "rows": 5
       }
      },
      "text/html": [
       "<div>\n",
       "<style scoped>\n",
       "    .dataframe tbody tr th:only-of-type {\n",
       "        vertical-align: middle;\n",
       "    }\n",
       "\n",
       "    .dataframe tbody tr th {\n",
       "        vertical-align: top;\n",
       "    }\n",
       "\n",
       "    .dataframe thead th {\n",
       "        text-align: right;\n",
       "    }\n",
       "</style>\n",
       "<table border=\"1\" class=\"dataframe\">\n",
       "  <thead>\n",
       "    <tr style=\"text-align: right;\">\n",
       "      <th></th>\n",
       "      <th>number</th>\n",
       "      <th>film</th>\n",
       "    </tr>\n",
       "  </thead>\n",
       "  <tbody>\n",
       "    <tr>\n",
       "      <th>0</th>\n",
       "      <td>1</td>\n",
       "      <td>Toy Story</td>\n",
       "    </tr>\n",
       "    <tr>\n",
       "      <th>1</th>\n",
       "      <td>2</td>\n",
       "      <td>A Bug's Life</td>\n",
       "    </tr>\n",
       "    <tr>\n",
       "      <th>2</th>\n",
       "      <td>3</td>\n",
       "      <td>Toy Story 2</td>\n",
       "    </tr>\n",
       "    <tr>\n",
       "      <th>3</th>\n",
       "      <td>4</td>\n",
       "      <td>Monsters, Inc.</td>\n",
       "    </tr>\n",
       "    <tr>\n",
       "      <th>4</th>\n",
       "      <td>5</td>\n",
       "      <td>Finding Nemo</td>\n",
       "    </tr>\n",
       "  </tbody>\n",
       "</table>\n",
       "</div>"
      ],
      "text/plain": [
       "   number            film\n",
       "0       1       Toy Story\n",
       "1       2    A Bug's Life\n",
       "2       3     Toy Story 2\n",
       "3       4  Monsters, Inc.\n",
       "4       5    Finding Nemo"
      ]
     },
     "execution_count": 17,
     "metadata": {},
     "output_type": "execute_result"
    }
   ],
   "source": [
    "films_df = pixar_films_df[['number', 'film']]\n",
    "\n",
    "films_df.head()"
   ]
  },
  {
   "cell_type": "code",
   "execution_count": null,
   "metadata": {},
   "outputs": [
    {
     "data": {
      "text/plain": [
       "Index(['number', 'film', 'release_date', 'run_time', 'plot', 'film_rating_id'], dtype='object')"
      ]
     },
     "execution_count": 21,
     "metadata": {},
     "output_type": "execute_result"
    }
   ],
   "source": [
    "# pixar_films_df.columns"
   ]
  },
  {
   "cell_type": "code",
   "execution_count": null,
   "metadata": {},
   "outputs": [],
   "source": [
    "# film_ratings_df.to_csv(\"film_ratings.csv\", index=False)\n",
    "\n",
    "# pixar_films_df.to_csv(\"pixar_films.csv\", index=False)\n",
    "\n",
    "# films_df.to_csv(\"films_df.csv\", index=False)"
   ]
  },
  {
   "cell_type": "markdown",
   "metadata": {},
   "source": [
    "# pixar_people_df"
   ]
  },
  {
   "cell_type": "code",
   "execution_count": null,
   "metadata": {},
   "outputs": [
    {
     "data": {
      "application/vnd.microsoft.datawrangler.viewer.v0+json": {
       "columns": [
        {
         "name": "index",
         "rawType": "int64",
         "type": "integer"
        },
        {
         "name": "film",
         "rawType": "object",
         "type": "string"
        },
        {
         "name": "role_type",
         "rawType": "object",
         "type": "string"
        },
        {
         "name": "name",
         "rawType": "object",
         "type": "string"
        }
       ],
       "conversionMethod": "pd.DataFrame",
       "ref": "a175d336-efe8-408f-bc06-7dcc87419f76",
       "rows": [
        [
         "0",
         "Toy Story",
         "Director",
         "John Lasseter"
        ],
        [
         "1",
         "Toy Story",
         "Musician",
         "Randy Newman"
        ],
        [
         "2",
         "Toy Story",
         "Producer",
         "Bonnie Arnold"
        ],
        [
         "3",
         "Toy Story",
         "Producer",
         "Ralph Guggenheim"
        ],
        [
         "4",
         "Toy Story",
         "Screenwriter",
         "Joel Cohen"
        ],
        [
         "5",
         "Toy Story",
         "Screenwriter",
         "Alec Sokolow"
        ],
        [
         "6",
         "Toy Story",
         "Screenwriter",
         "Andrew Stanton"
        ],
        [
         "7",
         "Toy Story",
         "Screenwriter",
         "Joss Whedon"
        ],
        [
         "8",
         "Toy Story",
         "Storywriter",
         "Pete Docter"
        ],
        [
         "9",
         "Toy Story",
         "Storywriter",
         "John Lasseter"
        ],
        [
         "10",
         "Toy Story",
         "Storywriter",
         "Joe Ranft"
        ],
        [
         "11",
         "Toy Story",
         "Storywriter",
         "Andrew Stanton"
        ],
        [
         "12",
         "A Bug's Life",
         "Co-director",
         "Andrew Stanton"
        ],
        [
         "13",
         "A Bug's Life",
         "Director",
         "John Lasseter"
        ],
        [
         "14",
         "A Bug's Life",
         "Musician",
         "Randy Newman"
        ],
        [
         "15",
         "A Bug's Life",
         "Producer",
         "Darla K. Anderson"
        ],
        [
         "16",
         "A Bug's Life",
         "Producer",
         "Kevin Reher"
        ],
        [
         "17",
         "A Bug's Life",
         "Screenwriter",
         "Donald McEnery"
        ],
        [
         "18",
         "A Bug's Life",
         "Screenwriter",
         "Bob Shaw"
        ],
        [
         "19",
         "A Bug's Life",
         "Screenwriter",
         "Andrew Stanton"
        ],
        [
         "20",
         "A Bug's Life",
         "Storywriter",
         "John Lasseter"
        ],
        [
         "21",
         "A Bug's Life",
         "Storywriter",
         "Joe Ranft"
        ],
        [
         "22",
         "A Bug's Life",
         "Storywriter",
         "Andrew Stanton"
        ],
        [
         "23",
         "Toy Story 2",
         "Co-director",
         "Ash Brannon"
        ],
        [
         "24",
         "Toy Story 2",
         "Co-director",
         "Lee Unkrich"
        ],
        [
         "25",
         "Toy Story 2",
         "Director",
         "John Lasseter"
        ],
        [
         "26",
         "Toy Story 2",
         "Musician",
         "Randy Newman"
        ],
        [
         "27",
         "Toy Story 2",
         "Producer",
         "Karen Robert Jackson"
        ],
        [
         "28",
         "Toy Story 2",
         "Producer",
         "Helene Plotkin"
        ],
        [
         "29",
         "Toy Story 2",
         "Screenwriter",
         "Doug Chamberlin"
        ],
        [
         "30",
         "Toy Story 2",
         "Screenwriter",
         "Rita Hsiao"
        ],
        [
         "31",
         "Toy Story 2",
         "Screenwriter",
         "Andrew Stanton"
        ],
        [
         "32",
         "Toy Story 2",
         "Screenwriter",
         "Chris Webb"
        ],
        [
         "33",
         "Toy Story 2",
         "Storywriter",
         "Ash Brannon"
        ],
        [
         "34",
         "Toy Story 2",
         "Storywriter",
         "Pete Docter"
        ],
        [
         "35",
         "Toy Story 2",
         "Storywriter",
         "John Lasseter"
        ],
        [
         "36",
         "Toy Story 2",
         "Storywriter",
         "Andrew Stanton"
        ],
        [
         "37",
         "Monsters, Inc.",
         "Co-director",
         "David Silverman"
        ],
        [
         "38",
         "Monsters, Inc.",
         "Co-director",
         "Lee Unkrich"
        ],
        [
         "39",
         "Monsters, Inc.",
         "Director",
         "Pete Docter"
        ],
        [
         "40",
         "Monsters, Inc.",
         "Musician",
         "Randy Newman"
        ],
        [
         "41",
         "Monsters, Inc.",
         "Producer",
         "Darla K. Anderson"
        ],
        [
         "42",
         "Monsters, Inc.",
         "Screenwriter",
         "Dan Gerson"
        ],
        [
         "43",
         "Monsters, Inc.",
         "Screenwriter",
         "Andrew Stanton"
        ],
        [
         "44",
         "Monsters, Inc.",
         "Storywriter",
         "Jill Culton"
        ],
        [
         "45",
         "Monsters, Inc.",
         "Storywriter",
         "Pete Docter"
        ],
        [
         "46",
         "Monsters, Inc.",
         "Storywriter",
         "Ralph Eggleston"
        ],
        [
         "47",
         "Monsters, Inc.",
         "Storywriter",
         "Jeff Pidgeon"
        ],
        [
         "48",
         "Finding Nemo",
         "Co-director",
         "Lee Unkrich"
        ],
        [
         "49",
         "Finding Nemo",
         "Director",
         "Andrew Stanton"
        ]
       ],
       "shape": {
        "columns": 3,
        "rows": 260
       }
      },
      "text/html": [
       "<div>\n",
       "<style scoped>\n",
       "    .dataframe tbody tr th:only-of-type {\n",
       "        vertical-align: middle;\n",
       "    }\n",
       "\n",
       "    .dataframe tbody tr th {\n",
       "        vertical-align: top;\n",
       "    }\n",
       "\n",
       "    .dataframe thead th {\n",
       "        text-align: right;\n",
       "    }\n",
       "</style>\n",
       "<table border=\"1\" class=\"dataframe\">\n",
       "  <thead>\n",
       "    <tr style=\"text-align: right;\">\n",
       "      <th></th>\n",
       "      <th>film</th>\n",
       "      <th>role_type</th>\n",
       "      <th>name</th>\n",
       "    </tr>\n",
       "  </thead>\n",
       "  <tbody>\n",
       "    <tr>\n",
       "      <th>0</th>\n",
       "      <td>Toy Story</td>\n",
       "      <td>Director</td>\n",
       "      <td>John Lasseter</td>\n",
       "    </tr>\n",
       "    <tr>\n",
       "      <th>1</th>\n",
       "      <td>Toy Story</td>\n",
       "      <td>Musician</td>\n",
       "      <td>Randy Newman</td>\n",
       "    </tr>\n",
       "    <tr>\n",
       "      <th>2</th>\n",
       "      <td>Toy Story</td>\n",
       "      <td>Producer</td>\n",
       "      <td>Bonnie Arnold</td>\n",
       "    </tr>\n",
       "    <tr>\n",
       "      <th>3</th>\n",
       "      <td>Toy Story</td>\n",
       "      <td>Producer</td>\n",
       "      <td>Ralph Guggenheim</td>\n",
       "    </tr>\n",
       "    <tr>\n",
       "      <th>4</th>\n",
       "      <td>Toy Story</td>\n",
       "      <td>Screenwriter</td>\n",
       "      <td>Joel Cohen</td>\n",
       "    </tr>\n",
       "    <tr>\n",
       "      <th>...</th>\n",
       "      <td>...</td>\n",
       "      <td>...</td>\n",
       "      <td>...</td>\n",
       "    </tr>\n",
       "    <tr>\n",
       "      <th>255</th>\n",
       "      <td>Inside Out 2</td>\n",
       "      <td>Producer</td>\n",
       "      <td>Mark Nielsen</td>\n",
       "    </tr>\n",
       "    <tr>\n",
       "      <th>256</th>\n",
       "      <td>Inside Out 2</td>\n",
       "      <td>Screenwriter</td>\n",
       "      <td>Dave Holstein</td>\n",
       "    </tr>\n",
       "    <tr>\n",
       "      <th>257</th>\n",
       "      <td>Inside Out 2</td>\n",
       "      <td>Screenwriter</td>\n",
       "      <td>Meg LeFauve</td>\n",
       "    </tr>\n",
       "    <tr>\n",
       "      <th>258</th>\n",
       "      <td>Inside Out 2</td>\n",
       "      <td>Storywriter</td>\n",
       "      <td>Meg LeFauve</td>\n",
       "    </tr>\n",
       "    <tr>\n",
       "      <th>259</th>\n",
       "      <td>Inside Out 2</td>\n",
       "      <td>Storywriter</td>\n",
       "      <td>Kelsey Mann</td>\n",
       "    </tr>\n",
       "  </tbody>\n",
       "</table>\n",
       "<p>260 rows × 3 columns</p>\n",
       "</div>"
      ],
      "text/plain": [
       "             film     role_type              name\n",
       "0       Toy Story      Director     John Lasseter\n",
       "1       Toy Story      Musician      Randy Newman\n",
       "2       Toy Story      Producer     Bonnie Arnold\n",
       "3       Toy Story      Producer  Ralph Guggenheim\n",
       "4       Toy Story  Screenwriter        Joel Cohen\n",
       "..            ...           ...               ...\n",
       "255  Inside Out 2      Producer      Mark Nielsen\n",
       "256  Inside Out 2  Screenwriter     Dave Holstein\n",
       "257  Inside Out 2  Screenwriter       Meg LeFauve\n",
       "258  Inside Out 2   Storywriter       Meg LeFauve\n",
       "259  Inside Out 2   Storywriter       Kelsey Mann\n",
       "\n",
       "[260 rows x 3 columns]"
      ]
     },
     "execution_count": 23,
     "metadata": {},
     "output_type": "execute_result"
    }
   ],
   "source": [
    "# pixar_people_df"
   ]
  },
  {
   "cell_type": "code",
   "execution_count": null,
   "metadata": {},
   "outputs": [
    {
     "data": {
      "text/plain": [
       "Index(['film', 'role_type', 'name'], dtype='object')"
      ]
     },
     "execution_count": 24,
     "metadata": {},
     "output_type": "execute_result"
    }
   ],
   "source": [
    "pixar_people_df.columns"
   ]
  },
  {
   "cell_type": "code",
   "execution_count": null,
   "metadata": {},
   "outputs": [
    {
     "name": "stdout",
     "output_type": "stream",
     "text": [
      "<class 'pandas.core.frame.DataFrame'>\n",
      "RangeIndex: 260 entries, 0 to 259\n",
      "Data columns (total 3 columns):\n",
      " #   Column     Non-Null Count  Dtype \n",
      "---  ------     --------------  ----- \n",
      " 0   film       260 non-null    object\n",
      " 1   role_type  260 non-null    object\n",
      " 2   name       260 non-null    object\n",
      "dtypes: object(3)\n",
      "memory usage: 6.2+ KB\n"
     ]
    }
   ],
   "source": [
    "# pixar_people_df.info()"
   ]
  },
  {
   "cell_type": "code",
   "execution_count": null,
   "metadata": {},
   "outputs": [
    {
     "data": {
      "application/vnd.microsoft.datawrangler.viewer.v0+json": {
       "columns": [
        {
         "name": "index",
         "rawType": "object",
         "type": "string"
        },
        {
         "name": "film",
         "rawType": "object",
         "type": "string"
        },
        {
         "name": "role_type",
         "rawType": "object",
         "type": "string"
        },
        {
         "name": "name",
         "rawType": "object",
         "type": "string"
        }
       ],
       "conversionMethod": "pd.DataFrame",
       "ref": "bf74ff7a-26e9-4496-a57c-0fa8e3d4a30e",
       "rows": [
        [
         "count",
         "260",
         "260",
         "260"
        ],
        [
         "unique",
         "28",
         "6",
         "95"
        ],
        [
         "top",
         "Toy Story 2",
         "Storywriter",
         "Andrew Stanton"
        ],
        [
         "freq",
         "14",
         "84",
         "20"
        ]
       ],
       "shape": {
        "columns": 3,
        "rows": 4
       }
      },
      "text/html": [
       "<div>\n",
       "<style scoped>\n",
       "    .dataframe tbody tr th:only-of-type {\n",
       "        vertical-align: middle;\n",
       "    }\n",
       "\n",
       "    .dataframe tbody tr th {\n",
       "        vertical-align: top;\n",
       "    }\n",
       "\n",
       "    .dataframe thead th {\n",
       "        text-align: right;\n",
       "    }\n",
       "</style>\n",
       "<table border=\"1\" class=\"dataframe\">\n",
       "  <thead>\n",
       "    <tr style=\"text-align: right;\">\n",
       "      <th></th>\n",
       "      <th>film</th>\n",
       "      <th>role_type</th>\n",
       "      <th>name</th>\n",
       "    </tr>\n",
       "  </thead>\n",
       "  <tbody>\n",
       "    <tr>\n",
       "      <th>count</th>\n",
       "      <td>260</td>\n",
       "      <td>260</td>\n",
       "      <td>260</td>\n",
       "    </tr>\n",
       "    <tr>\n",
       "      <th>unique</th>\n",
       "      <td>28</td>\n",
       "      <td>6</td>\n",
       "      <td>95</td>\n",
       "    </tr>\n",
       "    <tr>\n",
       "      <th>top</th>\n",
       "      <td>Toy Story 2</td>\n",
       "      <td>Storywriter</td>\n",
       "      <td>Andrew Stanton</td>\n",
       "    </tr>\n",
       "    <tr>\n",
       "      <th>freq</th>\n",
       "      <td>14</td>\n",
       "      <td>84</td>\n",
       "      <td>20</td>\n",
       "    </tr>\n",
       "  </tbody>\n",
       "</table>\n",
       "</div>"
      ],
      "text/plain": [
       "               film    role_type            name\n",
       "count           260          260             260\n",
       "unique           28            6              95\n",
       "top     Toy Story 2  Storywriter  Andrew Stanton\n",
       "freq             14           84              20"
      ]
     },
     "execution_count": 26,
     "metadata": {},
     "output_type": "execute_result"
    }
   ],
   "source": [
    "# pixar_people_df.describe()"
   ]
  },
  {
   "cell_type": "code",
   "execution_count": null,
   "metadata": {},
   "outputs": [],
   "source": [
    "people_df = pd.DataFrame({\n",
    "\n",
    "    'name':pixar_people_df['name'].unique()\n",
    "}).reset_index().rename(columns={'index':'poeple_id'})\n",
    "\n",
    "# people_df"
   ]
  },
  {
   "cell_type": "code",
   "execution_count": null,
   "metadata": {},
   "outputs": [],
   "source": [
    "role_types_df = pd.DataFrame({\n",
    "    'role_type':pixar_people_df['role_type'].unique()\n",
    "}).reset_index().rename(columns={'index':'role_type_id'})\n",
    "\n",
    "# role_types_df"
   ]
  },
  {
   "cell_type": "code",
   "execution_count": null,
   "metadata": {},
   "outputs": [],
   "source": [
    "merged_df_1 = pixar_people_df.merge(people_df, how='inner', on='name')\n",
    "\n",
    "pixar_people_df = merged_df_1.drop(columns=['name'])"
   ]
  },
  {
   "cell_type": "code",
   "execution_count": null,
   "metadata": {},
   "outputs": [],
   "source": [
    "merged_df_2 = pixar_people_df.merge(role_types_df, how='inner', on='role_type')\n",
    "\n",
    "pixar_people_df = merged_df_2.drop(columns=['role_type'])"
   ]
  },
  {
   "cell_type": "code",
   "execution_count": null,
   "metadata": {},
   "outputs": [
    {
     "data": {
      "application/vnd.microsoft.datawrangler.viewer.v0+json": {
       "columns": [
        {
         "name": "index",
         "rawType": "int64",
         "type": "integer"
        },
        {
         "name": "poeple_id",
         "rawType": "int64",
         "type": "integer"
        },
        {
         "name": "role_type_id",
         "rawType": "int64",
         "type": "integer"
        },
        {
         "name": "number",
         "rawType": "int64",
         "type": "integer"
        }
       ],
       "conversionMethod": "pd.DataFrame",
       "ref": "5c44a075-81a0-4a5a-b26a-beb26f372d1a",
       "rows": [
        [
         "0",
         "0",
         "0",
         "1"
        ],
        [
         "1",
         "0",
         "4",
         "1"
        ],
        [
         "2",
         "6",
         "4",
         "1"
        ],
        [
         "3",
         "8",
         "4",
         "1"
        ],
        [
         "4",
         "9",
         "4",
         "1"
        ],
        [
         "5",
         "4",
         "3",
         "1"
        ],
        [
         "6",
         "5",
         "3",
         "1"
        ],
        [
         "7",
         "6",
         "3",
         "1"
        ],
        [
         "8",
         "7",
         "3",
         "1"
        ],
        [
         "9",
         "1",
         "1",
         "1"
        ],
        [
         "10",
         "2",
         "2",
         "1"
        ],
        [
         "11",
         "3",
         "2",
         "1"
        ],
        [
         "12",
         "0",
         "0",
         "2"
        ],
        [
         "13",
         "0",
         "4",
         "2"
        ],
        [
         "14",
         "6",
         "4",
         "2"
        ],
        [
         "15",
         "9",
         "4",
         "2"
        ],
        [
         "16",
         "6",
         "3",
         "2"
        ],
        [
         "17",
         "12",
         "3",
         "2"
        ],
        [
         "18",
         "13",
         "3",
         "2"
        ],
        [
         "19",
         "1",
         "1",
         "2"
        ],
        [
         "20",
         "10",
         "2",
         "2"
        ],
        [
         "21",
         "11",
         "2",
         "2"
        ],
        [
         "22",
         "6",
         "5",
         "2"
        ],
        [
         "23",
         "0",
         "0",
         "3"
        ],
        [
         "24",
         "0",
         "4",
         "3"
        ],
        [
         "25",
         "6",
         "4",
         "3"
        ],
        [
         "26",
         "8",
         "4",
         "3"
        ],
        [
         "27",
         "14",
         "4",
         "3"
        ],
        [
         "28",
         "6",
         "3",
         "3"
        ],
        [
         "29",
         "18",
         "3",
         "3"
        ],
        [
         "30",
         "19",
         "3",
         "3"
        ],
        [
         "31",
         "20",
         "3",
         "3"
        ],
        [
         "32",
         "1",
         "1",
         "3"
        ],
        [
         "33",
         "16",
         "2",
         "3"
        ],
        [
         "34",
         "17",
         "2",
         "3"
        ],
        [
         "35",
         "14",
         "5",
         "3"
        ],
        [
         "36",
         "15",
         "5",
         "3"
        ],
        [
         "37",
         "0",
         "0",
         "7"
        ],
        [
         "38",
         "0",
         "4",
         "7"
        ],
        [
         "39",
         "9",
         "4",
         "7"
        ],
        [
         "40",
         "34",
         "4",
         "7"
        ],
        [
         "41",
         "0",
         "3",
         "7"
        ],
        [
         "42",
         "9",
         "3",
         "7"
        ],
        [
         "43",
         "33",
         "3",
         "7"
        ],
        [
         "44",
         "34",
         "3",
         "7"
        ],
        [
         "45",
         "35",
         "3",
         "7"
        ],
        [
         "46",
         "36",
         "3",
         "7"
        ],
        [
         "47",
         "1",
         "1",
         "7"
        ],
        [
         "48",
         "10",
         "2",
         "7"
        ],
        [
         "49",
         "9",
         "5",
         "7"
        ]
       ],
       "shape": {
        "columns": 3,
        "rows": 260
       }
      },
      "text/html": [
       "<div>\n",
       "<style scoped>\n",
       "    .dataframe tbody tr th:only-of-type {\n",
       "        vertical-align: middle;\n",
       "    }\n",
       "\n",
       "    .dataframe tbody tr th {\n",
       "        vertical-align: top;\n",
       "    }\n",
       "\n",
       "    .dataframe thead th {\n",
       "        text-align: right;\n",
       "    }\n",
       "</style>\n",
       "<table border=\"1\" class=\"dataframe\">\n",
       "  <thead>\n",
       "    <tr style=\"text-align: right;\">\n",
       "      <th></th>\n",
       "      <th>poeple_id</th>\n",
       "      <th>role_type_id</th>\n",
       "      <th>number</th>\n",
       "    </tr>\n",
       "  </thead>\n",
       "  <tbody>\n",
       "    <tr>\n",
       "      <th>0</th>\n",
       "      <td>0</td>\n",
       "      <td>0</td>\n",
       "      <td>1</td>\n",
       "    </tr>\n",
       "    <tr>\n",
       "      <th>1</th>\n",
       "      <td>0</td>\n",
       "      <td>4</td>\n",
       "      <td>1</td>\n",
       "    </tr>\n",
       "    <tr>\n",
       "      <th>2</th>\n",
       "      <td>6</td>\n",
       "      <td>4</td>\n",
       "      <td>1</td>\n",
       "    </tr>\n",
       "    <tr>\n",
       "      <th>3</th>\n",
       "      <td>8</td>\n",
       "      <td>4</td>\n",
       "      <td>1</td>\n",
       "    </tr>\n",
       "    <tr>\n",
       "      <th>4</th>\n",
       "      <td>9</td>\n",
       "      <td>4</td>\n",
       "      <td>1</td>\n",
       "    </tr>\n",
       "    <tr>\n",
       "      <th>...</th>\n",
       "      <td>...</td>\n",
       "      <td>...</td>\n",
       "      <td>...</td>\n",
       "    </tr>\n",
       "    <tr>\n",
       "      <th>255</th>\n",
       "      <td>88</td>\n",
       "      <td>4</td>\n",
       "      <td>25</td>\n",
       "    </tr>\n",
       "    <tr>\n",
       "      <th>256</th>\n",
       "      <td>85</td>\n",
       "      <td>3</td>\n",
       "      <td>25</td>\n",
       "    </tr>\n",
       "    <tr>\n",
       "      <th>257</th>\n",
       "      <td>87</td>\n",
       "      <td>3</td>\n",
       "      <td>25</td>\n",
       "    </tr>\n",
       "    <tr>\n",
       "      <th>258</th>\n",
       "      <td>86</td>\n",
       "      <td>1</td>\n",
       "      <td>25</td>\n",
       "    </tr>\n",
       "    <tr>\n",
       "      <th>259</th>\n",
       "      <td>61</td>\n",
       "      <td>2</td>\n",
       "      <td>25</td>\n",
       "    </tr>\n",
       "  </tbody>\n",
       "</table>\n",
       "<p>260 rows × 3 columns</p>\n",
       "</div>"
      ],
      "text/plain": [
       "     poeple_id  role_type_id  number\n",
       "0            0             0       1\n",
       "1            0             4       1\n",
       "2            6             4       1\n",
       "3            8             4       1\n",
       "4            9             4       1\n",
       "..         ...           ...     ...\n",
       "255         88             4      25\n",
       "256         85             3      25\n",
       "257         87             3      25\n",
       "258         86             1      25\n",
       "259         61             2      25\n",
       "\n",
       "[260 rows x 3 columns]"
      ]
     },
     "execution_count": 32,
     "metadata": {},
     "output_type": "execute_result"
    }
   ],
   "source": [
    "merged_df_3 = pixar_people_df.merge(pixar_films_df, how='inner', on='film')\n",
    "\n",
    "pixar_people_df = merged_df_3.drop(columns=['film', 'release_date', 'run_time', 'plot', 'film_rating_id'])\n",
    "\n",
    "# pixar_people_df"
   ]
  },
  {
   "cell_type": "code",
   "execution_count": null,
   "metadata": {},
   "outputs": [],
   "source": [
    "# people_df.to_csv(\"people.csv\", index=False)\n",
    "# role_types_df.to_csv(\"role_types.csv\", index=False)\n",
    "# pixar_people_df.to_csv(\"pixar_people.csv\", index=False)\n"
   ]
  },
  {
   "cell_type": "markdown",
   "metadata": {},
   "source": [
    "# public_response_df"
   ]
  },
  {
   "cell_type": "code",
   "execution_count": null,
   "metadata": {},
   "outputs": [
    {
     "data": {
      "application/vnd.microsoft.datawrangler.viewer.v0+json": {
       "columns": [
        {
         "name": "index",
         "rawType": "int64",
         "type": "integer"
        },
        {
         "name": "film",
         "rawType": "object",
         "type": "string"
        },
        {
         "name": "rotten_tomatoes_score",
         "rawType": "int64",
         "type": "integer"
        },
        {
         "name": "rotten_tomatoes_counts",
         "rawType": "int64",
         "type": "integer"
        },
        {
         "name": "metacritic_score",
         "rawType": "int64",
         "type": "integer"
        },
        {
         "name": "metacritic_counts",
         "rawType": "int64",
         "type": "integer"
        },
        {
         "name": "cinema_score",
         "rawType": "object",
         "type": "string"
        },
        {
         "name": "imdb_score",
         "rawType": "float64",
         "type": "float"
        },
        {
         "name": "imdb_counts",
         "rawType": "int64",
         "type": "integer"
        }
       ],
       "conversionMethod": "pd.DataFrame",
       "ref": "ae9f6c22-5091-434a-b9cd-da39fb1d625f",
       "rows": [
        [
         "0",
         "Toy Story",
         "100",
         "96",
         "95",
         "26",
         "A",
         "8.3",
         "1089101"
        ],
        [
         "1",
         "A Bug's Life",
         "92",
         "91",
         "78",
         "23",
         "A",
         "7.2",
         "319596"
        ],
        [
         "2",
         "Toy Story 2",
         "100",
         "172",
         "88",
         "34",
         "A+",
         "7.9",
         "630573"
        ],
        [
         "3",
         "Monsters, Inc.",
         "96",
         "199",
         "79",
         "35",
         "A+",
         "8.1",
         "1000657"
        ],
        [
         "4",
         "Finding Nemo",
         "99",
         "270",
         "90",
         "38",
         "A+",
         "8.2",
         "1132877"
        ],
        [
         "5",
         "The Incredibles",
         "97",
         "250",
         "90",
         "41",
         "A+",
         "8.0",
         "828986"
        ],
        [
         "6",
         "Cars",
         "75",
         "204",
         "73",
         "39",
         "A",
         "7.2",
         "484034"
        ],
        [
         "7",
         "Ratatouille",
         "96",
         "253",
         "96",
         "37",
         "A",
         "8.1",
         "851229"
        ],
        [
         "8",
         "WALL-E",
         "95",
         "261",
         "95",
         "39",
         "A",
         "8.4",
         "1226415"
        ],
        [
         "9",
         "Up",
         "98",
         "297",
         "88",
         "37",
         "A+",
         "8.3",
         "1151249"
        ],
        [
         "10",
         "Toy Story 3",
         "98",
         "313",
         "92",
         "39",
         "A",
         "8.3",
         "908222"
        ],
        [
         "11",
         "Cars 2",
         "40",
         "220",
         "57",
         "38",
         "A-",
         "6.2",
         "225724"
        ],
        [
         "12",
         "Brave",
         "79",
         "256",
         "69",
         "37",
         "A",
         "7.1",
         "452012"
        ],
        [
         "13",
         "Monsters University",
         "80",
         "203",
         "65",
         "41",
         "A",
         "7.2",
         "398903"
        ],
        [
         "14",
         "Inside Out",
         "98",
         "387",
         "94",
         "55",
         "A",
         "8.1",
         "834268"
        ],
        [
         "15",
         "The Good Dinosaur",
         "75",
         "220",
         "66",
         "37",
         "A",
         "6.7",
         "130324"
        ],
        [
         "16",
         "Finding Dory",
         "94",
         "339",
         "77",
         "48",
         "A",
         "7.2",
         "311793"
        ],
        [
         "17",
         "Cars 3",
         "69",
         "234",
         "59",
         "41",
         "A",
         "6.7",
         "128849"
        ],
        [
         "18",
         "Coco",
         "97",
         "357",
         "81",
         "48",
         "A+",
         "8.4",
         "618005"
        ],
        [
         "19",
         "Incredibles 2",
         "93",
         "390",
         "80",
         "51",
         "A+",
         "7.5",
         "341353"
        ],
        [
         "20",
         "Toy Story 4",
         "97",
         "459",
         "84",
         "57",
         "A",
         "7.6",
         "288783"
        ],
        [
         "21",
         "Onward",
         "88",
         "350",
         "64",
         "56",
         "A-",
         "7.4",
         "174917"
        ],
        [
         "22",
         "Soul",
         "95",
         "360",
         "83",
         "55",
         null,
         "8.0",
         "392783"
        ],
        [
         "23",
         "Luca",
         "91",
         "303",
         "71",
         "52",
         null,
         "7.4",
         "202404"
        ],
        [
         "24",
         "Turning Red",
         "95",
         "289",
         "83",
         "52",
         null,
         "7.0",
         "158649"
        ],
        [
         "25",
         "Lightyear",
         "74",
         "319",
         "60",
         "57",
         "A-",
         "6.1",
         "127045"
        ],
        [
         "26",
         "Elemental",
         "73",
         "262",
         "58",
         "45",
         "A",
         "7.0",
         "140174"
        ],
        [
         "27",
         "Inside Out 2",
         "90",
         "313",
         "73",
         "59",
         "A",
         "7.6",
         "168090"
        ]
       ],
       "shape": {
        "columns": 8,
        "rows": 28
       }
      },
      "text/html": [
       "<div>\n",
       "<style scoped>\n",
       "    .dataframe tbody tr th:only-of-type {\n",
       "        vertical-align: middle;\n",
       "    }\n",
       "\n",
       "    .dataframe tbody tr th {\n",
       "        vertical-align: top;\n",
       "    }\n",
       "\n",
       "    .dataframe thead th {\n",
       "        text-align: right;\n",
       "    }\n",
       "</style>\n",
       "<table border=\"1\" class=\"dataframe\">\n",
       "  <thead>\n",
       "    <tr style=\"text-align: right;\">\n",
       "      <th></th>\n",
       "      <th>film</th>\n",
       "      <th>rotten_tomatoes_score</th>\n",
       "      <th>rotten_tomatoes_counts</th>\n",
       "      <th>metacritic_score</th>\n",
       "      <th>metacritic_counts</th>\n",
       "      <th>cinema_score</th>\n",
       "      <th>imdb_score</th>\n",
       "      <th>imdb_counts</th>\n",
       "    </tr>\n",
       "  </thead>\n",
       "  <tbody>\n",
       "    <tr>\n",
       "      <th>0</th>\n",
       "      <td>Toy Story</td>\n",
       "      <td>100</td>\n",
       "      <td>96</td>\n",
       "      <td>95</td>\n",
       "      <td>26</td>\n",
       "      <td>A</td>\n",
       "      <td>8.3</td>\n",
       "      <td>1089101</td>\n",
       "    </tr>\n",
       "    <tr>\n",
       "      <th>1</th>\n",
       "      <td>A Bug's Life</td>\n",
       "      <td>92</td>\n",
       "      <td>91</td>\n",
       "      <td>78</td>\n",
       "      <td>23</td>\n",
       "      <td>A</td>\n",
       "      <td>7.2</td>\n",
       "      <td>319596</td>\n",
       "    </tr>\n",
       "    <tr>\n",
       "      <th>2</th>\n",
       "      <td>Toy Story 2</td>\n",
       "      <td>100</td>\n",
       "      <td>172</td>\n",
       "      <td>88</td>\n",
       "      <td>34</td>\n",
       "      <td>A+</td>\n",
       "      <td>7.9</td>\n",
       "      <td>630573</td>\n",
       "    </tr>\n",
       "    <tr>\n",
       "      <th>3</th>\n",
       "      <td>Monsters, Inc.</td>\n",
       "      <td>96</td>\n",
       "      <td>199</td>\n",
       "      <td>79</td>\n",
       "      <td>35</td>\n",
       "      <td>A+</td>\n",
       "      <td>8.1</td>\n",
       "      <td>1000657</td>\n",
       "    </tr>\n",
       "    <tr>\n",
       "      <th>4</th>\n",
       "      <td>Finding Nemo</td>\n",
       "      <td>99</td>\n",
       "      <td>270</td>\n",
       "      <td>90</td>\n",
       "      <td>38</td>\n",
       "      <td>A+</td>\n",
       "      <td>8.2</td>\n",
       "      <td>1132877</td>\n",
       "    </tr>\n",
       "    <tr>\n",
       "      <th>5</th>\n",
       "      <td>The Incredibles</td>\n",
       "      <td>97</td>\n",
       "      <td>250</td>\n",
       "      <td>90</td>\n",
       "      <td>41</td>\n",
       "      <td>A+</td>\n",
       "      <td>8.0</td>\n",
       "      <td>828986</td>\n",
       "    </tr>\n",
       "    <tr>\n",
       "      <th>6</th>\n",
       "      <td>Cars</td>\n",
       "      <td>75</td>\n",
       "      <td>204</td>\n",
       "      <td>73</td>\n",
       "      <td>39</td>\n",
       "      <td>A</td>\n",
       "      <td>7.2</td>\n",
       "      <td>484034</td>\n",
       "    </tr>\n",
       "    <tr>\n",
       "      <th>7</th>\n",
       "      <td>Ratatouille</td>\n",
       "      <td>96</td>\n",
       "      <td>253</td>\n",
       "      <td>96</td>\n",
       "      <td>37</td>\n",
       "      <td>A</td>\n",
       "      <td>8.1</td>\n",
       "      <td>851229</td>\n",
       "    </tr>\n",
       "    <tr>\n",
       "      <th>8</th>\n",
       "      <td>WALL-E</td>\n",
       "      <td>95</td>\n",
       "      <td>261</td>\n",
       "      <td>95</td>\n",
       "      <td>39</td>\n",
       "      <td>A</td>\n",
       "      <td>8.4</td>\n",
       "      <td>1226415</td>\n",
       "    </tr>\n",
       "    <tr>\n",
       "      <th>9</th>\n",
       "      <td>Up</td>\n",
       "      <td>98</td>\n",
       "      <td>297</td>\n",
       "      <td>88</td>\n",
       "      <td>37</td>\n",
       "      <td>A+</td>\n",
       "      <td>8.3</td>\n",
       "      <td>1151249</td>\n",
       "    </tr>\n",
       "    <tr>\n",
       "      <th>10</th>\n",
       "      <td>Toy Story 3</td>\n",
       "      <td>98</td>\n",
       "      <td>313</td>\n",
       "      <td>92</td>\n",
       "      <td>39</td>\n",
       "      <td>A</td>\n",
       "      <td>8.3</td>\n",
       "      <td>908222</td>\n",
       "    </tr>\n",
       "    <tr>\n",
       "      <th>11</th>\n",
       "      <td>Cars 2</td>\n",
       "      <td>40</td>\n",
       "      <td>220</td>\n",
       "      <td>57</td>\n",
       "      <td>38</td>\n",
       "      <td>A-</td>\n",
       "      <td>6.2</td>\n",
       "      <td>225724</td>\n",
       "    </tr>\n",
       "    <tr>\n",
       "      <th>12</th>\n",
       "      <td>Brave</td>\n",
       "      <td>79</td>\n",
       "      <td>256</td>\n",
       "      <td>69</td>\n",
       "      <td>37</td>\n",
       "      <td>A</td>\n",
       "      <td>7.1</td>\n",
       "      <td>452012</td>\n",
       "    </tr>\n",
       "    <tr>\n",
       "      <th>13</th>\n",
       "      <td>Monsters University</td>\n",
       "      <td>80</td>\n",
       "      <td>203</td>\n",
       "      <td>65</td>\n",
       "      <td>41</td>\n",
       "      <td>A</td>\n",
       "      <td>7.2</td>\n",
       "      <td>398903</td>\n",
       "    </tr>\n",
       "    <tr>\n",
       "      <th>14</th>\n",
       "      <td>Inside Out</td>\n",
       "      <td>98</td>\n",
       "      <td>387</td>\n",
       "      <td>94</td>\n",
       "      <td>55</td>\n",
       "      <td>A</td>\n",
       "      <td>8.1</td>\n",
       "      <td>834268</td>\n",
       "    </tr>\n",
       "    <tr>\n",
       "      <th>15</th>\n",
       "      <td>The Good Dinosaur</td>\n",
       "      <td>75</td>\n",
       "      <td>220</td>\n",
       "      <td>66</td>\n",
       "      <td>37</td>\n",
       "      <td>A</td>\n",
       "      <td>6.7</td>\n",
       "      <td>130324</td>\n",
       "    </tr>\n",
       "    <tr>\n",
       "      <th>16</th>\n",
       "      <td>Finding Dory</td>\n",
       "      <td>94</td>\n",
       "      <td>339</td>\n",
       "      <td>77</td>\n",
       "      <td>48</td>\n",
       "      <td>A</td>\n",
       "      <td>7.2</td>\n",
       "      <td>311793</td>\n",
       "    </tr>\n",
       "    <tr>\n",
       "      <th>17</th>\n",
       "      <td>Cars 3</td>\n",
       "      <td>69</td>\n",
       "      <td>234</td>\n",
       "      <td>59</td>\n",
       "      <td>41</td>\n",
       "      <td>A</td>\n",
       "      <td>6.7</td>\n",
       "      <td>128849</td>\n",
       "    </tr>\n",
       "    <tr>\n",
       "      <th>18</th>\n",
       "      <td>Coco</td>\n",
       "      <td>97</td>\n",
       "      <td>357</td>\n",
       "      <td>81</td>\n",
       "      <td>48</td>\n",
       "      <td>A+</td>\n",
       "      <td>8.4</td>\n",
       "      <td>618005</td>\n",
       "    </tr>\n",
       "    <tr>\n",
       "      <th>19</th>\n",
       "      <td>Incredibles 2</td>\n",
       "      <td>93</td>\n",
       "      <td>390</td>\n",
       "      <td>80</td>\n",
       "      <td>51</td>\n",
       "      <td>A+</td>\n",
       "      <td>7.5</td>\n",
       "      <td>341353</td>\n",
       "    </tr>\n",
       "    <tr>\n",
       "      <th>20</th>\n",
       "      <td>Toy Story 4</td>\n",
       "      <td>97</td>\n",
       "      <td>459</td>\n",
       "      <td>84</td>\n",
       "      <td>57</td>\n",
       "      <td>A</td>\n",
       "      <td>7.6</td>\n",
       "      <td>288783</td>\n",
       "    </tr>\n",
       "    <tr>\n",
       "      <th>21</th>\n",
       "      <td>Onward</td>\n",
       "      <td>88</td>\n",
       "      <td>350</td>\n",
       "      <td>64</td>\n",
       "      <td>56</td>\n",
       "      <td>A-</td>\n",
       "      <td>7.4</td>\n",
       "      <td>174917</td>\n",
       "    </tr>\n",
       "    <tr>\n",
       "      <th>22</th>\n",
       "      <td>Soul</td>\n",
       "      <td>95</td>\n",
       "      <td>360</td>\n",
       "      <td>83</td>\n",
       "      <td>55</td>\n",
       "      <td>NaN</td>\n",
       "      <td>8.0</td>\n",
       "      <td>392783</td>\n",
       "    </tr>\n",
       "    <tr>\n",
       "      <th>23</th>\n",
       "      <td>Luca</td>\n",
       "      <td>91</td>\n",
       "      <td>303</td>\n",
       "      <td>71</td>\n",
       "      <td>52</td>\n",
       "      <td>NaN</td>\n",
       "      <td>7.4</td>\n",
       "      <td>202404</td>\n",
       "    </tr>\n",
       "    <tr>\n",
       "      <th>24</th>\n",
       "      <td>Turning Red</td>\n",
       "      <td>95</td>\n",
       "      <td>289</td>\n",
       "      <td>83</td>\n",
       "      <td>52</td>\n",
       "      <td>NaN</td>\n",
       "      <td>7.0</td>\n",
       "      <td>158649</td>\n",
       "    </tr>\n",
       "    <tr>\n",
       "      <th>25</th>\n",
       "      <td>Lightyear</td>\n",
       "      <td>74</td>\n",
       "      <td>319</td>\n",
       "      <td>60</td>\n",
       "      <td>57</td>\n",
       "      <td>A-</td>\n",
       "      <td>6.1</td>\n",
       "      <td>127045</td>\n",
       "    </tr>\n",
       "    <tr>\n",
       "      <th>26</th>\n",
       "      <td>Elemental</td>\n",
       "      <td>73</td>\n",
       "      <td>262</td>\n",
       "      <td>58</td>\n",
       "      <td>45</td>\n",
       "      <td>A</td>\n",
       "      <td>7.0</td>\n",
       "      <td>140174</td>\n",
       "    </tr>\n",
       "    <tr>\n",
       "      <th>27</th>\n",
       "      <td>Inside Out 2</td>\n",
       "      <td>90</td>\n",
       "      <td>313</td>\n",
       "      <td>73</td>\n",
       "      <td>59</td>\n",
       "      <td>A</td>\n",
       "      <td>7.6</td>\n",
       "      <td>168090</td>\n",
       "    </tr>\n",
       "  </tbody>\n",
       "</table>\n",
       "</div>"
      ],
      "text/plain": [
       "                   film  rotten_tomatoes_score  rotten_tomatoes_counts  \\\n",
       "0             Toy Story                    100                      96   \n",
       "1          A Bug's Life                     92                      91   \n",
       "2           Toy Story 2                    100                     172   \n",
       "3        Monsters, Inc.                     96                     199   \n",
       "4          Finding Nemo                     99                     270   \n",
       "5       The Incredibles                     97                     250   \n",
       "6                  Cars                     75                     204   \n",
       "7           Ratatouille                     96                     253   \n",
       "8                WALL-E                     95                     261   \n",
       "9                    Up                     98                     297   \n",
       "10          Toy Story 3                     98                     313   \n",
       "11               Cars 2                     40                     220   \n",
       "12                Brave                     79                     256   \n",
       "13  Monsters University                     80                     203   \n",
       "14           Inside Out                     98                     387   \n",
       "15    The Good Dinosaur                     75                     220   \n",
       "16         Finding Dory                     94                     339   \n",
       "17               Cars 3                     69                     234   \n",
       "18                 Coco                     97                     357   \n",
       "19        Incredibles 2                     93                     390   \n",
       "20          Toy Story 4                     97                     459   \n",
       "21               Onward                     88                     350   \n",
       "22                 Soul                     95                     360   \n",
       "23                 Luca                     91                     303   \n",
       "24          Turning Red                     95                     289   \n",
       "25            Lightyear                     74                     319   \n",
       "26            Elemental                     73                     262   \n",
       "27         Inside Out 2                     90                     313   \n",
       "\n",
       "    metacritic_score  metacritic_counts cinema_score  imdb_score  imdb_counts  \n",
       "0                 95                 26            A         8.3      1089101  \n",
       "1                 78                 23            A         7.2       319596  \n",
       "2                 88                 34           A+         7.9       630573  \n",
       "3                 79                 35           A+         8.1      1000657  \n",
       "4                 90                 38           A+         8.2      1132877  \n",
       "5                 90                 41           A+         8.0       828986  \n",
       "6                 73                 39            A         7.2       484034  \n",
       "7                 96                 37            A         8.1       851229  \n",
       "8                 95                 39            A         8.4      1226415  \n",
       "9                 88                 37           A+         8.3      1151249  \n",
       "10                92                 39            A         8.3       908222  \n",
       "11                57                 38           A-         6.2       225724  \n",
       "12                69                 37            A         7.1       452012  \n",
       "13                65                 41            A         7.2       398903  \n",
       "14                94                 55            A         8.1       834268  \n",
       "15                66                 37            A         6.7       130324  \n",
       "16                77                 48            A         7.2       311793  \n",
       "17                59                 41            A         6.7       128849  \n",
       "18                81                 48           A+         8.4       618005  \n",
       "19                80                 51           A+         7.5       341353  \n",
       "20                84                 57            A         7.6       288783  \n",
       "21                64                 56           A-         7.4       174917  \n",
       "22                83                 55          NaN         8.0       392783  \n",
       "23                71                 52          NaN         7.4       202404  \n",
       "24                83                 52          NaN         7.0       158649  \n",
       "25                60                 57           A-         6.1       127045  \n",
       "26                58                 45            A         7.0       140174  \n",
       "27                73                 59            A         7.6       168090  "
      ]
     },
     "execution_count": 34,
     "metadata": {},
     "output_type": "execute_result"
    }
   ],
   "source": [
    "# public_response_df"
   ]
  },
  {
   "cell_type": "code",
   "execution_count": null,
   "metadata": {},
   "outputs": [
    {
     "name": "stdout",
     "output_type": "stream",
     "text": [
      "<class 'pandas.core.frame.DataFrame'>\n",
      "RangeIndex: 28 entries, 0 to 27\n",
      "Data columns (total 8 columns):\n",
      " #   Column                  Non-Null Count  Dtype  \n",
      "---  ------                  --------------  -----  \n",
      " 0   film                    28 non-null     object \n",
      " 1   rotten_tomatoes_score   28 non-null     int64  \n",
      " 2   rotten_tomatoes_counts  28 non-null     int64  \n",
      " 3   metacritic_score        28 non-null     int64  \n",
      " 4   metacritic_counts       28 non-null     int64  \n",
      " 5   cinema_score            25 non-null     object \n",
      " 6   imdb_score              28 non-null     float64\n",
      " 7   imdb_counts             28 non-null     int64  \n",
      "dtypes: float64(1), int64(5), object(2)\n",
      "memory usage: 1.9+ KB\n"
     ]
    }
   ],
   "source": [
    "# public_response_df.info()"
   ]
  },
  {
   "cell_type": "code",
   "execution_count": null,
   "metadata": {},
   "outputs": [
    {
     "data": {
      "application/vnd.microsoft.datawrangler.viewer.v0+json": {
       "columns": [
        {
         "name": "index",
         "rawType": "object",
         "type": "string"
        },
        {
         "name": "rotten_tomatoes_score",
         "rawType": "float64",
         "type": "float"
        },
        {
         "name": "rotten_tomatoes_counts",
         "rawType": "float64",
         "type": "float"
        },
        {
         "name": "metacritic_score",
         "rawType": "float64",
         "type": "float"
        },
        {
         "name": "metacritic_counts",
         "rawType": "float64",
         "type": "float"
        },
        {
         "name": "imdb_score",
         "rawType": "float64",
         "type": "float"
        },
        {
         "name": "imdb_counts",
         "rawType": "float64",
         "type": "float"
        }
       ],
       "conversionMethod": "pd.DataFrame",
       "ref": "0a05a207-7907-445a-a81c-bec3fa78a07a",
       "rows": [
        [
         "count",
         "28.0",
         "28.0",
         "28.0",
         "28.0",
         "28.0",
         "28.0"
        ],
        [
         "mean",
         "88.35714285714286",
         "273.82142857142856",
         "78.14285714285714",
         "43.464285714285715",
         "7.542857142857143",
         "525607.6785714285"
        ],
        [
         "std",
         "13.447330137640252",
         "84.24877340416191",
         "12.408820893978444",
         "9.558715793402774",
         "0.6585216728785727",
         "368871.2938679043"
        ],
        [
         "min",
         "40.0",
         "91.0",
         "57.0",
         "23.0",
         "6.1",
         "127045.0"
        ],
        [
         "25%",
         "79.75",
         "220.0",
         "68.25",
         "37.0",
         "7.175",
         "195532.25"
        ],
        [
         "50%",
         "94.5",
         "266.0",
         "79.5",
         "41.0",
         "7.55",
         "395843.0"
        ],
        [
         "75%",
         "97.0",
         "324.0",
         "88.5",
         "52.0",
         "8.1",
         "838508.25"
        ],
        [
         "max",
         "100.0",
         "459.0",
         "96.0",
         "59.0",
         "8.4",
         "1226415.0"
        ]
       ],
       "shape": {
        "columns": 6,
        "rows": 8
       }
      },
      "text/html": [
       "<div>\n",
       "<style scoped>\n",
       "    .dataframe tbody tr th:only-of-type {\n",
       "        vertical-align: middle;\n",
       "    }\n",
       "\n",
       "    .dataframe tbody tr th {\n",
       "        vertical-align: top;\n",
       "    }\n",
       "\n",
       "    .dataframe thead th {\n",
       "        text-align: right;\n",
       "    }\n",
       "</style>\n",
       "<table border=\"1\" class=\"dataframe\">\n",
       "  <thead>\n",
       "    <tr style=\"text-align: right;\">\n",
       "      <th></th>\n",
       "      <th>rotten_tomatoes_score</th>\n",
       "      <th>rotten_tomatoes_counts</th>\n",
       "      <th>metacritic_score</th>\n",
       "      <th>metacritic_counts</th>\n",
       "      <th>imdb_score</th>\n",
       "      <th>imdb_counts</th>\n",
       "    </tr>\n",
       "  </thead>\n",
       "  <tbody>\n",
       "    <tr>\n",
       "      <th>count</th>\n",
       "      <td>28.000000</td>\n",
       "      <td>28.000000</td>\n",
       "      <td>28.000000</td>\n",
       "      <td>28.000000</td>\n",
       "      <td>28.000000</td>\n",
       "      <td>2.800000e+01</td>\n",
       "    </tr>\n",
       "    <tr>\n",
       "      <th>mean</th>\n",
       "      <td>88.357143</td>\n",
       "      <td>273.821429</td>\n",
       "      <td>78.142857</td>\n",
       "      <td>43.464286</td>\n",
       "      <td>7.542857</td>\n",
       "      <td>5.256077e+05</td>\n",
       "    </tr>\n",
       "    <tr>\n",
       "      <th>std</th>\n",
       "      <td>13.447330</td>\n",
       "      <td>84.248773</td>\n",
       "      <td>12.408821</td>\n",
       "      <td>9.558716</td>\n",
       "      <td>0.658522</td>\n",
       "      <td>3.688713e+05</td>\n",
       "    </tr>\n",
       "    <tr>\n",
       "      <th>min</th>\n",
       "      <td>40.000000</td>\n",
       "      <td>91.000000</td>\n",
       "      <td>57.000000</td>\n",
       "      <td>23.000000</td>\n",
       "      <td>6.100000</td>\n",
       "      <td>1.270450e+05</td>\n",
       "    </tr>\n",
       "    <tr>\n",
       "      <th>25%</th>\n",
       "      <td>79.750000</td>\n",
       "      <td>220.000000</td>\n",
       "      <td>68.250000</td>\n",
       "      <td>37.000000</td>\n",
       "      <td>7.175000</td>\n",
       "      <td>1.955322e+05</td>\n",
       "    </tr>\n",
       "    <tr>\n",
       "      <th>50%</th>\n",
       "      <td>94.500000</td>\n",
       "      <td>266.000000</td>\n",
       "      <td>79.500000</td>\n",
       "      <td>41.000000</td>\n",
       "      <td>7.550000</td>\n",
       "      <td>3.958430e+05</td>\n",
       "    </tr>\n",
       "    <tr>\n",
       "      <th>75%</th>\n",
       "      <td>97.000000</td>\n",
       "      <td>324.000000</td>\n",
       "      <td>88.500000</td>\n",
       "      <td>52.000000</td>\n",
       "      <td>8.100000</td>\n",
       "      <td>8.385082e+05</td>\n",
       "    </tr>\n",
       "    <tr>\n",
       "      <th>max</th>\n",
       "      <td>100.000000</td>\n",
       "      <td>459.000000</td>\n",
       "      <td>96.000000</td>\n",
       "      <td>59.000000</td>\n",
       "      <td>8.400000</td>\n",
       "      <td>1.226415e+06</td>\n",
       "    </tr>\n",
       "  </tbody>\n",
       "</table>\n",
       "</div>"
      ],
      "text/plain": [
       "       rotten_tomatoes_score  rotten_tomatoes_counts  metacritic_score  \\\n",
       "count              28.000000               28.000000         28.000000   \n",
       "mean               88.357143              273.821429         78.142857   \n",
       "std                13.447330               84.248773         12.408821   \n",
       "min                40.000000               91.000000         57.000000   \n",
       "25%                79.750000              220.000000         68.250000   \n",
       "50%                94.500000              266.000000         79.500000   \n",
       "75%                97.000000              324.000000         88.500000   \n",
       "max               100.000000              459.000000         96.000000   \n",
       "\n",
       "       metacritic_counts  imdb_score   imdb_counts  \n",
       "count          28.000000   28.000000  2.800000e+01  \n",
       "mean           43.464286    7.542857  5.256077e+05  \n",
       "std             9.558716    0.658522  3.688713e+05  \n",
       "min            23.000000    6.100000  1.270450e+05  \n",
       "25%            37.000000    7.175000  1.955322e+05  \n",
       "50%            41.000000    7.550000  3.958430e+05  \n",
       "75%            52.000000    8.100000  8.385082e+05  \n",
       "max            59.000000    8.400000  1.226415e+06  "
      ]
     },
     "execution_count": 36,
     "metadata": {},
     "output_type": "execute_result"
    }
   ],
   "source": [
    "# public_response_df.describe()"
   ]
  },
  {
   "cell_type": "code",
   "execution_count": null,
   "metadata": {},
   "outputs": [
    {
     "data": {
      "application/vnd.microsoft.datawrangler.viewer.v0+json": {
       "columns": [
        {
         "name": "index",
         "rawType": "int64",
         "type": "integer"
        },
        {
         "name": "cinema_score_id",
         "rawType": "int64",
         "type": "integer"
        },
        {
         "name": "cinema_score",
         "rawType": "object",
         "type": "string"
        }
       ],
       "conversionMethod": "pd.DataFrame",
       "ref": "88eee96a-478c-462d-9ab3-f243338c5b09",
       "rows": [
        [
         "0",
         "0",
         "A"
        ],
        [
         "1",
         "1",
         "A+"
        ],
        [
         "2",
         "2",
         "A-"
        ]
       ],
       "shape": {
        "columns": 2,
        "rows": 3
       }
      },
      "text/html": [
       "<div>\n",
       "<style scoped>\n",
       "    .dataframe tbody tr th:only-of-type {\n",
       "        vertical-align: middle;\n",
       "    }\n",
       "\n",
       "    .dataframe tbody tr th {\n",
       "        vertical-align: top;\n",
       "    }\n",
       "\n",
       "    .dataframe thead th {\n",
       "        text-align: right;\n",
       "    }\n",
       "</style>\n",
       "<table border=\"1\" class=\"dataframe\">\n",
       "  <thead>\n",
       "    <tr style=\"text-align: right;\">\n",
       "      <th></th>\n",
       "      <th>cinema_score_id</th>\n",
       "      <th>cinema_score</th>\n",
       "    </tr>\n",
       "  </thead>\n",
       "  <tbody>\n",
       "    <tr>\n",
       "      <th>0</th>\n",
       "      <td>0</td>\n",
       "      <td>A</td>\n",
       "    </tr>\n",
       "    <tr>\n",
       "      <th>1</th>\n",
       "      <td>1</td>\n",
       "      <td>A+</td>\n",
       "    </tr>\n",
       "    <tr>\n",
       "      <th>2</th>\n",
       "      <td>2</td>\n",
       "      <td>A-</td>\n",
       "    </tr>\n",
       "  </tbody>\n",
       "</table>\n",
       "</div>"
      ],
      "text/plain": [
       "   cinema_score_id cinema_score\n",
       "0                0            A\n",
       "1                1           A+\n",
       "2                2           A-"
      ]
     },
     "execution_count": 46,
     "metadata": {},
     "output_type": "execute_result"
    }
   ],
   "source": [
    "cinema_score_df = pd.DataFrame({\n",
    "    'cinema_score': public_response_df['cinema_score'].dropna().unique()\n",
    "}).reset_index().rename(columns={'index': 'cinema_score_id'})\n",
    "\n",
    "# cinema_score_df"
   ]
  },
  {
   "cell_type": "code",
   "execution_count": null,
   "metadata": {},
   "outputs": [
    {
     "data": {
      "application/vnd.microsoft.datawrangler.viewer.v0+json": {
       "columns": [
        {
         "name": "index",
         "rawType": "int64",
         "type": "integer"
        },
        {
         "name": "film",
         "rawType": "object",
         "type": "string"
        },
        {
         "name": "rotten_tomatoes_score",
         "rawType": "int64",
         "type": "integer"
        },
        {
         "name": "rotten_tomatoes_counts",
         "rawType": "int64",
         "type": "integer"
        },
        {
         "name": "metacritic_score",
         "rawType": "int64",
         "type": "integer"
        },
        {
         "name": "metacritic_counts",
         "rawType": "int64",
         "type": "integer"
        },
        {
         "name": "imdb_score",
         "rawType": "float64",
         "type": "float"
        },
        {
         "name": "imdb_counts",
         "rawType": "int64",
         "type": "integer"
        },
        {
         "name": "cinema_score_id",
         "rawType": "int64",
         "type": "integer"
        }
       ],
       "conversionMethod": "pd.DataFrame",
       "ref": "b2941fa7-f605-4b83-a7ab-4d24b27e25c3",
       "rows": [
        [
         "0",
         "Toy Story",
         "100",
         "96",
         "95",
         "26",
         "8.3",
         "1089101",
         "0"
        ],
        [
         "1",
         "A Bug's Life",
         "92",
         "91",
         "78",
         "23",
         "7.2",
         "319596",
         "0"
        ],
        [
         "2",
         "Cars",
         "75",
         "204",
         "73",
         "39",
         "7.2",
         "484034",
         "0"
        ],
        [
         "3",
         "Ratatouille",
         "96",
         "253",
         "96",
         "37",
         "8.1",
         "851229",
         "0"
        ],
        [
         "4",
         "WALL-E",
         "95",
         "261",
         "95",
         "39",
         "8.4",
         "1226415",
         "0"
        ],
        [
         "5",
         "Toy Story 3",
         "98",
         "313",
         "92",
         "39",
         "8.3",
         "908222",
         "0"
        ],
        [
         "6",
         "Brave",
         "79",
         "256",
         "69",
         "37",
         "7.1",
         "452012",
         "0"
        ],
        [
         "7",
         "Monsters University",
         "80",
         "203",
         "65",
         "41",
         "7.2",
         "398903",
         "0"
        ],
        [
         "8",
         "Inside Out",
         "98",
         "387",
         "94",
         "55",
         "8.1",
         "834268",
         "0"
        ],
        [
         "9",
         "The Good Dinosaur",
         "75",
         "220",
         "66",
         "37",
         "6.7",
         "130324",
         "0"
        ],
        [
         "10",
         "Finding Dory",
         "94",
         "339",
         "77",
         "48",
         "7.2",
         "311793",
         "0"
        ],
        [
         "11",
         "Cars 3",
         "69",
         "234",
         "59",
         "41",
         "6.7",
         "128849",
         "0"
        ],
        [
         "12",
         "Toy Story 4",
         "97",
         "459",
         "84",
         "57",
         "7.6",
         "288783",
         "0"
        ],
        [
         "13",
         "Elemental",
         "73",
         "262",
         "58",
         "45",
         "7.0",
         "140174",
         "0"
        ],
        [
         "14",
         "Inside Out 2",
         "90",
         "313",
         "73",
         "59",
         "7.6",
         "168090",
         "0"
        ],
        [
         "15",
         "Toy Story 2",
         "100",
         "172",
         "88",
         "34",
         "7.9",
         "630573",
         "1"
        ],
        [
         "16",
         "Monsters, Inc.",
         "96",
         "199",
         "79",
         "35",
         "8.1",
         "1000657",
         "1"
        ],
        [
         "17",
         "Finding Nemo",
         "99",
         "270",
         "90",
         "38",
         "8.2",
         "1132877",
         "1"
        ],
        [
         "18",
         "The Incredibles",
         "97",
         "250",
         "90",
         "41",
         "8.0",
         "828986",
         "1"
        ],
        [
         "19",
         "Up",
         "98",
         "297",
         "88",
         "37",
         "8.3",
         "1151249",
         "1"
        ],
        [
         "20",
         "Coco",
         "97",
         "357",
         "81",
         "48",
         "8.4",
         "618005",
         "1"
        ],
        [
         "21",
         "Incredibles 2",
         "93",
         "390",
         "80",
         "51",
         "7.5",
         "341353",
         "1"
        ],
        [
         "22",
         "Cars 2",
         "40",
         "220",
         "57",
         "38",
         "6.2",
         "225724",
         "2"
        ],
        [
         "23",
         "Onward",
         "88",
         "350",
         "64",
         "56",
         "7.4",
         "174917",
         "2"
        ],
        [
         "24",
         "Lightyear",
         "74",
         "319",
         "60",
         "57",
         "6.1",
         "127045",
         "2"
        ]
       ],
       "shape": {
        "columns": 8,
        "rows": 25
       }
      },
      "text/html": [
       "<div>\n",
       "<style scoped>\n",
       "    .dataframe tbody tr th:only-of-type {\n",
       "        vertical-align: middle;\n",
       "    }\n",
       "\n",
       "    .dataframe tbody tr th {\n",
       "        vertical-align: top;\n",
       "    }\n",
       "\n",
       "    .dataframe thead th {\n",
       "        text-align: right;\n",
       "    }\n",
       "</style>\n",
       "<table border=\"1\" class=\"dataframe\">\n",
       "  <thead>\n",
       "    <tr style=\"text-align: right;\">\n",
       "      <th></th>\n",
       "      <th>film</th>\n",
       "      <th>rotten_tomatoes_score</th>\n",
       "      <th>rotten_tomatoes_counts</th>\n",
       "      <th>metacritic_score</th>\n",
       "      <th>metacritic_counts</th>\n",
       "      <th>imdb_score</th>\n",
       "      <th>imdb_counts</th>\n",
       "      <th>cinema_score_id</th>\n",
       "    </tr>\n",
       "  </thead>\n",
       "  <tbody>\n",
       "    <tr>\n",
       "      <th>0</th>\n",
       "      <td>Toy Story</td>\n",
       "      <td>100</td>\n",
       "      <td>96</td>\n",
       "      <td>95</td>\n",
       "      <td>26</td>\n",
       "      <td>8.3</td>\n",
       "      <td>1089101</td>\n",
       "      <td>0</td>\n",
       "    </tr>\n",
       "    <tr>\n",
       "      <th>1</th>\n",
       "      <td>A Bug's Life</td>\n",
       "      <td>92</td>\n",
       "      <td>91</td>\n",
       "      <td>78</td>\n",
       "      <td>23</td>\n",
       "      <td>7.2</td>\n",
       "      <td>319596</td>\n",
       "      <td>0</td>\n",
       "    </tr>\n",
       "    <tr>\n",
       "      <th>2</th>\n",
       "      <td>Cars</td>\n",
       "      <td>75</td>\n",
       "      <td>204</td>\n",
       "      <td>73</td>\n",
       "      <td>39</td>\n",
       "      <td>7.2</td>\n",
       "      <td>484034</td>\n",
       "      <td>0</td>\n",
       "    </tr>\n",
       "    <tr>\n",
       "      <th>3</th>\n",
       "      <td>Ratatouille</td>\n",
       "      <td>96</td>\n",
       "      <td>253</td>\n",
       "      <td>96</td>\n",
       "      <td>37</td>\n",
       "      <td>8.1</td>\n",
       "      <td>851229</td>\n",
       "      <td>0</td>\n",
       "    </tr>\n",
       "    <tr>\n",
       "      <th>4</th>\n",
       "      <td>WALL-E</td>\n",
       "      <td>95</td>\n",
       "      <td>261</td>\n",
       "      <td>95</td>\n",
       "      <td>39</td>\n",
       "      <td>8.4</td>\n",
       "      <td>1226415</td>\n",
       "      <td>0</td>\n",
       "    </tr>\n",
       "    <tr>\n",
       "      <th>5</th>\n",
       "      <td>Toy Story 3</td>\n",
       "      <td>98</td>\n",
       "      <td>313</td>\n",
       "      <td>92</td>\n",
       "      <td>39</td>\n",
       "      <td>8.3</td>\n",
       "      <td>908222</td>\n",
       "      <td>0</td>\n",
       "    </tr>\n",
       "    <tr>\n",
       "      <th>6</th>\n",
       "      <td>Brave</td>\n",
       "      <td>79</td>\n",
       "      <td>256</td>\n",
       "      <td>69</td>\n",
       "      <td>37</td>\n",
       "      <td>7.1</td>\n",
       "      <td>452012</td>\n",
       "      <td>0</td>\n",
       "    </tr>\n",
       "    <tr>\n",
       "      <th>7</th>\n",
       "      <td>Monsters University</td>\n",
       "      <td>80</td>\n",
       "      <td>203</td>\n",
       "      <td>65</td>\n",
       "      <td>41</td>\n",
       "      <td>7.2</td>\n",
       "      <td>398903</td>\n",
       "      <td>0</td>\n",
       "    </tr>\n",
       "    <tr>\n",
       "      <th>8</th>\n",
       "      <td>Inside Out</td>\n",
       "      <td>98</td>\n",
       "      <td>387</td>\n",
       "      <td>94</td>\n",
       "      <td>55</td>\n",
       "      <td>8.1</td>\n",
       "      <td>834268</td>\n",
       "      <td>0</td>\n",
       "    </tr>\n",
       "    <tr>\n",
       "      <th>9</th>\n",
       "      <td>The Good Dinosaur</td>\n",
       "      <td>75</td>\n",
       "      <td>220</td>\n",
       "      <td>66</td>\n",
       "      <td>37</td>\n",
       "      <td>6.7</td>\n",
       "      <td>130324</td>\n",
       "      <td>0</td>\n",
       "    </tr>\n",
       "    <tr>\n",
       "      <th>10</th>\n",
       "      <td>Finding Dory</td>\n",
       "      <td>94</td>\n",
       "      <td>339</td>\n",
       "      <td>77</td>\n",
       "      <td>48</td>\n",
       "      <td>7.2</td>\n",
       "      <td>311793</td>\n",
       "      <td>0</td>\n",
       "    </tr>\n",
       "    <tr>\n",
       "      <th>11</th>\n",
       "      <td>Cars 3</td>\n",
       "      <td>69</td>\n",
       "      <td>234</td>\n",
       "      <td>59</td>\n",
       "      <td>41</td>\n",
       "      <td>6.7</td>\n",
       "      <td>128849</td>\n",
       "      <td>0</td>\n",
       "    </tr>\n",
       "    <tr>\n",
       "      <th>12</th>\n",
       "      <td>Toy Story 4</td>\n",
       "      <td>97</td>\n",
       "      <td>459</td>\n",
       "      <td>84</td>\n",
       "      <td>57</td>\n",
       "      <td>7.6</td>\n",
       "      <td>288783</td>\n",
       "      <td>0</td>\n",
       "    </tr>\n",
       "    <tr>\n",
       "      <th>13</th>\n",
       "      <td>Elemental</td>\n",
       "      <td>73</td>\n",
       "      <td>262</td>\n",
       "      <td>58</td>\n",
       "      <td>45</td>\n",
       "      <td>7.0</td>\n",
       "      <td>140174</td>\n",
       "      <td>0</td>\n",
       "    </tr>\n",
       "    <tr>\n",
       "      <th>14</th>\n",
       "      <td>Inside Out 2</td>\n",
       "      <td>90</td>\n",
       "      <td>313</td>\n",
       "      <td>73</td>\n",
       "      <td>59</td>\n",
       "      <td>7.6</td>\n",
       "      <td>168090</td>\n",
       "      <td>0</td>\n",
       "    </tr>\n",
       "    <tr>\n",
       "      <th>15</th>\n",
       "      <td>Toy Story 2</td>\n",
       "      <td>100</td>\n",
       "      <td>172</td>\n",
       "      <td>88</td>\n",
       "      <td>34</td>\n",
       "      <td>7.9</td>\n",
       "      <td>630573</td>\n",
       "      <td>1</td>\n",
       "    </tr>\n",
       "    <tr>\n",
       "      <th>16</th>\n",
       "      <td>Monsters, Inc.</td>\n",
       "      <td>96</td>\n",
       "      <td>199</td>\n",
       "      <td>79</td>\n",
       "      <td>35</td>\n",
       "      <td>8.1</td>\n",
       "      <td>1000657</td>\n",
       "      <td>1</td>\n",
       "    </tr>\n",
       "    <tr>\n",
       "      <th>17</th>\n",
       "      <td>Finding Nemo</td>\n",
       "      <td>99</td>\n",
       "      <td>270</td>\n",
       "      <td>90</td>\n",
       "      <td>38</td>\n",
       "      <td>8.2</td>\n",
       "      <td>1132877</td>\n",
       "      <td>1</td>\n",
       "    </tr>\n",
       "    <tr>\n",
       "      <th>18</th>\n",
       "      <td>The Incredibles</td>\n",
       "      <td>97</td>\n",
       "      <td>250</td>\n",
       "      <td>90</td>\n",
       "      <td>41</td>\n",
       "      <td>8.0</td>\n",
       "      <td>828986</td>\n",
       "      <td>1</td>\n",
       "    </tr>\n",
       "    <tr>\n",
       "      <th>19</th>\n",
       "      <td>Up</td>\n",
       "      <td>98</td>\n",
       "      <td>297</td>\n",
       "      <td>88</td>\n",
       "      <td>37</td>\n",
       "      <td>8.3</td>\n",
       "      <td>1151249</td>\n",
       "      <td>1</td>\n",
       "    </tr>\n",
       "    <tr>\n",
       "      <th>20</th>\n",
       "      <td>Coco</td>\n",
       "      <td>97</td>\n",
       "      <td>357</td>\n",
       "      <td>81</td>\n",
       "      <td>48</td>\n",
       "      <td>8.4</td>\n",
       "      <td>618005</td>\n",
       "      <td>1</td>\n",
       "    </tr>\n",
       "    <tr>\n",
       "      <th>21</th>\n",
       "      <td>Incredibles 2</td>\n",
       "      <td>93</td>\n",
       "      <td>390</td>\n",
       "      <td>80</td>\n",
       "      <td>51</td>\n",
       "      <td>7.5</td>\n",
       "      <td>341353</td>\n",
       "      <td>1</td>\n",
       "    </tr>\n",
       "    <tr>\n",
       "      <th>22</th>\n",
       "      <td>Cars 2</td>\n",
       "      <td>40</td>\n",
       "      <td>220</td>\n",
       "      <td>57</td>\n",
       "      <td>38</td>\n",
       "      <td>6.2</td>\n",
       "      <td>225724</td>\n",
       "      <td>2</td>\n",
       "    </tr>\n",
       "    <tr>\n",
       "      <th>23</th>\n",
       "      <td>Onward</td>\n",
       "      <td>88</td>\n",
       "      <td>350</td>\n",
       "      <td>64</td>\n",
       "      <td>56</td>\n",
       "      <td>7.4</td>\n",
       "      <td>174917</td>\n",
       "      <td>2</td>\n",
       "    </tr>\n",
       "    <tr>\n",
       "      <th>24</th>\n",
       "      <td>Lightyear</td>\n",
       "      <td>74</td>\n",
       "      <td>319</td>\n",
       "      <td>60</td>\n",
       "      <td>57</td>\n",
       "      <td>6.1</td>\n",
       "      <td>127045</td>\n",
       "      <td>2</td>\n",
       "    </tr>\n",
       "  </tbody>\n",
       "</table>\n",
       "</div>"
      ],
      "text/plain": [
       "                   film  rotten_tomatoes_score  rotten_tomatoes_counts  \\\n",
       "0             Toy Story                    100                      96   \n",
       "1          A Bug's Life                     92                      91   \n",
       "2                  Cars                     75                     204   \n",
       "3           Ratatouille                     96                     253   \n",
       "4                WALL-E                     95                     261   \n",
       "5           Toy Story 3                     98                     313   \n",
       "6                 Brave                     79                     256   \n",
       "7   Monsters University                     80                     203   \n",
       "8            Inside Out                     98                     387   \n",
       "9     The Good Dinosaur                     75                     220   \n",
       "10         Finding Dory                     94                     339   \n",
       "11               Cars 3                     69                     234   \n",
       "12          Toy Story 4                     97                     459   \n",
       "13            Elemental                     73                     262   \n",
       "14         Inside Out 2                     90                     313   \n",
       "15          Toy Story 2                    100                     172   \n",
       "16       Monsters, Inc.                     96                     199   \n",
       "17         Finding Nemo                     99                     270   \n",
       "18      The Incredibles                     97                     250   \n",
       "19                   Up                     98                     297   \n",
       "20                 Coco                     97                     357   \n",
       "21        Incredibles 2                     93                     390   \n",
       "22               Cars 2                     40                     220   \n",
       "23               Onward                     88                     350   \n",
       "24            Lightyear                     74                     319   \n",
       "\n",
       "    metacritic_score  metacritic_counts  imdb_score  imdb_counts  \\\n",
       "0                 95                 26         8.3      1089101   \n",
       "1                 78                 23         7.2       319596   \n",
       "2                 73                 39         7.2       484034   \n",
       "3                 96                 37         8.1       851229   \n",
       "4                 95                 39         8.4      1226415   \n",
       "5                 92                 39         8.3       908222   \n",
       "6                 69                 37         7.1       452012   \n",
       "7                 65                 41         7.2       398903   \n",
       "8                 94                 55         8.1       834268   \n",
       "9                 66                 37         6.7       130324   \n",
       "10                77                 48         7.2       311793   \n",
       "11                59                 41         6.7       128849   \n",
       "12                84                 57         7.6       288783   \n",
       "13                58                 45         7.0       140174   \n",
       "14                73                 59         7.6       168090   \n",
       "15                88                 34         7.9       630573   \n",
       "16                79                 35         8.1      1000657   \n",
       "17                90                 38         8.2      1132877   \n",
       "18                90                 41         8.0       828986   \n",
       "19                88                 37         8.3      1151249   \n",
       "20                81                 48         8.4       618005   \n",
       "21                80                 51         7.5       341353   \n",
       "22                57                 38         6.2       225724   \n",
       "23                64                 56         7.4       174917   \n",
       "24                60                 57         6.1       127045   \n",
       "\n",
       "    cinema_score_id  \n",
       "0                 0  \n",
       "1                 0  \n",
       "2                 0  \n",
       "3                 0  \n",
       "4                 0  \n",
       "5                 0  \n",
       "6                 0  \n",
       "7                 0  \n",
       "8                 0  \n",
       "9                 0  \n",
       "10                0  \n",
       "11                0  \n",
       "12                0  \n",
       "13                0  \n",
       "14                0  \n",
       "15                1  \n",
       "16                1  \n",
       "17                1  \n",
       "18                1  \n",
       "19                1  \n",
       "20                1  \n",
       "21                1  \n",
       "22                2  \n",
       "23                2  \n",
       "24                2  "
      ]
     },
     "execution_count": 47,
     "metadata": {},
     "output_type": "execute_result"
    }
   ],
   "source": [
    "merged_df_8 = public_response_df.merge(cinema_score_df, on='cinema_score', how='inner')\n",
    "\n",
    "public_response_df= merged_df_8.drop(columns=['cinema_score'])\n",
    "\n",
    "# public_response_df"
   ]
  },
  {
   "cell_type": "code",
   "execution_count": null,
   "metadata": {},
   "outputs": [
    {
     "data": {
      "application/vnd.microsoft.datawrangler.viewer.v0+json": {
       "columns": [
        {
         "name": "index",
         "rawType": "int64",
         "type": "integer"
        },
        {
         "name": "rotten_tomatoes_score",
         "rawType": "int64",
         "type": "integer"
        },
        {
         "name": "rotten_tomatoes_counts",
         "rawType": "int64",
         "type": "integer"
        },
        {
         "name": "metacritic_score",
         "rawType": "int64",
         "type": "integer"
        },
        {
         "name": "metacritic_counts",
         "rawType": "int64",
         "type": "integer"
        },
        {
         "name": "imdb_score",
         "rawType": "float64",
         "type": "float"
        },
        {
         "name": "imdb_counts",
         "rawType": "int64",
         "type": "integer"
        },
        {
         "name": "cinema_score_id",
         "rawType": "int64",
         "type": "integer"
        },
        {
         "name": "number",
         "rawType": "int64",
         "type": "integer"
        }
       ],
       "conversionMethod": "pd.DataFrame",
       "ref": "7c2c161f-4688-4a04-959f-230f99b7db9b",
       "rows": [
        [
         "0",
         "100",
         "96",
         "95",
         "26",
         "8.3",
         "1089101",
         "0",
         "1"
        ],
        [
         "1",
         "92",
         "91",
         "78",
         "23",
         "7.2",
         "319596",
         "0",
         "2"
        ],
        [
         "2",
         "75",
         "204",
         "73",
         "39",
         "7.2",
         "484034",
         "0",
         "7"
        ],
        [
         "3",
         "96",
         "253",
         "96",
         "37",
         "8.1",
         "851229",
         "0",
         "8"
        ],
        [
         "4",
         "95",
         "261",
         "95",
         "39",
         "8.4",
         "1226415",
         "0",
         "9"
        ],
        [
         "5",
         "98",
         "313",
         "92",
         "39",
         "8.3",
         "908222",
         "0",
         "11"
        ],
        [
         "6",
         "79",
         "256",
         "69",
         "37",
         "7.1",
         "452012",
         "0",
         "13"
        ],
        [
         "7",
         "80",
         "203",
         "65",
         "41",
         "7.2",
         "398903",
         "0",
         "14"
        ],
        [
         "8",
         "98",
         "387",
         "94",
         "55",
         "8.1",
         "834268",
         "0",
         "15"
        ],
        [
         "9",
         "75",
         "220",
         "66",
         "37",
         "6.7",
         "130324",
         "0",
         "16"
        ],
        [
         "10",
         "94",
         "339",
         "77",
         "48",
         "7.2",
         "311793",
         "0",
         "17"
        ],
        [
         "11",
         "69",
         "234",
         "59",
         "41",
         "6.7",
         "128849",
         "0",
         "18"
        ],
        [
         "12",
         "97",
         "459",
         "84",
         "57",
         "7.6",
         "288783",
         "0",
         "21"
        ],
        [
         "13",
         "73",
         "262",
         "58",
         "45",
         "7.0",
         "140174",
         "0",
         "27"
        ],
        [
         "14",
         "90",
         "313",
         "73",
         "59",
         "7.6",
         "168090",
         "0",
         "28"
        ],
        [
         "15",
         "100",
         "172",
         "88",
         "34",
         "7.9",
         "630573",
         "1",
         "3"
        ],
        [
         "16",
         "96",
         "199",
         "79",
         "35",
         "8.1",
         "1000657",
         "1",
         "4"
        ],
        [
         "17",
         "99",
         "270",
         "90",
         "38",
         "8.2",
         "1132877",
         "1",
         "5"
        ],
        [
         "18",
         "97",
         "250",
         "90",
         "41",
         "8.0",
         "828986",
         "1",
         "6"
        ],
        [
         "19",
         "98",
         "297",
         "88",
         "37",
         "8.3",
         "1151249",
         "1",
         "10"
        ],
        [
         "20",
         "97",
         "357",
         "81",
         "48",
         "8.4",
         "618005",
         "1",
         "19"
        ],
        [
         "21",
         "93",
         "390",
         "80",
         "51",
         "7.5",
         "341353",
         "1",
         "20"
        ],
        [
         "22",
         "40",
         "220",
         "57",
         "38",
         "6.2",
         "225724",
         "2",
         "12"
        ],
        [
         "23",
         "88",
         "350",
         "64",
         "56",
         "7.4",
         "174917",
         "2",
         "22"
        ],
        [
         "24",
         "74",
         "319",
         "60",
         "57",
         "6.1",
         "127045",
         "2",
         "26"
        ]
       ],
       "shape": {
        "columns": 8,
        "rows": 25
       }
      },
      "text/html": [
       "<div>\n",
       "<style scoped>\n",
       "    .dataframe tbody tr th:only-of-type {\n",
       "        vertical-align: middle;\n",
       "    }\n",
       "\n",
       "    .dataframe tbody tr th {\n",
       "        vertical-align: top;\n",
       "    }\n",
       "\n",
       "    .dataframe thead th {\n",
       "        text-align: right;\n",
       "    }\n",
       "</style>\n",
       "<table border=\"1\" class=\"dataframe\">\n",
       "  <thead>\n",
       "    <tr style=\"text-align: right;\">\n",
       "      <th></th>\n",
       "      <th>rotten_tomatoes_score</th>\n",
       "      <th>rotten_tomatoes_counts</th>\n",
       "      <th>metacritic_score</th>\n",
       "      <th>metacritic_counts</th>\n",
       "      <th>imdb_score</th>\n",
       "      <th>imdb_counts</th>\n",
       "      <th>cinema_score_id</th>\n",
       "      <th>number</th>\n",
       "    </tr>\n",
       "  </thead>\n",
       "  <tbody>\n",
       "    <tr>\n",
       "      <th>0</th>\n",
       "      <td>100</td>\n",
       "      <td>96</td>\n",
       "      <td>95</td>\n",
       "      <td>26</td>\n",
       "      <td>8.3</td>\n",
       "      <td>1089101</td>\n",
       "      <td>0</td>\n",
       "      <td>1</td>\n",
       "    </tr>\n",
       "    <tr>\n",
       "      <th>1</th>\n",
       "      <td>92</td>\n",
       "      <td>91</td>\n",
       "      <td>78</td>\n",
       "      <td>23</td>\n",
       "      <td>7.2</td>\n",
       "      <td>319596</td>\n",
       "      <td>0</td>\n",
       "      <td>2</td>\n",
       "    </tr>\n",
       "    <tr>\n",
       "      <th>2</th>\n",
       "      <td>75</td>\n",
       "      <td>204</td>\n",
       "      <td>73</td>\n",
       "      <td>39</td>\n",
       "      <td>7.2</td>\n",
       "      <td>484034</td>\n",
       "      <td>0</td>\n",
       "      <td>7</td>\n",
       "    </tr>\n",
       "    <tr>\n",
       "      <th>3</th>\n",
       "      <td>96</td>\n",
       "      <td>253</td>\n",
       "      <td>96</td>\n",
       "      <td>37</td>\n",
       "      <td>8.1</td>\n",
       "      <td>851229</td>\n",
       "      <td>0</td>\n",
       "      <td>8</td>\n",
       "    </tr>\n",
       "    <tr>\n",
       "      <th>4</th>\n",
       "      <td>95</td>\n",
       "      <td>261</td>\n",
       "      <td>95</td>\n",
       "      <td>39</td>\n",
       "      <td>8.4</td>\n",
       "      <td>1226415</td>\n",
       "      <td>0</td>\n",
       "      <td>9</td>\n",
       "    </tr>\n",
       "    <tr>\n",
       "      <th>5</th>\n",
       "      <td>98</td>\n",
       "      <td>313</td>\n",
       "      <td>92</td>\n",
       "      <td>39</td>\n",
       "      <td>8.3</td>\n",
       "      <td>908222</td>\n",
       "      <td>0</td>\n",
       "      <td>11</td>\n",
       "    </tr>\n",
       "    <tr>\n",
       "      <th>6</th>\n",
       "      <td>79</td>\n",
       "      <td>256</td>\n",
       "      <td>69</td>\n",
       "      <td>37</td>\n",
       "      <td>7.1</td>\n",
       "      <td>452012</td>\n",
       "      <td>0</td>\n",
       "      <td>13</td>\n",
       "    </tr>\n",
       "    <tr>\n",
       "      <th>7</th>\n",
       "      <td>80</td>\n",
       "      <td>203</td>\n",
       "      <td>65</td>\n",
       "      <td>41</td>\n",
       "      <td>7.2</td>\n",
       "      <td>398903</td>\n",
       "      <td>0</td>\n",
       "      <td>14</td>\n",
       "    </tr>\n",
       "    <tr>\n",
       "      <th>8</th>\n",
       "      <td>98</td>\n",
       "      <td>387</td>\n",
       "      <td>94</td>\n",
       "      <td>55</td>\n",
       "      <td>8.1</td>\n",
       "      <td>834268</td>\n",
       "      <td>0</td>\n",
       "      <td>15</td>\n",
       "    </tr>\n",
       "    <tr>\n",
       "      <th>9</th>\n",
       "      <td>75</td>\n",
       "      <td>220</td>\n",
       "      <td>66</td>\n",
       "      <td>37</td>\n",
       "      <td>6.7</td>\n",
       "      <td>130324</td>\n",
       "      <td>0</td>\n",
       "      <td>16</td>\n",
       "    </tr>\n",
       "    <tr>\n",
       "      <th>10</th>\n",
       "      <td>94</td>\n",
       "      <td>339</td>\n",
       "      <td>77</td>\n",
       "      <td>48</td>\n",
       "      <td>7.2</td>\n",
       "      <td>311793</td>\n",
       "      <td>0</td>\n",
       "      <td>17</td>\n",
       "    </tr>\n",
       "    <tr>\n",
       "      <th>11</th>\n",
       "      <td>69</td>\n",
       "      <td>234</td>\n",
       "      <td>59</td>\n",
       "      <td>41</td>\n",
       "      <td>6.7</td>\n",
       "      <td>128849</td>\n",
       "      <td>0</td>\n",
       "      <td>18</td>\n",
       "    </tr>\n",
       "    <tr>\n",
       "      <th>12</th>\n",
       "      <td>97</td>\n",
       "      <td>459</td>\n",
       "      <td>84</td>\n",
       "      <td>57</td>\n",
       "      <td>7.6</td>\n",
       "      <td>288783</td>\n",
       "      <td>0</td>\n",
       "      <td>21</td>\n",
       "    </tr>\n",
       "    <tr>\n",
       "      <th>13</th>\n",
       "      <td>73</td>\n",
       "      <td>262</td>\n",
       "      <td>58</td>\n",
       "      <td>45</td>\n",
       "      <td>7.0</td>\n",
       "      <td>140174</td>\n",
       "      <td>0</td>\n",
       "      <td>27</td>\n",
       "    </tr>\n",
       "    <tr>\n",
       "      <th>14</th>\n",
       "      <td>90</td>\n",
       "      <td>313</td>\n",
       "      <td>73</td>\n",
       "      <td>59</td>\n",
       "      <td>7.6</td>\n",
       "      <td>168090</td>\n",
       "      <td>0</td>\n",
       "      <td>28</td>\n",
       "    </tr>\n",
       "    <tr>\n",
       "      <th>15</th>\n",
       "      <td>100</td>\n",
       "      <td>172</td>\n",
       "      <td>88</td>\n",
       "      <td>34</td>\n",
       "      <td>7.9</td>\n",
       "      <td>630573</td>\n",
       "      <td>1</td>\n",
       "      <td>3</td>\n",
       "    </tr>\n",
       "    <tr>\n",
       "      <th>16</th>\n",
       "      <td>96</td>\n",
       "      <td>199</td>\n",
       "      <td>79</td>\n",
       "      <td>35</td>\n",
       "      <td>8.1</td>\n",
       "      <td>1000657</td>\n",
       "      <td>1</td>\n",
       "      <td>4</td>\n",
       "    </tr>\n",
       "    <tr>\n",
       "      <th>17</th>\n",
       "      <td>99</td>\n",
       "      <td>270</td>\n",
       "      <td>90</td>\n",
       "      <td>38</td>\n",
       "      <td>8.2</td>\n",
       "      <td>1132877</td>\n",
       "      <td>1</td>\n",
       "      <td>5</td>\n",
       "    </tr>\n",
       "    <tr>\n",
       "      <th>18</th>\n",
       "      <td>97</td>\n",
       "      <td>250</td>\n",
       "      <td>90</td>\n",
       "      <td>41</td>\n",
       "      <td>8.0</td>\n",
       "      <td>828986</td>\n",
       "      <td>1</td>\n",
       "      <td>6</td>\n",
       "    </tr>\n",
       "    <tr>\n",
       "      <th>19</th>\n",
       "      <td>98</td>\n",
       "      <td>297</td>\n",
       "      <td>88</td>\n",
       "      <td>37</td>\n",
       "      <td>8.3</td>\n",
       "      <td>1151249</td>\n",
       "      <td>1</td>\n",
       "      <td>10</td>\n",
       "    </tr>\n",
       "    <tr>\n",
       "      <th>20</th>\n",
       "      <td>97</td>\n",
       "      <td>357</td>\n",
       "      <td>81</td>\n",
       "      <td>48</td>\n",
       "      <td>8.4</td>\n",
       "      <td>618005</td>\n",
       "      <td>1</td>\n",
       "      <td>19</td>\n",
       "    </tr>\n",
       "    <tr>\n",
       "      <th>21</th>\n",
       "      <td>93</td>\n",
       "      <td>390</td>\n",
       "      <td>80</td>\n",
       "      <td>51</td>\n",
       "      <td>7.5</td>\n",
       "      <td>341353</td>\n",
       "      <td>1</td>\n",
       "      <td>20</td>\n",
       "    </tr>\n",
       "    <tr>\n",
       "      <th>22</th>\n",
       "      <td>40</td>\n",
       "      <td>220</td>\n",
       "      <td>57</td>\n",
       "      <td>38</td>\n",
       "      <td>6.2</td>\n",
       "      <td>225724</td>\n",
       "      <td>2</td>\n",
       "      <td>12</td>\n",
       "    </tr>\n",
       "    <tr>\n",
       "      <th>23</th>\n",
       "      <td>88</td>\n",
       "      <td>350</td>\n",
       "      <td>64</td>\n",
       "      <td>56</td>\n",
       "      <td>7.4</td>\n",
       "      <td>174917</td>\n",
       "      <td>2</td>\n",
       "      <td>22</td>\n",
       "    </tr>\n",
       "    <tr>\n",
       "      <th>24</th>\n",
       "      <td>74</td>\n",
       "      <td>319</td>\n",
       "      <td>60</td>\n",
       "      <td>57</td>\n",
       "      <td>6.1</td>\n",
       "      <td>127045</td>\n",
       "      <td>2</td>\n",
       "      <td>26</td>\n",
       "    </tr>\n",
       "  </tbody>\n",
       "</table>\n",
       "</div>"
      ],
      "text/plain": [
       "    rotten_tomatoes_score  rotten_tomatoes_counts  metacritic_score  \\\n",
       "0                     100                      96                95   \n",
       "1                      92                      91                78   \n",
       "2                      75                     204                73   \n",
       "3                      96                     253                96   \n",
       "4                      95                     261                95   \n",
       "5                      98                     313                92   \n",
       "6                      79                     256                69   \n",
       "7                      80                     203                65   \n",
       "8                      98                     387                94   \n",
       "9                      75                     220                66   \n",
       "10                     94                     339                77   \n",
       "11                     69                     234                59   \n",
       "12                     97                     459                84   \n",
       "13                     73                     262                58   \n",
       "14                     90                     313                73   \n",
       "15                    100                     172                88   \n",
       "16                     96                     199                79   \n",
       "17                     99                     270                90   \n",
       "18                     97                     250                90   \n",
       "19                     98                     297                88   \n",
       "20                     97                     357                81   \n",
       "21                     93                     390                80   \n",
       "22                     40                     220                57   \n",
       "23                     88                     350                64   \n",
       "24                     74                     319                60   \n",
       "\n",
       "    metacritic_counts  imdb_score  imdb_counts  cinema_score_id  number  \n",
       "0                  26         8.3      1089101                0       1  \n",
       "1                  23         7.2       319596                0       2  \n",
       "2                  39         7.2       484034                0       7  \n",
       "3                  37         8.1       851229                0       8  \n",
       "4                  39         8.4      1226415                0       9  \n",
       "5                  39         8.3       908222                0      11  \n",
       "6                  37         7.1       452012                0      13  \n",
       "7                  41         7.2       398903                0      14  \n",
       "8                  55         8.1       834268                0      15  \n",
       "9                  37         6.7       130324                0      16  \n",
       "10                 48         7.2       311793                0      17  \n",
       "11                 41         6.7       128849                0      18  \n",
       "12                 57         7.6       288783                0      21  \n",
       "13                 45         7.0       140174                0      27  \n",
       "14                 59         7.6       168090                0      28  \n",
       "15                 34         7.9       630573                1       3  \n",
       "16                 35         8.1      1000657                1       4  \n",
       "17                 38         8.2      1132877                1       5  \n",
       "18                 41         8.0       828986                1       6  \n",
       "19                 37         8.3      1151249                1      10  \n",
       "20                 48         8.4       618005                1      19  \n",
       "21                 51         7.5       341353                1      20  \n",
       "22                 38         6.2       225724                2      12  \n",
       "23                 56         7.4       174917                2      22  \n",
       "24                 57         6.1       127045                2      26  "
      ]
     },
     "execution_count": 48,
     "metadata": {},
     "output_type": "execute_result"
    }
   ],
   "source": [
    "merged_df_9 = public_response_df.merge(pixar_films_df, on='film', how='inner')\n",
    "\n",
    "public_response_df = merged_df_9.drop(columns=['film', 'release_date', 'run_time', 'plot', 'film_rating_id'])\n",
    "\n",
    "# public_response_df"
   ]
  },
  {
   "cell_type": "code",
   "execution_count": null,
   "metadata": {},
   "outputs": [],
   "source": [
    "# public_response_df.to_csv(\"public_response.csv\", index=False)\n",
    "\n",
    "# cinema_score_df.to_csv(\"cinema_score.csv\", index=False)"
   ]
  }
 ],
 "metadata": {
  "kernelspec": {
   "display_name": "base",
   "language": "python",
   "name": "python3"
  },
  "language_info": {
   "codemirror_mode": {
    "name": "ipython",
    "version": 3
   },
   "file_extension": ".py",
   "mimetype": "text/x-python",
   "name": "python",
   "nbconvert_exporter": "python",
   "pygments_lexer": "ipython3",
   "version": "3.11.4"
  }
 },
 "nbformat": 4,
 "nbformat_minor": 2
}
